{
  "cells": [
    {
      "cell_type": "markdown",
      "id": "42289889-bd57-434e-9637-d3e354756316",
      "metadata": {
        "id": "42289889-bd57-434e-9637-d3e354756316"
      },
      "source": [
        "<center> <img src = https://raw.githubusercontent.com/AndreyRysistov/DatasetsForPandas/main/hh%20label.jpg alt=\"drawing\" style=\"width:400px;\">"
      ]
    },
    {
      "cell_type": "markdown",
      "id": "829cb75b-f14e-4ba8-9195-7ba929a7d656",
      "metadata": {
        "id": "829cb75b-f14e-4ba8-9195-7ba929a7d656",
        "tags": []
      },
      "source": [
        "# <center> Проект: Анализ вакансий из HeadHunter\n",
        "   "
      ]
    },
    {
      "cell_type": "code",
      "execution_count": 575,
      "id": "dccfde33-2452-43fb-a8a5-5c6ebc02a71d",
      "metadata": {
        "id": "dccfde33-2452-43fb-a8a5-5c6ebc02a71d"
      },
      "outputs": [],
      "source": [
        "import pandas as pd\n",
        "import psycopg2\n",
        "import warnings\n",
        "warnings.filterwarnings('ignore')"
      ]
    },
    {
      "cell_type": "code",
      "execution_count": 576,
      "id": "oVKH4ehvf8Ay",
      "metadata": {
        "id": "oVKH4ehvf8Ay"
      },
      "outputs": [],
      "source": [
        "DBNAME = 'project_sql'\n",
        "USER = 'skillfactory'\n",
        "PASSWORD = 'cCkxxLVrDE8EbvjueeMedPKt'\n",
        "HOST = '84.201.134.129'\n",
        "PORT = 5432"
      ]
    },
    {
      "cell_type": "code",
      "execution_count": 577,
      "id": "G4X_q8KBf7SF",
      "metadata": {
        "id": "G4X_q8KBf7SF"
      },
      "outputs": [],
      "source": [
        "connection = psycopg2.connect(\n",
        "   dbname=DBNAME,\n",
        "   user=USER,\n",
        "   host=HOST,\n",
        "   password=PASSWORD,\n",
        "   port=PORT\n",
        ")"
      ]
    },
    {
      "cell_type": "markdown",
      "id": "0dc6476b-7a00-44f1-ac93-6e3baed33a29",
      "metadata": {
        "id": "0dc6476b-7a00-44f1-ac93-6e3baed33a29"
      },
      "source": [
        "# Юнит 3. Предварительный анализ данных"
      ]
    },
    {
      "cell_type": "markdown",
      "id": "889782b6-8d1c-410e-8920-e57f27917c64",
      "metadata": {
        "id": "889782b6-8d1c-410e-8920-e57f27917c64"
      },
      "source": [
        "1. Напишите запрос, который посчитает количество вакансий в нашей базе (вакансии находятся в таблице vacancies). "
      ]
    },
    {
      "cell_type": "code",
      "execution_count": 578,
      "id": "bc39e68e-ed02-4ee2-9235-7258a2f867a8",
      "metadata": {
        "id": "bc39e68e-ed02-4ee2-9235-7258a2f867a8"
      },
      "outputs": [],
      "source": [
        "# текст запроса\n",
        "query_3_1 = f''' \n",
        "select\n",
        "    count(*) as N_row,\n",
        "    count(distinct id) as N_ids,\n",
        "    count(distinct name) as N_names\n",
        "from\n",
        "    vacancies\n",
        "limit 10\n",
        "'''"
      ]
    },
    {
      "cell_type": "code",
      "execution_count": 579,
      "id": "7mAwtsk4hEHY",
      "metadata": {
        "id": "7mAwtsk4hEHY"
      },
      "outputs": [
        {
          "data": {
            "application/vnd.microsoft.datawrangler.viewer.v0+json": {
              "columns": [
                {
                  "name": "index",
                  "rawType": "int64",
                  "type": "integer"
                },
                {
                  "name": "n_row",
                  "rawType": "int64",
                  "type": "integer"
                },
                {
                  "name": "n_ids",
                  "rawType": "int64",
                  "type": "integer"
                },
                {
                  "name": "n_names",
                  "rawType": "int64",
                  "type": "integer"
                }
              ],
              "conversionMethod": "pd.DataFrame",
              "ref": "65c2cf97-b970-4b32-a3f2-711c29965678",
              "rows": [
                [
                  "0",
                  "49197",
                  "49197",
                  "21223"
                ]
              ],
              "shape": {
                "columns": 3,
                "rows": 1
              }
            },
            "text/html": [
              "<div>\n",
              "<style scoped>\n",
              "    .dataframe tbody tr th:only-of-type {\n",
              "        vertical-align: middle;\n",
              "    }\n",
              "\n",
              "    .dataframe tbody tr th {\n",
              "        vertical-align: top;\n",
              "    }\n",
              "\n",
              "    .dataframe thead th {\n",
              "        text-align: right;\n",
              "    }\n",
              "</style>\n",
              "<table border=\"1\" class=\"dataframe\">\n",
              "  <thead>\n",
              "    <tr style=\"text-align: right;\">\n",
              "      <th></th>\n",
              "      <th>n_row</th>\n",
              "      <th>n_ids</th>\n",
              "      <th>n_names</th>\n",
              "    </tr>\n",
              "  </thead>\n",
              "  <tbody>\n",
              "    <tr>\n",
              "      <th>0</th>\n",
              "      <td>49197</td>\n",
              "      <td>49197</td>\n",
              "      <td>21223</td>\n",
              "    </tr>\n",
              "  </tbody>\n",
              "</table>\n",
              "</div>"
            ],
            "text/plain": [
              "   n_row  n_ids  n_names\n",
              "0  49197  49197    21223"
            ]
          },
          "execution_count": 579,
          "metadata": {},
          "output_type": "execute_result"
        }
      ],
      "source": [
        "vacancies_df = pd.read_sql_query(query_3_1, connection)\n",
        "vacancies_df"
      ]
    },
    {
      "cell_type": "markdown",
      "id": "b583485d-1f9e-494e-ada4-80ffff7c53d6",
      "metadata": {
        "id": "b583485d-1f9e-494e-ada4-80ffff7c53d6"
      },
      "source": [
        "2. Напишите запрос, который посчитает количество работодателей (таблица employers). "
      ]
    },
    {
      "cell_type": "code",
      "execution_count": 580,
      "id": "5408c52c-3407-4a63-b25b-1aafa2322d28",
      "metadata": {
        "id": "5408c52c-3407-4a63-b25b-1aafa2322d28"
      },
      "outputs": [],
      "source": [
        "query_3_2 = '''\n",
        "select\n",
        "    count(distinct name) as N_employers,\n",
        "    count(distinct id) as N_ids,\n",
        "    count(*) as N_rows\n",
        "from\n",
        "    employers\n",
        "'''"
      ]
    },
    {
      "cell_type": "code",
      "execution_count": 581,
      "id": "jVL4eshKhdqc",
      "metadata": {
        "id": "jVL4eshKhdqc"
      },
      "outputs": [
        {
          "data": {
            "application/vnd.microsoft.datawrangler.viewer.v0+json": {
              "columns": [
                {
                  "name": "index",
                  "rawType": "int64",
                  "type": "integer"
                },
                {
                  "name": "n_employers",
                  "rawType": "int64",
                  "type": "integer"
                },
                {
                  "name": "n_ids",
                  "rawType": "int64",
                  "type": "integer"
                },
                {
                  "name": "n_rows",
                  "rawType": "int64",
                  "type": "integer"
                }
              ],
              "conversionMethod": "pd.DataFrame",
              "ref": "0e4071ef-c12a-483f-9cde-fad1f3f4f65b",
              "rows": [
                [
                  "0",
                  "23175",
                  "23501",
                  "23501"
                ]
              ],
              "shape": {
                "columns": 3,
                "rows": 1
              }
            },
            "text/html": [
              "<div>\n",
              "<style scoped>\n",
              "    .dataframe tbody tr th:only-of-type {\n",
              "        vertical-align: middle;\n",
              "    }\n",
              "\n",
              "    .dataframe tbody tr th {\n",
              "        vertical-align: top;\n",
              "    }\n",
              "\n",
              "    .dataframe thead th {\n",
              "        text-align: right;\n",
              "    }\n",
              "</style>\n",
              "<table border=\"1\" class=\"dataframe\">\n",
              "  <thead>\n",
              "    <tr style=\"text-align: right;\">\n",
              "      <th></th>\n",
              "      <th>n_employers</th>\n",
              "      <th>n_ids</th>\n",
              "      <th>n_rows</th>\n",
              "    </tr>\n",
              "  </thead>\n",
              "  <tbody>\n",
              "    <tr>\n",
              "      <th>0</th>\n",
              "      <td>23175</td>\n",
              "      <td>23501</td>\n",
              "      <td>23501</td>\n",
              "    </tr>\n",
              "  </tbody>\n",
              "</table>\n",
              "</div>"
            ],
            "text/plain": [
              "   n_employers  n_ids  n_rows\n",
              "0        23175  23501   23501"
            ]
          },
          "execution_count": 581,
          "metadata": {},
          "output_type": "execute_result"
        }
      ],
      "source": [
        "employers_df = pd.read_sql_query(query_3_2, connection)\n",
        "employers_df"
      ]
    },
    {
      "cell_type": "markdown",
      "id": "a2bfff1f-c975-4bf6-84be-2185d79dcb76",
      "metadata": {
        "id": "a2bfff1f-c975-4bf6-84be-2185d79dcb76"
      },
      "source": [
        "3. Посчитате с помощью запроса количество регионов (таблица areas)."
      ]
    },
    {
      "cell_type": "code",
      "execution_count": 582,
      "id": "1m8QJwBYhey6",
      "metadata": {
        "id": "1m8QJwBYhey6"
      },
      "outputs": [],
      "source": [
        "query_3_3 = ''' \n",
        "select\n",
        "    count(distinct name) as N_areas,\n",
        "    count(distinct id) as N_ids\n",
        "from\n",
        "    areas   \n",
        "'''"
      ]
    },
    {
      "cell_type": "code",
      "execution_count": 583,
      "id": "EZsn9tlfhe7f",
      "metadata": {
        "id": "EZsn9tlfhe7f"
      },
      "outputs": [
        {
          "data": {
            "application/vnd.microsoft.datawrangler.viewer.v0+json": {
              "columns": [
                {
                  "name": "index",
                  "rawType": "int64",
                  "type": "integer"
                },
                {
                  "name": "n_areas",
                  "rawType": "int64",
                  "type": "integer"
                },
                {
                  "name": "n_ids",
                  "rawType": "int64",
                  "type": "integer"
                }
              ],
              "conversionMethod": "pd.DataFrame",
              "ref": "755b10b3-60c9-46ad-949a-1ca697cbb199",
              "rows": [
                [
                  "0",
                  "1362",
                  "1362"
                ]
              ],
              "shape": {
                "columns": 2,
                "rows": 1
              }
            },
            "text/html": [
              "<div>\n",
              "<style scoped>\n",
              "    .dataframe tbody tr th:only-of-type {\n",
              "        vertical-align: middle;\n",
              "    }\n",
              "\n",
              "    .dataframe tbody tr th {\n",
              "        vertical-align: top;\n",
              "    }\n",
              "\n",
              "    .dataframe thead th {\n",
              "        text-align: right;\n",
              "    }\n",
              "</style>\n",
              "<table border=\"1\" class=\"dataframe\">\n",
              "  <thead>\n",
              "    <tr style=\"text-align: right;\">\n",
              "      <th></th>\n",
              "      <th>n_areas</th>\n",
              "      <th>n_ids</th>\n",
              "    </tr>\n",
              "  </thead>\n",
              "  <tbody>\n",
              "    <tr>\n",
              "      <th>0</th>\n",
              "      <td>1362</td>\n",
              "      <td>1362</td>\n",
              "    </tr>\n",
              "  </tbody>\n",
              "</table>\n",
              "</div>"
            ],
            "text/plain": [
              "   n_areas  n_ids\n",
              "0     1362   1362"
            ]
          },
          "execution_count": 583,
          "metadata": {},
          "output_type": "execute_result"
        }
      ],
      "source": [
        "areas_df = pd.read_sql_query(query_3_3, connection)\n",
        "areas_df"
      ]
    },
    {
      "cell_type": "markdown",
      "id": "41bb59f3-53cc-4a67-a5bc-bedf573955e4",
      "metadata": {
        "id": "41bb59f3-53cc-4a67-a5bc-bedf573955e4"
      },
      "source": [
        "4. Посчитате с помощью запроса количество сфер деятельности в базе (таблица industries)."
      ]
    },
    {
      "cell_type": "code",
      "execution_count": 584,
      "id": "d286cf4c-707b-4cd2-9190-7ab3587d04a1",
      "metadata": {
        "id": "d286cf4c-707b-4cd2-9190-7ab3587d04a1"
      },
      "outputs": [],
      "source": [
        "query_3_4 =''' \n",
        "select\n",
        "    count(distinct name) as N_areas,\n",
        "    count(distinct id) as N_ids\n",
        "from\n",
        "    industries       \n",
        "'''"
      ]
    },
    {
      "cell_type": "code",
      "execution_count": 585,
      "id": "JYAaoZ4qhfzW",
      "metadata": {
        "id": "JYAaoZ4qhfzW"
      },
      "outputs": [
        {
          "data": {
            "application/vnd.microsoft.datawrangler.viewer.v0+json": {
              "columns": [
                {
                  "name": "index",
                  "rawType": "int64",
                  "type": "integer"
                },
                {
                  "name": "n_areas",
                  "rawType": "int64",
                  "type": "integer"
                },
                {
                  "name": "n_ids",
                  "rawType": "int64",
                  "type": "integer"
                }
              ],
              "conversionMethod": "pd.DataFrame",
              "ref": "1e01a24e-d470-4521-88e6-3f51c4229321",
              "rows": [
                [
                  "0",
                  "294",
                  "294"
                ]
              ],
              "shape": {
                "columns": 2,
                "rows": 1
              }
            },
            "text/html": [
              "<div>\n",
              "<style scoped>\n",
              "    .dataframe tbody tr th:only-of-type {\n",
              "        vertical-align: middle;\n",
              "    }\n",
              "\n",
              "    .dataframe tbody tr th {\n",
              "        vertical-align: top;\n",
              "    }\n",
              "\n",
              "    .dataframe thead th {\n",
              "        text-align: right;\n",
              "    }\n",
              "</style>\n",
              "<table border=\"1\" class=\"dataframe\">\n",
              "  <thead>\n",
              "    <tr style=\"text-align: right;\">\n",
              "      <th></th>\n",
              "      <th>n_areas</th>\n",
              "      <th>n_ids</th>\n",
              "    </tr>\n",
              "  </thead>\n",
              "  <tbody>\n",
              "    <tr>\n",
              "      <th>0</th>\n",
              "      <td>294</td>\n",
              "      <td>294</td>\n",
              "    </tr>\n",
              "  </tbody>\n",
              "</table>\n",
              "</div>"
            ],
            "text/plain": [
              "   n_areas  n_ids\n",
              "0      294    294"
            ]
          },
          "execution_count": 585,
          "metadata": {},
          "output_type": "execute_result"
        }
      ],
      "source": [
        "idustries_df = pd.read_sql_query(query_3_4, connection)\n",
        "idustries_df"
      ]
    },
    {
      "cell_type": "markdown",
      "id": "9a8a2181-6914-448b-85f1-38f5f18b8a93",
      "metadata": {
        "id": "9a8a2181-6914-448b-85f1-38f5f18b8a93"
      },
      "source": [
        "***"
      ]
    },
    {
      "cell_type": "markdown",
      "id": "58e8d5c3",
      "metadata": {},
      "source": [
        "1. В таблице vacancies, которая отражает общее количество вакансий, 49197 строк. <br>\n",
        "Кличество уникальных названий вакансий составило 21223\n",
        "2. В таблице employers, которая отражает общее количество работодателей, 23501 строка. <br>\n",
        "Кличество уникальных названий работадателя составило 23175\n",
        "3. В таблице areas, которая отражает общее количество регионов, 1362 строки. <br>\n",
        "Все названия (names) уникальны.\n",
        "\n",
        "4. В таблице industries которая отражает количество сфер деятельности, 294 строки <br>\n",
        "Все названия (names) уникальны.\n"
      ]
    },
    {
      "cell_type": "markdown",
      "id": "8d62a9f3-f64e-4fe7-bdac-c4dffa16155e",
      "metadata": {
        "id": "8d62a9f3-f64e-4fe7-bdac-c4dffa16155e"
      },
      "source": [
        "# Юнит 4. Детальный анализ вакансий"
      ]
    },
    {
      "cell_type": "markdown",
      "id": "93053d3d-b284-481a-9cf7-012d7014c0e0",
      "metadata": {
        "id": "93053d3d-b284-481a-9cf7-012d7014c0e0"
      },
      "source": [
        "1. Напишите запрос, который позволит узнать, сколько (cnt) вакансий в каждом регионе (area).\n",
        "Отсортируйте по количеству вакансий в порядке убывания."
      ]
    },
    {
      "cell_type": "code",
      "execution_count": 586,
      "id": "3f069da6-fdc9-4ae7-b514-fafe2675efd3",
      "metadata": {
        "id": "3f069da6-fdc9-4ae7-b514-fafe2675efd3"
      },
      "outputs": [],
      "source": [
        "query_4_1 = ''' \n",
        "select\n",
        "    a.name,\n",
        "    count(*) N_vacs\n",
        "from\n",
        "    vacancies v\n",
        "    join areas a\n",
        "    on v.area_id = a.id\n",
        "group by a.name\n",
        "order by count(*) desc\n",
        "limit 10\n",
        "'''"
      ]
    },
    {
      "cell_type": "code",
      "execution_count": 587,
      "id": "P7QL86hrjhRJ",
      "metadata": {
        "id": "P7QL86hrjhRJ"
      },
      "outputs": [
        {
          "data": {
            "application/vnd.microsoft.datawrangler.viewer.v0+json": {
              "columns": [
                {
                  "name": "index",
                  "rawType": "int64",
                  "type": "integer"
                },
                {
                  "name": "name",
                  "rawType": "object",
                  "type": "string"
                },
                {
                  "name": "n_vacs",
                  "rawType": "int64",
                  "type": "integer"
                }
              ],
              "conversionMethod": "pd.DataFrame",
              "ref": "1ed3ddda-81b3-4ea4-b02b-4b2d58181a54",
              "rows": [
                [
                  "0",
                  "Москва",
                  "5333"
                ],
                [
                  "1",
                  "Санкт-Петербург",
                  "2851"
                ],
                [
                  "2",
                  "Минск",
                  "2112"
                ],
                [
                  "3",
                  "Новосибирск",
                  "2006"
                ],
                [
                  "4",
                  "Алматы",
                  "1892"
                ],
                [
                  "5",
                  "Екатеринбург",
                  "1698"
                ],
                [
                  "6",
                  "Нижний Новгород",
                  "1670"
                ],
                [
                  "7",
                  "Казань",
                  "1415"
                ],
                [
                  "8",
                  "Краснодар",
                  "1301"
                ],
                [
                  "9",
                  "Самара",
                  "1144"
                ]
              ],
              "shape": {
                "columns": 2,
                "rows": 10
              }
            },
            "text/html": [
              "<div>\n",
              "<style scoped>\n",
              "    .dataframe tbody tr th:only-of-type {\n",
              "        vertical-align: middle;\n",
              "    }\n",
              "\n",
              "    .dataframe tbody tr th {\n",
              "        vertical-align: top;\n",
              "    }\n",
              "\n",
              "    .dataframe thead th {\n",
              "        text-align: right;\n",
              "    }\n",
              "</style>\n",
              "<table border=\"1\" class=\"dataframe\">\n",
              "  <thead>\n",
              "    <tr style=\"text-align: right;\">\n",
              "      <th></th>\n",
              "      <th>name</th>\n",
              "      <th>n_vacs</th>\n",
              "    </tr>\n",
              "  </thead>\n",
              "  <tbody>\n",
              "    <tr>\n",
              "      <th>0</th>\n",
              "      <td>Москва</td>\n",
              "      <td>5333</td>\n",
              "    </tr>\n",
              "    <tr>\n",
              "      <th>1</th>\n",
              "      <td>Санкт-Петербург</td>\n",
              "      <td>2851</td>\n",
              "    </tr>\n",
              "    <tr>\n",
              "      <th>2</th>\n",
              "      <td>Минск</td>\n",
              "      <td>2112</td>\n",
              "    </tr>\n",
              "    <tr>\n",
              "      <th>3</th>\n",
              "      <td>Новосибирск</td>\n",
              "      <td>2006</td>\n",
              "    </tr>\n",
              "    <tr>\n",
              "      <th>4</th>\n",
              "      <td>Алматы</td>\n",
              "      <td>1892</td>\n",
              "    </tr>\n",
              "    <tr>\n",
              "      <th>5</th>\n",
              "      <td>Екатеринбург</td>\n",
              "      <td>1698</td>\n",
              "    </tr>\n",
              "    <tr>\n",
              "      <th>6</th>\n",
              "      <td>Нижний Новгород</td>\n",
              "      <td>1670</td>\n",
              "    </tr>\n",
              "    <tr>\n",
              "      <th>7</th>\n",
              "      <td>Казань</td>\n",
              "      <td>1415</td>\n",
              "    </tr>\n",
              "    <tr>\n",
              "      <th>8</th>\n",
              "      <td>Краснодар</td>\n",
              "      <td>1301</td>\n",
              "    </tr>\n",
              "    <tr>\n",
              "      <th>9</th>\n",
              "      <td>Самара</td>\n",
              "      <td>1144</td>\n",
              "    </tr>\n",
              "  </tbody>\n",
              "</table>\n",
              "</div>"
            ],
            "text/plain": [
              "              name  n_vacs\n",
              "0           Москва    5333\n",
              "1  Санкт-Петербург    2851\n",
              "2            Минск    2112\n",
              "3      Новосибирск    2006\n",
              "4           Алматы    1892\n",
              "5     Екатеринбург    1698\n",
              "6  Нижний Новгород    1670\n",
              "7           Казань    1415\n",
              "8        Краснодар    1301\n",
              "9           Самара    1144"
            ]
          },
          "execution_count": 587,
          "metadata": {},
          "output_type": "execute_result"
        }
      ],
      "source": [
        "VacAreaJoin = pd.read_sql_query(query_4_1, connection)\n",
        "VacAreaJoin"
      ]
    },
    {
      "cell_type": "markdown",
      "id": "4266f0b6-1646-492a-88b4-2f6a46502135",
      "metadata": {
        "id": "4266f0b6-1646-492a-88b4-2f6a46502135"
      },
      "source": [
        "2. Напишите запрос, чтобы определить у какого количества вакансий заполнено хотя бы одно из двух полей с зарплатой."
      ]
    },
    {
      "cell_type": "code",
      "execution_count": 588,
      "id": "0c44b350-72eb-4d65-8b54-a1fc449ba9fd",
      "metadata": {
        "id": "0c44b350-72eb-4d65-8b54-a1fc449ba9fd"
      },
      "outputs": [],
      "source": [
        "query_4_2 = ''' \n",
        "select\n",
        "    count(*) as N_slry_non_null\n",
        "from \n",
        "    vacancies\n",
        "where \n",
        "    (salary_from is not null) or (salary_to is not null)\n",
        "'''\n"
      ]
    },
    {
      "cell_type": "code",
      "execution_count": 589,
      "id": "rhvwaMDkoWTi",
      "metadata": {
        "id": "rhvwaMDkoWTi"
      },
      "outputs": [
        {
          "data": {
            "application/vnd.microsoft.datawrangler.viewer.v0+json": {
              "columns": [
                {
                  "name": "index",
                  "rawType": "int64",
                  "type": "integer"
                },
                {
                  "name": "n_slry_non_null",
                  "rawType": "int64",
                  "type": "integer"
                }
              ],
              "conversionMethod": "pd.DataFrame",
              "ref": "aa26af87-9a0e-4318-a47d-428006b3aec0",
              "rows": [
                [
                  "0",
                  "24073"
                ]
              ],
              "shape": {
                "columns": 1,
                "rows": 1
              }
            },
            "text/html": [
              "<div>\n",
              "<style scoped>\n",
              "    .dataframe tbody tr th:only-of-type {\n",
              "        vertical-align: middle;\n",
              "    }\n",
              "\n",
              "    .dataframe tbody tr th {\n",
              "        vertical-align: top;\n",
              "    }\n",
              "\n",
              "    .dataframe thead th {\n",
              "        text-align: right;\n",
              "    }\n",
              "</style>\n",
              "<table border=\"1\" class=\"dataframe\">\n",
              "  <thead>\n",
              "    <tr style=\"text-align: right;\">\n",
              "      <th></th>\n",
              "      <th>n_slry_non_null</th>\n",
              "    </tr>\n",
              "  </thead>\n",
              "  <tbody>\n",
              "    <tr>\n",
              "      <th>0</th>\n",
              "      <td>24073</td>\n",
              "    </tr>\n",
              "  </tbody>\n",
              "</table>\n",
              "</div>"
            ],
            "text/plain": [
              "   n_slry_non_null\n",
              "0            24073"
            ]
          },
          "execution_count": 589,
          "metadata": {},
          "output_type": "execute_result"
        }
      ],
      "source": [
        "slry_not_null = pd.read_sql_query(query_4_2, connection)\n",
        "slry_not_null"
      ]
    },
    {
      "cell_type": "markdown",
      "id": "635c4d5d-f323-4c66-b428-50a088120aa0",
      "metadata": {
        "id": "635c4d5d-f323-4c66-b428-50a088120aa0"
      },
      "source": [
        "3. Найдите средние значения для нижней и верхней границы зарплатной вилки. Округлите значения до целого."
      ]
    },
    {
      "cell_type": "code",
      "execution_count": 590,
      "id": "603cdbe4-0ec3-4106-8eaf-c73fcdd29165",
      "metadata": {
        "id": "603cdbe4-0ec3-4106-8eaf-c73fcdd29165"
      },
      "outputs": [],
      "source": [
        "query_4_3 = ''' \n",
        "select\n",
        "    round(avg(salary_from)) as avg_slry_from,\n",
        "    round(avg(salary_to)) as avg_slry_to\n",
        "from \n",
        "    vacancies\n",
        "\n",
        "'''"
      ]
    },
    {
      "cell_type": "code",
      "execution_count": 591,
      "id": "pswpAb66ovZZ",
      "metadata": {
        "id": "pswpAb66ovZZ"
      },
      "outputs": [
        {
          "data": {
            "application/vnd.microsoft.datawrangler.viewer.v0+json": {
              "columns": [
                {
                  "name": "index",
                  "rawType": "int64",
                  "type": "integer"
                },
                {
                  "name": "avg_slry_from",
                  "rawType": "float64",
                  "type": "float"
                },
                {
                  "name": "avg_slry_to",
                  "rawType": "float64",
                  "type": "float"
                }
              ],
              "conversionMethod": "pd.DataFrame",
              "ref": "9838f05e-0293-4741-9330-103afe8cfb0f",
              "rows": [
                [
                  "0",
                  "71065.0",
                  "110537.0"
                ]
              ],
              "shape": {
                "columns": 2,
                "rows": 1
              }
            },
            "text/html": [
              "<div>\n",
              "<style scoped>\n",
              "    .dataframe tbody tr th:only-of-type {\n",
              "        vertical-align: middle;\n",
              "    }\n",
              "\n",
              "    .dataframe tbody tr th {\n",
              "        vertical-align: top;\n",
              "    }\n",
              "\n",
              "    .dataframe thead th {\n",
              "        text-align: right;\n",
              "    }\n",
              "</style>\n",
              "<table border=\"1\" class=\"dataframe\">\n",
              "  <thead>\n",
              "    <tr style=\"text-align: right;\">\n",
              "      <th></th>\n",
              "      <th>avg_slry_from</th>\n",
              "      <th>avg_slry_to</th>\n",
              "    </tr>\n",
              "  </thead>\n",
              "  <tbody>\n",
              "    <tr>\n",
              "      <th>0</th>\n",
              "      <td>71065.0</td>\n",
              "      <td>110537.0</td>\n",
              "    </tr>\n",
              "  </tbody>\n",
              "</table>\n",
              "</div>"
            ],
            "text/plain": [
              "   avg_slry_from  avg_slry_to\n",
              "0        71065.0     110537.0"
            ]
          },
          "execution_count": 591,
          "metadata": {},
          "output_type": "execute_result"
        }
      ],
      "source": [
        "avg_slry = pd.read_sql_query(query_4_3, connection)\n",
        "avg_slry"
      ]
    },
    {
      "cell_type": "markdown",
      "id": "f3fdaec9-5fd3-4260-9cf5-1d7406b628a5",
      "metadata": {
        "id": "f3fdaec9-5fd3-4260-9cf5-1d7406b628a5"
      },
      "source": [
        "4. Напишите запрос, который выведет количество вакансий для каждого сочетания типа рабочего графика (schedule) и типа трудоустройства (employment), используемого в вакансиях. <br> Результат отсортируйте по убыванию количества.\n"
      ]
    },
    {
      "cell_type": "code",
      "execution_count": 592,
      "id": "1ea710ec-871b-431e-9462-c7d0fd87011b",
      "metadata": {
        "id": "1ea710ec-871b-431e-9462-c7d0fd87011b"
      },
      "outputs": [],
      "source": [
        "query_4_4 = ''' \n",
        "select\n",
        "    schedule,\n",
        "    employment,\n",
        "    count(*) N_vac\n",
        "from\n",
        "    vacancies\n",
        "group by \n",
        "    schedule, employment\n",
        "order by count(*) desc\n",
        "'''"
      ]
    },
    {
      "cell_type": "code",
      "execution_count": 593,
      "id": "lGUVqavdo4JQ",
      "metadata": {
        "id": "lGUVqavdo4JQ"
      },
      "outputs": [
        {
          "data": {
            "text/plain": [
              "6028"
            ]
          },
          "metadata": {},
          "output_type": "display_data"
        },
        {
          "data": {
            "application/vnd.microsoft.datawrangler.viewer.v0+json": {
              "columns": [
                {
                  "name": "index",
                  "rawType": "int64",
                  "type": "integer"
                },
                {
                  "name": "schedule",
                  "rawType": "object",
                  "type": "string"
                },
                {
                  "name": "employment",
                  "rawType": "object",
                  "type": "string"
                },
                {
                  "name": "n_vac",
                  "rawType": "int64",
                  "type": "integer"
                }
              ],
              "conversionMethod": "pd.DataFrame",
              "ref": "b21599b2-c00c-409b-901f-9a12a28f7a98",
              "rows": [
                [
                  "0",
                  "Полный день",
                  "Полная занятость",
                  "35367"
                ],
                [
                  "1",
                  "Удаленная работа",
                  "Полная занятость",
                  "7802"
                ],
                [
                  "2",
                  "Гибкий график",
                  "Полная занятость",
                  "1593"
                ],
                [
                  "3",
                  "Удаленная работа",
                  "Частичная занятость",
                  "1312"
                ],
                [
                  "4",
                  "Сменный график",
                  "Полная занятость",
                  "940"
                ],
                [
                  "5",
                  "Полный день",
                  "Стажировка",
                  "569"
                ],
                [
                  "6",
                  "Вахтовый метод",
                  "Полная занятость",
                  "367"
                ],
                [
                  "7",
                  "Полный день",
                  "Частичная занятость",
                  "347"
                ],
                [
                  "8",
                  "Гибкий график",
                  "Частичная занятость",
                  "312"
                ],
                [
                  "9",
                  "Полный день",
                  "Проектная работа",
                  "141"
                ],
                [
                  "10",
                  "Удаленная работа",
                  "Проектная работа",
                  "133"
                ],
                [
                  "11",
                  "Гибкий график",
                  "Стажировка",
                  "116"
                ],
                [
                  "12",
                  "Сменный график",
                  "Частичная занятость",
                  "101"
                ],
                [
                  "13",
                  "Удаленная работа",
                  "Стажировка",
                  "64"
                ],
                [
                  "14",
                  "Гибкий график",
                  "Проектная работа",
                  "18"
                ],
                [
                  "15",
                  "Сменный график",
                  "Стажировка",
                  "12"
                ],
                [
                  "16",
                  "Вахтовый метод",
                  "Проектная работа",
                  "2"
                ],
                [
                  "17",
                  "Сменный график",
                  "Проектная работа",
                  "1"
                ]
              ],
              "shape": {
                "columns": 3,
                "rows": 18
              }
            },
            "text/html": [
              "<div>\n",
              "<style scoped>\n",
              "    .dataframe tbody tr th:only-of-type {\n",
              "        vertical-align: middle;\n",
              "    }\n",
              "\n",
              "    .dataframe tbody tr th {\n",
              "        vertical-align: top;\n",
              "    }\n",
              "\n",
              "    .dataframe thead th {\n",
              "        text-align: right;\n",
              "    }\n",
              "</style>\n",
              "<table border=\"1\" class=\"dataframe\">\n",
              "  <thead>\n",
              "    <tr style=\"text-align: right;\">\n",
              "      <th></th>\n",
              "      <th>schedule</th>\n",
              "      <th>employment</th>\n",
              "      <th>n_vac</th>\n",
              "    </tr>\n",
              "  </thead>\n",
              "  <tbody>\n",
              "    <tr>\n",
              "      <th>0</th>\n",
              "      <td>Полный день</td>\n",
              "      <td>Полная занятость</td>\n",
              "      <td>35367</td>\n",
              "    </tr>\n",
              "    <tr>\n",
              "      <th>1</th>\n",
              "      <td>Удаленная работа</td>\n",
              "      <td>Полная занятость</td>\n",
              "      <td>7802</td>\n",
              "    </tr>\n",
              "    <tr>\n",
              "      <th>2</th>\n",
              "      <td>Гибкий график</td>\n",
              "      <td>Полная занятость</td>\n",
              "      <td>1593</td>\n",
              "    </tr>\n",
              "    <tr>\n",
              "      <th>3</th>\n",
              "      <td>Удаленная работа</td>\n",
              "      <td>Частичная занятость</td>\n",
              "      <td>1312</td>\n",
              "    </tr>\n",
              "    <tr>\n",
              "      <th>4</th>\n",
              "      <td>Сменный график</td>\n",
              "      <td>Полная занятость</td>\n",
              "      <td>940</td>\n",
              "    </tr>\n",
              "    <tr>\n",
              "      <th>5</th>\n",
              "      <td>Полный день</td>\n",
              "      <td>Стажировка</td>\n",
              "      <td>569</td>\n",
              "    </tr>\n",
              "    <tr>\n",
              "      <th>6</th>\n",
              "      <td>Вахтовый метод</td>\n",
              "      <td>Полная занятость</td>\n",
              "      <td>367</td>\n",
              "    </tr>\n",
              "    <tr>\n",
              "      <th>7</th>\n",
              "      <td>Полный день</td>\n",
              "      <td>Частичная занятость</td>\n",
              "      <td>347</td>\n",
              "    </tr>\n",
              "    <tr>\n",
              "      <th>8</th>\n",
              "      <td>Гибкий график</td>\n",
              "      <td>Частичная занятость</td>\n",
              "      <td>312</td>\n",
              "    </tr>\n",
              "    <tr>\n",
              "      <th>9</th>\n",
              "      <td>Полный день</td>\n",
              "      <td>Проектная работа</td>\n",
              "      <td>141</td>\n",
              "    </tr>\n",
              "    <tr>\n",
              "      <th>10</th>\n",
              "      <td>Удаленная работа</td>\n",
              "      <td>Проектная работа</td>\n",
              "      <td>133</td>\n",
              "    </tr>\n",
              "    <tr>\n",
              "      <th>11</th>\n",
              "      <td>Гибкий график</td>\n",
              "      <td>Стажировка</td>\n",
              "      <td>116</td>\n",
              "    </tr>\n",
              "    <tr>\n",
              "      <th>12</th>\n",
              "      <td>Сменный график</td>\n",
              "      <td>Частичная занятость</td>\n",
              "      <td>101</td>\n",
              "    </tr>\n",
              "    <tr>\n",
              "      <th>13</th>\n",
              "      <td>Удаленная работа</td>\n",
              "      <td>Стажировка</td>\n",
              "      <td>64</td>\n",
              "    </tr>\n",
              "    <tr>\n",
              "      <th>14</th>\n",
              "      <td>Гибкий график</td>\n",
              "      <td>Проектная работа</td>\n",
              "      <td>18</td>\n",
              "    </tr>\n",
              "    <tr>\n",
              "      <th>15</th>\n",
              "      <td>Сменный график</td>\n",
              "      <td>Стажировка</td>\n",
              "      <td>12</td>\n",
              "    </tr>\n",
              "    <tr>\n",
              "      <th>16</th>\n",
              "      <td>Вахтовый метод</td>\n",
              "      <td>Проектная работа</td>\n",
              "      <td>2</td>\n",
              "    </tr>\n",
              "    <tr>\n",
              "      <th>17</th>\n",
              "      <td>Сменный график</td>\n",
              "      <td>Проектная работа</td>\n",
              "      <td>1</td>\n",
              "    </tr>\n",
              "  </tbody>\n",
              "</table>\n",
              "</div>"
            ],
            "text/plain": [
              "            schedule           employment  n_vac\n",
              "0        Полный день     Полная занятость  35367\n",
              "1   Удаленная работа     Полная занятость   7802\n",
              "2      Гибкий график     Полная занятость   1593\n",
              "3   Удаленная работа  Частичная занятость   1312\n",
              "4     Сменный график     Полная занятость    940\n",
              "5        Полный день           Стажировка    569\n",
              "6     Вахтовый метод     Полная занятость    367\n",
              "7        Полный день  Частичная занятость    347\n",
              "8      Гибкий график  Частичная занятость    312\n",
              "9        Полный день     Проектная работа    141\n",
              "10  Удаленная работа     Проектная работа    133\n",
              "11     Гибкий график           Стажировка    116\n",
              "12    Сменный график  Частичная занятость    101\n",
              "13  Удаленная работа           Стажировка     64\n",
              "14     Гибкий график     Проектная работа     18\n",
              "15    Сменный график           Стажировка     12\n",
              "16    Вахтовый метод     Проектная работа      2\n",
              "17    Сменный график     Проектная работа      1"
            ]
          },
          "execution_count": 593,
          "metadata": {},
          "output_type": "execute_result"
        }
      ],
      "source": [
        "sch_empl_count = pd.read_sql_query(query_4_4, connection)\n",
        "display(sum(sch_empl_count.loc[2:, 'n_vac']))\n",
        "sch_empl_count"
      ]
    },
    {
      "cell_type": "markdown",
      "id": "0136ffee-0ead-4a6b-b608-61d1c753a438",
      "metadata": {
        "id": "0136ffee-0ead-4a6b-b608-61d1c753a438"
      },
      "source": [
        "5. Напишите запрос, выводящий значения поля Требуемый опыт работы (experience) в порядке возрастания количества вакансий, в которых указан данный вариант опыта. "
      ]
    },
    {
      "cell_type": "code",
      "execution_count": 594,
      "id": "5b3a8e79-f7ab-4008-b767-12aea3a205ea",
      "metadata": {
        "id": "5b3a8e79-f7ab-4008-b767-12aea3a205ea"
      },
      "outputs": [],
      "source": [
        "query_4_5 = ''' \n",
        "select\n",
        "    experience,\n",
        "    count(*) as N_vac\n",
        "from\n",
        "    vacancies\n",
        "group by experience\n",
        "order by count(*) asc\n",
        "'''"
      ]
    },
    {
      "cell_type": "code",
      "execution_count": 595,
      "id": "3Is64Y-hpDpq",
      "metadata": {
        "id": "3Is64Y-hpDpq"
      },
      "outputs": [
        {
          "data": {
            "application/vnd.microsoft.datawrangler.viewer.v0+json": {
              "columns": [
                {
                  "name": "index",
                  "rawType": "int64",
                  "type": "integer"
                },
                {
                  "name": "experience",
                  "rawType": "object",
                  "type": "string"
                },
                {
                  "name": "n_vac",
                  "rawType": "int64",
                  "type": "integer"
                }
              ],
              "conversionMethod": "pd.DataFrame",
              "ref": "5fbc9130-12db-4558-9c47-bdee65b1f42a",
              "rows": [
                [
                  "0",
                  "Более 6 лет",
                  "1337"
                ],
                [
                  "1",
                  "Нет опыта",
                  "7197"
                ],
                [
                  "2",
                  "От 3 до 6 лет",
                  "14511"
                ],
                [
                  "3",
                  "От 1 года до 3 лет",
                  "26152"
                ]
              ],
              "shape": {
                "columns": 2,
                "rows": 4
              }
            },
            "text/html": [
              "<div>\n",
              "<style scoped>\n",
              "    .dataframe tbody tr th:only-of-type {\n",
              "        vertical-align: middle;\n",
              "    }\n",
              "\n",
              "    .dataframe tbody tr th {\n",
              "        vertical-align: top;\n",
              "    }\n",
              "\n",
              "    .dataframe thead th {\n",
              "        text-align: right;\n",
              "    }\n",
              "</style>\n",
              "<table border=\"1\" class=\"dataframe\">\n",
              "  <thead>\n",
              "    <tr style=\"text-align: right;\">\n",
              "      <th></th>\n",
              "      <th>experience</th>\n",
              "      <th>n_vac</th>\n",
              "    </tr>\n",
              "  </thead>\n",
              "  <tbody>\n",
              "    <tr>\n",
              "      <th>0</th>\n",
              "      <td>Более 6 лет</td>\n",
              "      <td>1337</td>\n",
              "    </tr>\n",
              "    <tr>\n",
              "      <th>1</th>\n",
              "      <td>Нет опыта</td>\n",
              "      <td>7197</td>\n",
              "    </tr>\n",
              "    <tr>\n",
              "      <th>2</th>\n",
              "      <td>От 3 до 6 лет</td>\n",
              "      <td>14511</td>\n",
              "    </tr>\n",
              "    <tr>\n",
              "      <th>3</th>\n",
              "      <td>От 1 года до 3 лет</td>\n",
              "      <td>26152</td>\n",
              "    </tr>\n",
              "  </tbody>\n",
              "</table>\n",
              "</div>"
            ],
            "text/plain": [
              "           experience  n_vac\n",
              "0         Более 6 лет   1337\n",
              "1           Нет опыта   7197\n",
              "2       От 3 до 6 лет  14511\n",
              "3  От 1 года до 3 лет  26152"
            ]
          },
          "execution_count": 595,
          "metadata": {},
          "output_type": "execute_result"
        }
      ],
      "source": [
        "count_by_exp = pd.read_sql_query(query_4_5, connection)\n",
        "count_by_exp"
      ]
    },
    {
      "cell_type": "markdown",
      "id": "oq2b7n1QpIka",
      "metadata": {
        "id": "oq2b7n1QpIka"
      },
      "source": [
        "***"
      ]
    },
    {
      "cell_type": "markdown",
      "id": "bdee117f",
      "metadata": {},
      "source": [
        "1. Наибольшее количество вакансий представлено в Москве и Санкт-Петербурге. Также, в топе столицы сосдних государств и города-миллионники.\n",
        "\n",
        "2. Только у 24073 соискателей из 49197 (чуть менее половины) указана хотя бы одна граница зарплатной вилки\n",
        "\n",
        "3. В среднем, нижняя граница зарплатной вилки составила 71к рублей, верхней - 110к рублей\n",
        "\n",
        "4. Соискатели, преимущественно, предпочитают полную занятость и полный день (~35к). На втором месте удаленная работа и полная занятость (~8к).<br>\n",
        "На все остальные сочетания графика работы и занятости приходится ~6к\n",
        "5. Подавляющее бльшинство соискателей (~26к) имеет опыть работы до 3-х лет. От 3-х до 6-ти лет у ~14к соискателей. <br>\n",
        "~7к соискателей не имеют опыта работы. Опыт работы более 6 лет имеют всего 1337 соискателей."
      ]
    },
    {
      "cell_type": "markdown",
      "id": "1a437dd3",
      "metadata": {},
      "source": [
        "ЗАМЕНИТЬ СОИСКАТЕЛЕЙ НА ВАКАНСИИ\n"
      ]
    },
    {
      "cell_type": "markdown",
      "id": "7ea20ab6-04a7-40a0-adec-443a0e5a42c3",
      "metadata": {
        "id": "7ea20ab6-04a7-40a0-adec-443a0e5a42c3"
      },
      "source": [
        "# Юнит 5. Анализ работодателей"
      ]
    },
    {
      "cell_type": "markdown",
      "id": "968aed80-74ef-4ffb-b5bf-c65b84e9caea",
      "metadata": {
        "id": "968aed80-74ef-4ffb-b5bf-c65b84e9caea"
      },
      "source": [
        "1. Напишите запрос, который позволит узнать, какие работодатели находятся на первом и пятом месте по количеству вакансий."
      ]
    },
    {
      "cell_type": "code",
      "execution_count": 596,
      "id": "f2d62796-d400-4ec1-a675-88112739a50e",
      "metadata": {
        "id": "f2d62796-d400-4ec1-a675-88112739a50e"
      },
      "outputs": [],
      "source": [
        "query_5_1 = ''' \n",
        "select\n",
        "    e.name,\n",
        "    count(*) N_vacs\n",
        "from\n",
        "    vacancies v\n",
        "    join employers e\n",
        "    on v.employer_id = e.id\n",
        "group by\n",
        "    e.name  \n",
        "order by count(*) desc\n",
        "'''"
      ]
    },
    {
      "cell_type": "code",
      "execution_count": 662,
      "id": "64tOMkAxqkQk",
      "metadata": {
        "id": "64tOMkAxqkQk"
      },
      "outputs": [
        {
          "data": {
            "application/vnd.microsoft.datawrangler.viewer.v0+json": {
              "columns": [
                {
                  "name": "index",
                  "rawType": "int64",
                  "type": "integer"
                },
                {
                  "name": "name",
                  "rawType": "object",
                  "type": "string"
                },
                {
                  "name": "n_vacs",
                  "rawType": "int64",
                  "type": "integer"
                }
              ],
              "conversionMethod": "pd.DataFrame",
              "ref": "6a73ab42-8eec-4ba9-b9b8-5f4dc0409fd7",
              "rows": [
                [
                  "0",
                  "Яндекс",
                  "1933"
                ],
                [
                  "1",
                  "Ростелеком",
                  "491"
                ],
                [
                  "2",
                  "Тинькофф",
                  "444"
                ],
                [
                  "3",
                  "СБЕР",
                  "428"
                ],
                [
                  "4",
                  "Газпром нефть",
                  "331"
                ]
              ],
              "shape": {
                "columns": 2,
                "rows": 5
              }
            },
            "text/html": [
              "<div>\n",
              "<style scoped>\n",
              "    .dataframe tbody tr th:only-of-type {\n",
              "        vertical-align: middle;\n",
              "    }\n",
              "\n",
              "    .dataframe tbody tr th {\n",
              "        vertical-align: top;\n",
              "    }\n",
              "\n",
              "    .dataframe thead th {\n",
              "        text-align: right;\n",
              "    }\n",
              "</style>\n",
              "<table border=\"1\" class=\"dataframe\">\n",
              "  <thead>\n",
              "    <tr style=\"text-align: right;\">\n",
              "      <th></th>\n",
              "      <th>name</th>\n",
              "      <th>n_vacs</th>\n",
              "    </tr>\n",
              "  </thead>\n",
              "  <tbody>\n",
              "    <tr>\n",
              "      <th>0</th>\n",
              "      <td>Яндекс</td>\n",
              "      <td>1933</td>\n",
              "    </tr>\n",
              "    <tr>\n",
              "      <th>1</th>\n",
              "      <td>Ростелеком</td>\n",
              "      <td>491</td>\n",
              "    </tr>\n",
              "    <tr>\n",
              "      <th>2</th>\n",
              "      <td>Тинькофф</td>\n",
              "      <td>444</td>\n",
              "    </tr>\n",
              "    <tr>\n",
              "      <th>3</th>\n",
              "      <td>СБЕР</td>\n",
              "      <td>428</td>\n",
              "    </tr>\n",
              "    <tr>\n",
              "      <th>4</th>\n",
              "      <td>Газпром нефть</td>\n",
              "      <td>331</td>\n",
              "    </tr>\n",
              "  </tbody>\n",
              "</table>\n",
              "</div>"
            ],
            "text/plain": [
              "            name  n_vacs\n",
              "0         Яндекс    1933\n",
              "1     Ростелеком     491\n",
              "2       Тинькофф     444\n",
              "3           СБЕР     428\n",
              "4  Газпром нефть     331"
            ]
          },
          "execution_count": 662,
          "metadata": {},
          "output_type": "execute_result"
        }
      ],
      "source": [
        "vac_count_by_empl = pd.read_sql_query(query_5_1, connection)\n",
        "vac_count_by_empl.iloc[:5, :]"
      ]
    },
    {
      "cell_type": "markdown",
      "id": "68377cfc-b378-43dc-ab7d-1195abf2c515",
      "metadata": {
        "id": "68377cfc-b378-43dc-ab7d-1195abf2c515"
      },
      "source": [
        "2. Напишите запрос, который для каждого региона выведет количество работодателей и вакансий в нём. <br>\n",
        "Среди регионов, в которых нет вакансий, найдите тот, в котором наибольшее количество работодателей.\n"
      ]
    },
    {
      "cell_type": "code",
      "execution_count": 598,
      "id": "f7cfde97",
      "metadata": {},
      "outputs": [],
      "source": [
        "query_5_2 =''' \n",
        "select\n",
        "    a.name,\n",
        "    count(e.name) N_employers\n",
        "    \n",
        "from\n",
        "    areas a\n",
        "    left join vacancies v \n",
        "    on v.area_id = a.id\n",
        "    \n",
        "    join employers e \n",
        "    on a.id = e.area\n",
        "    \n",
        "where \n",
        "    v.id is null\n",
        "    \n",
        "group by \n",
        "    a.name\n",
        "\n",
        "order by \n",
        "    count(e.name) desc\n",
        "'''"
      ]
    },
    {
      "cell_type": "code",
      "execution_count": 599,
      "id": "x1ikWbydrbf6",
      "metadata": {
        "id": "x1ikWbydrbf6"
      },
      "outputs": [
        {
          "data": {
            "application/vnd.microsoft.datawrangler.viewer.v0+json": {
              "columns": [
                {
                  "name": "index",
                  "rawType": "int64",
                  "type": "integer"
                },
                {
                  "name": "name",
                  "rawType": "object",
                  "type": "string"
                },
                {
                  "name": "n_employers",
                  "rawType": "int64",
                  "type": "integer"
                }
              ],
              "conversionMethod": "pd.DataFrame",
              "ref": "4218fe77-3141-4f13-b566-073e42660abb",
              "rows": [
                [
                  "0",
                  "Россия",
                  "410"
                ],
                [
                  "1",
                  "Казахстан",
                  "207"
                ],
                [
                  "2",
                  "Московская область",
                  "75"
                ],
                [
                  "3",
                  "Краснодарский край",
                  "19"
                ],
                [
                  "4",
                  "Беларусь",
                  "18"
                ],
                [
                  "5",
                  "Ростовская область",
                  "18"
                ],
                [
                  "6",
                  "Азербайджан",
                  "17"
                ],
                [
                  "7",
                  "Республика Татарстан",
                  "16"
                ],
                [
                  "8",
                  "Нижегородская область",
                  "16"
                ],
                [
                  "9",
                  "Узбекистан",
                  "15"
                ],
                [
                  "10",
                  "Белгородская область",
                  "10"
                ],
                [
                  "11",
                  "Сингапур",
                  "10"
                ],
                [
                  "12",
                  "Калужская область",
                  "9"
                ],
                [
                  "13",
                  "Ленинградская область",
                  "9"
                ],
                [
                  "14",
                  "Самарская область",
                  "7"
                ],
                [
                  "15",
                  "Воронежская область",
                  "7"
                ],
                [
                  "16",
                  "Кировская область",
                  "6"
                ],
                [
                  "17",
                  "Ульяновская область",
                  "6"
                ],
                [
                  "18",
                  "Кыргызстан",
                  "6"
                ],
                [
                  "19",
                  "Австралия",
                  "6"
                ],
                [
                  "20",
                  "Ставропольский край",
                  "6"
                ],
                [
                  "21",
                  "Ивановская область",
                  "5"
                ],
                [
                  "22",
                  "Липецкая область",
                  "5"
                ],
                [
                  "23",
                  "Новосибирская область",
                  "5"
                ],
                [
                  "24",
                  "Тульская область",
                  "5"
                ],
                [
                  "25",
                  "Канада",
                  "5"
                ],
                [
                  "26",
                  "Швейцария",
                  "5"
                ],
                [
                  "27",
                  "Республика Крым",
                  "4"
                ],
                [
                  "28",
                  "Пензенская область",
                  "4"
                ],
                [
                  "29",
                  "Чувашская Республика",
                  "4"
                ],
                [
                  "30",
                  "Иркутская область",
                  "4"
                ],
                [
                  "31",
                  "Кемеровская область",
                  "4"
                ],
                [
                  "32",
                  "Волгоградская область",
                  "4"
                ],
                [
                  "33",
                  "Свердловская область",
                  "4"
                ],
                [
                  "34",
                  "Рязанская область",
                  "4"
                ],
                [
                  "35",
                  "Минская область",
                  "3"
                ],
                [
                  "36",
                  "Владимирская область",
                  "3"
                ],
                [
                  "37",
                  "Другие регионы",
                  "3"
                ],
                [
                  "38",
                  "Калининградская область",
                  "3"
                ],
                [
                  "39",
                  "Томская область",
                  "3"
                ],
                [
                  "40",
                  "Удмуртская Республика",
                  "3"
                ],
                [
                  "41",
                  "Костромская область",
                  "3"
                ],
                [
                  "42",
                  "Пермский край",
                  "3"
                ],
                [
                  "43",
                  "Алтайский край",
                  "3"
                ],
                [
                  "44",
                  "Красноярский край",
                  "3"
                ],
                [
                  "45",
                  "Ярославская область",
                  "3"
                ],
                [
                  "46",
                  "Саратовская область",
                  "2"
                ],
                [
                  "47",
                  "Жодино",
                  "2"
                ],
                [
                  "48",
                  "Тверская область",
                  "2"
                ],
                [
                  "49",
                  "Челябинская область",
                  "2"
                ]
              ],
              "shape": {
                "columns": 2,
                "rows": 186
              }
            },
            "text/html": [
              "<div>\n",
              "<style scoped>\n",
              "    .dataframe tbody tr th:only-of-type {\n",
              "        vertical-align: middle;\n",
              "    }\n",
              "\n",
              "    .dataframe tbody tr th {\n",
              "        vertical-align: top;\n",
              "    }\n",
              "\n",
              "    .dataframe thead th {\n",
              "        text-align: right;\n",
              "    }\n",
              "</style>\n",
              "<table border=\"1\" class=\"dataframe\">\n",
              "  <thead>\n",
              "    <tr style=\"text-align: right;\">\n",
              "      <th></th>\n",
              "      <th>name</th>\n",
              "      <th>n_employers</th>\n",
              "    </tr>\n",
              "  </thead>\n",
              "  <tbody>\n",
              "    <tr>\n",
              "      <th>0</th>\n",
              "      <td>Россия</td>\n",
              "      <td>410</td>\n",
              "    </tr>\n",
              "    <tr>\n",
              "      <th>1</th>\n",
              "      <td>Казахстан</td>\n",
              "      <td>207</td>\n",
              "    </tr>\n",
              "    <tr>\n",
              "      <th>2</th>\n",
              "      <td>Московская область</td>\n",
              "      <td>75</td>\n",
              "    </tr>\n",
              "    <tr>\n",
              "      <th>3</th>\n",
              "      <td>Краснодарский край</td>\n",
              "      <td>19</td>\n",
              "    </tr>\n",
              "    <tr>\n",
              "      <th>4</th>\n",
              "      <td>Беларусь</td>\n",
              "      <td>18</td>\n",
              "    </tr>\n",
              "    <tr>\n",
              "      <th>...</th>\n",
              "      <td>...</td>\n",
              "      <td>...</td>\n",
              "    </tr>\n",
              "    <tr>\n",
              "      <th>181</th>\n",
              "      <td>Миллерово</td>\n",
              "      <td>1</td>\n",
              "    </tr>\n",
              "    <tr>\n",
              "      <th>182</th>\n",
              "      <td>Михайловка (Уфимский район, Башкортостан)</td>\n",
              "      <td>1</td>\n",
              "    </tr>\n",
              "    <tr>\n",
              "      <th>183</th>\n",
              "      <td>Можайск</td>\n",
              "      <td>1</td>\n",
              "    </tr>\n",
              "    <tr>\n",
              "      <th>184</th>\n",
              "      <td>Морозовск\\n</td>\n",
              "      <td>1</td>\n",
              "    </tr>\n",
              "    <tr>\n",
              "      <th>185</th>\n",
              "      <td>Несвиж</td>\n",
              "      <td>1</td>\n",
              "    </tr>\n",
              "  </tbody>\n",
              "</table>\n",
              "<p>186 rows × 2 columns</p>\n",
              "</div>"
            ],
            "text/plain": [
              "                                          name  n_employers\n",
              "0                                       Россия          410\n",
              "1                                    Казахстан          207\n",
              "2                           Московская область           75\n",
              "3                           Краснодарский край           19\n",
              "4                                     Беларусь           18\n",
              "..                                         ...          ...\n",
              "181                                  Миллерово            1\n",
              "182  Михайловка (Уфимский район, Башкортостан)            1\n",
              "183                                    Можайск            1\n",
              "184                                Морозовск\\n            1\n",
              "185                                     Несвиж            1\n",
              "\n",
              "[186 rows x 2 columns]"
            ]
          },
          "execution_count": 599,
          "metadata": {},
          "output_type": "execute_result"
        }
      ],
      "source": [
        "Null_vac = pd.read_sql_query(query_5_2, connection)\n",
        "Null_vac"
      ]
    },
    {
      "cell_type": "markdown",
      "id": "f2fe0acb-ab1a-4e15-9326-2560e22d73c1",
      "metadata": {
        "id": "f2fe0acb-ab1a-4e15-9326-2560e22d73c1"
      },
      "source": [
        "3. Для каждого работодателя посчитайте количество регионов, в которых он публикует свои вакансии. Отсортируйте результат по убыванию количества.\n"
      ]
    },
    {
      "cell_type": "code",
      "execution_count": 600,
      "id": "6271f8ad-bd2e-4196-ae4a-5b39c4c1010e",
      "metadata": {
        "id": "6271f8ad-bd2e-4196-ae4a-5b39c4c1010e"
      },
      "outputs": [],
      "source": [
        "query_5_3 = ''' \n",
        "select\n",
        "    e.name as Employer_name,\n",
        "    count(distinct a.name) as N_regions_with_vac\n",
        "from\n",
        "    vacancies v\n",
        "    join employers e\n",
        "    on v.employer_id = e.id\n",
        "    \n",
        "    join areas a\n",
        "    on v.area_id = a.id\n",
        "    \n",
        "group by \n",
        "    e.name\n",
        "    \n",
        "order by \n",
        "    count(distinct a.name) desc\n",
        "'''\n"
      ]
    },
    {
      "cell_type": "code",
      "execution_count": 601,
      "id": "1EIvX3HasH4F",
      "metadata": {
        "id": "1EIvX3HasH4F"
      },
      "outputs": [
        {
          "data": {
            "application/vnd.microsoft.datawrangler.viewer.v0+json": {
              "columns": [
                {
                  "name": "index",
                  "rawType": "int64",
                  "type": "integer"
                },
                {
                  "name": "employer_name",
                  "rawType": "object",
                  "type": "string"
                },
                {
                  "name": "n_regions_with_vac",
                  "rawType": "int64",
                  "type": "integer"
                }
              ],
              "conversionMethod": "pd.DataFrame",
              "ref": "127514da-16b7-4090-93b5-46f3d485c24f",
              "rows": [
                [
                  "0",
                  "Яндекс",
                  "181"
                ],
                [
                  "1",
                  "Ростелеком",
                  "152"
                ],
                [
                  "2",
                  "Спецремонт",
                  "116"
                ],
                [
                  "3",
                  "Поляков Денис Иванович",
                  "88"
                ],
                [
                  "4",
                  "ООО ЕФИН ",
                  "71"
                ],
                [
                  "5",
                  "Совкомбанк",
                  "63"
                ],
                [
                  "6",
                  "МТС",
                  "55"
                ],
                [
                  "7",
                  "ЭФКО, Управляющая компания",
                  "49"
                ],
                [
                  "8",
                  "Почта России",
                  "48"
                ],
                [
                  "9",
                  "КРОН",
                  "48"
                ],
                [
                  "10",
                  "ИК СИБИНТЕК",
                  "46"
                ],
                [
                  "11",
                  "MCORE",
                  "46"
                ],
                [
                  "12",
                  "Сбербанк-Сервис",
                  "45"
                ],
                [
                  "13",
                  "ANCOR",
                  "44"
                ],
                [
                  "14",
                  "Тинькофф",
                  "43"
                ],
                [
                  "15",
                  "Первый Бит",
                  "43"
                ],
                [
                  "16",
                  "АЛНАС",
                  "41"
                ],
                [
                  "17",
                  "Ozon",
                  "36"
                ],
                [
                  "18",
                  "IBS",
                  "36"
                ],
                [
                  "19",
                  "Авито",
                  "35"
                ],
                [
                  "20",
                  "Т1 Интеграция",
                  "34"
                ],
                [
                  "21",
                  "АТМ АЛЬЯНС",
                  "34"
                ],
                [
                  "22",
                  "ЭР-Телеком",
                  "33"
                ],
                [
                  "23",
                  "ЛАНИТ",
                  "29"
                ],
                [
                  "24",
                  "1C-Рарус",
                  "28"
                ],
                [
                  "25",
                  "Красное & Белое, розничная сеть",
                  "27"
                ],
                [
                  "26",
                  "Volna.tech",
                  "27"
                ],
                [
                  "27",
                  "Bell Integrator",
                  "26"
                ],
                [
                  "28",
                  "Совкомбанк Технологии",
                  "26"
                ],
                [
                  "29",
                  "Спортмастер",
                  "25"
                ],
                [
                  "30",
                  "МАГНИТ, Розничная сеть",
                  "25"
                ],
                [
                  "31",
                  "Softline",
                  "25"
                ],
                [
                  "32",
                  "Playrix",
                  "25"
                ],
                [
                  "33",
                  "Тензор",
                  "25"
                ],
                [
                  "34",
                  "Филиал ФКУ Налог-Сервис ФНС России по ЦОД в г.Москве",
                  "25"
                ],
                [
                  "35",
                  "СБЕР",
                  "24"
                ],
                [
                  "36",
                  "Нэти",
                  "24"
                ],
                [
                  "37",
                  "Газпром нефть",
                  "24"
                ],
                [
                  "38",
                  "Банк ВТБ (ПАО)",
                  "24"
                ],
                [
                  "39",
                  "МегаФон",
                  "23"
                ],
                [
                  "40",
                  "Диалог Регионы",
                  "23"
                ],
                [
                  "41",
                  "Сеть магазинов цифровой и бытовой техники DNS",
                  "23"
                ],
                [
                  "42",
                  "«Аксиома-Софт»",
                  "23"
                ],
                [
                  "43",
                  "Консалтинг Групп",
                  "23"
                ],
                [
                  "44",
                  "Sumitec International",
                  "23"
                ],
                [
                  "45",
                  "Российская телевизионная и радиовещательная сеть, ФГУП",
                  "22"
                ],
                [
                  "46",
                  "Россельхозбанк",
                  "22"
                ],
                [
                  "47",
                  "Калашников",
                  "21"
                ],
                [
                  "48",
                  "ITooLabs",
                  "21"
                ],
                [
                  "49",
                  "Северсталь",
                  "21"
                ]
              ],
              "shape": {
                "columns": 2,
                "rows": 14766
              }
            },
            "text/html": [
              "<div>\n",
              "<style scoped>\n",
              "    .dataframe tbody tr th:only-of-type {\n",
              "        vertical-align: middle;\n",
              "    }\n",
              "\n",
              "    .dataframe tbody tr th {\n",
              "        vertical-align: top;\n",
              "    }\n",
              "\n",
              "    .dataframe thead th {\n",
              "        text-align: right;\n",
              "    }\n",
              "</style>\n",
              "<table border=\"1\" class=\"dataframe\">\n",
              "  <thead>\n",
              "    <tr style=\"text-align: right;\">\n",
              "      <th></th>\n",
              "      <th>employer_name</th>\n",
              "      <th>n_regions_with_vac</th>\n",
              "    </tr>\n",
              "  </thead>\n",
              "  <tbody>\n",
              "    <tr>\n",
              "      <th>0</th>\n",
              "      <td>Яндекс</td>\n",
              "      <td>181</td>\n",
              "    </tr>\n",
              "    <tr>\n",
              "      <th>1</th>\n",
              "      <td>Ростелеком</td>\n",
              "      <td>152</td>\n",
              "    </tr>\n",
              "    <tr>\n",
              "      <th>2</th>\n",
              "      <td>Спецремонт</td>\n",
              "      <td>116</td>\n",
              "    </tr>\n",
              "    <tr>\n",
              "      <th>3</th>\n",
              "      <td>Поляков Денис Иванович</td>\n",
              "      <td>88</td>\n",
              "    </tr>\n",
              "    <tr>\n",
              "      <th>4</th>\n",
              "      <td>ООО ЕФИН</td>\n",
              "      <td>71</td>\n",
              "    </tr>\n",
              "    <tr>\n",
              "      <th>...</th>\n",
              "      <td>...</td>\n",
              "      <td>...</td>\n",
              "    </tr>\n",
              "    <tr>\n",
              "      <th>14761</th>\n",
              "      <td>UniSol</td>\n",
              "      <td>1</td>\n",
              "    </tr>\n",
              "    <tr>\n",
              "      <th>14762</th>\n",
              "      <td>UNISTORY LLC</td>\n",
              "      <td>1</td>\n",
              "    </tr>\n",
              "    <tr>\n",
              "      <th>14763</th>\n",
              "      <td>UNIT6</td>\n",
              "      <td>1</td>\n",
              "    </tr>\n",
              "    <tr>\n",
              "      <th>14764</th>\n",
              "      <td>United Distribution</td>\n",
              "      <td>1</td>\n",
              "    </tr>\n",
              "    <tr>\n",
              "      <th>14765</th>\n",
              "      <td>UNITEL LLC</td>\n",
              "      <td>1</td>\n",
              "    </tr>\n",
              "  </tbody>\n",
              "</table>\n",
              "<p>14766 rows × 2 columns</p>\n",
              "</div>"
            ],
            "text/plain": [
              "                employer_name  n_regions_with_vac\n",
              "0                      Яндекс                 181\n",
              "1                  Ростелеком                 152\n",
              "2                  Спецремонт                 116\n",
              "3      Поляков Денис Иванович                  88\n",
              "4                   ООО ЕФИН                   71\n",
              "...                       ...                 ...\n",
              "14761                  UniSol                   1\n",
              "14762            UNISTORY LLC                   1\n",
              "14763                   UNIT6                   1\n",
              "14764     United Distribution                   1\n",
              "14765              UNITEL LLC                   1\n",
              "\n",
              "[14766 rows x 2 columns]"
            ]
          },
          "execution_count": 601,
          "metadata": {},
          "output_type": "execute_result"
        }
      ],
      "source": [
        "N_region_by_Employer = pd.read_sql_query(query_5_3, connection)\n",
        "N_region_by_Employer"
      ]
    },
    {
      "cell_type": "markdown",
      "id": "eab2206d-d95b-468b-8e5f-34381abf0ce7",
      "metadata": {
        "id": "eab2206d-d95b-468b-8e5f-34381abf0ce7"
      },
      "source": [
        "4. Напишите запрос для подсчёта количества работодателей, у которых не указана сфера деятельности. "
      ]
    },
    {
      "cell_type": "code",
      "execution_count": 602,
      "id": "80defb23-bfb1-4a18-8be6-bf36aa7165d5",
      "metadata": {
        "id": "80defb23-bfb1-4a18-8be6-bf36aa7165d5"
      },
      "outputs": [],
      "source": [
        "query_5_4 = ''' \n",
        "select \n",
        "    count(e.name) N_empl_with_no_indstr\n",
        "from\n",
        "    employers e\n",
        "    left join employers_industries ei \n",
        "    on ei.employer_id = e.id\n",
        "where industry_id is null\n",
        "\n",
        "'''\n"
      ]
    },
    {
      "cell_type": "code",
      "execution_count": 603,
      "id": "Dp_yCx6ysQSu",
      "metadata": {
        "id": "Dp_yCx6ysQSu"
      },
      "outputs": [
        {
          "data": {
            "application/vnd.microsoft.datawrangler.viewer.v0+json": {
              "columns": [
                {
                  "name": "index",
                  "rawType": "int64",
                  "type": "integer"
                },
                {
                  "name": "n_empl_with_no_indstr",
                  "rawType": "int64",
                  "type": "integer"
                }
              ],
              "conversionMethod": "pd.DataFrame",
              "ref": "4f0770ea-34d7-4587-9d01-b99d65b32887",
              "rows": [
                [
                  "0",
                  "8419"
                ]
              ],
              "shape": {
                "columns": 1,
                "rows": 1
              }
            },
            "text/html": [
              "<div>\n",
              "<style scoped>\n",
              "    .dataframe tbody tr th:only-of-type {\n",
              "        vertical-align: middle;\n",
              "    }\n",
              "\n",
              "    .dataframe tbody tr th {\n",
              "        vertical-align: top;\n",
              "    }\n",
              "\n",
              "    .dataframe thead th {\n",
              "        text-align: right;\n",
              "    }\n",
              "</style>\n",
              "<table border=\"1\" class=\"dataframe\">\n",
              "  <thead>\n",
              "    <tr style=\"text-align: right;\">\n",
              "      <th></th>\n",
              "      <th>n_empl_with_no_indstr</th>\n",
              "    </tr>\n",
              "  </thead>\n",
              "  <tbody>\n",
              "    <tr>\n",
              "      <th>0</th>\n",
              "      <td>8419</td>\n",
              "    </tr>\n",
              "  </tbody>\n",
              "</table>\n",
              "</div>"
            ],
            "text/plain": [
              "   n_empl_with_no_indstr\n",
              "0                   8419"
            ]
          },
          "execution_count": 603,
          "metadata": {},
          "output_type": "execute_result"
        }
      ],
      "source": [
        "N_Empl_null_Indstr = pd.read_sql_query(query_5_4, connection)\n",
        "N_Empl_null_Indstr"
      ]
    },
    {
      "cell_type": "markdown",
      "id": "0112af31-f6b0-4e3b-82ab-71296e752e5e",
      "metadata": {
        "id": "0112af31-f6b0-4e3b-82ab-71296e752e5e"
      },
      "source": [
        "5. Напишите запрос, чтобы узнать название компании, находящейся на третьем месте в алфавитном списке (по названию) компаний, у которых указано четыре сферы деятельности. "
      ]
    },
    {
      "cell_type": "code",
      "execution_count": null,
      "id": "973b0cfc-a972-470a-8b4a-68744ef220c4",
      "metadata": {
        "id": "973b0cfc-a972-470a-8b4a-68744ef220c4"
      },
      "outputs": [],
      "source": [
        "query_5_5 = ''' \n",
        "select \n",
        "    e.name,\n",
        "    count(ei.industry_id)\n",
        "    \n",
        "from\n",
        "    employers_industries ei\n",
        "    join employers e\n",
        "    on ei.employer_id = e.id \n",
        "    \n",
        "group by \n",
        "    e.name\n",
        "\n",
        "having \n",
        "    count(ei.industry_id) = 4\n",
        "    \n",
        "order by \n",
        "    e.name\n",
        "    \n",
        "offset 2\n",
        "limit 1\n",
        "'''"
      ]
    },
    {
      "cell_type": "code",
      "execution_count": 605,
      "id": "xsPtpp8EsaED",
      "metadata": {
        "id": "xsPtpp8EsaED"
      },
      "outputs": [
        {
          "data": {
            "application/vnd.microsoft.datawrangler.viewer.v0+json": {
              "columns": [
                {
                  "name": "index",
                  "rawType": "int64",
                  "type": "integer"
                },
                {
                  "name": "name",
                  "rawType": "object",
                  "type": "string"
                },
                {
                  "name": "count",
                  "rawType": "int64",
                  "type": "integer"
                }
              ],
              "conversionMethod": "pd.DataFrame",
              "ref": "6e473259-c954-4216-8970-32d57b11b5a9",
              "rows": [
                [
                  "0",
                  "2ГИС",
                  "4"
                ]
              ],
              "shape": {
                "columns": 2,
                "rows": 1
              }
            },
            "text/html": [
              "<div>\n",
              "<style scoped>\n",
              "    .dataframe tbody tr th:only-of-type {\n",
              "        vertical-align: middle;\n",
              "    }\n",
              "\n",
              "    .dataframe tbody tr th {\n",
              "        vertical-align: top;\n",
              "    }\n",
              "\n",
              "    .dataframe thead th {\n",
              "        text-align: right;\n",
              "    }\n",
              "</style>\n",
              "<table border=\"1\" class=\"dataframe\">\n",
              "  <thead>\n",
              "    <tr style=\"text-align: right;\">\n",
              "      <th></th>\n",
              "      <th>name</th>\n",
              "      <th>count</th>\n",
              "    </tr>\n",
              "  </thead>\n",
              "  <tbody>\n",
              "    <tr>\n",
              "      <th>0</th>\n",
              "      <td>2ГИС</td>\n",
              "      <td>4</td>\n",
              "    </tr>\n",
              "  </tbody>\n",
              "</table>\n",
              "</div>"
            ],
            "text/plain": [
              "   name  count\n",
              "0  2ГИС      4"
            ]
          },
          "execution_count": 605,
          "metadata": {},
          "output_type": "execute_result"
        }
      ],
      "source": [
        "Indstr_by_Empl = pd.read_sql_query(query_5_5, connection)\n",
        "Indstr_by_Empl"
      ]
    },
    {
      "cell_type": "markdown",
      "id": "3bfcfdaf-755d-4d2b-8ed8-326201dc07ab",
      "metadata": {
        "id": "3bfcfdaf-755d-4d2b-8ed8-326201dc07ab"
      },
      "source": [
        "6. С помощью запроса выясните, у какого количества работодателей в качестве сферы деятельности указана Разработка программного обеспечения.\n"
      ]
    },
    {
      "cell_type": "code",
      "execution_count": 606,
      "id": "ad3f270f-2991-47eb-929b-e8f88a55b0d1",
      "metadata": {
        "id": "ad3f270f-2991-47eb-929b-e8f88a55b0d1"
      },
      "outputs": [],
      "source": [
        "query_5_6 = ''' \n",
        "select \n",
        "    i.name,\n",
        "    count (*) N_emplyers\n",
        "    \n",
        "from\n",
        "    employers_industries ei\n",
        "    join employers e\n",
        "    on ei.employer_id = e.id \n",
        "    \n",
        "    join industries i\n",
        "    on ei.industry_id = i.id\n",
        "\n",
        "group by \n",
        "    i.name\n",
        "    \n",
        "having \n",
        "    i.name = 'Разработка программного обеспечения'\n",
        "'''\n"
      ]
    },
    {
      "cell_type": "code",
      "execution_count": 607,
      "id": "H72qxWM0shPR",
      "metadata": {
        "id": "H72qxWM0shPR"
      },
      "outputs": [
        {
          "data": {
            "application/vnd.microsoft.datawrangler.viewer.v0+json": {
              "columns": [
                {
                  "name": "index",
                  "rawType": "int64",
                  "type": "integer"
                },
                {
                  "name": "name",
                  "rawType": "object",
                  "type": "string"
                },
                {
                  "name": "n_emplyers",
                  "rawType": "int64",
                  "type": "integer"
                }
              ],
              "conversionMethod": "pd.DataFrame",
              "ref": "70179d99-358a-4d45-b407-3a66ca6dfab6",
              "rows": [
                [
                  "0",
                  "Разработка программного обеспечения",
                  "3553"
                ]
              ],
              "shape": {
                "columns": 2,
                "rows": 1
              }
            },
            "text/html": [
              "<div>\n",
              "<style scoped>\n",
              "    .dataframe tbody tr th:only-of-type {\n",
              "        vertical-align: middle;\n",
              "    }\n",
              "\n",
              "    .dataframe tbody tr th {\n",
              "        vertical-align: top;\n",
              "    }\n",
              "\n",
              "    .dataframe thead th {\n",
              "        text-align: right;\n",
              "    }\n",
              "</style>\n",
              "<table border=\"1\" class=\"dataframe\">\n",
              "  <thead>\n",
              "    <tr style=\"text-align: right;\">\n",
              "      <th></th>\n",
              "      <th>name</th>\n",
              "      <th>n_emplyers</th>\n",
              "    </tr>\n",
              "  </thead>\n",
              "  <tbody>\n",
              "    <tr>\n",
              "      <th>0</th>\n",
              "      <td>Разработка программного обеспечения</td>\n",
              "      <td>3553</td>\n",
              "    </tr>\n",
              "  </tbody>\n",
              "</table>\n",
              "</div>"
            ],
            "text/plain": [
              "                                  name  n_emplyers\n",
              "0  Разработка программного обеспечения        3553"
            ]
          },
          "execution_count": 607,
          "metadata": {},
          "output_type": "execute_result"
        }
      ],
      "source": [
        "N_dev_Empl = pd.read_sql_query(query_5_6, connection)\n",
        "N_dev_Empl"
      ]
    },
    {
      "cell_type": "markdown",
      "id": "7b02bb86-0546-40fb-94a4-242f050a5c57",
      "metadata": {
        "id": "7b02bb86-0546-40fb-94a4-242f050a5c57"
      },
      "source": [
        "7. Для компании «Яндекс» выведите список регионов-миллионников, в которых представлены вакансии компании, вместе с количеством вакансий в этих регионах. Также добавьте строку Total с общим количеством вакансий компании. Результат отсортируйте по возрастанию количества.\n",
        "\n",
        "Список городов-милионников надо взять [отсюда](https://ru.wikipedia.org/wiki/%D0%93%D0%BE%D1%80%D0%BE%D0%B4%D0%B0-%D0%BC%D0%B8%D0%BB%D0%BB%D0%B8%D0%BE%D0%BD%D0%B5%D1%80%D1%8B_%D0%A0%D0%BE%D1%81%D1%81%D0%B8%D0%B8). \n",
        "\n",
        "Если возникнут трудности с этим задание посмотрите материалы модуля  PYTHON-17. Как получать данные из веб-источников и API. "
      ]
    },
    {
      "cell_type": "code",
      "execution_count": null,
      "id": "ZdfrL6gIs1Pn",
      "metadata": {
        "id": "ZdfrL6gIs1Pn"
      },
      "outputs": [],
      "source": [
        "import requests\n",
        "from bs4 import BeautifulSoup\n",
        "\n",
        "# Устанавливаем библиотеки BeautifulSoup и lxml\n",
        "\n",
        "#!pip install beautifulsoup4 \n",
        "#!pip install lxml\n",
        "\n",
        "# Выделяем таблицу с названиями городов-миллионников\n",
        "url = 'https://ru.wikipedia.org/wiki/%D0%93%D0%BE%D1%80%D0%BE%D0%B4%D0%B0-%D0%BC%D0%B8%D0%BB%D0%BB%D0%B8%D0%BE%D0%BD%D0%B5%D1%80%D1%8B_%D0%A0%D0%BE%D1%81%D1%81%D0%B8%D0%B8'\n",
        "page = requests.get(url).text\n",
        "soup = BeautifulSoup(page, 'html.parser')\n",
        "table = soup.find('table', class_=\"standard sortable\")\n",
        "\n",
        "\n",
        "# Создаем список с названиями городов-миллионников\n",
        "df = pd.read_html(str(table))\n",
        "df = pd.concat(df) \n",
        "city_names = list(df.loc[:,'Город'])"
      ]
    },
    {
      "cell_type": "code",
      "execution_count": null,
      "id": "5a0e32a4-e68a-4365-8a39-2fe24c542c36",
      "metadata": {
        "id": "5a0e32a4-e68a-4365-8a39-2fe24c542c36"
      },
      "outputs": [],
      "source": [
        "query_5_7 = ''' \n",
        "select \n",
        "    a.name as City,\n",
        "    v.id as vacancy_cnt\n",
        "    \n",
        "from \n",
        "    vacancies v\n",
        "    join employers e\n",
        "    on v.employer_id = e.id\n",
        "    \n",
        "    join areas a\n",
        "    on v.area_id = a.id\n",
        "\n",
        "where e.name = 'Яндекс' \n",
        "'''"
      ]
    },
    {
      "cell_type": "code",
      "execution_count": 659,
      "id": "3de06c6b",
      "metadata": {},
      "outputs": [
        {
          "data": {
            "application/vnd.microsoft.datawrangler.viewer.v0+json": {
              "columns": [
                {
                  "name": "city",
                  "rawType": "object",
                  "type": "string"
                },
                {
                  "name": "vacancy_cnt",
                  "rawType": "int64",
                  "type": "integer"
                }
              ],
              "conversionMethod": "pd.DataFrame",
              "ref": "fb0ae528-9a64-419d-8735-6a31710873d6",
              "rows": [
                [
                  "Москва",
                  "54"
                ],
                [
                  "Санкт-Петербург",
                  "42"
                ],
                [
                  "Екатеринбург",
                  "39"
                ],
                [
                  "Нижний Новгород",
                  "36"
                ],
                [
                  "Новосибирск",
                  "35"
                ],
                [
                  "Воронеж",
                  "32"
                ],
                [
                  "Краснодар",
                  "30"
                ],
                [
                  "Самара",
                  "26"
                ],
                [
                  "Уфа",
                  "26"
                ],
                [
                  "Казань",
                  "25"
                ],
                [
                  "Пермь",
                  "25"
                ],
                [
                  "Ростов-на-Дону",
                  "25"
                ],
                [
                  "Волгоград",
                  "24"
                ],
                [
                  "Красноярск",
                  "23"
                ],
                [
                  "Челябинск",
                  "22"
                ],
                [
                  "Омск",
                  "21"
                ],
                [
                  "Total",
                  "485"
                ]
              ],
              "shape": {
                "columns": 1,
                "rows": 17
              }
            },
            "text/html": [
              "<div>\n",
              "<style scoped>\n",
              "    .dataframe tbody tr th:only-of-type {\n",
              "        vertical-align: middle;\n",
              "    }\n",
              "\n",
              "    .dataframe tbody tr th {\n",
              "        vertical-align: top;\n",
              "    }\n",
              "\n",
              "    .dataframe thead th {\n",
              "        text-align: right;\n",
              "    }\n",
              "</style>\n",
              "<table border=\"1\" class=\"dataframe\">\n",
              "  <thead>\n",
              "    <tr style=\"text-align: right;\">\n",
              "      <th></th>\n",
              "      <th>vacancy_cnt</th>\n",
              "    </tr>\n",
              "    <tr>\n",
              "      <th>city</th>\n",
              "      <th></th>\n",
              "    </tr>\n",
              "  </thead>\n",
              "  <tbody>\n",
              "    <tr>\n",
              "      <th>Москва</th>\n",
              "      <td>54</td>\n",
              "    </tr>\n",
              "    <tr>\n",
              "      <th>Санкт-Петербург</th>\n",
              "      <td>42</td>\n",
              "    </tr>\n",
              "    <tr>\n",
              "      <th>Екатеринбург</th>\n",
              "      <td>39</td>\n",
              "    </tr>\n",
              "    <tr>\n",
              "      <th>Нижний Новгород</th>\n",
              "      <td>36</td>\n",
              "    </tr>\n",
              "    <tr>\n",
              "      <th>Новосибирск</th>\n",
              "      <td>35</td>\n",
              "    </tr>\n",
              "    <tr>\n",
              "      <th>Воронеж</th>\n",
              "      <td>32</td>\n",
              "    </tr>\n",
              "    <tr>\n",
              "      <th>Краснодар</th>\n",
              "      <td>30</td>\n",
              "    </tr>\n",
              "    <tr>\n",
              "      <th>Самара</th>\n",
              "      <td>26</td>\n",
              "    </tr>\n",
              "    <tr>\n",
              "      <th>Уфа</th>\n",
              "      <td>26</td>\n",
              "    </tr>\n",
              "    <tr>\n",
              "      <th>Казань</th>\n",
              "      <td>25</td>\n",
              "    </tr>\n",
              "    <tr>\n",
              "      <th>Пермь</th>\n",
              "      <td>25</td>\n",
              "    </tr>\n",
              "    <tr>\n",
              "      <th>Ростов-на-Дону</th>\n",
              "      <td>25</td>\n",
              "    </tr>\n",
              "    <tr>\n",
              "      <th>Волгоград</th>\n",
              "      <td>24</td>\n",
              "    </tr>\n",
              "    <tr>\n",
              "      <th>Красноярск</th>\n",
              "      <td>23</td>\n",
              "    </tr>\n",
              "    <tr>\n",
              "      <th>Челябинск</th>\n",
              "      <td>22</td>\n",
              "    </tr>\n",
              "    <tr>\n",
              "      <th>Омск</th>\n",
              "      <td>21</td>\n",
              "    </tr>\n",
              "    <tr>\n",
              "      <th>Total</th>\n",
              "      <td>485</td>\n",
              "    </tr>\n",
              "  </tbody>\n",
              "</table>\n",
              "</div>"
            ],
            "text/plain": [
              "                 vacancy_cnt\n",
              "city                        \n",
              "Москва                    54\n",
              "Санкт-Петербург           42\n",
              "Екатеринбург              39\n",
              "Нижний Новгород           36\n",
              "Новосибирск               35\n",
              "Воронеж                   32\n",
              "Краснодар                 30\n",
              "Самара                    26\n",
              "Уфа                       26\n",
              "Казань                    25\n",
              "Пермь                     25\n",
              "Ростов-на-Дону            25\n",
              "Волгоград                 24\n",
              "Красноярск                23\n",
              "Челябинск                 22\n",
              "Омск                      21\n",
              "Total                    485"
            ]
          },
          "metadata": {},
          "output_type": "display_data"
        }
      ],
      "source": [
        "# Записываем результат запроса в датафрейм\n",
        "YaVac_by_City = pd.read_sql_query(query_5_7, connection)\n",
        "\n",
        "\n",
        "# Выбираем только данные из городов-миллионников\n",
        "mask = YaVac_by_City.loc[:, 'city'].apply(lambda x: x in city_names)\n",
        "YaVac_by_City = YaVac_by_City[mask]\n",
        "\n",
        "\n",
        "# Группируем по переменной 'City', подссчитываем кол-во вакансий\n",
        "YaVac_by_City = \\\n",
        "    YaVac_by_City.groupby('city').count()\\\n",
        "        .sort_values('vacancy_cnt', ascending=False)\n",
        "\n",
        "\n",
        "# Добавляем строрку 'Total' с суммой по солбцу с вакансиями\n",
        "YaVac_by_City.loc['Total'] = sum(YaVac_by_City['vacancy_cnt'])\n",
        "display(YaVac_by_City)\n"
      ]
    },
    {
      "cell_type": "markdown",
      "id": "04966e40-3bc3-4dc8-9ba2-e80580ce3abc",
      "metadata": {
        "id": "04966e40-3bc3-4dc8-9ba2-e80580ce3abc"
      },
      "source": [
        "***"
      ]
    },
    {
      "cell_type": "markdown",
      "id": "ec16b977",
      "metadata": {},
      "source": [
        "1.\tНаибольшее количество вакансий (1933) предлагает компания **Яндекс**. В пятерку лидеров также входят **Ростелеком**, **Тинькофф**, **СБЕР** и **Газпром нефть**.\n",
        "\n",
        "2.\tКомпании **Яндекс**, **Ростелеком** и **Спецремонт** входят в тройку лидеров по количеству регионов, в которых они предлагают вакансии. \n",
        "\n",
        "3.\tКомпания **Яндекс** предлагает **485** вакансий в городах-миллионниках. Наибольшее количество вакансий приходится на **Москву**, **Санкт-Петербург**, **Екатеринбург**, **Нижний Новгород** и **Новосибирск**.\n",
        "\n",
        "4.\tСреди всех работодателей, у **8419** не указан род деятельности. У **3553** компаний в качестве рода деятельности указана разработка программного обеспеченья.\n"
      ]
    },
    {
      "cell_type": "markdown",
      "id": "b1ef156a-efcb-49ce-bb23-90763e7f35b2",
      "metadata": {
        "id": "b1ef156a-efcb-49ce-bb23-90763e7f35b2",
        "tags": []
      },
      "source": [
        "# Юнит 6. Предметный анализ"
      ]
    },
    {
      "cell_type": "markdown",
      "id": "b9cd50a0-992d-4988-8463-2b2b1c4629b4",
      "metadata": {
        "id": "b9cd50a0-992d-4988-8463-2b2b1c4629b4"
      },
      "source": [
        "1. Сколько вакансий имеет отношение к данным?\n",
        "\n",
        "Считаем, что вакансия имеет отношение к данным, если в её названии содержатся слова 'data' или 'данн'.\n",
        "\n",
        "*Подсказка: Обратите внимание, что названия вакансий могут быть написаны в любом регистре.* \n"
      ]
    },
    {
      "cell_type": "code",
      "execution_count": 670,
      "id": "54ab0e50-c0f1-47cc-a54b-bc5c8bc363f9",
      "metadata": {
        "id": "54ab0e50-c0f1-47cc-a54b-bc5c8bc363f9"
      },
      "outputs": [
        {
          "data": {
            "application/vnd.microsoft.datawrangler.viewer.v0+json": {
              "columns": [
                {
                  "name": "index",
                  "rawType": "int64",
                  "type": "integer"
                },
                {
                  "name": "name",
                  "rawType": "object",
                  "type": "string"
                }
              ],
              "conversionMethod": "pd.DataFrame",
              "ref": "e664316a-48be-4900-9f7a-40539cccd4a7",
              "rows": [
                [
                  "0",
                  "Аналитик хранилищ данных и BI-систем/Аналитик EAM (ТОиР)"
                ],
                [
                  "1",
                  "Data-analysts (удаленно)"
                ],
                [
                  "2",
                  "Стажер Data Engineer/Data Аналитик в команду Блока «Сеть продаж»"
                ],
                [
                  "3",
                  "Старший специалист хранилищ данных"
                ],
                [
                  "4",
                  "Администратор баз данных и сетей"
                ],
                [
                  "5",
                  "Администратор баз данных (DBA)"
                ],
                [
                  "6",
                  "Data Scientist"
                ],
                [
                  "7",
                  "Старший менеджер по анализу данных"
                ],
                [
                  "8",
                  "Администратор баз данных 1С"
                ],
                [
                  "9",
                  "Администратор баз данных (стажер)"
                ],
                [
                  "10",
                  "Администратор сети и передачи данных"
                ],
                [
                  "11",
                  "Data Scientist (Junior+)"
                ],
                [
                  "12",
                  "Специалист аналитик данных (г. Шымкент)"
                ],
                [
                  "13",
                  "PostgreSQL DBA (Database Administrator)"
                ],
                [
                  "14",
                  "Аналитик данных - стажер (г. Шымкент)"
                ],
                [
                  "15",
                  "Руководитель отдела обработки данных"
                ],
                [
                  "16",
                  "Старший специалист (администратор баз данных)"
                ],
                [
                  "17",
                  "Data Scientist"
                ],
                [
                  "18",
                  "Data Scientist"
                ],
                [
                  "19",
                  "Администратор баз данных"
                ],
                [
                  "20",
                  "Data Scientist"
                ],
                [
                  "21",
                  "Data Scientist"
                ],
                [
                  "22",
                  "Data Analyst"
                ],
                [
                  "23",
                  "CDP Team Lead - Customer Data Platform Solutions Architect"
                ],
                [
                  "24",
                  "Администратор баз данных"
                ],
                [
                  "25",
                  "Старший разработчик баз данных (middle)"
                ],
                [
                  "26",
                  "Администратор баз данных"
                ],
                [
                  "27",
                  "Аналитик данных"
                ],
                [
                  "28",
                  "Аналитик данных"
                ],
                [
                  "29",
                  "Senior Data engineer"
                ],
                [
                  "30",
                  "Middle Data Engineer"
                ],
                [
                  "31",
                  "Junior Data Engineer"
                ],
                [
                  "32",
                  "Разработчик витрин данных"
                ],
                [
                  "33",
                  "Middle Data Engineer"
                ],
                [
                  "34",
                  "Data Analyst в направление Data Office"
                ],
                [
                  "35",
                  "Аналитик бизнес данных"
                ],
                [
                  "36",
                  "Data Analyst"
                ],
                [
                  "37",
                  "Data Analytics (in-house)"
                ],
                [
                  "38",
                  "Менеджер по обмену данными"
                ],
                [
                  "39",
                  "Администратор базы данных 1с"
                ],
                [
                  "40",
                  "Риск-менеджер/Data Scientist"
                ],
                [
                  "41",
                  "Специалист по работе с данными (модератор данных)"
                ],
                [
                  "42",
                  "Веб аналитик данных"
                ],
                [
                  "43",
                  "Oracle developer (Database administrator, DBA)"
                ],
                [
                  "44",
                  "Cloud Data Engineer (Riga, Latvia)"
                ],
                [
                  "45",
                  "Database engineer (Oracle/MS SQL/NoSQL/MongoDB)"
                ],
                [
                  "46",
                  "Администратор баз данных"
                ],
                [
                  "47",
                  "Data Engineer/ETL Developer"
                ],
                [
                  "48",
                  "Senior Data engineer"
                ],
                [
                  "49",
                  "Data Engineer"
                ]
              ],
              "shape": {
                "columns": 1,
                "rows": 1771
              }
            },
            "text/html": [
              "<div>\n",
              "<style scoped>\n",
              "    .dataframe tbody tr th:only-of-type {\n",
              "        vertical-align: middle;\n",
              "    }\n",
              "\n",
              "    .dataframe tbody tr th {\n",
              "        vertical-align: top;\n",
              "    }\n",
              "\n",
              "    .dataframe thead th {\n",
              "        text-align: right;\n",
              "    }\n",
              "</style>\n",
              "<table border=\"1\" class=\"dataframe\">\n",
              "  <thead>\n",
              "    <tr style=\"text-align: right;\">\n",
              "      <th></th>\n",
              "      <th>name</th>\n",
              "    </tr>\n",
              "  </thead>\n",
              "  <tbody>\n",
              "    <tr>\n",
              "      <th>0</th>\n",
              "      <td>Аналитик хранилищ данных и BI-систем/Аналитик ...</td>\n",
              "    </tr>\n",
              "    <tr>\n",
              "      <th>1</th>\n",
              "      <td>Data-analysts (удаленно)</td>\n",
              "    </tr>\n",
              "    <tr>\n",
              "      <th>2</th>\n",
              "      <td>Стажер Data Engineer/Data Аналитик в команду Б...</td>\n",
              "    </tr>\n",
              "    <tr>\n",
              "      <th>3</th>\n",
              "      <td>Старший специалист хранилищ данных</td>\n",
              "    </tr>\n",
              "    <tr>\n",
              "      <th>4</th>\n",
              "      <td>Администратор баз данных и сетей</td>\n",
              "    </tr>\n",
              "    <tr>\n",
              "      <th>...</th>\n",
              "      <td>...</td>\n",
              "    </tr>\n",
              "    <tr>\n",
              "      <th>1766</th>\n",
              "      <td>Программист Delphi / разработчик баз данных</td>\n",
              "    </tr>\n",
              "    <tr>\n",
              "      <th>1767</th>\n",
              "      <td>Разработчик баз данных (Big Data)</td>\n",
              "    </tr>\n",
              "    <tr>\n",
              "      <th>1768</th>\n",
              "      <td>Аналитик данных</td>\n",
              "    </tr>\n",
              "    <tr>\n",
              "      <th>1769</th>\n",
              "      <td>Data аналитик /Аналитик BI (удаленно)</td>\n",
              "    </tr>\n",
              "    <tr>\n",
              "      <th>1770</th>\n",
              "      <td>DataOps Engineer</td>\n",
              "    </tr>\n",
              "  </tbody>\n",
              "</table>\n",
              "<p>1771 rows × 1 columns</p>\n",
              "</div>"
            ],
            "text/plain": [
              "                                                   name\n",
              "0     Аналитик хранилищ данных и BI-систем/Аналитик ...\n",
              "1                              Data-analysts (удаленно)\n",
              "2     Стажер Data Engineer/Data Аналитик в команду Б...\n",
              "3                    Старший специалист хранилищ данных\n",
              "4                      Администратор баз данных и сетей\n",
              "...                                                 ...\n",
              "1766        Программист Delphi / разработчик баз данных\n",
              "1767                  Разработчик баз данных (Big Data)\n",
              "1768                                    Аналитик данных\n",
              "1769              Data аналитик /Аналитик BI (удаленно)\n",
              "1770                                   DataOps Engineer\n",
              "\n",
              "[1771 rows x 1 columns]"
            ]
          },
          "execution_count": 670,
          "metadata": {},
          "output_type": "execute_result"
        }
      ],
      "source": [
        "query_6_1 = ''' \n",
        "select\n",
        "    name\n",
        "from\n",
        "    vacancies\n",
        "where \n",
        "    lower(name) like '%data%' \n",
        "    or \n",
        "    lower(name) like '%данн%'\n",
        "'''\n",
        "\n",
        "Data_Vac = pd.read_sql_query(query_6_1, connection)\n",
        "Data_Vac"
      ]
    },
    {
      "cell_type": "markdown",
      "id": "4dea20cb-a36b-474a-a0b9-e08e8e3857a5",
      "metadata": {
        "id": "4dea20cb-a36b-474a-a0b9-e08e8e3857a5"
      },
      "source": [
        "2. Сколько есть подходящих вакансий для начинающего дата-сайентиста? \n",
        "Будем считать вакансиями для дата-сайентистов такие, в названии которых есть хотя бы одно из следующих сочетаний:\n",
        "* 'data scientist'\n",
        "* 'data science'\n",
        "* 'исследователь данных'\n",
        "* 'ML' (здесь не нужно брать вакансии по HTML)\n",
        "* 'machine learning'\n",
        "* 'машинн%обучен%'\n",
        "\n",
        "** В следующих заданиях мы продолжим работать с вакансиями по этому условию.*\n",
        "\n",
        "Считаем вакансиями для специалистов уровня Junior следующие:\n",
        "* в названии есть слово 'junior' *или*\n",
        "* требуемый опыт — Нет опыта *или*\n",
        "* тип трудоустройства — Стажировка.\n",
        " "
      ]
    },
    {
      "cell_type": "code",
      "execution_count": 737,
      "id": "9c61b3c0-bb66-46c9-ae1e-81d3f5752b4a",
      "metadata": {
        "id": "9c61b3c0-bb66-46c9-ae1e-81d3f5752b4a"
      },
      "outputs": [
        {
          "data": {
            "application/vnd.microsoft.datawrangler.viewer.v0+json": {
              "columns": [
                {
                  "name": "index",
                  "rawType": "int64",
                  "type": "integer"
                },
                {
                  "name": "name",
                  "rawType": "object",
                  "type": "string"
                },
                {
                  "name": "experience",
                  "rawType": "object",
                  "type": "string"
                },
                {
                  "name": "employment",
                  "rawType": "object",
                  "type": "string"
                }
              ],
              "conversionMethod": "pd.DataFrame",
              "ref": "c4d124a9-75b6-48b9-b5b4-193947140335",
              "rows": [
                [
                  "0",
                  "Data Scientist (Junior+)",
                  "От 1 года до 3 лет",
                  "Полная занятость"
                ],
                [
                  "1",
                  "Junior Data Scientist (Стажер)",
                  "Нет опыта",
                  "Стажировка"
                ],
                [
                  "2",
                  "Математик, Junior/Middle/Senior Data Scientist",
                  "От 1 года до 3 лет",
                  "Частичная занятость"
                ],
                [
                  "3",
                  "Junior Data Scientist",
                  "Нет опыта",
                  "Полная занятость"
                ],
                [
                  "4",
                  "Data Scientist/Machine Learning Engineer (Developer)",
                  "Нет опыта",
                  "Частичная занятость"
                ],
                [
                  "5",
                  "Data Scientist (Junior)",
                  "Нет опыта",
                  "Частичная занятость"
                ],
                [
                  "6",
                  "Intern/Junior Data Scientist",
                  "Нет опыта",
                  "Стажировка"
                ],
                [
                  "7",
                  "Junior Data Scientist (VK)",
                  "От 1 года до 3 лет",
                  "Полная занятость"
                ],
                [
                  "8",
                  "Junior/Middle Data Scientist",
                  "От 1 года до 3 лет",
                  "Полная занятость"
                ],
                [
                  "9",
                  "Data Scientist (Computer Vision) - Junior",
                  "Нет опыта",
                  "Полная занятость"
                ],
                [
                  "10",
                  "Исследователь в области машинного обучения и математического моделирования",
                  "Нет опыта",
                  "Полная занятость"
                ],
                [
                  "11",
                  "Data Scientist, Junior",
                  "Нет опыта",
                  "Полная занятость"
                ],
                [
                  "12",
                  "Junior Data Scientist Управления модельных рисков и валидации",
                  "От 1 года до 3 лет",
                  "Полная занятость"
                ],
                [
                  "13",
                  "Математик-аналитик (data scientist / data analyst)",
                  "Нет опыта",
                  "Полная занятость"
                ],
                [
                  "14",
                  "Data Scientist (junior+/middle)",
                  "От 1 года до 3 лет",
                  "Полная занятость"
                ],
                [
                  "15",
                  "Junior Data Scientist",
                  "От 1 года до 3 лет",
                  "Полная занятость"
                ],
                [
                  "16",
                  "Research Engineer / Data Scientist",
                  "Нет опыта",
                  "Полная занятость"
                ],
                [
                  "17",
                  "Стажер направления Машинное обучение и анализ данных",
                  "Нет опыта",
                  "Стажировка"
                ],
                [
                  "18",
                  "Стажёр Data Scientist / Группа сервисов Антифрод / Антибот",
                  "Нет опыта",
                  "Стажировка"
                ],
                [
                  "19",
                  "Junior Data Scientist",
                  "От 1 года до 3 лет",
                  "Полная занятость"
                ],
                [
                  "20",
                  "Senior Research Engineer / Data Scientist",
                  "Нет опыта",
                  "Полная занятость"
                ],
                [
                  "21",
                  "Data scientist (Junior/Middle) в консалтинг",
                  "Нет опыта",
                  "Полная занятость"
                ],
                [
                  "22",
                  "Junior Data Scientist (математик-аналитик) удаленно",
                  "От 1 года до 3 лет",
                  "Полная занятость"
                ],
                [
                  "23",
                  "Junior Data Scientist (Promo Forecast)",
                  "От 1 года до 3 лет",
                  "Полная занятость"
                ],
                [
                  "24",
                  "Data Scientist/Machine Learning Engineer (Developer)",
                  "Нет опыта",
                  "Частичная занятость"
                ],
                [
                  "25",
                  "Data Scientist в Сбер",
                  "Нет опыта",
                  "Полная занятость"
                ],
                [
                  "26",
                  "Data Scientist/Machine Learning Engineer (Developer)",
                  "Нет опыта",
                  "Частичная занятость"
                ],
                [
                  "27",
                  "Junior Data Scientist (Валидация скоринговых моделей)",
                  "От 1 года до 3 лет",
                  "Полная занятость"
                ],
                [
                  "28",
                  "Junior Data Scientist (Валидация скоринговых моделей)",
                  "От 1 года до 3 лет",
                  "Полная занятость"
                ],
                [
                  "29",
                  "Junior Data Scientist (Валидация скоринговых моделей)",
                  "От 1 года до 3 лет",
                  "Полная занятость"
                ],
                [
                  "30",
                  "Junior Data Scientist (Валидация скоринговых моделей)",
                  "От 1 года до 3 лет",
                  "Полная занятость"
                ],
                [
                  "31",
                  "Junior Data Scientist (Валидация скоринговых моделей)",
                  "От 1 года до 3 лет",
                  "Полная занятость"
                ],
                [
                  "32",
                  "Junior Data Scientist (Валидация скоринговых моделей)",
                  "От 1 года до 3 лет",
                  "Полная занятость"
                ],
                [
                  "33",
                  "Junior Data Scientist (Валидация скоринговых моделей)",
                  "От 1 года до 3 лет",
                  "Полная занятость"
                ],
                [
                  "34",
                  "Junior Data Scientist (Валидация скоринговых моделей)",
                  "От 1 года до 3 лет",
                  "Полная занятость"
                ],
                [
                  "35",
                  "Junior Data Scientist (Валидация скоринговых моделей)",
                  "От 1 года до 3 лет",
                  "Полная занятость"
                ],
                [
                  "36",
                  "Риск - Аналитик (Junior Data scientist)",
                  "От 1 года до 3 лет",
                  "Полная занятость"
                ],
                [
                  "37",
                  "Программист Python/ Data Scientist (junior / middle уровень)",
                  "Нет опыта",
                  "Полная занятость"
                ],
                [
                  "38",
                  "Риск-аналитик (ML Engineer / Data Scientist)",
                  "Нет опыта",
                  "Полная занятость"
                ],
                [
                  "39",
                  "Data Scientist/ML engineer (Python/C++)",
                  "Нет опыта",
                  "Полная занятость"
                ],
                [
                  "40",
                  "Junior Data scientist/ Младший риск-аналитик",
                  "От 1 года до 3 лет",
                  "Полная занятость"
                ],
                [
                  "41",
                  "Senior Data Scientist (AI)",
                  "Нет опыта",
                  "Полная занятость"
                ],
                [
                  "42",
                  "Junior Data Scientist for NLP (Python)",
                  "Нет опыта",
                  "Полная занятость"
                ],
                [
                  "43",
                  "Junior Research Engineer / Data Scientist",
                  "От 1 года до 3 лет",
                  "Полная занятость"
                ],
                [
                  "44",
                  "Data Scientist",
                  "Нет опыта",
                  "Полная занятость"
                ],
                [
                  "45",
                  "Python developer / Junior ML engineer",
                  "Нет опыта",
                  "Полная занятость"
                ],
                [
                  "46",
                  "Data Scientist, Junior",
                  "Нет опыта",
                  "Полная занятость"
                ],
                [
                  "47",
                  "Data Scientist (Computer Vision) / Junior",
                  "Нет опыта",
                  "Полная занятость"
                ]
              ],
              "shape": {
                "columns": 3,
                "rows": 48
              }
            },
            "text/html": [
              "<div>\n",
              "<style scoped>\n",
              "    .dataframe tbody tr th:only-of-type {\n",
              "        vertical-align: middle;\n",
              "    }\n",
              "\n",
              "    .dataframe tbody tr th {\n",
              "        vertical-align: top;\n",
              "    }\n",
              "\n",
              "    .dataframe thead th {\n",
              "        text-align: right;\n",
              "    }\n",
              "</style>\n",
              "<table border=\"1\" class=\"dataframe\">\n",
              "  <thead>\n",
              "    <tr style=\"text-align: right;\">\n",
              "      <th></th>\n",
              "      <th>name</th>\n",
              "      <th>experience</th>\n",
              "      <th>employment</th>\n",
              "    </tr>\n",
              "  </thead>\n",
              "  <tbody>\n",
              "    <tr>\n",
              "      <th>0</th>\n",
              "      <td>Data Scientist (Junior+)</td>\n",
              "      <td>От 1 года до 3 лет</td>\n",
              "      <td>Полная занятость</td>\n",
              "    </tr>\n",
              "    <tr>\n",
              "      <th>1</th>\n",
              "      <td>Junior Data Scientist (Стажер)</td>\n",
              "      <td>Нет опыта</td>\n",
              "      <td>Стажировка</td>\n",
              "    </tr>\n",
              "    <tr>\n",
              "      <th>2</th>\n",
              "      <td>Математик, Junior/Middle/Senior Data Scientist</td>\n",
              "      <td>От 1 года до 3 лет</td>\n",
              "      <td>Частичная занятость</td>\n",
              "    </tr>\n",
              "    <tr>\n",
              "      <th>3</th>\n",
              "      <td>Junior Data Scientist</td>\n",
              "      <td>Нет опыта</td>\n",
              "      <td>Полная занятость</td>\n",
              "    </tr>\n",
              "    <tr>\n",
              "      <th>4</th>\n",
              "      <td>Data Scientist/Machine Learning Engineer (Deve...</td>\n",
              "      <td>Нет опыта</td>\n",
              "      <td>Частичная занятость</td>\n",
              "    </tr>\n",
              "    <tr>\n",
              "      <th>5</th>\n",
              "      <td>Data Scientist (Junior)</td>\n",
              "      <td>Нет опыта</td>\n",
              "      <td>Частичная занятость</td>\n",
              "    </tr>\n",
              "    <tr>\n",
              "      <th>6</th>\n",
              "      <td>Intern/Junior Data Scientist</td>\n",
              "      <td>Нет опыта</td>\n",
              "      <td>Стажировка</td>\n",
              "    </tr>\n",
              "    <tr>\n",
              "      <th>7</th>\n",
              "      <td>Junior Data Scientist (VK)</td>\n",
              "      <td>От 1 года до 3 лет</td>\n",
              "      <td>Полная занятость</td>\n",
              "    </tr>\n",
              "    <tr>\n",
              "      <th>8</th>\n",
              "      <td>Junior/Middle Data Scientist</td>\n",
              "      <td>От 1 года до 3 лет</td>\n",
              "      <td>Полная занятость</td>\n",
              "    </tr>\n",
              "    <tr>\n",
              "      <th>9</th>\n",
              "      <td>Data Scientist (Computer Vision) - Junior</td>\n",
              "      <td>Нет опыта</td>\n",
              "      <td>Полная занятость</td>\n",
              "    </tr>\n",
              "    <tr>\n",
              "      <th>10</th>\n",
              "      <td>Исследователь в области машинного обучения и м...</td>\n",
              "      <td>Нет опыта</td>\n",
              "      <td>Полная занятость</td>\n",
              "    </tr>\n",
              "    <tr>\n",
              "      <th>11</th>\n",
              "      <td>Data Scientist, Junior</td>\n",
              "      <td>Нет опыта</td>\n",
              "      <td>Полная занятость</td>\n",
              "    </tr>\n",
              "    <tr>\n",
              "      <th>12</th>\n",
              "      <td>Junior Data Scientist Управления модельных рис...</td>\n",
              "      <td>От 1 года до 3 лет</td>\n",
              "      <td>Полная занятость</td>\n",
              "    </tr>\n",
              "    <tr>\n",
              "      <th>13</th>\n",
              "      <td>Математик-аналитик (data scientist / data anal...</td>\n",
              "      <td>Нет опыта</td>\n",
              "      <td>Полная занятость</td>\n",
              "    </tr>\n",
              "    <tr>\n",
              "      <th>14</th>\n",
              "      <td>Data Scientist (junior+/middle)</td>\n",
              "      <td>От 1 года до 3 лет</td>\n",
              "      <td>Полная занятость</td>\n",
              "    </tr>\n",
              "    <tr>\n",
              "      <th>15</th>\n",
              "      <td>Junior Data Scientist</td>\n",
              "      <td>От 1 года до 3 лет</td>\n",
              "      <td>Полная занятость</td>\n",
              "    </tr>\n",
              "    <tr>\n",
              "      <th>16</th>\n",
              "      <td>Research Engineer / Data Scientist</td>\n",
              "      <td>Нет опыта</td>\n",
              "      <td>Полная занятость</td>\n",
              "    </tr>\n",
              "    <tr>\n",
              "      <th>17</th>\n",
              "      <td>Стажер направления Машинное обучение и анализ ...</td>\n",
              "      <td>Нет опыта</td>\n",
              "      <td>Стажировка</td>\n",
              "    </tr>\n",
              "    <tr>\n",
              "      <th>18</th>\n",
              "      <td>Стажёр Data Scientist / Группа сервисов Антифр...</td>\n",
              "      <td>Нет опыта</td>\n",
              "      <td>Стажировка</td>\n",
              "    </tr>\n",
              "    <tr>\n",
              "      <th>19</th>\n",
              "      <td>Junior Data Scientist</td>\n",
              "      <td>От 1 года до 3 лет</td>\n",
              "      <td>Полная занятость</td>\n",
              "    </tr>\n",
              "    <tr>\n",
              "      <th>20</th>\n",
              "      <td>Senior Research Engineer / Data Scientist</td>\n",
              "      <td>Нет опыта</td>\n",
              "      <td>Полная занятость</td>\n",
              "    </tr>\n",
              "    <tr>\n",
              "      <th>21</th>\n",
              "      <td>Data scientist (Junior/Middle) в консалтинг</td>\n",
              "      <td>Нет опыта</td>\n",
              "      <td>Полная занятость</td>\n",
              "    </tr>\n",
              "    <tr>\n",
              "      <th>22</th>\n",
              "      <td>Junior Data Scientist (математик-аналитик) уда...</td>\n",
              "      <td>От 1 года до 3 лет</td>\n",
              "      <td>Полная занятость</td>\n",
              "    </tr>\n",
              "    <tr>\n",
              "      <th>23</th>\n",
              "      <td>Junior Data Scientist (Promo Forecast)</td>\n",
              "      <td>От 1 года до 3 лет</td>\n",
              "      <td>Полная занятость</td>\n",
              "    </tr>\n",
              "    <tr>\n",
              "      <th>24</th>\n",
              "      <td>Data Scientist/Machine Learning Engineer (Deve...</td>\n",
              "      <td>Нет опыта</td>\n",
              "      <td>Частичная занятость</td>\n",
              "    </tr>\n",
              "    <tr>\n",
              "      <th>25</th>\n",
              "      <td>Data Scientist в Сбер</td>\n",
              "      <td>Нет опыта</td>\n",
              "      <td>Полная занятость</td>\n",
              "    </tr>\n",
              "    <tr>\n",
              "      <th>26</th>\n",
              "      <td>Data Scientist/Machine Learning Engineer (Deve...</td>\n",
              "      <td>Нет опыта</td>\n",
              "      <td>Частичная занятость</td>\n",
              "    </tr>\n",
              "    <tr>\n",
              "      <th>27</th>\n",
              "      <td>Junior Data Scientist (Валидация скоринговых м...</td>\n",
              "      <td>От 1 года до 3 лет</td>\n",
              "      <td>Полная занятость</td>\n",
              "    </tr>\n",
              "    <tr>\n",
              "      <th>28</th>\n",
              "      <td>Junior Data Scientist (Валидация скоринговых м...</td>\n",
              "      <td>От 1 года до 3 лет</td>\n",
              "      <td>Полная занятость</td>\n",
              "    </tr>\n",
              "    <tr>\n",
              "      <th>29</th>\n",
              "      <td>Junior Data Scientist (Валидация скоринговых м...</td>\n",
              "      <td>От 1 года до 3 лет</td>\n",
              "      <td>Полная занятость</td>\n",
              "    </tr>\n",
              "    <tr>\n",
              "      <th>30</th>\n",
              "      <td>Junior Data Scientist (Валидация скоринговых м...</td>\n",
              "      <td>От 1 года до 3 лет</td>\n",
              "      <td>Полная занятость</td>\n",
              "    </tr>\n",
              "    <tr>\n",
              "      <th>31</th>\n",
              "      <td>Junior Data Scientist (Валидация скоринговых м...</td>\n",
              "      <td>От 1 года до 3 лет</td>\n",
              "      <td>Полная занятость</td>\n",
              "    </tr>\n",
              "    <tr>\n",
              "      <th>32</th>\n",
              "      <td>Junior Data Scientist (Валидация скоринговых м...</td>\n",
              "      <td>От 1 года до 3 лет</td>\n",
              "      <td>Полная занятость</td>\n",
              "    </tr>\n",
              "    <tr>\n",
              "      <th>33</th>\n",
              "      <td>Junior Data Scientist (Валидация скоринговых м...</td>\n",
              "      <td>От 1 года до 3 лет</td>\n",
              "      <td>Полная занятость</td>\n",
              "    </tr>\n",
              "    <tr>\n",
              "      <th>34</th>\n",
              "      <td>Junior Data Scientist (Валидация скоринговых м...</td>\n",
              "      <td>От 1 года до 3 лет</td>\n",
              "      <td>Полная занятость</td>\n",
              "    </tr>\n",
              "    <tr>\n",
              "      <th>35</th>\n",
              "      <td>Junior Data Scientist (Валидация скоринговых м...</td>\n",
              "      <td>От 1 года до 3 лет</td>\n",
              "      <td>Полная занятость</td>\n",
              "    </tr>\n",
              "    <tr>\n",
              "      <th>36</th>\n",
              "      <td>Риск - Аналитик (Junior Data scientist)</td>\n",
              "      <td>От 1 года до 3 лет</td>\n",
              "      <td>Полная занятость</td>\n",
              "    </tr>\n",
              "    <tr>\n",
              "      <th>37</th>\n",
              "      <td>Программист Python/ Data Scientist (junior / m...</td>\n",
              "      <td>Нет опыта</td>\n",
              "      <td>Полная занятость</td>\n",
              "    </tr>\n",
              "    <tr>\n",
              "      <th>38</th>\n",
              "      <td>Риск-аналитик (ML Engineer / Data Scientist)</td>\n",
              "      <td>Нет опыта</td>\n",
              "      <td>Полная занятость</td>\n",
              "    </tr>\n",
              "    <tr>\n",
              "      <th>39</th>\n",
              "      <td>Data Scientist/ML engineer (Python/C++)</td>\n",
              "      <td>Нет опыта</td>\n",
              "      <td>Полная занятость</td>\n",
              "    </tr>\n",
              "    <tr>\n",
              "      <th>40</th>\n",
              "      <td>Junior Data scientist/ Младший риск-аналитик</td>\n",
              "      <td>От 1 года до 3 лет</td>\n",
              "      <td>Полная занятость</td>\n",
              "    </tr>\n",
              "    <tr>\n",
              "      <th>41</th>\n",
              "      <td>Senior Data Scientist (AI)</td>\n",
              "      <td>Нет опыта</td>\n",
              "      <td>Полная занятость</td>\n",
              "    </tr>\n",
              "    <tr>\n",
              "      <th>42</th>\n",
              "      <td>Junior Data Scientist for NLP (Python)</td>\n",
              "      <td>Нет опыта</td>\n",
              "      <td>Полная занятость</td>\n",
              "    </tr>\n",
              "    <tr>\n",
              "      <th>43</th>\n",
              "      <td>Junior Research Engineer / Data Scientist</td>\n",
              "      <td>От 1 года до 3 лет</td>\n",
              "      <td>Полная занятость</td>\n",
              "    </tr>\n",
              "    <tr>\n",
              "      <th>44</th>\n",
              "      <td>Data Scientist</td>\n",
              "      <td>Нет опыта</td>\n",
              "      <td>Полная занятость</td>\n",
              "    </tr>\n",
              "    <tr>\n",
              "      <th>45</th>\n",
              "      <td>Python developer / Junior ML engineer</td>\n",
              "      <td>Нет опыта</td>\n",
              "      <td>Полная занятость</td>\n",
              "    </tr>\n",
              "    <tr>\n",
              "      <th>46</th>\n",
              "      <td>Data Scientist, Junior</td>\n",
              "      <td>Нет опыта</td>\n",
              "      <td>Полная занятость</td>\n",
              "    </tr>\n",
              "    <tr>\n",
              "      <th>47</th>\n",
              "      <td>Data Scientist (Computer Vision) / Junior</td>\n",
              "      <td>Нет опыта</td>\n",
              "      <td>Полная занятость</td>\n",
              "    </tr>\n",
              "  </tbody>\n",
              "</table>\n",
              "</div>"
            ],
            "text/plain": [
              "                                                 name          experience  \\\n",
              "0                            Data Scientist (Junior+)  От 1 года до 3 лет   \n",
              "1                      Junior Data Scientist (Стажер)           Нет опыта   \n",
              "2      Математик, Junior/Middle/Senior Data Scientist  От 1 года до 3 лет   \n",
              "3                               Junior Data Scientist           Нет опыта   \n",
              "4   Data Scientist/Machine Learning Engineer (Deve...           Нет опыта   \n",
              "5                             Data Scientist (Junior)           Нет опыта   \n",
              "6                        Intern/Junior Data Scientist           Нет опыта   \n",
              "7                          Junior Data Scientist (VK)  От 1 года до 3 лет   \n",
              "8                        Junior/Middle Data Scientist  От 1 года до 3 лет   \n",
              "9           Data Scientist (Computer Vision) - Junior           Нет опыта   \n",
              "10  Исследователь в области машинного обучения и м...           Нет опыта   \n",
              "11                             Data Scientist, Junior           Нет опыта   \n",
              "12  Junior Data Scientist Управления модельных рис...  От 1 года до 3 лет   \n",
              "13  Математик-аналитик (data scientist / data anal...           Нет опыта   \n",
              "14                    Data Scientist (junior+/middle)  От 1 года до 3 лет   \n",
              "15                              Junior Data Scientist  От 1 года до 3 лет   \n",
              "16                 Research Engineer / Data Scientist           Нет опыта   \n",
              "17  Стажер направления Машинное обучение и анализ ...           Нет опыта   \n",
              "18  Стажёр Data Scientist / Группа сервисов Антифр...           Нет опыта   \n",
              "19                              Junior Data Scientist  От 1 года до 3 лет   \n",
              "20          Senior Research Engineer / Data Scientist           Нет опыта   \n",
              "21        Data scientist (Junior/Middle) в консалтинг           Нет опыта   \n",
              "22  Junior Data Scientist (математик-аналитик) уда...  От 1 года до 3 лет   \n",
              "23             Junior Data Scientist (Promo Forecast)  От 1 года до 3 лет   \n",
              "24  Data Scientist/Machine Learning Engineer (Deve...           Нет опыта   \n",
              "25                              Data Scientist в Сбер           Нет опыта   \n",
              "26  Data Scientist/Machine Learning Engineer (Deve...           Нет опыта   \n",
              "27  Junior Data Scientist (Валидация скоринговых м...  От 1 года до 3 лет   \n",
              "28  Junior Data Scientist (Валидация скоринговых м...  От 1 года до 3 лет   \n",
              "29  Junior Data Scientist (Валидация скоринговых м...  От 1 года до 3 лет   \n",
              "30  Junior Data Scientist (Валидация скоринговых м...  От 1 года до 3 лет   \n",
              "31  Junior Data Scientist (Валидация скоринговых м...  От 1 года до 3 лет   \n",
              "32  Junior Data Scientist (Валидация скоринговых м...  От 1 года до 3 лет   \n",
              "33  Junior Data Scientist (Валидация скоринговых м...  От 1 года до 3 лет   \n",
              "34  Junior Data Scientist (Валидация скоринговых м...  От 1 года до 3 лет   \n",
              "35  Junior Data Scientist (Валидация скоринговых м...  От 1 года до 3 лет   \n",
              "36            Риск - Аналитик (Junior Data scientist)  От 1 года до 3 лет   \n",
              "37  Программист Python/ Data Scientist (junior / m...           Нет опыта   \n",
              "38       Риск-аналитик (ML Engineer / Data Scientist)           Нет опыта   \n",
              "39            Data Scientist/ML engineer (Python/C++)           Нет опыта   \n",
              "40       Junior Data scientist/ Младший риск-аналитик  От 1 года до 3 лет   \n",
              "41                         Senior Data Scientist (AI)           Нет опыта   \n",
              "42             Junior Data Scientist for NLP (Python)           Нет опыта   \n",
              "43          Junior Research Engineer / Data Scientist  От 1 года до 3 лет   \n",
              "44                                     Data Scientist           Нет опыта   \n",
              "45              Python developer / Junior ML engineer           Нет опыта   \n",
              "46                             Data Scientist, Junior           Нет опыта   \n",
              "47          Data Scientist (Computer Vision) / Junior           Нет опыта   \n",
              "\n",
              "             employment  \n",
              "0      Полная занятость  \n",
              "1            Стажировка  \n",
              "2   Частичная занятость  \n",
              "3      Полная занятость  \n",
              "4   Частичная занятость  \n",
              "5   Частичная занятость  \n",
              "6            Стажировка  \n",
              "7      Полная занятость  \n",
              "8      Полная занятость  \n",
              "9      Полная занятость  \n",
              "10     Полная занятость  \n",
              "11     Полная занятость  \n",
              "12     Полная занятость  \n",
              "13     Полная занятость  \n",
              "14     Полная занятость  \n",
              "15     Полная занятость  \n",
              "16     Полная занятость  \n",
              "17           Стажировка  \n",
              "18           Стажировка  \n",
              "19     Полная занятость  \n",
              "20     Полная занятость  \n",
              "21     Полная занятость  \n",
              "22     Полная занятость  \n",
              "23     Полная занятость  \n",
              "24  Частичная занятость  \n",
              "25     Полная занятость  \n",
              "26  Частичная занятость  \n",
              "27     Полная занятость  \n",
              "28     Полная занятость  \n",
              "29     Полная занятость  \n",
              "30     Полная занятость  \n",
              "31     Полная занятость  \n",
              "32     Полная занятость  \n",
              "33     Полная занятость  \n",
              "34     Полная занятость  \n",
              "35     Полная занятость  \n",
              "36     Полная занятость  \n",
              "37     Полная занятость  \n",
              "38     Полная занятость  \n",
              "39     Полная занятость  \n",
              "40     Полная занятость  \n",
              "41     Полная занятость  \n",
              "42     Полная занятость  \n",
              "43     Полная занятость  \n",
              "44     Полная занятость  \n",
              "45     Полная занятость  \n",
              "46     Полная занятость  \n",
              "47     Полная занятость  "
            ]
          },
          "execution_count": 737,
          "metadata": {},
          "output_type": "execute_result"
        }
      ],
      "source": [
        "query_6_2 = ''' \n",
        "select\n",
        "    name,\n",
        "    experience,\n",
        "    employment\n",
        "    \n",
        "from\n",
        "    vacancies\n",
        "where \n",
        "    (lower(name) like '%data scientist%' or \n",
        "     lower(name) like '%data science%' or \n",
        "     lower(name) like '%исследователь данных%' or \n",
        "     lower(name) like '% ml %'or\n",
        "     lower(name) like '%machine learning%' or \n",
        "     lower(name) like '%машинн%обучен%')\n",
        "    and\n",
        "    (lower(name) like '%junior%' or \n",
        "     employment like 'Cтажировка' or\n",
        "     experience like 'Нет опыта')\n",
        "'''\n",
        "\n",
        "Data_Vac = pd.read_sql_query(query_6_2, connection)\n",
        "Data_Vac"
      ]
    },
    {
      "cell_type": "code",
      "execution_count": 717,
      "id": "ZNM-LLYuu1dj",
      "metadata": {
        "id": "ZNM-LLYuu1dj"
      },
      "outputs": [
        {
          "data": {
            "application/vnd.microsoft.datawrangler.viewer.v0+json": {
              "columns": [
                {
                  "name": "index",
                  "rawType": "int64",
                  "type": "integer"
                },
                {
                  "name": "name",
                  "rawType": "object",
                  "type": "string"
                },
                {
                  "name": "employment",
                  "rawType": "object",
                  "type": "string"
                },
                {
                  "name": "experience",
                  "rawType": "object",
                  "type": "string"
                }
              ],
              "conversionMethod": "pd.DataFrame",
              "ref": "955135c1-9aea-477c-aaa1-07587aec74f7",
              "rows": [
                [
                  "0",
                  "Специалист Data Science (R)",
                  "Полная занятость",
                  "От 1 года до 3 лет"
                ],
                [
                  "1",
                  "Researcher Data Science",
                  "Полная занятость",
                  "От 1 года до 3 лет"
                ],
                [
                  "2",
                  "Data Science",
                  "Полная занятость",
                  "От 1 года до 3 лет"
                ],
                [
                  "3",
                  "Python-разработчик в команду Data Science",
                  "Полная занятость",
                  "От 3 до 6 лет"
                ],
                [
                  "4",
                  "Data Science - инженер",
                  "Полная занятость",
                  "От 1 года до 3 лет"
                ],
                [
                  "5",
                  "Data Science Team Lead (to Cyprus)",
                  "Полная занятость",
                  "От 3 до 6 лет"
                ],
                [
                  "6",
                  "Специалист по Data Science",
                  "Полная занятость",
                  "От 1 года до 3 лет"
                ],
                [
                  "7",
                  "Python-разработчик в команду Data Science",
                  "Полная занятость",
                  "От 3 до 6 лет"
                ],
                [
                  "8",
                  "Data science engineer (MY.GAMES)",
                  "Полная занятость",
                  "От 1 года до 3 лет"
                ],
                [
                  "9",
                  "Data science разработчик (Товарная платформа)",
                  "Полная занятость",
                  "От 3 до 6 лет"
                ],
                [
                  "10",
                  "Tutor in Data Analysis and Data Science",
                  "Частичная занятость",
                  "От 1 года до 3 лет"
                ],
                [
                  "11",
                  "Data Engineer в команду Data Science Блока «Сеть Продаж»",
                  "Полная занятость",
                  "От 3 до 6 лет"
                ],
                [
                  "12",
                  "Data Science specialist",
                  "Полная занятость",
                  "От 3 до 6 лет"
                ],
                [
                  "13",
                  "Аналитик данных (data science)",
                  "Полная занятость",
                  "От 3 до 6 лет"
                ],
                [
                  "14",
                  "Chief Data Science (Цифровой кредитный мониторинг)",
                  "Полная занятость",
                  "От 3 до 6 лет"
                ],
                [
                  "15",
                  "Data science инженер",
                  "Полная занятость",
                  "От 1 года до 3 лет"
                ],
                [
                  "16",
                  "Data Science / Data Analyst",
                  "Полная занятость",
                  "От 1 года до 3 лет"
                ],
                [
                  "17",
                  "Team Lead Data Science /ML (RecSys)",
                  "Полная занятость",
                  "От 3 до 6 лет"
                ],
                [
                  "18",
                  "Team Lead Data Science / ML (RecSys)",
                  "Полная занятость",
                  "От 3 до 6 лет"
                ],
                [
                  "19",
                  "Старший аналитик (Data Science)",
                  "Полная занятость",
                  "От 1 года до 3 лет"
                ],
                [
                  "20",
                  "Аналитик (data science)",
                  "Полная занятость",
                  "От 1 года до 3 лет"
                ],
                [
                  "21",
                  "Менеджер проекта Data Science",
                  "Полная занятость",
                  "От 3 до 6 лет"
                ],
                [
                  "22",
                  "Team Lead / Tech Lead (CV, Data Science)",
                  "Полная занятость",
                  "От 3 до 6 лет"
                ],
                [
                  "23",
                  "Python-разработчик в команду Data Science",
                  "Полная занятость",
                  "От 3 до 6 лет"
                ],
                [
                  "24",
                  "Python-разработчик в команду Data Science",
                  "Полная занятость",
                  "От 3 до 6 лет"
                ],
                [
                  "25",
                  "Data Science",
                  "Полная занятость",
                  "От 3 до 6 лет"
                ],
                [
                  "26",
                  "Middle ML / Data Science разработчик",
                  "Полная занятость",
                  "От 1 года до 3 лет"
                ],
                [
                  "27",
                  "IT Специалист/Data Science Engineer",
                  "Полная занятость",
                  "От 1 года до 3 лет"
                ],
                [
                  "28",
                  "Data Science (Голосовой ассистент)",
                  "Полная занятость",
                  "От 1 года до 3 лет"
                ],
                [
                  "29",
                  "Наставник и преподаватель на курсы по Data Science и Дата аналитике",
                  "Частичная занятость",
                  "От 3 до 6 лет"
                ],
                [
                  "30",
                  "Data Science эксперт",
                  "Полная занятость",
                  "От 1 года до 3 лет"
                ],
                [
                  "31",
                  "Team Lead Data Science",
                  "Полная занятость",
                  "Более 6 лет"
                ],
                [
                  "32",
                  "Data Science Team Lead",
                  "Полная занятость",
                  "От 3 до 6 лет"
                ],
                [
                  "33",
                  "Руководитель направления Data Science",
                  "Полная занятость",
                  "От 3 до 6 лет"
                ],
                [
                  "34",
                  "Team Lead Data Science",
                  "Полная занятость",
                  "От 1 года до 3 лет"
                ],
                [
                  "35",
                  "Инженер-разработчик Data Science (проект Лента)",
                  "Полная занятость",
                  "От 3 до 6 лет"
                ],
                [
                  "36",
                  "Data Scientist / Аналитик Data Science",
                  "Полная занятость",
                  "От 1 года до 3 лет"
                ],
                [
                  "37",
                  "Python-разработчик в команду Data Science",
                  "Полная занятость",
                  "От 3 до 6 лет"
                ]
              ],
              "shape": {
                "columns": 3,
                "rows": 38
              }
            },
            "text/html": [
              "<div>\n",
              "<style scoped>\n",
              "    .dataframe tbody tr th:only-of-type {\n",
              "        vertical-align: middle;\n",
              "    }\n",
              "\n",
              "    .dataframe tbody tr th {\n",
              "        vertical-align: top;\n",
              "    }\n",
              "\n",
              "    .dataframe thead th {\n",
              "        text-align: right;\n",
              "    }\n",
              "</style>\n",
              "<table border=\"1\" class=\"dataframe\">\n",
              "  <thead>\n",
              "    <tr style=\"text-align: right;\">\n",
              "      <th></th>\n",
              "      <th>name</th>\n",
              "      <th>employment</th>\n",
              "      <th>experience</th>\n",
              "    </tr>\n",
              "  </thead>\n",
              "  <tbody>\n",
              "    <tr>\n",
              "      <th>0</th>\n",
              "      <td>Специалист Data Science (R)</td>\n",
              "      <td>Полная занятость</td>\n",
              "      <td>От 1 года до 3 лет</td>\n",
              "    </tr>\n",
              "    <tr>\n",
              "      <th>1</th>\n",
              "      <td>Researcher Data Science</td>\n",
              "      <td>Полная занятость</td>\n",
              "      <td>От 1 года до 3 лет</td>\n",
              "    </tr>\n",
              "    <tr>\n",
              "      <th>2</th>\n",
              "      <td>Data Science</td>\n",
              "      <td>Полная занятость</td>\n",
              "      <td>От 1 года до 3 лет</td>\n",
              "    </tr>\n",
              "    <tr>\n",
              "      <th>3</th>\n",
              "      <td>Python-разработчик в команду Data Science</td>\n",
              "      <td>Полная занятость</td>\n",
              "      <td>От 3 до 6 лет</td>\n",
              "    </tr>\n",
              "    <tr>\n",
              "      <th>4</th>\n",
              "      <td>Data Science - инженер</td>\n",
              "      <td>Полная занятость</td>\n",
              "      <td>От 1 года до 3 лет</td>\n",
              "    </tr>\n",
              "    <tr>\n",
              "      <th>5</th>\n",
              "      <td>Data Science Team Lead (to Cyprus)</td>\n",
              "      <td>Полная занятость</td>\n",
              "      <td>От 3 до 6 лет</td>\n",
              "    </tr>\n",
              "    <tr>\n",
              "      <th>6</th>\n",
              "      <td>Специалист по Data Science</td>\n",
              "      <td>Полная занятость</td>\n",
              "      <td>От 1 года до 3 лет</td>\n",
              "    </tr>\n",
              "    <tr>\n",
              "      <th>7</th>\n",
              "      <td>Python-разработчик в команду Data Science</td>\n",
              "      <td>Полная занятость</td>\n",
              "      <td>От 3 до 6 лет</td>\n",
              "    </tr>\n",
              "    <tr>\n",
              "      <th>8</th>\n",
              "      <td>Data science engineer (MY.GAMES)</td>\n",
              "      <td>Полная занятость</td>\n",
              "      <td>От 1 года до 3 лет</td>\n",
              "    </tr>\n",
              "    <tr>\n",
              "      <th>9</th>\n",
              "      <td>Data science разработчик (Товарная платформа)</td>\n",
              "      <td>Полная занятость</td>\n",
              "      <td>От 3 до 6 лет</td>\n",
              "    </tr>\n",
              "    <tr>\n",
              "      <th>10</th>\n",
              "      <td>Tutor in Data Analysis and Data Science</td>\n",
              "      <td>Частичная занятость</td>\n",
              "      <td>От 1 года до 3 лет</td>\n",
              "    </tr>\n",
              "    <tr>\n",
              "      <th>11</th>\n",
              "      <td>Data Engineer в команду Data Science Блока «Се...</td>\n",
              "      <td>Полная занятость</td>\n",
              "      <td>От 3 до 6 лет</td>\n",
              "    </tr>\n",
              "    <tr>\n",
              "      <th>12</th>\n",
              "      <td>Data Science specialist</td>\n",
              "      <td>Полная занятость</td>\n",
              "      <td>От 3 до 6 лет</td>\n",
              "    </tr>\n",
              "    <tr>\n",
              "      <th>13</th>\n",
              "      <td>Аналитик данных (data science)</td>\n",
              "      <td>Полная занятость</td>\n",
              "      <td>От 3 до 6 лет</td>\n",
              "    </tr>\n",
              "    <tr>\n",
              "      <th>14</th>\n",
              "      <td>Chief Data Science (Цифровой кредитный монитор...</td>\n",
              "      <td>Полная занятость</td>\n",
              "      <td>От 3 до 6 лет</td>\n",
              "    </tr>\n",
              "    <tr>\n",
              "      <th>15</th>\n",
              "      <td>Data science инженер</td>\n",
              "      <td>Полная занятость</td>\n",
              "      <td>От 1 года до 3 лет</td>\n",
              "    </tr>\n",
              "    <tr>\n",
              "      <th>16</th>\n",
              "      <td>Data Science / Data Analyst</td>\n",
              "      <td>Полная занятость</td>\n",
              "      <td>От 1 года до 3 лет</td>\n",
              "    </tr>\n",
              "    <tr>\n",
              "      <th>17</th>\n",
              "      <td>Team Lead Data Science /ML (RecSys)</td>\n",
              "      <td>Полная занятость</td>\n",
              "      <td>От 3 до 6 лет</td>\n",
              "    </tr>\n",
              "    <tr>\n",
              "      <th>18</th>\n",
              "      <td>Team Lead Data Science / ML (RecSys)</td>\n",
              "      <td>Полная занятость</td>\n",
              "      <td>От 3 до 6 лет</td>\n",
              "    </tr>\n",
              "    <tr>\n",
              "      <th>19</th>\n",
              "      <td>Старший аналитик (Data Science)</td>\n",
              "      <td>Полная занятость</td>\n",
              "      <td>От 1 года до 3 лет</td>\n",
              "    </tr>\n",
              "    <tr>\n",
              "      <th>20</th>\n",
              "      <td>Аналитик (data science)</td>\n",
              "      <td>Полная занятость</td>\n",
              "      <td>От 1 года до 3 лет</td>\n",
              "    </tr>\n",
              "    <tr>\n",
              "      <th>21</th>\n",
              "      <td>Менеджер проекта Data Science</td>\n",
              "      <td>Полная занятость</td>\n",
              "      <td>От 3 до 6 лет</td>\n",
              "    </tr>\n",
              "    <tr>\n",
              "      <th>22</th>\n",
              "      <td>Team Lead / Tech Lead (CV, Data Science)</td>\n",
              "      <td>Полная занятость</td>\n",
              "      <td>От 3 до 6 лет</td>\n",
              "    </tr>\n",
              "    <tr>\n",
              "      <th>23</th>\n",
              "      <td>Python-разработчик в команду Data Science</td>\n",
              "      <td>Полная занятость</td>\n",
              "      <td>От 3 до 6 лет</td>\n",
              "    </tr>\n",
              "    <tr>\n",
              "      <th>24</th>\n",
              "      <td>Python-разработчик в команду Data Science</td>\n",
              "      <td>Полная занятость</td>\n",
              "      <td>От 3 до 6 лет</td>\n",
              "    </tr>\n",
              "    <tr>\n",
              "      <th>25</th>\n",
              "      <td>Data Science</td>\n",
              "      <td>Полная занятость</td>\n",
              "      <td>От 3 до 6 лет</td>\n",
              "    </tr>\n",
              "    <tr>\n",
              "      <th>26</th>\n",
              "      <td>Middle ML / Data Science разработчик</td>\n",
              "      <td>Полная занятость</td>\n",
              "      <td>От 1 года до 3 лет</td>\n",
              "    </tr>\n",
              "    <tr>\n",
              "      <th>27</th>\n",
              "      <td>IT Специалист/Data Science Engineer</td>\n",
              "      <td>Полная занятость</td>\n",
              "      <td>От 1 года до 3 лет</td>\n",
              "    </tr>\n",
              "    <tr>\n",
              "      <th>28</th>\n",
              "      <td>Data Science (Голосовой ассистент)</td>\n",
              "      <td>Полная занятость</td>\n",
              "      <td>От 1 года до 3 лет</td>\n",
              "    </tr>\n",
              "    <tr>\n",
              "      <th>29</th>\n",
              "      <td>Наставник и преподаватель на курсы по Data Sci...</td>\n",
              "      <td>Частичная занятость</td>\n",
              "      <td>От 3 до 6 лет</td>\n",
              "    </tr>\n",
              "    <tr>\n",
              "      <th>30</th>\n",
              "      <td>Data Science эксперт</td>\n",
              "      <td>Полная занятость</td>\n",
              "      <td>От 1 года до 3 лет</td>\n",
              "    </tr>\n",
              "    <tr>\n",
              "      <th>31</th>\n",
              "      <td>Team Lead Data Science</td>\n",
              "      <td>Полная занятость</td>\n",
              "      <td>Более 6 лет</td>\n",
              "    </tr>\n",
              "    <tr>\n",
              "      <th>32</th>\n",
              "      <td>Data Science Team Lead</td>\n",
              "      <td>Полная занятость</td>\n",
              "      <td>От 3 до 6 лет</td>\n",
              "    </tr>\n",
              "    <tr>\n",
              "      <th>33</th>\n",
              "      <td>Руководитель направления Data Science</td>\n",
              "      <td>Полная занятость</td>\n",
              "      <td>От 3 до 6 лет</td>\n",
              "    </tr>\n",
              "    <tr>\n",
              "      <th>34</th>\n",
              "      <td>Team Lead Data Science</td>\n",
              "      <td>Полная занятость</td>\n",
              "      <td>От 1 года до 3 лет</td>\n",
              "    </tr>\n",
              "    <tr>\n",
              "      <th>35</th>\n",
              "      <td>Инженер-разработчик Data Science (проект Лента)</td>\n",
              "      <td>Полная занятость</td>\n",
              "      <td>От 3 до 6 лет</td>\n",
              "    </tr>\n",
              "    <tr>\n",
              "      <th>36</th>\n",
              "      <td>Data Scientist / Аналитик Data Science</td>\n",
              "      <td>Полная занятость</td>\n",
              "      <td>От 1 года до 3 лет</td>\n",
              "    </tr>\n",
              "    <tr>\n",
              "      <th>37</th>\n",
              "      <td>Python-разработчик в команду Data Science</td>\n",
              "      <td>Полная занятость</td>\n",
              "      <td>От 3 до 6 лет</td>\n",
              "    </tr>\n",
              "  </tbody>\n",
              "</table>\n",
              "</div>"
            ],
            "text/plain": [
              "                                                 name           employment  \\\n",
              "0                         Специалист Data Science (R)     Полная занятость   \n",
              "1                             Researcher Data Science     Полная занятость   \n",
              "2                                        Data Science     Полная занятость   \n",
              "3           Python-разработчик в команду Data Science     Полная занятость   \n",
              "4                              Data Science - инженер     Полная занятость   \n",
              "5                  Data Science Team Lead (to Cyprus)     Полная занятость   \n",
              "6                          Специалист по Data Science     Полная занятость   \n",
              "7           Python-разработчик в команду Data Science     Полная занятость   \n",
              "8                    Data science engineer (MY.GAMES)     Полная занятость   \n",
              "9       Data science разработчик (Товарная платформа)     Полная занятость   \n",
              "10            Tutor in Data Analysis and Data Science  Частичная занятость   \n",
              "11  Data Engineer в команду Data Science Блока «Се...     Полная занятость   \n",
              "12                            Data Science specialist     Полная занятость   \n",
              "13                     Аналитик данных (data science)     Полная занятость   \n",
              "14  Chief Data Science (Цифровой кредитный монитор...     Полная занятость   \n",
              "15                               Data science инженер     Полная занятость   \n",
              "16                        Data Science / Data Analyst     Полная занятость   \n",
              "17                Team Lead Data Science /ML (RecSys)     Полная занятость   \n",
              "18               Team Lead Data Science / ML (RecSys)     Полная занятость   \n",
              "19                    Старший аналитик (Data Science)     Полная занятость   \n",
              "20                            Аналитик (data science)     Полная занятость   \n",
              "21                      Менеджер проекта Data Science     Полная занятость   \n",
              "22           Team Lead / Tech Lead (CV, Data Science)     Полная занятость   \n",
              "23          Python-разработчик в команду Data Science     Полная занятость   \n",
              "24          Python-разработчик в команду Data Science     Полная занятость   \n",
              "25                                       Data Science     Полная занятость   \n",
              "26               Middle ML / Data Science разработчик     Полная занятость   \n",
              "27                IT Специалист/Data Science Engineer     Полная занятость   \n",
              "28                 Data Science (Голосовой ассистент)     Полная занятость   \n",
              "29  Наставник и преподаватель на курсы по Data Sci...  Частичная занятость   \n",
              "30                               Data Science эксперт     Полная занятость   \n",
              "31                             Team Lead Data Science     Полная занятость   \n",
              "32                             Data Science Team Lead     Полная занятость   \n",
              "33              Руководитель направления Data Science     Полная занятость   \n",
              "34                             Team Lead Data Science     Полная занятость   \n",
              "35    Инженер-разработчик Data Science (проект Лента)     Полная занятость   \n",
              "36             Data Scientist / Аналитик Data Science     Полная занятость   \n",
              "37          Python-разработчик в команду Data Science     Полная занятость   \n",
              "\n",
              "            experience  \n",
              "0   От 1 года до 3 лет  \n",
              "1   От 1 года до 3 лет  \n",
              "2   От 1 года до 3 лет  \n",
              "3        От 3 до 6 лет  \n",
              "4   От 1 года до 3 лет  \n",
              "5        От 3 до 6 лет  \n",
              "6   От 1 года до 3 лет  \n",
              "7        От 3 до 6 лет  \n",
              "8   От 1 года до 3 лет  \n",
              "9        От 3 до 6 лет  \n",
              "10  От 1 года до 3 лет  \n",
              "11       От 3 до 6 лет  \n",
              "12       От 3 до 6 лет  \n",
              "13       От 3 до 6 лет  \n",
              "14       От 3 до 6 лет  \n",
              "15  От 1 года до 3 лет  \n",
              "16  От 1 года до 3 лет  \n",
              "17       От 3 до 6 лет  \n",
              "18       От 3 до 6 лет  \n",
              "19  От 1 года до 3 лет  \n",
              "20  От 1 года до 3 лет  \n",
              "21       От 3 до 6 лет  \n",
              "22       От 3 до 6 лет  \n",
              "23       От 3 до 6 лет  \n",
              "24       От 3 до 6 лет  \n",
              "25       От 3 до 6 лет  \n",
              "26  От 1 года до 3 лет  \n",
              "27  От 1 года до 3 лет  \n",
              "28  От 1 года до 3 лет  \n",
              "29       От 3 до 6 лет  \n",
              "30  От 1 года до 3 лет  \n",
              "31         Более 6 лет  \n",
              "32       От 3 до 6 лет  \n",
              "33       От 3 до 6 лет  \n",
              "34  От 1 года до 3 лет  \n",
              "35       От 3 до 6 лет  \n",
              "36  От 1 года до 3 лет  \n",
              "37       От 3 до 6 лет  "
            ]
          },
          "execution_count": 717,
          "metadata": {},
          "output_type": "execute_result"
        }
      ],
      "source": [
        "query_6_2 = ''' \n",
        "select\n",
        "    name,\n",
        "    employment,\n",
        "    experience\n",
        "from\n",
        "    vacancies\n",
        "where lower(name) like '%data science%' \n",
        "    \n",
        "'''\n",
        "\n",
        "Data_Vac = pd.read_sql_query(query_6_2, connection)\n",
        "Data_Vac"
      ]
    },
    {
      "cell_type": "markdown",
      "id": "eedceb80-c5ca-480e-b27a-278dfb8b4438",
      "metadata": {
        "id": "eedceb80-c5ca-480e-b27a-278dfb8b4438"
      },
      "source": [
        "3. Сколько есть вакансий для DS, в которых в качестве ключевого навыка указан SQL или postgres?\n",
        "\n",
        "** Критерии для отнесения вакансии к DS указаны в предыдущем задании.*"
      ]
    },
    {
      "cell_type": "code",
      "execution_count": 617,
      "id": "69621713-0cc5-4f1b-a1d7-bb144fa6148c",
      "metadata": {
        "id": "69621713-0cc5-4f1b-a1d7-bb144fa6148c"
      },
      "outputs": [],
      "source": [
        "# текст запроса"
      ]
    },
    {
      "cell_type": "code",
      "execution_count": 618,
      "id": "alA8WEAAvGdf",
      "metadata": {
        "id": "alA8WEAAvGdf"
      },
      "outputs": [],
      "source": [
        "# результат запроса"
      ]
    },
    {
      "cell_type": "markdown",
      "id": "1be1e9c6-37cf-4a5f-bfeb-04cab799dc80",
      "metadata": {
        "id": "1be1e9c6-37cf-4a5f-bfeb-04cab799dc80"
      },
      "source": [
        "4. Проверьте, насколько популярен Python в требованиях работодателей к DS.Для этого вычислите количество вакансий, в которых в качестве ключевого навыка указан Python.\n",
        "\n",
        "** Это можно сделать помощью запроса, аналогичного предыдущему.*"
      ]
    },
    {
      "cell_type": "code",
      "execution_count": 619,
      "id": "0036a355-9ccf-4564-8b01-73d8194297e7",
      "metadata": {
        "id": "0036a355-9ccf-4564-8b01-73d8194297e7"
      },
      "outputs": [],
      "source": [
        "# текст запроса"
      ]
    },
    {
      "cell_type": "code",
      "execution_count": 620,
      "id": "1i-5WyucvQ6v",
      "metadata": {
        "id": "1i-5WyucvQ6v"
      },
      "outputs": [],
      "source": [
        "# результат запроса"
      ]
    },
    {
      "cell_type": "markdown",
      "id": "ec3c8db7-fa21-4a41-a994-1af63742a642",
      "metadata": {
        "id": "ec3c8db7-fa21-4a41-a994-1af63742a642"
      },
      "source": [
        "5. Сколько ключевых навыков в среднем указывают в вакансиях для DS?\n",
        "Ответ округлите до двух знаков после точки-разделителя."
      ]
    },
    {
      "cell_type": "code",
      "execution_count": 621,
      "id": "949132bc-d5b6-4611-8218-0b9a504d74f4",
      "metadata": {
        "id": "949132bc-d5b6-4611-8218-0b9a504d74f4"
      },
      "outputs": [],
      "source": [
        "# текст запроса"
      ]
    },
    {
      "cell_type": "code",
      "execution_count": 622,
      "id": "a3V24Tvmviqk",
      "metadata": {
        "id": "a3V24Tvmviqk"
      },
      "outputs": [],
      "source": [
        "# результат запроса"
      ]
    },
    {
      "cell_type": "markdown",
      "id": "1041c17a-ca8f-4543-a0ca-32778914fb00",
      "metadata": {
        "id": "1041c17a-ca8f-4543-a0ca-32778914fb00"
      },
      "source": [
        "6. Напишите запрос, позволяющий вычислить, какую зарплату для DS в **среднем** указывают для каждого типа требуемого опыта (уникальное значение из поля *experience*). \n",
        "\n",
        "При решении задачи примите во внимание следующее:\n",
        "1. Рассматриваем только вакансии, у которых заполнено хотя бы одно из двух полей с зарплатой.\n",
        "2. Если заполнены оба поля с зарплатой, то считаем зарплату по каждой вакансии как сумму двух полей, делённую на 2. Если заполнено только одно из полей, то его и считаем зарплатой по вакансии.\n",
        "3. Если в расчётах участвует null, в результате он тоже даст null (посмотрите, что возвращает запрос select 1 + null). Чтобы избежать этой ситуацию, мы воспользуемся функцией [coalesce](https://postgrespro.ru/docs/postgresql/9.5/functions-conditional#functions-coalesce-nvl-ifnull), которая заменит null на значение, которое мы передадим. Например, посмотрите, что возвращает запрос `select 1 + coalesce(null, 0)`\n",
        "\n",
        "Выясните, на какую зарплату в среднем может рассчитывать дата-сайентист с опытом работы от 3 до 6 лет. Результат округлите до целого числа. "
      ]
    },
    {
      "cell_type": "code",
      "execution_count": 623,
      "id": "6a743d39-5204-48d3-8271-b9f88e68d40e",
      "metadata": {
        "id": "6a743d39-5204-48d3-8271-b9f88e68d40e"
      },
      "outputs": [],
      "source": [
        "# текст запроса"
      ]
    },
    {
      "cell_type": "code",
      "execution_count": 624,
      "id": "aRIJ0mZEwU1_",
      "metadata": {
        "id": "aRIJ0mZEwU1_"
      },
      "outputs": [],
      "source": [
        "# результат запроса"
      ]
    },
    {
      "cell_type": "markdown",
      "id": "6a7892b4-4113-4746-adce-18aa2844f18e",
      "metadata": {
        "id": "6a7892b4-4113-4746-adce-18aa2844f18e"
      },
      "source": [
        "***"
      ]
    },
    {
      "cell_type": "code",
      "execution_count": 625,
      "id": "UjLWUptVwY1o",
      "metadata": {
        "id": "UjLWUptVwY1o"
      },
      "outputs": [],
      "source": [
        "# выводы по предметному анализу"
      ]
    },
    {
      "cell_type": "markdown",
      "id": "c0ED6fh7wiBT",
      "metadata": {
        "id": "c0ED6fh7wiBT"
      },
      "source": [
        "# Общий вывод по проекту"
      ]
    },
    {
      "cell_type": "code",
      "execution_count": 626,
      "id": "h9B3BL-wwj18",
      "metadata": {
        "id": "h9B3BL-wwj18"
      },
      "outputs": [],
      "source": [
        "# подведем итог исследования, обобщите выводы\n",
        "# здесь можно (это будет плюсом) провести дополнительные исследования данных, сделать прогнозы, продумать варианты продолжения исследования"
      ]
    }
  ],
  "metadata": {
    "colab": {
      "collapsed_sections": [
        "8d62a9f3-f64e-4fe7-bdac-c4dffa16155e"
      ],
      "provenance": []
    },
    "kernelspec": {
      "display_name": "Python 3",
      "language": "python",
      "name": "python3"
    },
    "language_info": {
      "codemirror_mode": {
        "name": "ipython",
        "version": 3
      },
      "file_extension": ".py",
      "mimetype": "text/x-python",
      "name": "python",
      "nbconvert_exporter": "python",
      "pygments_lexer": "ipython3",
      "version": "3.9.10"
    }
  },
  "nbformat": 4,
  "nbformat_minor": 5
}
