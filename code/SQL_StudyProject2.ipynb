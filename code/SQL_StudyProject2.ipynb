{
  "cells": [
    {
      "cell_type": "markdown",
      "id": "42289889-bd57-434e-9637-d3e354756316",
      "metadata": {
        "id": "42289889-bd57-434e-9637-d3e354756316"
      },
      "source": [
        "<center> <img src = https://raw.githubusercontent.com/AndreyRysistov/DatasetsForPandas/main/hh%20label.jpg alt=\"drawing\" style=\"width:400px;\">"
      ]
    },
    {
      "cell_type": "markdown",
      "id": "829cb75b-f14e-4ba8-9195-7ba929a7d656",
      "metadata": {
        "id": "829cb75b-f14e-4ba8-9195-7ba929a7d656",
        "tags": []
      },
      "source": [
        "# <center> Проект: Анализ вакансий из HeadHunter\n",
        "   "
      ]
    },
    {
      "cell_type": "code",
      "execution_count": 657,
      "id": "dccfde33-2452-43fb-a8a5-5c6ebc02a71d",
      "metadata": {
        "id": "dccfde33-2452-43fb-a8a5-5c6ebc02a71d"
      },
      "outputs": [
        {
          "name": "stdout",
          "output_type": "stream",
          "text": [
            "c:/Users/Yaroslav/Desktop/Python_repos/SQL__StudyPrject2\n"
          ]
        }
      ],
      "source": [
        "# Устанавливаем библиотеки BeautifulSoup и lxml\n",
        "\n",
        "#!pip install beautifulsoup4 \n",
        "#!pip install lxml\n",
        "\n",
        "\n",
        "\n",
        "import pandas as pd\n",
        "import psycopg2\n",
        "import warnings\n",
        "import requests\n",
        "import plotly.express as px\n",
        "import os\n",
        "from bs4 import BeautifulSoup\n",
        "\n",
        "warnings.filterwarnings('ignore')\n",
        "\n",
        "path = os.path.dirname(os.getcwd())\n",
        "path = path.replace('\\\\', '/')\n",
        "print(path)\n"
      ]
    },
    {
      "cell_type": "code",
      "execution_count": 658,
      "id": "oVKH4ehvf8Ay",
      "metadata": {
        "id": "oVKH4ehvf8Ay"
      },
      "outputs": [],
      "source": [
        "DBNAME = 'project_sql'\n",
        "USER = 'skillfactory'\n",
        "PASSWORD = 'cCkxxLVrDE8EbvjueeMedPKt'\n",
        "HOST = '84.201.134.129'\n",
        "PORT = 5432"
      ]
    },
    {
      "cell_type": "code",
      "execution_count": 659,
      "id": "G4X_q8KBf7SF",
      "metadata": {
        "id": "G4X_q8KBf7SF"
      },
      "outputs": [],
      "source": [
        "connection = psycopg2.connect(\n",
        "   dbname=DBNAME,\n",
        "   user=USER,\n",
        "   host=HOST,\n",
        "   password=PASSWORD,\n",
        "   port=PORT\n",
        ")"
      ]
    },
    {
      "cell_type": "markdown",
      "id": "0dc6476b-7a00-44f1-ac93-6e3baed33a29",
      "metadata": {
        "id": "0dc6476b-7a00-44f1-ac93-6e3baed33a29"
      },
      "source": [
        "# Юнит 3. Предварительный анализ данных"
      ]
    },
    {
      "cell_type": "markdown",
      "id": "889782b6-8d1c-410e-8920-e57f27917c64",
      "metadata": {
        "id": "889782b6-8d1c-410e-8920-e57f27917c64"
      },
      "source": [
        "1. Напишите запрос, который посчитает количество вакансий в нашей базе (вакансии находятся в таблице vacancies). "
      ]
    },
    {
      "cell_type": "code",
      "execution_count": 660,
      "id": "bc39e68e-ed02-4ee2-9235-7258a2f867a8",
      "metadata": {
        "id": "bc39e68e-ed02-4ee2-9235-7258a2f867a8"
      },
      "outputs": [],
      "source": [
        "# текст запроса\n",
        "query_3_1 = f''' \n",
        "-- из таблицы с вакансиями выводим кол-во строк\n",
        "select\n",
        "    count(*) as N_row \n",
        "from\n",
        "    vacancies\n",
        "\n",
        "'''"
      ]
    },
    {
      "cell_type": "code",
      "execution_count": 661,
      "id": "7mAwtsk4hEHY",
      "metadata": {
        "id": "7mAwtsk4hEHY"
      },
      "outputs": [
        {
          "data": {
            "application/vnd.microsoft.datawrangler.viewer.v0+json": {
              "columns": [
                {
                  "name": "index",
                  "rawType": "int64",
                  "type": "integer"
                },
                {
                  "name": "n_row",
                  "rawType": "int64",
                  "type": "integer"
                }
              ],
              "conversionMethod": "pd.DataFrame",
              "ref": "b9557c43-3976-4153-a1ea-69a72a82c25e",
              "rows": [
                [
                  "0",
                  "49197"
                ]
              ],
              "shape": {
                "columns": 1,
                "rows": 1
              }
            },
            "text/html": [
              "<div>\n",
              "<style scoped>\n",
              "    .dataframe tbody tr th:only-of-type {\n",
              "        vertical-align: middle;\n",
              "    }\n",
              "\n",
              "    .dataframe tbody tr th {\n",
              "        vertical-align: top;\n",
              "    }\n",
              "\n",
              "    .dataframe thead th {\n",
              "        text-align: right;\n",
              "    }\n",
              "</style>\n",
              "<table border=\"1\" class=\"dataframe\">\n",
              "  <thead>\n",
              "    <tr style=\"text-align: right;\">\n",
              "      <th></th>\n",
              "      <th>n_row</th>\n",
              "    </tr>\n",
              "  </thead>\n",
              "  <tbody>\n",
              "    <tr>\n",
              "      <th>0</th>\n",
              "      <td>49197</td>\n",
              "    </tr>\n",
              "  </tbody>\n",
              "</table>\n",
              "</div>"
            ],
            "text/plain": [
              "   n_row\n",
              "0  49197"
            ]
          },
          "execution_count": 661,
          "metadata": {},
          "output_type": "execute_result"
        }
      ],
      "source": [
        "vacancies_df = pd.read_sql_query(query_3_1, connection)\n",
        "vacancies_df"
      ]
    },
    {
      "cell_type": "markdown",
      "id": "b583485d-1f9e-494e-ada4-80ffff7c53d6",
      "metadata": {
        "id": "b583485d-1f9e-494e-ada4-80ffff7c53d6"
      },
      "source": [
        "2. Напишите запрос, который посчитает количество работодателей (таблица employers). "
      ]
    },
    {
      "cell_type": "code",
      "execution_count": 662,
      "id": "5408c52c-3407-4a63-b25b-1aafa2322d28",
      "metadata": {
        "id": "5408c52c-3407-4a63-b25b-1aafa2322d28"
      },
      "outputs": [],
      "source": [
        "query_3_2 = '''\n",
        "-- из таблицы с работодателями выводим кол-во уникальных названий \n",
        "select\n",
        "    count(distinct name) as N_employers\n",
        "    \n",
        "from\n",
        "    employers\n",
        "'''"
      ]
    },
    {
      "cell_type": "code",
      "execution_count": 663,
      "id": "jVL4eshKhdqc",
      "metadata": {
        "id": "jVL4eshKhdqc"
      },
      "outputs": [
        {
          "data": {
            "application/vnd.microsoft.datawrangler.viewer.v0+json": {
              "columns": [
                {
                  "name": "index",
                  "rawType": "int64",
                  "type": "integer"
                },
                {
                  "name": "n_employers",
                  "rawType": "int64",
                  "type": "integer"
                }
              ],
              "conversionMethod": "pd.DataFrame",
              "ref": "9ae587ca-d14b-4aec-908d-3fadf7294dc3",
              "rows": [
                [
                  "0",
                  "23175"
                ]
              ],
              "shape": {
                "columns": 1,
                "rows": 1
              }
            },
            "text/html": [
              "<div>\n",
              "<style scoped>\n",
              "    .dataframe tbody tr th:only-of-type {\n",
              "        vertical-align: middle;\n",
              "    }\n",
              "\n",
              "    .dataframe tbody tr th {\n",
              "        vertical-align: top;\n",
              "    }\n",
              "\n",
              "    .dataframe thead th {\n",
              "        text-align: right;\n",
              "    }\n",
              "</style>\n",
              "<table border=\"1\" class=\"dataframe\">\n",
              "  <thead>\n",
              "    <tr style=\"text-align: right;\">\n",
              "      <th></th>\n",
              "      <th>n_employers</th>\n",
              "    </tr>\n",
              "  </thead>\n",
              "  <tbody>\n",
              "    <tr>\n",
              "      <th>0</th>\n",
              "      <td>23175</td>\n",
              "    </tr>\n",
              "  </tbody>\n",
              "</table>\n",
              "</div>"
            ],
            "text/plain": [
              "   n_employers\n",
              "0        23175"
            ]
          },
          "execution_count": 663,
          "metadata": {},
          "output_type": "execute_result"
        }
      ],
      "source": [
        "employers_df = pd.read_sql_query(query_3_2, connection)\n",
        "employers_df"
      ]
    },
    {
      "cell_type": "markdown",
      "id": "a2bfff1f-c975-4bf6-84be-2185d79dcb76",
      "metadata": {
        "id": "a2bfff1f-c975-4bf6-84be-2185d79dcb76"
      },
      "source": [
        "3. Посчитате с помощью запроса количество регионов (таблица areas)."
      ]
    },
    {
      "cell_type": "code",
      "execution_count": 664,
      "id": "1m8QJwBYhey6",
      "metadata": {
        "id": "1m8QJwBYhey6"
      },
      "outputs": [],
      "source": [
        "query_3_3 = ''' \n",
        "-- из таблицы с регионами выводим кол-во уникальных названий \n",
        "select\n",
        "    count(distinct name) as N_areas\n",
        "    \n",
        "from\n",
        "    areas   \n",
        "'''"
      ]
    },
    {
      "cell_type": "code",
      "execution_count": 665,
      "id": "EZsn9tlfhe7f",
      "metadata": {
        "id": "EZsn9tlfhe7f"
      },
      "outputs": [
        {
          "data": {
            "application/vnd.microsoft.datawrangler.viewer.v0+json": {
              "columns": [
                {
                  "name": "index",
                  "rawType": "int64",
                  "type": "integer"
                },
                {
                  "name": "n_areas",
                  "rawType": "int64",
                  "type": "integer"
                }
              ],
              "conversionMethod": "pd.DataFrame",
              "ref": "af5ad699-96ab-403b-affd-5f292c0d53ae",
              "rows": [
                [
                  "0",
                  "1362"
                ]
              ],
              "shape": {
                "columns": 1,
                "rows": 1
              }
            },
            "text/html": [
              "<div>\n",
              "<style scoped>\n",
              "    .dataframe tbody tr th:only-of-type {\n",
              "        vertical-align: middle;\n",
              "    }\n",
              "\n",
              "    .dataframe tbody tr th {\n",
              "        vertical-align: top;\n",
              "    }\n",
              "\n",
              "    .dataframe thead th {\n",
              "        text-align: right;\n",
              "    }\n",
              "</style>\n",
              "<table border=\"1\" class=\"dataframe\">\n",
              "  <thead>\n",
              "    <tr style=\"text-align: right;\">\n",
              "      <th></th>\n",
              "      <th>n_areas</th>\n",
              "    </tr>\n",
              "  </thead>\n",
              "  <tbody>\n",
              "    <tr>\n",
              "      <th>0</th>\n",
              "      <td>1362</td>\n",
              "    </tr>\n",
              "  </tbody>\n",
              "</table>\n",
              "</div>"
            ],
            "text/plain": [
              "   n_areas\n",
              "0     1362"
            ]
          },
          "execution_count": 665,
          "metadata": {},
          "output_type": "execute_result"
        }
      ],
      "source": [
        "areas_df = pd.read_sql_query(query_3_3, connection)\n",
        "areas_df"
      ]
    },
    {
      "cell_type": "markdown",
      "id": "41bb59f3-53cc-4a67-a5bc-bedf573955e4",
      "metadata": {
        "id": "41bb59f3-53cc-4a67-a5bc-bedf573955e4"
      },
      "source": [
        "4. Посчитате с помощью запроса количество сфер деятельности в базе (таблица industries)."
      ]
    },
    {
      "cell_type": "code",
      "execution_count": 666,
      "id": "d286cf4c-707b-4cd2-9190-7ab3587d04a1",
      "metadata": {
        "id": "d286cf4c-707b-4cd2-9190-7ab3587d04a1"
      },
      "outputs": [],
      "source": [
        "query_3_4 =''' \n",
        "-- из таблицы со сферами деятельности выводим количество уникальных названий\n",
        "select\n",
        "    count(distinct name) as N_areas\n",
        "    \n",
        "from\n",
        "    industries       \n",
        "    \n",
        "'''"
      ]
    },
    {
      "cell_type": "code",
      "execution_count": 667,
      "id": "JYAaoZ4qhfzW",
      "metadata": {
        "id": "JYAaoZ4qhfzW"
      },
      "outputs": [
        {
          "data": {
            "application/vnd.microsoft.datawrangler.viewer.v0+json": {
              "columns": [
                {
                  "name": "index",
                  "rawType": "int64",
                  "type": "integer"
                },
                {
                  "name": "n_areas",
                  "rawType": "int64",
                  "type": "integer"
                }
              ],
              "conversionMethod": "pd.DataFrame",
              "ref": "e2f17b42-ae9d-423c-8538-9373157999da",
              "rows": [
                [
                  "0",
                  "294"
                ]
              ],
              "shape": {
                "columns": 1,
                "rows": 1
              }
            },
            "text/html": [
              "<div>\n",
              "<style scoped>\n",
              "    .dataframe tbody tr th:only-of-type {\n",
              "        vertical-align: middle;\n",
              "    }\n",
              "\n",
              "    .dataframe tbody tr th {\n",
              "        vertical-align: top;\n",
              "    }\n",
              "\n",
              "    .dataframe thead th {\n",
              "        text-align: right;\n",
              "    }\n",
              "</style>\n",
              "<table border=\"1\" class=\"dataframe\">\n",
              "  <thead>\n",
              "    <tr style=\"text-align: right;\">\n",
              "      <th></th>\n",
              "      <th>n_areas</th>\n",
              "    </tr>\n",
              "  </thead>\n",
              "  <tbody>\n",
              "    <tr>\n",
              "      <th>0</th>\n",
              "      <td>294</td>\n",
              "    </tr>\n",
              "  </tbody>\n",
              "</table>\n",
              "</div>"
            ],
            "text/plain": [
              "   n_areas\n",
              "0      294"
            ]
          },
          "execution_count": 667,
          "metadata": {},
          "output_type": "execute_result"
        }
      ],
      "source": [
        "idustries_df = pd.read_sql_query(query_3_4, connection)\n",
        "idustries_df"
      ]
    },
    {
      "cell_type": "markdown",
      "id": "9a8a2181-6914-448b-85f1-38f5f18b8a93",
      "metadata": {
        "id": "9a8a2181-6914-448b-85f1-38f5f18b8a93"
      },
      "source": [
        "***"
      ]
    },
    {
      "cell_type": "markdown",
      "id": "58e8d5c3",
      "metadata": {},
      "source": [
        "1. В таблице vacancies, которая отражает общее количество вакансий, 49197 строк. <br>\n",
        "Кличество уникальных названий вакансий составило 21223\n",
        "2. В таблице employers, которая отражает общее количество работодателей, 23501 строка. <br>\n",
        "Кличество уникальных названий работадателя составило 23175\n",
        "3. В таблице areas, которая отражает общее количество регионов, 1362 строки. <br>\n",
        "Все названия (names) уникальны.\n",
        "\n",
        "4. В таблице industries которая отражает количество сфер деятельности, 294 строки <br>\n",
        "Все названия (names) уникальны.\n"
      ]
    },
    {
      "cell_type": "markdown",
      "id": "8d62a9f3-f64e-4fe7-bdac-c4dffa16155e",
      "metadata": {
        "id": "8d62a9f3-f64e-4fe7-bdac-c4dffa16155e"
      },
      "source": [
        "# Юнит 4. Детальный анализ вакансий"
      ]
    },
    {
      "cell_type": "markdown",
      "id": "93053d3d-b284-481a-9cf7-012d7014c0e0",
      "metadata": {
        "id": "93053d3d-b284-481a-9cf7-012d7014c0e0"
      },
      "source": [
        "1. Напишите запрос, который позволит узнать, сколько (cnt) вакансий в каждом регионе (area).\n",
        "Отсортируйте по количеству вакансий в порядке убывания."
      ]
    },
    {
      "cell_type": "code",
      "execution_count": 668,
      "id": "3f069da6-fdc9-4ae7-b514-fafe2675efd3",
      "metadata": {
        "id": "3f069da6-fdc9-4ae7-b514-fafe2675efd3"
      },
      "outputs": [],
      "source": [
        "query_4_1 = ''' \n",
        "\n",
        "-- к таблице с вакансиями присоединяем таблицу с городами по area_id\n",
        "-- выводим название городов и посчитываем кол-во строк\n",
        "select\n",
        "    a.name,\n",
        "    count(*) N_vacs\n",
        "    \n",
        "from\n",
        "    vacancies v\n",
        "    join areas a\n",
        "    on v.area_id = a.id\n",
        "\n",
        "-- группируем по названию городов\n",
        "group by a.name\n",
        "\n",
        "-- сортируем по кол-ву строк в нисходящем порядке \n",
        "order by count(*) desc\n",
        "\n",
        "-- выводим только первые 10 элементов\n",
        "limit 10\n",
        "\n",
        "'''"
      ]
    },
    {
      "cell_type": "code",
      "execution_count": 669,
      "id": "P7QL86hrjhRJ",
      "metadata": {
        "id": "P7QL86hrjhRJ"
      },
      "outputs": [
        {
          "data": {
            "application/vnd.microsoft.datawrangler.viewer.v0+json": {
              "columns": [
                {
                  "name": "index",
                  "rawType": "int64",
                  "type": "integer"
                },
                {
                  "name": "name",
                  "rawType": "object",
                  "type": "string"
                },
                {
                  "name": "n_vacs",
                  "rawType": "int64",
                  "type": "integer"
                }
              ],
              "conversionMethod": "pd.DataFrame",
              "ref": "dc45e77e-5892-450c-9274-60247f007df3",
              "rows": [
                [
                  "0",
                  "Москва",
                  "5333"
                ],
                [
                  "1",
                  "Санкт-Петербург",
                  "2851"
                ],
                [
                  "2",
                  "Минск",
                  "2112"
                ],
                [
                  "3",
                  "Новосибирск",
                  "2006"
                ],
                [
                  "4",
                  "Алматы",
                  "1892"
                ],
                [
                  "5",
                  "Екатеринбург",
                  "1698"
                ],
                [
                  "6",
                  "Нижний Новгород",
                  "1670"
                ],
                [
                  "7",
                  "Казань",
                  "1415"
                ],
                [
                  "8",
                  "Краснодар",
                  "1301"
                ],
                [
                  "9",
                  "Самара",
                  "1144"
                ]
              ],
              "shape": {
                "columns": 2,
                "rows": 10
              }
            },
            "text/html": [
              "<div>\n",
              "<style scoped>\n",
              "    .dataframe tbody tr th:only-of-type {\n",
              "        vertical-align: middle;\n",
              "    }\n",
              "\n",
              "    .dataframe tbody tr th {\n",
              "        vertical-align: top;\n",
              "    }\n",
              "\n",
              "    .dataframe thead th {\n",
              "        text-align: right;\n",
              "    }\n",
              "</style>\n",
              "<table border=\"1\" class=\"dataframe\">\n",
              "  <thead>\n",
              "    <tr style=\"text-align: right;\">\n",
              "      <th></th>\n",
              "      <th>name</th>\n",
              "      <th>n_vacs</th>\n",
              "    </tr>\n",
              "  </thead>\n",
              "  <tbody>\n",
              "    <tr>\n",
              "      <th>0</th>\n",
              "      <td>Москва</td>\n",
              "      <td>5333</td>\n",
              "    </tr>\n",
              "    <tr>\n",
              "      <th>1</th>\n",
              "      <td>Санкт-Петербург</td>\n",
              "      <td>2851</td>\n",
              "    </tr>\n",
              "    <tr>\n",
              "      <th>2</th>\n",
              "      <td>Минск</td>\n",
              "      <td>2112</td>\n",
              "    </tr>\n",
              "    <tr>\n",
              "      <th>3</th>\n",
              "      <td>Новосибирск</td>\n",
              "      <td>2006</td>\n",
              "    </tr>\n",
              "    <tr>\n",
              "      <th>4</th>\n",
              "      <td>Алматы</td>\n",
              "      <td>1892</td>\n",
              "    </tr>\n",
              "    <tr>\n",
              "      <th>5</th>\n",
              "      <td>Екатеринбург</td>\n",
              "      <td>1698</td>\n",
              "    </tr>\n",
              "    <tr>\n",
              "      <th>6</th>\n",
              "      <td>Нижний Новгород</td>\n",
              "      <td>1670</td>\n",
              "    </tr>\n",
              "    <tr>\n",
              "      <th>7</th>\n",
              "      <td>Казань</td>\n",
              "      <td>1415</td>\n",
              "    </tr>\n",
              "    <tr>\n",
              "      <th>8</th>\n",
              "      <td>Краснодар</td>\n",
              "      <td>1301</td>\n",
              "    </tr>\n",
              "    <tr>\n",
              "      <th>9</th>\n",
              "      <td>Самара</td>\n",
              "      <td>1144</td>\n",
              "    </tr>\n",
              "  </tbody>\n",
              "</table>\n",
              "</div>"
            ],
            "text/plain": [
              "              name  n_vacs\n",
              "0           Москва    5333\n",
              "1  Санкт-Петербург    2851\n",
              "2            Минск    2112\n",
              "3      Новосибирск    2006\n",
              "4           Алматы    1892\n",
              "5     Екатеринбург    1698\n",
              "6  Нижний Новгород    1670\n",
              "7           Казань    1415\n",
              "8        Краснодар    1301\n",
              "9           Самара    1144"
            ]
          },
          "execution_count": 669,
          "metadata": {},
          "output_type": "execute_result"
        }
      ],
      "source": [
        "VacAreaJoin = pd.read_sql_query(query_4_1, connection)\n",
        "VacAreaJoin"
      ]
    },
    {
      "cell_type": "markdown",
      "id": "4266f0b6-1646-492a-88b4-2f6a46502135",
      "metadata": {
        "id": "4266f0b6-1646-492a-88b4-2f6a46502135"
      },
      "source": [
        "2. Напишите запрос, чтобы определить у какого количества вакансий заполнено хотя бы одно из двух полей с зарплатой."
      ]
    },
    {
      "cell_type": "code",
      "execution_count": 670,
      "id": "0c44b350-72eb-4d65-8b54-a1fc449ba9fd",
      "metadata": {
        "id": "0c44b350-72eb-4d65-8b54-a1fc449ba9fd"
      },
      "outputs": [],
      "source": [
        "query_4_2 = ''' \n",
        "-- посчитываем кол-во строк из таблицы с вакансиями\n",
        "select\n",
        "    count(*) as N_slry_non_null\n",
        "    \n",
        "from \n",
        "    vacancies\n",
        "    \n",
        "-- выбираем только те строки, где хотя бы одно из полей с ЗП заполнено   \n",
        "where \n",
        "    (salary_from is not null) or (salary_to is not null)\n",
        "    \n",
        "'''\n"
      ]
    },
    {
      "cell_type": "code",
      "execution_count": 671,
      "id": "rhvwaMDkoWTi",
      "metadata": {
        "id": "rhvwaMDkoWTi"
      },
      "outputs": [
        {
          "data": {
            "application/vnd.microsoft.datawrangler.viewer.v0+json": {
              "columns": [
                {
                  "name": "index",
                  "rawType": "int64",
                  "type": "integer"
                },
                {
                  "name": "n_slry_non_null",
                  "rawType": "int64",
                  "type": "integer"
                }
              ],
              "conversionMethod": "pd.DataFrame",
              "ref": "62efaf12-2957-4daf-bcac-eb51227de05a",
              "rows": [
                [
                  "0",
                  "24073"
                ]
              ],
              "shape": {
                "columns": 1,
                "rows": 1
              }
            },
            "text/html": [
              "<div>\n",
              "<style scoped>\n",
              "    .dataframe tbody tr th:only-of-type {\n",
              "        vertical-align: middle;\n",
              "    }\n",
              "\n",
              "    .dataframe tbody tr th {\n",
              "        vertical-align: top;\n",
              "    }\n",
              "\n",
              "    .dataframe thead th {\n",
              "        text-align: right;\n",
              "    }\n",
              "</style>\n",
              "<table border=\"1\" class=\"dataframe\">\n",
              "  <thead>\n",
              "    <tr style=\"text-align: right;\">\n",
              "      <th></th>\n",
              "      <th>n_slry_non_null</th>\n",
              "    </tr>\n",
              "  </thead>\n",
              "  <tbody>\n",
              "    <tr>\n",
              "      <th>0</th>\n",
              "      <td>24073</td>\n",
              "    </tr>\n",
              "  </tbody>\n",
              "</table>\n",
              "</div>"
            ],
            "text/plain": [
              "   n_slry_non_null\n",
              "0            24073"
            ]
          },
          "execution_count": 671,
          "metadata": {},
          "output_type": "execute_result"
        }
      ],
      "source": [
        "slry_not_null = pd.read_sql_query(query_4_2, connection)\n",
        "slry_not_null"
      ]
    },
    {
      "cell_type": "markdown",
      "id": "635c4d5d-f323-4c66-b428-50a088120aa0",
      "metadata": {
        "id": "635c4d5d-f323-4c66-b428-50a088120aa0"
      },
      "source": [
        "3. Найдите средние значения для нижней и верхней границы зарплатной вилки. Округлите значения до целого."
      ]
    },
    {
      "cell_type": "code",
      "execution_count": 672,
      "id": "603cdbe4-0ec3-4106-8eaf-c73fcdd29165",
      "metadata": {
        "id": "603cdbe4-0ec3-4106-8eaf-c73fcdd29165"
      },
      "outputs": [],
      "source": [
        "query_4_3 = ''' \n",
        "-- выводим среднюю ЗП от и среднюю ЗП до из таблицы с вакансиями\n",
        "select\n",
        "    round(avg(salary_from)) as avg_slry_from,\n",
        "    round(avg(salary_to)) as avg_slry_to\n",
        "    \n",
        "from \n",
        "    vacancies\n",
        "\n",
        "'''"
      ]
    },
    {
      "cell_type": "code",
      "execution_count": 673,
      "id": "pswpAb66ovZZ",
      "metadata": {
        "id": "pswpAb66ovZZ"
      },
      "outputs": [
        {
          "data": {
            "application/vnd.microsoft.datawrangler.viewer.v0+json": {
              "columns": [
                {
                  "name": "index",
                  "rawType": "int64",
                  "type": "integer"
                },
                {
                  "name": "avg_slry_from",
                  "rawType": "float64",
                  "type": "float"
                },
                {
                  "name": "avg_slry_to",
                  "rawType": "float64",
                  "type": "float"
                }
              ],
              "conversionMethod": "pd.DataFrame",
              "ref": "c0781a07-734c-4fce-b812-affb4ea2d07d",
              "rows": [
                [
                  "0",
                  "71065.0",
                  "110537.0"
                ]
              ],
              "shape": {
                "columns": 2,
                "rows": 1
              }
            },
            "text/html": [
              "<div>\n",
              "<style scoped>\n",
              "    .dataframe tbody tr th:only-of-type {\n",
              "        vertical-align: middle;\n",
              "    }\n",
              "\n",
              "    .dataframe tbody tr th {\n",
              "        vertical-align: top;\n",
              "    }\n",
              "\n",
              "    .dataframe thead th {\n",
              "        text-align: right;\n",
              "    }\n",
              "</style>\n",
              "<table border=\"1\" class=\"dataframe\">\n",
              "  <thead>\n",
              "    <tr style=\"text-align: right;\">\n",
              "      <th></th>\n",
              "      <th>avg_slry_from</th>\n",
              "      <th>avg_slry_to</th>\n",
              "    </tr>\n",
              "  </thead>\n",
              "  <tbody>\n",
              "    <tr>\n",
              "      <th>0</th>\n",
              "      <td>71065.0</td>\n",
              "      <td>110537.0</td>\n",
              "    </tr>\n",
              "  </tbody>\n",
              "</table>\n",
              "</div>"
            ],
            "text/plain": [
              "   avg_slry_from  avg_slry_to\n",
              "0        71065.0     110537.0"
            ]
          },
          "execution_count": 673,
          "metadata": {},
          "output_type": "execute_result"
        }
      ],
      "source": [
        "avg_slry = pd.read_sql_query(query_4_3, connection)\n",
        "avg_slry"
      ]
    },
    {
      "cell_type": "markdown",
      "id": "f3fdaec9-5fd3-4260-9cf5-1d7406b628a5",
      "metadata": {
        "id": "f3fdaec9-5fd3-4260-9cf5-1d7406b628a5"
      },
      "source": [
        "4. Напишите запрос, который выведет количество вакансий для каждого сочетания типа рабочего графика (schedule) и типа трудоустройства (employment), используемого в вакансиях. <br> Результат отсортируйте по убыванию количества.\n"
      ]
    },
    {
      "cell_type": "code",
      "execution_count": 674,
      "id": "1ea710ec-871b-431e-9462-c7d0fd87011b",
      "metadata": {
        "id": "1ea710ec-871b-431e-9462-c7d0fd87011b"
      },
      "outputs": [],
      "source": [
        "query_4_4 = ''' \n",
        "-- из таблицы с вакансиями выводим режим работы и занятость \n",
        "-- подсчитываем кол-во строк \n",
        "select\n",
        "    schedule,\n",
        "    employment,\n",
        "    count(*) N_vac\n",
        "    \n",
        "from\n",
        "    vacancies\n",
        "\n",
        "-- группируем данные по режиму работы и занятости \n",
        "group by \n",
        "    schedule, employment\n",
        "\n",
        "-- сортируем по количеству вакансий в убывающем порядке\n",
        "order by count(*) desc\n",
        "'''"
      ]
    },
    {
      "cell_type": "code",
      "execution_count": 675,
      "id": "lGUVqavdo4JQ",
      "metadata": {
        "id": "lGUVqavdo4JQ"
      },
      "outputs": [
        {
          "data": {
            "application/vnd.microsoft.datawrangler.viewer.v0+json": {
              "columns": [
                {
                  "name": "index",
                  "rawType": "int64",
                  "type": "integer"
                },
                {
                  "name": "schedule",
                  "rawType": "object",
                  "type": "string"
                },
                {
                  "name": "employment",
                  "rawType": "object",
                  "type": "string"
                },
                {
                  "name": "n_vac",
                  "rawType": "int64",
                  "type": "integer"
                }
              ],
              "conversionMethod": "pd.DataFrame",
              "ref": "bbce5c0e-3609-4b69-9ced-67c74035e98e",
              "rows": [
                [
                  "0",
                  "Полный день",
                  "Полная занятость",
                  "35367"
                ],
                [
                  "1",
                  "Удаленная работа",
                  "Полная занятость",
                  "7802"
                ],
                [
                  "2",
                  "Гибкий график",
                  "Полная занятость",
                  "1593"
                ],
                [
                  "3",
                  "Удаленная работа",
                  "Частичная занятость",
                  "1312"
                ],
                [
                  "4",
                  "Сменный график",
                  "Полная занятость",
                  "940"
                ],
                [
                  "5",
                  "Полный день",
                  "Стажировка",
                  "569"
                ],
                [
                  "6",
                  "Вахтовый метод",
                  "Полная занятость",
                  "367"
                ],
                [
                  "7",
                  "Полный день",
                  "Частичная занятость",
                  "347"
                ],
                [
                  "8",
                  "Гибкий график",
                  "Частичная занятость",
                  "312"
                ],
                [
                  "9",
                  "Полный день",
                  "Проектная работа",
                  "141"
                ],
                [
                  "10",
                  "Удаленная работа",
                  "Проектная работа",
                  "133"
                ],
                [
                  "11",
                  "Гибкий график",
                  "Стажировка",
                  "116"
                ],
                [
                  "12",
                  "Сменный график",
                  "Частичная занятость",
                  "101"
                ],
                [
                  "13",
                  "Удаленная работа",
                  "Стажировка",
                  "64"
                ],
                [
                  "14",
                  "Гибкий график",
                  "Проектная работа",
                  "18"
                ],
                [
                  "15",
                  "Сменный график",
                  "Стажировка",
                  "12"
                ],
                [
                  "16",
                  "Вахтовый метод",
                  "Проектная работа",
                  "2"
                ],
                [
                  "17",
                  "Сменный график",
                  "Проектная работа",
                  "1"
                ]
              ],
              "shape": {
                "columns": 3,
                "rows": 18
              }
            },
            "text/html": [
              "<div>\n",
              "<style scoped>\n",
              "    .dataframe tbody tr th:only-of-type {\n",
              "        vertical-align: middle;\n",
              "    }\n",
              "\n",
              "    .dataframe tbody tr th {\n",
              "        vertical-align: top;\n",
              "    }\n",
              "\n",
              "    .dataframe thead th {\n",
              "        text-align: right;\n",
              "    }\n",
              "</style>\n",
              "<table border=\"1\" class=\"dataframe\">\n",
              "  <thead>\n",
              "    <tr style=\"text-align: right;\">\n",
              "      <th></th>\n",
              "      <th>schedule</th>\n",
              "      <th>employment</th>\n",
              "      <th>n_vac</th>\n",
              "    </tr>\n",
              "  </thead>\n",
              "  <tbody>\n",
              "    <tr>\n",
              "      <th>0</th>\n",
              "      <td>Полный день</td>\n",
              "      <td>Полная занятость</td>\n",
              "      <td>35367</td>\n",
              "    </tr>\n",
              "    <tr>\n",
              "      <th>1</th>\n",
              "      <td>Удаленная работа</td>\n",
              "      <td>Полная занятость</td>\n",
              "      <td>7802</td>\n",
              "    </tr>\n",
              "    <tr>\n",
              "      <th>2</th>\n",
              "      <td>Гибкий график</td>\n",
              "      <td>Полная занятость</td>\n",
              "      <td>1593</td>\n",
              "    </tr>\n",
              "    <tr>\n",
              "      <th>3</th>\n",
              "      <td>Удаленная работа</td>\n",
              "      <td>Частичная занятость</td>\n",
              "      <td>1312</td>\n",
              "    </tr>\n",
              "    <tr>\n",
              "      <th>4</th>\n",
              "      <td>Сменный график</td>\n",
              "      <td>Полная занятость</td>\n",
              "      <td>940</td>\n",
              "    </tr>\n",
              "    <tr>\n",
              "      <th>5</th>\n",
              "      <td>Полный день</td>\n",
              "      <td>Стажировка</td>\n",
              "      <td>569</td>\n",
              "    </tr>\n",
              "    <tr>\n",
              "      <th>6</th>\n",
              "      <td>Вахтовый метод</td>\n",
              "      <td>Полная занятость</td>\n",
              "      <td>367</td>\n",
              "    </tr>\n",
              "    <tr>\n",
              "      <th>7</th>\n",
              "      <td>Полный день</td>\n",
              "      <td>Частичная занятость</td>\n",
              "      <td>347</td>\n",
              "    </tr>\n",
              "    <tr>\n",
              "      <th>8</th>\n",
              "      <td>Гибкий график</td>\n",
              "      <td>Частичная занятость</td>\n",
              "      <td>312</td>\n",
              "    </tr>\n",
              "    <tr>\n",
              "      <th>9</th>\n",
              "      <td>Полный день</td>\n",
              "      <td>Проектная работа</td>\n",
              "      <td>141</td>\n",
              "    </tr>\n",
              "    <tr>\n",
              "      <th>10</th>\n",
              "      <td>Удаленная работа</td>\n",
              "      <td>Проектная работа</td>\n",
              "      <td>133</td>\n",
              "    </tr>\n",
              "    <tr>\n",
              "      <th>11</th>\n",
              "      <td>Гибкий график</td>\n",
              "      <td>Стажировка</td>\n",
              "      <td>116</td>\n",
              "    </tr>\n",
              "    <tr>\n",
              "      <th>12</th>\n",
              "      <td>Сменный график</td>\n",
              "      <td>Частичная занятость</td>\n",
              "      <td>101</td>\n",
              "    </tr>\n",
              "    <tr>\n",
              "      <th>13</th>\n",
              "      <td>Удаленная работа</td>\n",
              "      <td>Стажировка</td>\n",
              "      <td>64</td>\n",
              "    </tr>\n",
              "    <tr>\n",
              "      <th>14</th>\n",
              "      <td>Гибкий график</td>\n",
              "      <td>Проектная работа</td>\n",
              "      <td>18</td>\n",
              "    </tr>\n",
              "    <tr>\n",
              "      <th>15</th>\n",
              "      <td>Сменный график</td>\n",
              "      <td>Стажировка</td>\n",
              "      <td>12</td>\n",
              "    </tr>\n",
              "    <tr>\n",
              "      <th>16</th>\n",
              "      <td>Вахтовый метод</td>\n",
              "      <td>Проектная работа</td>\n",
              "      <td>2</td>\n",
              "    </tr>\n",
              "    <tr>\n",
              "      <th>17</th>\n",
              "      <td>Сменный график</td>\n",
              "      <td>Проектная работа</td>\n",
              "      <td>1</td>\n",
              "    </tr>\n",
              "  </tbody>\n",
              "</table>\n",
              "</div>"
            ],
            "text/plain": [
              "            schedule           employment  n_vac\n",
              "0        Полный день     Полная занятость  35367\n",
              "1   Удаленная работа     Полная занятость   7802\n",
              "2      Гибкий график     Полная занятость   1593\n",
              "3   Удаленная работа  Частичная занятость   1312\n",
              "4     Сменный график     Полная занятость    940\n",
              "5        Полный день           Стажировка    569\n",
              "6     Вахтовый метод     Полная занятость    367\n",
              "7        Полный день  Частичная занятость    347\n",
              "8      Гибкий график  Частичная занятость    312\n",
              "9        Полный день     Проектная работа    141\n",
              "10  Удаленная работа     Проектная работа    133\n",
              "11     Гибкий график           Стажировка    116\n",
              "12    Сменный график  Частичная занятость    101\n",
              "13  Удаленная работа           Стажировка     64\n",
              "14     Гибкий график     Проектная работа     18\n",
              "15    Сменный график           Стажировка     12\n",
              "16    Вахтовый метод     Проектная работа      2\n",
              "17    Сменный график     Проектная работа      1"
            ]
          },
          "execution_count": 675,
          "metadata": {},
          "output_type": "execute_result"
        }
      ],
      "source": [
        "sch_empl_count = pd.read_sql_query(query_4_4, connection)\n",
        "sch_empl_count"
      ]
    },
    {
      "cell_type": "markdown",
      "id": "0136ffee-0ead-4a6b-b608-61d1c753a438",
      "metadata": {
        "id": "0136ffee-0ead-4a6b-b608-61d1c753a438"
      },
      "source": [
        "5. Напишите запрос, выводящий значения поля Требуемый опыт работы (experience) в порядке возрастания количества вакансий, в которых указан данный вариант опыта. "
      ]
    },
    {
      "cell_type": "code",
      "execution_count": 676,
      "id": "5b3a8e79-f7ab-4008-b767-12aea3a205ea",
      "metadata": {
        "id": "5b3a8e79-f7ab-4008-b767-12aea3a205ea"
      },
      "outputs": [],
      "source": [
        "query_4_5 = ''' \n",
        "-- выводим опыт работы и подсчитваем кол-во строк из таблицы с вакансиями \n",
        "select\n",
        "    experience,\n",
        "    count(*) as N_vac\n",
        "    \n",
        "from\n",
        "    vacancies\n",
        "\n",
        "-- группируем по опыту работы    \n",
        "group by experience\n",
        "\n",
        "-- сортируем по кол-ву вакансий в восходящем порядке\n",
        "order by count(*) asc\n",
        "\n",
        "'''"
      ]
    },
    {
      "cell_type": "code",
      "execution_count": 677,
      "id": "3Is64Y-hpDpq",
      "metadata": {
        "id": "3Is64Y-hpDpq"
      },
      "outputs": [
        {
          "data": {
            "application/vnd.microsoft.datawrangler.viewer.v0+json": {
              "columns": [
                {
                  "name": "index",
                  "rawType": "int64",
                  "type": "integer"
                },
                {
                  "name": "experience",
                  "rawType": "object",
                  "type": "string"
                },
                {
                  "name": "n_vac",
                  "rawType": "int64",
                  "type": "integer"
                }
              ],
              "conversionMethod": "pd.DataFrame",
              "ref": "ce946a41-7d1f-47a7-b820-62513f08b14c",
              "rows": [
                [
                  "0",
                  "Более 6 лет",
                  "1337"
                ],
                [
                  "1",
                  "Нет опыта",
                  "7197"
                ],
                [
                  "2",
                  "От 3 до 6 лет",
                  "14511"
                ],
                [
                  "3",
                  "От 1 года до 3 лет",
                  "26152"
                ]
              ],
              "shape": {
                "columns": 2,
                "rows": 4
              }
            },
            "text/html": [
              "<div>\n",
              "<style scoped>\n",
              "    .dataframe tbody tr th:only-of-type {\n",
              "        vertical-align: middle;\n",
              "    }\n",
              "\n",
              "    .dataframe tbody tr th {\n",
              "        vertical-align: top;\n",
              "    }\n",
              "\n",
              "    .dataframe thead th {\n",
              "        text-align: right;\n",
              "    }\n",
              "</style>\n",
              "<table border=\"1\" class=\"dataframe\">\n",
              "  <thead>\n",
              "    <tr style=\"text-align: right;\">\n",
              "      <th></th>\n",
              "      <th>experience</th>\n",
              "      <th>n_vac</th>\n",
              "    </tr>\n",
              "  </thead>\n",
              "  <tbody>\n",
              "    <tr>\n",
              "      <th>0</th>\n",
              "      <td>Более 6 лет</td>\n",
              "      <td>1337</td>\n",
              "    </tr>\n",
              "    <tr>\n",
              "      <th>1</th>\n",
              "      <td>Нет опыта</td>\n",
              "      <td>7197</td>\n",
              "    </tr>\n",
              "    <tr>\n",
              "      <th>2</th>\n",
              "      <td>От 3 до 6 лет</td>\n",
              "      <td>14511</td>\n",
              "    </tr>\n",
              "    <tr>\n",
              "      <th>3</th>\n",
              "      <td>От 1 года до 3 лет</td>\n",
              "      <td>26152</td>\n",
              "    </tr>\n",
              "  </tbody>\n",
              "</table>\n",
              "</div>"
            ],
            "text/plain": [
              "           experience  n_vac\n",
              "0         Более 6 лет   1337\n",
              "1           Нет опыта   7197\n",
              "2       От 3 до 6 лет  14511\n",
              "3  От 1 года до 3 лет  26152"
            ]
          },
          "execution_count": 677,
          "metadata": {},
          "output_type": "execute_result"
        }
      ],
      "source": [
        "count_by_exp = pd.read_sql_query(query_4_5, connection)\n",
        "count_by_exp"
      ]
    },
    {
      "cell_type": "markdown",
      "id": "oq2b7n1QpIka",
      "metadata": {
        "id": "oq2b7n1QpIka"
      },
      "source": [
        "***"
      ]
    },
    {
      "cell_type": "markdown",
      "id": "bdee117f",
      "metadata": {},
      "source": [
        "1. Наибольшее количество вакансий представлено в Москве и Санкт-Петербурге. Также, в топе столицы сосдних государств и города-миллионники.\n",
        "\n",
        "2. Только у 24073 соискателей из 49197 (чуть менее половины) указана хотя бы одна граница зарплатной вилки\n",
        "\n",
        "3. В среднем, нижняя граница зарплатной вилки составила 71к рублей, верхней - 110к рублей\n",
        "\n",
        "4. Соискатели, преимущественно, предпочитают полную занятость и полный день (~35к). На втором месте удаленная работа и полная занятость (~8к).<br>\n",
        "На все остальные сочетания графика работы и занятости приходится ~6к\n",
        "5. Подавляющее бльшинство соискателей (~26к) имеет опыть работы до 3-х лет. От 3-х до 6-ти лет у ~14к соискателей. <br>\n",
        "~7к соискателей не имеют опыта работы. Опыт работы более 6 лет имеют всего 1337 соискателей."
      ]
    },
    {
      "cell_type": "markdown",
      "id": "1a437dd3",
      "metadata": {},
      "source": [
        "ЗАМЕНИТЬ СОИСКАТЕЛЕЙ НА ВАКАНСИИ\n"
      ]
    },
    {
      "cell_type": "markdown",
      "id": "7ea20ab6-04a7-40a0-adec-443a0e5a42c3",
      "metadata": {
        "id": "7ea20ab6-04a7-40a0-adec-443a0e5a42c3"
      },
      "source": [
        "# Юнит 5. Анализ работодателей"
      ]
    },
    {
      "cell_type": "markdown",
      "id": "968aed80-74ef-4ffb-b5bf-c65b84e9caea",
      "metadata": {
        "id": "968aed80-74ef-4ffb-b5bf-c65b84e9caea"
      },
      "source": [
        "1. Напишите запрос, который позволит узнать, какие работодатели находятся на первом и пятом месте по количеству вакансий."
      ]
    },
    {
      "cell_type": "code",
      "execution_count": 678,
      "id": "f2d62796-d400-4ec1-a675-88112739a50e",
      "metadata": {
        "id": "f2d62796-d400-4ec1-a675-88112739a50e"
      },
      "outputs": [],
      "source": [
        "query_5_1 = ''' \n",
        "\n",
        "-- к таблице с вакансиями присоединяем работодателей по employer_id\n",
        "-- подсчитываем количество строк\n",
        "select\n",
        "    e.name,\n",
        "    count(*) N_vacs\n",
        "    \n",
        "from\n",
        "    vacancies v\n",
        "    join employers e\n",
        "    on v.employer_id = e.id\n",
        "\n",
        "-- группируем по названиям работодателей\n",
        "group by\n",
        "    e.name  \n",
        "\n",
        "-- сортируем по количеству строк в убывающем порядке\n",
        "order by count(*) desc\n",
        "\n",
        "'''"
      ]
    },
    {
      "cell_type": "code",
      "execution_count": 679,
      "id": "64tOMkAxqkQk",
      "metadata": {
        "id": "64tOMkAxqkQk"
      },
      "outputs": [
        {
          "data": {
            "application/vnd.microsoft.datawrangler.viewer.v0+json": {
              "columns": [
                {
                  "name": "index",
                  "rawType": "int64",
                  "type": "integer"
                },
                {
                  "name": "name",
                  "rawType": "object",
                  "type": "string"
                },
                {
                  "name": "n_vacs",
                  "rawType": "int64",
                  "type": "integer"
                }
              ],
              "conversionMethod": "pd.DataFrame",
              "ref": "6b6e198e-b185-421c-a1b3-66abf558c137",
              "rows": [
                [
                  "0",
                  "Яндекс",
                  "1933"
                ],
                [
                  "1",
                  "Ростелеком",
                  "491"
                ],
                [
                  "2",
                  "Тинькофф",
                  "444"
                ],
                [
                  "3",
                  "СБЕР",
                  "428"
                ],
                [
                  "4",
                  "Газпром нефть",
                  "331"
                ]
              ],
              "shape": {
                "columns": 2,
                "rows": 5
              }
            },
            "text/html": [
              "<div>\n",
              "<style scoped>\n",
              "    .dataframe tbody tr th:only-of-type {\n",
              "        vertical-align: middle;\n",
              "    }\n",
              "\n",
              "    .dataframe tbody tr th {\n",
              "        vertical-align: top;\n",
              "    }\n",
              "\n",
              "    .dataframe thead th {\n",
              "        text-align: right;\n",
              "    }\n",
              "</style>\n",
              "<table border=\"1\" class=\"dataframe\">\n",
              "  <thead>\n",
              "    <tr style=\"text-align: right;\">\n",
              "      <th></th>\n",
              "      <th>name</th>\n",
              "      <th>n_vacs</th>\n",
              "    </tr>\n",
              "  </thead>\n",
              "  <tbody>\n",
              "    <tr>\n",
              "      <th>0</th>\n",
              "      <td>Яндекс</td>\n",
              "      <td>1933</td>\n",
              "    </tr>\n",
              "    <tr>\n",
              "      <th>1</th>\n",
              "      <td>Ростелеком</td>\n",
              "      <td>491</td>\n",
              "    </tr>\n",
              "    <tr>\n",
              "      <th>2</th>\n",
              "      <td>Тинькофф</td>\n",
              "      <td>444</td>\n",
              "    </tr>\n",
              "    <tr>\n",
              "      <th>3</th>\n",
              "      <td>СБЕР</td>\n",
              "      <td>428</td>\n",
              "    </tr>\n",
              "    <tr>\n",
              "      <th>4</th>\n",
              "      <td>Газпром нефть</td>\n",
              "      <td>331</td>\n",
              "    </tr>\n",
              "  </tbody>\n",
              "</table>\n",
              "</div>"
            ],
            "text/plain": [
              "            name  n_vacs\n",
              "0         Яндекс    1933\n",
              "1     Ростелеком     491\n",
              "2       Тинькофф     444\n",
              "3           СБЕР     428\n",
              "4  Газпром нефть     331"
            ]
          },
          "execution_count": 679,
          "metadata": {},
          "output_type": "execute_result"
        }
      ],
      "source": [
        "# запрос записываем в переменную и выводим первые 5 строк\n",
        "vac_count_by_empl = pd.read_sql_query(query_5_1, connection)\n",
        "vac_count_by_empl.head(5)"
      ]
    },
    {
      "cell_type": "markdown",
      "id": "68377cfc-b378-43dc-ab7d-1195abf2c515",
      "metadata": {
        "id": "68377cfc-b378-43dc-ab7d-1195abf2c515"
      },
      "source": [
        "2. Напишите запрос, который для каждого региона выведет количество работодателей и вакансий в нём. <br>\n",
        "Среди регионов, в которых нет вакансий, найдите тот, в котором наибольшее количество работодателей.\n"
      ]
    },
    {
      "cell_type": "code",
      "execution_count": 680,
      "id": "f7cfde97",
      "metadata": {},
      "outputs": [],
      "source": [
        "query_5_2 =''' \n",
        "\n",
        "-- к таблице с городами присоединяем вакансии, а также таблицу с работодателями\n",
        "-- выводим названия городов и посчитываем количество работодателей\n",
        "select\n",
        "    a.name,\n",
        "    count(e.name) N_employers\n",
        "   \n",
        "from\n",
        "    areas a\n",
        "    left join vacancies v \n",
        "    on v.area_id = a.id\n",
        "    \n",
        "    join employers e \n",
        "    on a.id = e.area\n",
        "\n",
        "-- выбираем те вакансии, у которых отсутсвует id\n",
        "where \n",
        "    v.id is null\n",
        "\n",
        "-- группируем по названию города \n",
        "group by \n",
        "    a.name\n",
        "\n",
        "-- сортируем по количеству работодателей в убывающем порядке\n",
        "order by \n",
        "    count(e.name) desc\n",
        "    \n",
        "'''"
      ]
    },
    {
      "cell_type": "code",
      "execution_count": 681,
      "id": "x1ikWbydrbf6",
      "metadata": {
        "id": "x1ikWbydrbf6"
      },
      "outputs": [
        {
          "data": {
            "application/vnd.microsoft.datawrangler.viewer.v0+json": {
              "columns": [
                {
                  "name": "index",
                  "rawType": "int64",
                  "type": "integer"
                },
                {
                  "name": "name",
                  "rawType": "object",
                  "type": "string"
                },
                {
                  "name": "n_employers",
                  "rawType": "int64",
                  "type": "integer"
                }
              ],
              "conversionMethod": "pd.DataFrame",
              "ref": "ba31c696-e863-433b-b99f-ee7737c7657a",
              "rows": [
                [
                  "0",
                  "Россия",
                  "410"
                ],
                [
                  "1",
                  "Казахстан",
                  "207"
                ],
                [
                  "2",
                  "Московская область",
                  "75"
                ],
                [
                  "3",
                  "Краснодарский край",
                  "19"
                ],
                [
                  "4",
                  "Беларусь",
                  "18"
                ],
                [
                  "5",
                  "Ростовская область",
                  "18"
                ],
                [
                  "6",
                  "Азербайджан",
                  "17"
                ],
                [
                  "7",
                  "Республика Татарстан",
                  "16"
                ],
                [
                  "8",
                  "Нижегородская область",
                  "16"
                ],
                [
                  "9",
                  "Узбекистан",
                  "15"
                ],
                [
                  "10",
                  "Белгородская область",
                  "10"
                ],
                [
                  "11",
                  "Сингапур",
                  "10"
                ],
                [
                  "12",
                  "Калужская область",
                  "9"
                ],
                [
                  "13",
                  "Ленинградская область",
                  "9"
                ],
                [
                  "14",
                  "Самарская область",
                  "7"
                ],
                [
                  "15",
                  "Воронежская область",
                  "7"
                ],
                [
                  "16",
                  "Кировская область",
                  "6"
                ],
                [
                  "17",
                  "Ульяновская область",
                  "6"
                ],
                [
                  "18",
                  "Кыргызстан",
                  "6"
                ],
                [
                  "19",
                  "Австралия",
                  "6"
                ],
                [
                  "20",
                  "Ставропольский край",
                  "6"
                ],
                [
                  "21",
                  "Ивановская область",
                  "5"
                ],
                [
                  "22",
                  "Липецкая область",
                  "5"
                ],
                [
                  "23",
                  "Новосибирская область",
                  "5"
                ],
                [
                  "24",
                  "Тульская область",
                  "5"
                ],
                [
                  "25",
                  "Канада",
                  "5"
                ],
                [
                  "26",
                  "Швейцария",
                  "5"
                ],
                [
                  "27",
                  "Республика Крым",
                  "4"
                ],
                [
                  "28",
                  "Пензенская область",
                  "4"
                ],
                [
                  "29",
                  "Чувашская Республика",
                  "4"
                ],
                [
                  "30",
                  "Иркутская область",
                  "4"
                ],
                [
                  "31",
                  "Кемеровская область",
                  "4"
                ],
                [
                  "32",
                  "Волгоградская область",
                  "4"
                ],
                [
                  "33",
                  "Свердловская область",
                  "4"
                ],
                [
                  "34",
                  "Рязанская область",
                  "4"
                ],
                [
                  "35",
                  "Минская область",
                  "3"
                ],
                [
                  "36",
                  "Владимирская область",
                  "3"
                ],
                [
                  "37",
                  "Другие регионы",
                  "3"
                ],
                [
                  "38",
                  "Калининградская область",
                  "3"
                ],
                [
                  "39",
                  "Томская область",
                  "3"
                ],
                [
                  "40",
                  "Удмуртская Республика",
                  "3"
                ],
                [
                  "41",
                  "Костромская область",
                  "3"
                ],
                [
                  "42",
                  "Пермский край",
                  "3"
                ],
                [
                  "43",
                  "Алтайский край",
                  "3"
                ],
                [
                  "44",
                  "Красноярский край",
                  "3"
                ],
                [
                  "45",
                  "Ярославская область",
                  "3"
                ],
                [
                  "46",
                  "Саратовская область",
                  "2"
                ],
                [
                  "47",
                  "Жодино",
                  "2"
                ],
                [
                  "48",
                  "Тверская область",
                  "2"
                ],
                [
                  "49",
                  "Челябинская область",
                  "2"
                ]
              ],
              "shape": {
                "columns": 2,
                "rows": 186
              }
            },
            "text/html": [
              "<div>\n",
              "<style scoped>\n",
              "    .dataframe tbody tr th:only-of-type {\n",
              "        vertical-align: middle;\n",
              "    }\n",
              "\n",
              "    .dataframe tbody tr th {\n",
              "        vertical-align: top;\n",
              "    }\n",
              "\n",
              "    .dataframe thead th {\n",
              "        text-align: right;\n",
              "    }\n",
              "</style>\n",
              "<table border=\"1\" class=\"dataframe\">\n",
              "  <thead>\n",
              "    <tr style=\"text-align: right;\">\n",
              "      <th></th>\n",
              "      <th>name</th>\n",
              "      <th>n_employers</th>\n",
              "    </tr>\n",
              "  </thead>\n",
              "  <tbody>\n",
              "    <tr>\n",
              "      <th>0</th>\n",
              "      <td>Россия</td>\n",
              "      <td>410</td>\n",
              "    </tr>\n",
              "    <tr>\n",
              "      <th>1</th>\n",
              "      <td>Казахстан</td>\n",
              "      <td>207</td>\n",
              "    </tr>\n",
              "    <tr>\n",
              "      <th>2</th>\n",
              "      <td>Московская область</td>\n",
              "      <td>75</td>\n",
              "    </tr>\n",
              "    <tr>\n",
              "      <th>3</th>\n",
              "      <td>Краснодарский край</td>\n",
              "      <td>19</td>\n",
              "    </tr>\n",
              "    <tr>\n",
              "      <th>4</th>\n",
              "      <td>Беларусь</td>\n",
              "      <td>18</td>\n",
              "    </tr>\n",
              "    <tr>\n",
              "      <th>...</th>\n",
              "      <td>...</td>\n",
              "      <td>...</td>\n",
              "    </tr>\n",
              "    <tr>\n",
              "      <th>181</th>\n",
              "      <td>Миллерово</td>\n",
              "      <td>1</td>\n",
              "    </tr>\n",
              "    <tr>\n",
              "      <th>182</th>\n",
              "      <td>Михайловка (Уфимский район, Башкортостан)</td>\n",
              "      <td>1</td>\n",
              "    </tr>\n",
              "    <tr>\n",
              "      <th>183</th>\n",
              "      <td>Можайск</td>\n",
              "      <td>1</td>\n",
              "    </tr>\n",
              "    <tr>\n",
              "      <th>184</th>\n",
              "      <td>Морозовск\\n</td>\n",
              "      <td>1</td>\n",
              "    </tr>\n",
              "    <tr>\n",
              "      <th>185</th>\n",
              "      <td>Несвиж</td>\n",
              "      <td>1</td>\n",
              "    </tr>\n",
              "  </tbody>\n",
              "</table>\n",
              "<p>186 rows × 2 columns</p>\n",
              "</div>"
            ],
            "text/plain": [
              "                                          name  n_employers\n",
              "0                                       Россия          410\n",
              "1                                    Казахстан          207\n",
              "2                           Московская область           75\n",
              "3                           Краснодарский край           19\n",
              "4                                     Беларусь           18\n",
              "..                                         ...          ...\n",
              "181                                  Миллерово            1\n",
              "182  Михайловка (Уфимский район, Башкортостан)            1\n",
              "183                                    Можайск            1\n",
              "184                                Морозовск\\n            1\n",
              "185                                     Несвиж            1\n",
              "\n",
              "[186 rows x 2 columns]"
            ]
          },
          "execution_count": 681,
          "metadata": {},
          "output_type": "execute_result"
        }
      ],
      "source": [
        "Null_vac = pd.read_sql_query(query_5_2, connection)\n",
        "Null_vac"
      ]
    },
    {
      "cell_type": "markdown",
      "id": "f2fe0acb-ab1a-4e15-9326-2560e22d73c1",
      "metadata": {
        "id": "f2fe0acb-ab1a-4e15-9326-2560e22d73c1"
      },
      "source": [
        "3. Для каждого работодателя посчитайте количество регионов, в которых он публикует свои вакансии. Отсортируйте результат по убыванию количества.\n"
      ]
    },
    {
      "cell_type": "code",
      "execution_count": 682,
      "id": "6271f8ad-bd2e-4196-ae4a-5b39c4c1010e",
      "metadata": {
        "id": "6271f8ad-bd2e-4196-ae4a-5b39c4c1010e"
      },
      "outputs": [],
      "source": [
        "query_5_3 = ''' \n",
        "\n",
        "-- к таблице с вакансиями присоединяем работодателей по employer_id \n",
        "-- и города по area_id. Выводим название работодателей,\n",
        "-- а также посчитываем колчество уникальных названий городов\n",
        "select\n",
        "    e.name as Employer_name,\n",
        "    count(distinct a.name) as N_regions_with_vac\n",
        "    \n",
        "from\n",
        "    vacancies v\n",
        "    join employers e\n",
        "    on v.employer_id = e.id\n",
        "    \n",
        "    join areas a\n",
        "    on v.area_id = a.id\n",
        "\n",
        "-- группируем по названию работодателя\n",
        "group by \n",
        "    e.name\n",
        "   \n",
        "-- сортируем по кол-ву городов в убывающем порядке \n",
        "order by \n",
        "    count(distinct a.name) desc\n",
        "'''\n"
      ]
    },
    {
      "cell_type": "code",
      "execution_count": 683,
      "id": "1EIvX3HasH4F",
      "metadata": {
        "id": "1EIvX3HasH4F"
      },
      "outputs": [
        {
          "data": {
            "application/vnd.microsoft.datawrangler.viewer.v0+json": {
              "columns": [
                {
                  "name": "index",
                  "rawType": "int64",
                  "type": "integer"
                },
                {
                  "name": "employer_name",
                  "rawType": "object",
                  "type": "string"
                },
                {
                  "name": "n_regions_with_vac",
                  "rawType": "int64",
                  "type": "integer"
                }
              ],
              "conversionMethod": "pd.DataFrame",
              "ref": "90982bd6-7998-4dc2-81c1-31002f940771",
              "rows": [
                [
                  "0",
                  "Яндекс",
                  "181"
                ],
                [
                  "1",
                  "Ростелеком",
                  "152"
                ],
                [
                  "2",
                  "Спецремонт",
                  "116"
                ],
                [
                  "3",
                  "Поляков Денис Иванович",
                  "88"
                ],
                [
                  "4",
                  "ООО ЕФИН ",
                  "71"
                ],
                [
                  "5",
                  "Совкомбанк",
                  "63"
                ],
                [
                  "6",
                  "МТС",
                  "55"
                ],
                [
                  "7",
                  "ЭФКО, Управляющая компания",
                  "49"
                ],
                [
                  "8",
                  "Почта России",
                  "48"
                ],
                [
                  "9",
                  "КРОН",
                  "48"
                ],
                [
                  "10",
                  "ИК СИБИНТЕК",
                  "46"
                ],
                [
                  "11",
                  "MCORE",
                  "46"
                ],
                [
                  "12",
                  "Сбербанк-Сервис",
                  "45"
                ],
                [
                  "13",
                  "ANCOR",
                  "44"
                ],
                [
                  "14",
                  "Тинькофф",
                  "43"
                ],
                [
                  "15",
                  "Первый Бит",
                  "43"
                ],
                [
                  "16",
                  "АЛНАС",
                  "41"
                ],
                [
                  "17",
                  "Ozon",
                  "36"
                ],
                [
                  "18",
                  "IBS",
                  "36"
                ],
                [
                  "19",
                  "Авито",
                  "35"
                ],
                [
                  "20",
                  "Т1 Интеграция",
                  "34"
                ],
                [
                  "21",
                  "АТМ АЛЬЯНС",
                  "34"
                ],
                [
                  "22",
                  "ЭР-Телеком",
                  "33"
                ],
                [
                  "23",
                  "ЛАНИТ",
                  "29"
                ],
                [
                  "24",
                  "1C-Рарус",
                  "28"
                ],
                [
                  "25",
                  "Красное & Белое, розничная сеть",
                  "27"
                ],
                [
                  "26",
                  "Volna.tech",
                  "27"
                ],
                [
                  "27",
                  "Bell Integrator",
                  "26"
                ],
                [
                  "28",
                  "Совкомбанк Технологии",
                  "26"
                ],
                [
                  "29",
                  "Спортмастер",
                  "25"
                ],
                [
                  "30",
                  "МАГНИТ, Розничная сеть",
                  "25"
                ],
                [
                  "31",
                  "Softline",
                  "25"
                ],
                [
                  "32",
                  "Playrix",
                  "25"
                ],
                [
                  "33",
                  "Тензор",
                  "25"
                ],
                [
                  "34",
                  "Филиал ФКУ Налог-Сервис ФНС России по ЦОД в г.Москве",
                  "25"
                ],
                [
                  "35",
                  "СБЕР",
                  "24"
                ],
                [
                  "36",
                  "Нэти",
                  "24"
                ],
                [
                  "37",
                  "Газпром нефть",
                  "24"
                ],
                [
                  "38",
                  "Банк ВТБ (ПАО)",
                  "24"
                ],
                [
                  "39",
                  "МегаФон",
                  "23"
                ],
                [
                  "40",
                  "Диалог Регионы",
                  "23"
                ],
                [
                  "41",
                  "Сеть магазинов цифровой и бытовой техники DNS",
                  "23"
                ],
                [
                  "42",
                  "«Аксиома-Софт»",
                  "23"
                ],
                [
                  "43",
                  "Консалтинг Групп",
                  "23"
                ],
                [
                  "44",
                  "Sumitec International",
                  "23"
                ],
                [
                  "45",
                  "Российская телевизионная и радиовещательная сеть, ФГУП",
                  "22"
                ],
                [
                  "46",
                  "Россельхозбанк",
                  "22"
                ],
                [
                  "47",
                  "Калашников",
                  "21"
                ],
                [
                  "48",
                  "ITooLabs",
                  "21"
                ],
                [
                  "49",
                  "Северсталь",
                  "21"
                ]
              ],
              "shape": {
                "columns": 2,
                "rows": 14766
              }
            },
            "text/html": [
              "<div>\n",
              "<style scoped>\n",
              "    .dataframe tbody tr th:only-of-type {\n",
              "        vertical-align: middle;\n",
              "    }\n",
              "\n",
              "    .dataframe tbody tr th {\n",
              "        vertical-align: top;\n",
              "    }\n",
              "\n",
              "    .dataframe thead th {\n",
              "        text-align: right;\n",
              "    }\n",
              "</style>\n",
              "<table border=\"1\" class=\"dataframe\">\n",
              "  <thead>\n",
              "    <tr style=\"text-align: right;\">\n",
              "      <th></th>\n",
              "      <th>employer_name</th>\n",
              "      <th>n_regions_with_vac</th>\n",
              "    </tr>\n",
              "  </thead>\n",
              "  <tbody>\n",
              "    <tr>\n",
              "      <th>0</th>\n",
              "      <td>Яндекс</td>\n",
              "      <td>181</td>\n",
              "    </tr>\n",
              "    <tr>\n",
              "      <th>1</th>\n",
              "      <td>Ростелеком</td>\n",
              "      <td>152</td>\n",
              "    </tr>\n",
              "    <tr>\n",
              "      <th>2</th>\n",
              "      <td>Спецремонт</td>\n",
              "      <td>116</td>\n",
              "    </tr>\n",
              "    <tr>\n",
              "      <th>3</th>\n",
              "      <td>Поляков Денис Иванович</td>\n",
              "      <td>88</td>\n",
              "    </tr>\n",
              "    <tr>\n",
              "      <th>4</th>\n",
              "      <td>ООО ЕФИН</td>\n",
              "      <td>71</td>\n",
              "    </tr>\n",
              "    <tr>\n",
              "      <th>...</th>\n",
              "      <td>...</td>\n",
              "      <td>...</td>\n",
              "    </tr>\n",
              "    <tr>\n",
              "      <th>14761</th>\n",
              "      <td>UniSol</td>\n",
              "      <td>1</td>\n",
              "    </tr>\n",
              "    <tr>\n",
              "      <th>14762</th>\n",
              "      <td>UNISTORY LLC</td>\n",
              "      <td>1</td>\n",
              "    </tr>\n",
              "    <tr>\n",
              "      <th>14763</th>\n",
              "      <td>UNIT6</td>\n",
              "      <td>1</td>\n",
              "    </tr>\n",
              "    <tr>\n",
              "      <th>14764</th>\n",
              "      <td>United Distribution</td>\n",
              "      <td>1</td>\n",
              "    </tr>\n",
              "    <tr>\n",
              "      <th>14765</th>\n",
              "      <td>UNITEL LLC</td>\n",
              "      <td>1</td>\n",
              "    </tr>\n",
              "  </tbody>\n",
              "</table>\n",
              "<p>14766 rows × 2 columns</p>\n",
              "</div>"
            ],
            "text/plain": [
              "                employer_name  n_regions_with_vac\n",
              "0                      Яндекс                 181\n",
              "1                  Ростелеком                 152\n",
              "2                  Спецремонт                 116\n",
              "3      Поляков Денис Иванович                  88\n",
              "4                   ООО ЕФИН                   71\n",
              "...                       ...                 ...\n",
              "14761                  UniSol                   1\n",
              "14762            UNISTORY LLC                   1\n",
              "14763                   UNIT6                   1\n",
              "14764     United Distribution                   1\n",
              "14765              UNITEL LLC                   1\n",
              "\n",
              "[14766 rows x 2 columns]"
            ]
          },
          "execution_count": 683,
          "metadata": {},
          "output_type": "execute_result"
        }
      ],
      "source": [
        "N_region_by_Employer = pd.read_sql_query(query_5_3, connection)\n",
        "N_region_by_Employer"
      ]
    },
    {
      "cell_type": "markdown",
      "id": "eab2206d-d95b-468b-8e5f-34381abf0ce7",
      "metadata": {
        "id": "eab2206d-d95b-468b-8e5f-34381abf0ce7"
      },
      "source": [
        "4. Напишите запрос для подсчёта количества работодателей, у которых не указана сфера деятельности. "
      ]
    },
    {
      "cell_type": "code",
      "execution_count": 684,
      "id": "80defb23-bfb1-4a18-8be6-bf36aa7165d5",
      "metadata": {
        "id": "80defb23-bfb1-4a18-8be6-bf36aa7165d5"
      },
      "outputs": [],
      "source": [
        "query_5_4 = ''' \n",
        "\n",
        "-- к таблице с работадателями присоединяем таблицу  employers_industries\n",
        "-- и посчитываем количество строк\n",
        "select \n",
        "    count(e.name) N_empl_with_no_indstr\n",
        "    \n",
        "from\n",
        "    employers e\n",
        "    left join employers_industries ei \n",
        "    on ei.employer_id = e.id\n",
        "\n",
        "-- выбираем данные, где отстутсвуют industry_id\n",
        "where industry_id is null\n",
        "\n",
        "'''\n"
      ]
    },
    {
      "cell_type": "code",
      "execution_count": 685,
      "id": "Dp_yCx6ysQSu",
      "metadata": {
        "id": "Dp_yCx6ysQSu"
      },
      "outputs": [
        {
          "data": {
            "application/vnd.microsoft.datawrangler.viewer.v0+json": {
              "columns": [
                {
                  "name": "index",
                  "rawType": "int64",
                  "type": "integer"
                },
                {
                  "name": "n_empl_with_no_indstr",
                  "rawType": "int64",
                  "type": "integer"
                }
              ],
              "conversionMethod": "pd.DataFrame",
              "ref": "416edf03-99bb-4c1a-95db-1fb05e83d459",
              "rows": [
                [
                  "0",
                  "8419"
                ]
              ],
              "shape": {
                "columns": 1,
                "rows": 1
              }
            },
            "text/html": [
              "<div>\n",
              "<style scoped>\n",
              "    .dataframe tbody tr th:only-of-type {\n",
              "        vertical-align: middle;\n",
              "    }\n",
              "\n",
              "    .dataframe tbody tr th {\n",
              "        vertical-align: top;\n",
              "    }\n",
              "\n",
              "    .dataframe thead th {\n",
              "        text-align: right;\n",
              "    }\n",
              "</style>\n",
              "<table border=\"1\" class=\"dataframe\">\n",
              "  <thead>\n",
              "    <tr style=\"text-align: right;\">\n",
              "      <th></th>\n",
              "      <th>n_empl_with_no_indstr</th>\n",
              "    </tr>\n",
              "  </thead>\n",
              "  <tbody>\n",
              "    <tr>\n",
              "      <th>0</th>\n",
              "      <td>8419</td>\n",
              "    </tr>\n",
              "  </tbody>\n",
              "</table>\n",
              "</div>"
            ],
            "text/plain": [
              "   n_empl_with_no_indstr\n",
              "0                   8419"
            ]
          },
          "execution_count": 685,
          "metadata": {},
          "output_type": "execute_result"
        }
      ],
      "source": [
        "N_Empl_null_Indstr = pd.read_sql_query(query_5_4, connection)\n",
        "N_Empl_null_Indstr"
      ]
    },
    {
      "cell_type": "markdown",
      "id": "0112af31-f6b0-4e3b-82ab-71296e752e5e",
      "metadata": {
        "id": "0112af31-f6b0-4e3b-82ab-71296e752e5e"
      },
      "source": [
        "5. Напишите запрос, чтобы узнать название компании, находящейся на третьем месте в алфавитном списке (по названию) компаний, у которых указано четыре сферы деятельности. "
      ]
    },
    {
      "cell_type": "code",
      "execution_count": 686,
      "id": "973b0cfc-a972-470a-8b4a-68744ef220c4",
      "metadata": {
        "id": "973b0cfc-a972-470a-8b4a-68744ef220c4"
      },
      "outputs": [],
      "source": [
        "query_5_5 = ''' \n",
        "\n",
        "-- к таблице employers_industries присоединяем работодателей по employer_id\n",
        "-- группируем по имени работодателя и посчитываем кол-во строк \n",
        "select \n",
        "    e.name,\n",
        "    count(ei.industry_id)\n",
        "    \n",
        "from\n",
        "    employers_industries ei\n",
        "    join employers e\n",
        "    on ei.employer_id = e.id \n",
        "\n",
        "-- группируем по имени работодателя      \n",
        "group by \n",
        "    e.name\n",
        "\n",
        "-- выбираем тех работодателей, у которых 4 направления деятельности \n",
        "having \n",
        "    count(ei.industry_id) = 4\n",
        "\n",
        "-- сортируем по имени и выводим третий элемент\n",
        "order by \n",
        "    e.name\n",
        "    \n",
        "offset 2\n",
        "limit 1\n",
        "'''"
      ]
    },
    {
      "cell_type": "code",
      "execution_count": 687,
      "id": "xsPtpp8EsaED",
      "metadata": {
        "id": "xsPtpp8EsaED"
      },
      "outputs": [
        {
          "data": {
            "application/vnd.microsoft.datawrangler.viewer.v0+json": {
              "columns": [
                {
                  "name": "index",
                  "rawType": "int64",
                  "type": "integer"
                },
                {
                  "name": "name",
                  "rawType": "object",
                  "type": "string"
                },
                {
                  "name": "count",
                  "rawType": "int64",
                  "type": "integer"
                }
              ],
              "conversionMethod": "pd.DataFrame",
              "ref": "b982a984-a492-4205-8b52-e27b01a4867d",
              "rows": [
                [
                  "0",
                  "2ГИС",
                  "4"
                ]
              ],
              "shape": {
                "columns": 2,
                "rows": 1
              }
            },
            "text/html": [
              "<div>\n",
              "<style scoped>\n",
              "    .dataframe tbody tr th:only-of-type {\n",
              "        vertical-align: middle;\n",
              "    }\n",
              "\n",
              "    .dataframe tbody tr th {\n",
              "        vertical-align: top;\n",
              "    }\n",
              "\n",
              "    .dataframe thead th {\n",
              "        text-align: right;\n",
              "    }\n",
              "</style>\n",
              "<table border=\"1\" class=\"dataframe\">\n",
              "  <thead>\n",
              "    <tr style=\"text-align: right;\">\n",
              "      <th></th>\n",
              "      <th>name</th>\n",
              "      <th>count</th>\n",
              "    </tr>\n",
              "  </thead>\n",
              "  <tbody>\n",
              "    <tr>\n",
              "      <th>0</th>\n",
              "      <td>2ГИС</td>\n",
              "      <td>4</td>\n",
              "    </tr>\n",
              "  </tbody>\n",
              "</table>\n",
              "</div>"
            ],
            "text/plain": [
              "   name  count\n",
              "0  2ГИС      4"
            ]
          },
          "execution_count": 687,
          "metadata": {},
          "output_type": "execute_result"
        }
      ],
      "source": [
        "Indstr_by_Empl = pd.read_sql_query(query_5_5, connection)\n",
        "Indstr_by_Empl"
      ]
    },
    {
      "cell_type": "markdown",
      "id": "3bfcfdaf-755d-4d2b-8ed8-326201dc07ab",
      "metadata": {
        "id": "3bfcfdaf-755d-4d2b-8ed8-326201dc07ab"
      },
      "source": [
        "6. С помощью запроса выясните, у какого количества работодателей в качестве сферы деятельности указана Разработка программного обеспечения.\n"
      ]
    },
    {
      "cell_type": "code",
      "execution_count": 688,
      "id": "ad3f270f-2991-47eb-929b-e8f88a55b0d1",
      "metadata": {
        "id": "ad3f270f-2991-47eb-929b-e8f88a55b0d1"
      },
      "outputs": [],
      "source": [
        "query_5_6 = ''' \n",
        "\n",
        "-- к таблице employers_industries присоединяем таблицу с работадателями \n",
        "-- по employer_id и таблицу с видами деятельности по industry_id \n",
        "-- выводим названия видов деятельности и посчитываем кол-во строк\n",
        "\n",
        "select \n",
        "    i.name,\n",
        "    count (*) N_emplyers\n",
        "    \n",
        "from\n",
        "    employers_industries ei\n",
        "    join employers e\n",
        "    on ei.employer_id = e.id \n",
        "    \n",
        "    join industries i\n",
        "    on ei.industry_id = i.id\n",
        "\n",
        "-- группируем по названию родов деятельности\n",
        "group by \n",
        "    i.name\n",
        "\n",
        "-- выбираем названия, которые соотвествуют 'Разработка программного обеспечения'\n",
        "having \n",
        "    i.name = 'Разработка программного обеспечения'\n",
        "'''\n"
      ]
    },
    {
      "cell_type": "code",
      "execution_count": 689,
      "id": "H72qxWM0shPR",
      "metadata": {
        "id": "H72qxWM0shPR"
      },
      "outputs": [
        {
          "data": {
            "application/vnd.microsoft.datawrangler.viewer.v0+json": {
              "columns": [
                {
                  "name": "index",
                  "rawType": "int64",
                  "type": "integer"
                },
                {
                  "name": "name",
                  "rawType": "object",
                  "type": "string"
                },
                {
                  "name": "n_emplyers",
                  "rawType": "int64",
                  "type": "integer"
                }
              ],
              "conversionMethod": "pd.DataFrame",
              "ref": "62b720ba-f077-443d-8467-a58e7bc8d98c",
              "rows": [
                [
                  "0",
                  "Разработка программного обеспечения",
                  "3553"
                ]
              ],
              "shape": {
                "columns": 2,
                "rows": 1
              }
            },
            "text/html": [
              "<div>\n",
              "<style scoped>\n",
              "    .dataframe tbody tr th:only-of-type {\n",
              "        vertical-align: middle;\n",
              "    }\n",
              "\n",
              "    .dataframe tbody tr th {\n",
              "        vertical-align: top;\n",
              "    }\n",
              "\n",
              "    .dataframe thead th {\n",
              "        text-align: right;\n",
              "    }\n",
              "</style>\n",
              "<table border=\"1\" class=\"dataframe\">\n",
              "  <thead>\n",
              "    <tr style=\"text-align: right;\">\n",
              "      <th></th>\n",
              "      <th>name</th>\n",
              "      <th>n_emplyers</th>\n",
              "    </tr>\n",
              "  </thead>\n",
              "  <tbody>\n",
              "    <tr>\n",
              "      <th>0</th>\n",
              "      <td>Разработка программного обеспечения</td>\n",
              "      <td>3553</td>\n",
              "    </tr>\n",
              "  </tbody>\n",
              "</table>\n",
              "</div>"
            ],
            "text/plain": [
              "                                  name  n_emplyers\n",
              "0  Разработка программного обеспечения        3553"
            ]
          },
          "execution_count": 689,
          "metadata": {},
          "output_type": "execute_result"
        }
      ],
      "source": [
        "N_dev_Empl = pd.read_sql_query(query_5_6, connection)\n",
        "N_dev_Empl"
      ]
    },
    {
      "cell_type": "markdown",
      "id": "7b02bb86-0546-40fb-94a4-242f050a5c57",
      "metadata": {
        "id": "7b02bb86-0546-40fb-94a4-242f050a5c57"
      },
      "source": [
        "7. Для компании «Яндекс» выведите список регионов-миллионников, в которых представлены вакансии компании, вместе с количеством вакансий в этих регионах. Также добавьте строку Total с общим количеством вакансий компании. Результат отсортируйте по возрастанию количества.\n",
        "\n",
        "Список городов-милионников надо взять [отсюда](https://ru.wikipedia.org/wiki/%D0%93%D0%BE%D1%80%D0%BE%D0%B4%D0%B0-%D0%BC%D0%B8%D0%BB%D0%BB%D0%B8%D0%BE%D0%BD%D0%B5%D1%80%D1%8B_%D0%A0%D0%BE%D1%81%D1%81%D0%B8%D0%B8). \n",
        "\n",
        "Если возникнут трудности с этим задание посмотрите материалы модуля  PYTHON-17. Как получать данные из веб-источников и API. "
      ]
    },
    {
      "cell_type": "code",
      "execution_count": 690,
      "id": "ZdfrL6gIs1Pn",
      "metadata": {
        "id": "ZdfrL6gIs1Pn"
      },
      "outputs": [],
      "source": [
        "# Выделяем таблицу с названиями городов-миллионников\n",
        "url = 'https://ru.wikipedia.org/wiki/%D0%93%D0%BE%D1%80%D0%BE%D0%B4%D0%B0-%D0%BC%D0%B8%D0%BB%D0%BB%D0%B8%D0%BE%D0%BD%D0%B5%D1%80%D1%8B_%D0%A0%D0%BE%D1%81%D1%81%D0%B8%D0%B8'\n",
        "page = requests.get(url).text\n",
        "soup = BeautifulSoup(page, 'html.parser')\n",
        "table = soup.find('table', class_=\"standard sortable\")\n",
        "\n",
        "\n",
        "# Создаем список с названиями городов-миллионников\n",
        "df = pd.read_html(str(table))\n",
        "df = pd.concat(df) \n",
        "city_names = list(df.loc[:,'Город'])"
      ]
    },
    {
      "cell_type": "code",
      "execution_count": 691,
      "id": "5a0e32a4-e68a-4365-8a39-2fe24c542c36",
      "metadata": {
        "id": "5a0e32a4-e68a-4365-8a39-2fe24c542c36"
      },
      "outputs": [],
      "source": [
        "query_5_7 = ''' \n",
        "\n",
        "-- таблице с вакансиями присоединяем таблицу с работадателями по employer_id и\n",
        "-- таблицу с городами по area_id и выводим названия городов и их id для посчета\n",
        "select \n",
        "    a.name as City,\n",
        "    v.id as vacancy_cnt\n",
        "    \n",
        "from \n",
        "    vacancies v\n",
        "    join employers e\n",
        "    on v.employer_id = e.id\n",
        "    \n",
        "    join areas a\n",
        "    on v.area_id = a.id\n",
        "\n",
        "-- оставляем только вакансии от \"Яндекс\"\n",
        "where e.name = 'Яндекс' \n",
        "'''"
      ]
    },
    {
      "cell_type": "code",
      "execution_count": 692,
      "id": "3de06c6b",
      "metadata": {},
      "outputs": [
        {
          "data": {
            "application/vnd.microsoft.datawrangler.viewer.v0+json": {
              "columns": [
                {
                  "name": "city",
                  "rawType": "object",
                  "type": "string"
                },
                {
                  "name": "vacancy_cnt",
                  "rawType": "int64",
                  "type": "integer"
                }
              ],
              "conversionMethod": "pd.DataFrame",
              "ref": "95787ca1-4069-4bf9-b386-983eaf7d173a",
              "rows": [
                [
                  "Москва",
                  "54"
                ],
                [
                  "Санкт-Петербург",
                  "42"
                ],
                [
                  "Екатеринбург",
                  "39"
                ],
                [
                  "Нижний Новгород",
                  "36"
                ],
                [
                  "Новосибирск",
                  "35"
                ],
                [
                  "Воронеж",
                  "32"
                ],
                [
                  "Краснодар",
                  "30"
                ],
                [
                  "Самара",
                  "26"
                ],
                [
                  "Уфа",
                  "26"
                ],
                [
                  "Казань",
                  "25"
                ],
                [
                  "Пермь",
                  "25"
                ],
                [
                  "Ростов-на-Дону",
                  "25"
                ],
                [
                  "Волгоград",
                  "24"
                ],
                [
                  "Красноярск",
                  "23"
                ],
                [
                  "Челябинск",
                  "22"
                ],
                [
                  "Омск",
                  "21"
                ],
                [
                  "Total",
                  "485"
                ]
              ],
              "shape": {
                "columns": 1,
                "rows": 17
              }
            },
            "text/html": [
              "<div>\n",
              "<style scoped>\n",
              "    .dataframe tbody tr th:only-of-type {\n",
              "        vertical-align: middle;\n",
              "    }\n",
              "\n",
              "    .dataframe tbody tr th {\n",
              "        vertical-align: top;\n",
              "    }\n",
              "\n",
              "    .dataframe thead th {\n",
              "        text-align: right;\n",
              "    }\n",
              "</style>\n",
              "<table border=\"1\" class=\"dataframe\">\n",
              "  <thead>\n",
              "    <tr style=\"text-align: right;\">\n",
              "      <th></th>\n",
              "      <th>vacancy_cnt</th>\n",
              "    </tr>\n",
              "    <tr>\n",
              "      <th>city</th>\n",
              "      <th></th>\n",
              "    </tr>\n",
              "  </thead>\n",
              "  <tbody>\n",
              "    <tr>\n",
              "      <th>Москва</th>\n",
              "      <td>54</td>\n",
              "    </tr>\n",
              "    <tr>\n",
              "      <th>Санкт-Петербург</th>\n",
              "      <td>42</td>\n",
              "    </tr>\n",
              "    <tr>\n",
              "      <th>Екатеринбург</th>\n",
              "      <td>39</td>\n",
              "    </tr>\n",
              "    <tr>\n",
              "      <th>Нижний Новгород</th>\n",
              "      <td>36</td>\n",
              "    </tr>\n",
              "    <tr>\n",
              "      <th>Новосибирск</th>\n",
              "      <td>35</td>\n",
              "    </tr>\n",
              "    <tr>\n",
              "      <th>Воронеж</th>\n",
              "      <td>32</td>\n",
              "    </tr>\n",
              "    <tr>\n",
              "      <th>Краснодар</th>\n",
              "      <td>30</td>\n",
              "    </tr>\n",
              "    <tr>\n",
              "      <th>Самара</th>\n",
              "      <td>26</td>\n",
              "    </tr>\n",
              "    <tr>\n",
              "      <th>Уфа</th>\n",
              "      <td>26</td>\n",
              "    </tr>\n",
              "    <tr>\n",
              "      <th>Казань</th>\n",
              "      <td>25</td>\n",
              "    </tr>\n",
              "    <tr>\n",
              "      <th>Пермь</th>\n",
              "      <td>25</td>\n",
              "    </tr>\n",
              "    <tr>\n",
              "      <th>Ростов-на-Дону</th>\n",
              "      <td>25</td>\n",
              "    </tr>\n",
              "    <tr>\n",
              "      <th>Волгоград</th>\n",
              "      <td>24</td>\n",
              "    </tr>\n",
              "    <tr>\n",
              "      <th>Красноярск</th>\n",
              "      <td>23</td>\n",
              "    </tr>\n",
              "    <tr>\n",
              "      <th>Челябинск</th>\n",
              "      <td>22</td>\n",
              "    </tr>\n",
              "    <tr>\n",
              "      <th>Омск</th>\n",
              "      <td>21</td>\n",
              "    </tr>\n",
              "    <tr>\n",
              "      <th>Total</th>\n",
              "      <td>485</td>\n",
              "    </tr>\n",
              "  </tbody>\n",
              "</table>\n",
              "</div>"
            ],
            "text/plain": [
              "                 vacancy_cnt\n",
              "city                        \n",
              "Москва                    54\n",
              "Санкт-Петербург           42\n",
              "Екатеринбург              39\n",
              "Нижний Новгород           36\n",
              "Новосибирск               35\n",
              "Воронеж                   32\n",
              "Краснодар                 30\n",
              "Самара                    26\n",
              "Уфа                       26\n",
              "Казань                    25\n",
              "Пермь                     25\n",
              "Ростов-на-Дону            25\n",
              "Волгоград                 24\n",
              "Красноярск                23\n",
              "Челябинск                 22\n",
              "Омск                      21\n",
              "Total                    485"
            ]
          },
          "metadata": {},
          "output_type": "display_data"
        }
      ],
      "source": [
        "# Записываем результат запроса в датафрейм\n",
        "YaVac_by_City = pd.read_sql_query(query_5_7, connection)\n",
        "\n",
        "\n",
        "# Выбираем только данные из городов-миллионников\n",
        "mask = YaVac_by_City.loc[:, 'city'].apply(lambda x: x in city_names)\n",
        "YaVac_by_City = YaVac_by_City[mask]\n",
        "\n",
        "\n",
        "# Группируем по переменной 'City', подссчитываем кол-во вакансий\n",
        "YaVac_by_City = \\\n",
        "    YaVac_by_City.groupby('city').count()\\\n",
        "        .sort_values('vacancy_cnt', ascending=False)\n",
        "\n",
        "\n",
        "# Добавляем строрку 'Total' с суммой по солбцу с вакансиями\n",
        "YaVac_by_City.loc['Total'] = sum(YaVac_by_City['vacancy_cnt'])\n",
        "display(YaVac_by_City)\n"
      ]
    },
    {
      "cell_type": "markdown",
      "id": "04966e40-3bc3-4dc8-9ba2-e80580ce3abc",
      "metadata": {
        "id": "04966e40-3bc3-4dc8-9ba2-e80580ce3abc"
      },
      "source": [
        "***"
      ]
    },
    {
      "cell_type": "markdown",
      "id": "ec16b977",
      "metadata": {},
      "source": [
        "1.\tНаибольшее количество вакансий (1933) предлагает компания **Яндекс**. В пятерку лидеров также входят **Ростелеком**, **Тинькофф**, **СБЕР** и **Газпром нефть**.\n",
        "\n",
        "2.\tКомпании **Яндекс**, **Ростелеком** и **Спецремонт** входят в тройку лидеров по количеству регионов, в которых они предлагают вакансии. \n",
        "\n",
        "3.\tКомпания **Яндекс** предлагает **485** вакансий в городах-миллионниках. Наибольшее количество вакансий приходится на **Москву**, **Санкт-Петербург**, **Екатеринбург**, **Нижний Новгород** и **Новосибирск**.\n",
        "\n",
        "4.\tСреди всех работодателей, у **8419** не указан род деятельности. У **3553** компаний в качестве рода деятельности указана разработка программного обеспеченья.\n"
      ]
    },
    {
      "cell_type": "markdown",
      "id": "b1ef156a-efcb-49ce-bb23-90763e7f35b2",
      "metadata": {
        "id": "b1ef156a-efcb-49ce-bb23-90763e7f35b2",
        "tags": []
      },
      "source": [
        "# Юнит 6. Предметный анализ"
      ]
    },
    {
      "cell_type": "markdown",
      "id": "b9cd50a0-992d-4988-8463-2b2b1c4629b4",
      "metadata": {
        "id": "b9cd50a0-992d-4988-8463-2b2b1c4629b4"
      },
      "source": [
        "1. Сколько вакансий имеет отношение к данным?\n",
        "\n",
        "Считаем, что вакансия имеет отношение к данным, если в её названии содержатся слова 'data' или 'данн'.\n",
        "\n",
        "*Подсказка: Обратите внимание, что названия вакансий могут быть написаны в любом регистре.* \n"
      ]
    },
    {
      "cell_type": "code",
      "execution_count": 693,
      "id": "54ab0e50-c0f1-47cc-a54b-bc5c8bc363f9",
      "metadata": {
        "id": "54ab0e50-c0f1-47cc-a54b-bc5c8bc363f9"
      },
      "outputs": [
        {
          "data": {
            "application/vnd.microsoft.datawrangler.viewer.v0+json": {
              "columns": [
                {
                  "name": "index",
                  "rawType": "int64",
                  "type": "integer"
                },
                {
                  "name": "name",
                  "rawType": "object",
                  "type": "string"
                }
              ],
              "conversionMethod": "pd.DataFrame",
              "ref": "e1d3b1de-eaf5-46f0-aeb1-e387baad99b8",
              "rows": [
                [
                  "0",
                  "Аналитик хранилищ данных и BI-систем/Аналитик EAM (ТОиР)"
                ],
                [
                  "1",
                  "Data-analysts (удаленно)"
                ],
                [
                  "2",
                  "Стажер Data Engineer/Data Аналитик в команду Блока «Сеть продаж»"
                ],
                [
                  "3",
                  "Старший специалист хранилищ данных"
                ],
                [
                  "4",
                  "Администратор баз данных и сетей"
                ],
                [
                  "5",
                  "Администратор баз данных (DBA)"
                ],
                [
                  "6",
                  "Data Scientist"
                ],
                [
                  "7",
                  "Старший менеджер по анализу данных"
                ],
                [
                  "8",
                  "Администратор баз данных 1С"
                ],
                [
                  "9",
                  "Администратор баз данных (стажер)"
                ],
                [
                  "10",
                  "Администратор сети и передачи данных"
                ],
                [
                  "11",
                  "Data Scientist (Junior+)"
                ],
                [
                  "12",
                  "Специалист аналитик данных (г. Шымкент)"
                ],
                [
                  "13",
                  "PostgreSQL DBA (Database Administrator)"
                ],
                [
                  "14",
                  "Аналитик данных - стажер (г. Шымкент)"
                ],
                [
                  "15",
                  "Руководитель отдела обработки данных"
                ],
                [
                  "16",
                  "Старший специалист (администратор баз данных)"
                ],
                [
                  "17",
                  "Data Scientist"
                ],
                [
                  "18",
                  "Data Scientist"
                ],
                [
                  "19",
                  "Администратор баз данных"
                ],
                [
                  "20",
                  "Data Scientist"
                ],
                [
                  "21",
                  "Data Scientist"
                ],
                [
                  "22",
                  "Data Analyst"
                ],
                [
                  "23",
                  "CDP Team Lead - Customer Data Platform Solutions Architect"
                ],
                [
                  "24",
                  "Администратор баз данных"
                ],
                [
                  "25",
                  "Старший разработчик баз данных (middle)"
                ],
                [
                  "26",
                  "Администратор баз данных"
                ],
                [
                  "27",
                  "Аналитик данных"
                ],
                [
                  "28",
                  "Аналитик данных"
                ],
                [
                  "29",
                  "Senior Data engineer"
                ],
                [
                  "30",
                  "Middle Data Engineer"
                ],
                [
                  "31",
                  "Junior Data Engineer"
                ],
                [
                  "32",
                  "Разработчик витрин данных"
                ],
                [
                  "33",
                  "Middle Data Engineer"
                ],
                [
                  "34",
                  "Data Analyst в направление Data Office"
                ],
                [
                  "35",
                  "Аналитик бизнес данных"
                ],
                [
                  "36",
                  "Data Analyst"
                ],
                [
                  "37",
                  "Data Analytics (in-house)"
                ],
                [
                  "38",
                  "Менеджер по обмену данными"
                ],
                [
                  "39",
                  "Администратор базы данных 1с"
                ],
                [
                  "40",
                  "Риск-менеджер/Data Scientist"
                ],
                [
                  "41",
                  "Специалист по работе с данными (модератор данных)"
                ],
                [
                  "42",
                  "Веб аналитик данных"
                ],
                [
                  "43",
                  "Oracle developer (Database administrator, DBA)"
                ],
                [
                  "44",
                  "Cloud Data Engineer (Riga, Latvia)"
                ],
                [
                  "45",
                  "Database engineer (Oracle/MS SQL/NoSQL/MongoDB)"
                ],
                [
                  "46",
                  "Администратор баз данных"
                ],
                [
                  "47",
                  "Data Engineer/ETL Developer"
                ],
                [
                  "48",
                  "Senior Data engineer"
                ],
                [
                  "49",
                  "Data Engineer"
                ]
              ],
              "shape": {
                "columns": 1,
                "rows": 1771
              }
            },
            "text/html": [
              "<div>\n",
              "<style scoped>\n",
              "    .dataframe tbody tr th:only-of-type {\n",
              "        vertical-align: middle;\n",
              "    }\n",
              "\n",
              "    .dataframe tbody tr th {\n",
              "        vertical-align: top;\n",
              "    }\n",
              "\n",
              "    .dataframe thead th {\n",
              "        text-align: right;\n",
              "    }\n",
              "</style>\n",
              "<table border=\"1\" class=\"dataframe\">\n",
              "  <thead>\n",
              "    <tr style=\"text-align: right;\">\n",
              "      <th></th>\n",
              "      <th>name</th>\n",
              "    </tr>\n",
              "  </thead>\n",
              "  <tbody>\n",
              "    <tr>\n",
              "      <th>0</th>\n",
              "      <td>Аналитик хранилищ данных и BI-систем/Аналитик ...</td>\n",
              "    </tr>\n",
              "    <tr>\n",
              "      <th>1</th>\n",
              "      <td>Data-analysts (удаленно)</td>\n",
              "    </tr>\n",
              "    <tr>\n",
              "      <th>2</th>\n",
              "      <td>Стажер Data Engineer/Data Аналитик в команду Б...</td>\n",
              "    </tr>\n",
              "    <tr>\n",
              "      <th>3</th>\n",
              "      <td>Старший специалист хранилищ данных</td>\n",
              "    </tr>\n",
              "    <tr>\n",
              "      <th>4</th>\n",
              "      <td>Администратор баз данных и сетей</td>\n",
              "    </tr>\n",
              "    <tr>\n",
              "      <th>...</th>\n",
              "      <td>...</td>\n",
              "    </tr>\n",
              "    <tr>\n",
              "      <th>1766</th>\n",
              "      <td>Программист Delphi / разработчик баз данных</td>\n",
              "    </tr>\n",
              "    <tr>\n",
              "      <th>1767</th>\n",
              "      <td>Разработчик баз данных (Big Data)</td>\n",
              "    </tr>\n",
              "    <tr>\n",
              "      <th>1768</th>\n",
              "      <td>Аналитик данных</td>\n",
              "    </tr>\n",
              "    <tr>\n",
              "      <th>1769</th>\n",
              "      <td>Data аналитик /Аналитик BI (удаленно)</td>\n",
              "    </tr>\n",
              "    <tr>\n",
              "      <th>1770</th>\n",
              "      <td>DataOps Engineer</td>\n",
              "    </tr>\n",
              "  </tbody>\n",
              "</table>\n",
              "<p>1771 rows × 1 columns</p>\n",
              "</div>"
            ],
            "text/plain": [
              "                                                   name\n",
              "0     Аналитик хранилищ данных и BI-систем/Аналитик ...\n",
              "1                              Data-analysts (удаленно)\n",
              "2     Стажер Data Engineer/Data Аналитик в команду Б...\n",
              "3                    Старший специалист хранилищ данных\n",
              "4                      Администратор баз данных и сетей\n",
              "...                                                 ...\n",
              "1766        Программист Delphi / разработчик баз данных\n",
              "1767                  Разработчик баз данных (Big Data)\n",
              "1768                                    Аналитик данных\n",
              "1769              Data аналитик /Аналитик BI (удаленно)\n",
              "1770                                   DataOps Engineer\n",
              "\n",
              "[1771 rows x 1 columns]"
            ]
          },
          "execution_count": 693,
          "metadata": {},
          "output_type": "execute_result"
        }
      ],
      "source": [
        "query_6_1 = ''' \n",
        "\n",
        "-- из таблицы с вакансиями выбираем все названия, \n",
        "-- в которых есть слова \"data\" или \"данн\"\n",
        "select\n",
        "    name\n",
        "    \n",
        "from\n",
        "    vacancies\n",
        "    \n",
        "where \n",
        "    lower(name) like '%data%' \n",
        "    or \n",
        "    lower(name) like '%данн%'\n",
        "'''\n",
        "\n",
        "Data_Vac = pd.read_sql_query(query_6_1, connection)\n",
        "Data_Vac"
      ]
    },
    {
      "cell_type": "markdown",
      "id": "4dea20cb-a36b-474a-a0b9-e08e8e3857a5",
      "metadata": {
        "id": "4dea20cb-a36b-474a-a0b9-e08e8e3857a5"
      },
      "source": [
        "2. Сколько есть подходящих вакансий для начинающего дата-сайентиста? \n",
        "Будем считать вакансиями для дата-сайентистов такие, в названии которых есть хотя бы одно из следующих сочетаний:\n",
        "* 'data scientist'\n",
        "* 'data science'\n",
        "* 'исследователь данных'\n",
        "* 'ML' (здесь не нужно брать вакансии по HTML)\n",
        "* 'machine learning'\n",
        "* 'машинн%обучен%'\n",
        "\n",
        "** В следующих заданиях мы продолжим работать с вакансиями по этому условию.*\n",
        "\n",
        "Считаем вакансиями для специалистов уровня Junior следующие:\n",
        "* в названии есть слово 'junior' *или*\n",
        "* требуемый опыт — Нет опыта *или*\n",
        "* тип трудоустройства — Стажировка.\n",
        " "
      ]
    },
    {
      "cell_type": "code",
      "execution_count": 694,
      "id": "9c61b3c0-bb66-46c9-ae1e-81d3f5752b4a",
      "metadata": {
        "id": "9c61b3c0-bb66-46c9-ae1e-81d3f5752b4a"
      },
      "outputs": [],
      "source": [
        "query_6_2 = ''' \n",
        "\n",
        "-- из таблицы с вакансиями выбираем название, опыт и занятость\n",
        "select\n",
        "    name,\n",
        "    experience,\n",
        "    employment\n",
        "    \n",
        "from\n",
        "    vacancies\n",
        "    \n",
        "where \n",
        "\n",
        "    -- фильтруем данные в соответсвии с условием \n",
        "    (lower(name) like 'ml%'or\n",
        "     lower(name) like '% ml%'or\n",
        "     lower(name) like '%-ml%'or\n",
        "     lower(name) like '%/ml%'or\n",
        "     lower(name) like '%(ml%'or\n",
        "     \n",
        "        \n",
        "     lower(name) like '%data scientist%' or \n",
        "     lower(name) like '%data science%' or \n",
        "     lower(name) like '%исследователь данных%' or\n",
        "     lower(name) like '%machine learning%' or \n",
        "     lower(name) like '%машинн%обучен%')\n",
        "     \n",
        "    and\n",
        "    \n",
        "    -- выбираем данные, где либо есть слово junior в названии, \n",
        "    -- либо в занятости указана \"Стажировка\",\n",
        "    -- либо в опыт работы - \"БЕза опыта\"\n",
        "    (lower(name) like '%junior%' or \n",
        "     employment like 'Cтажировка' or\n",
        "     experience like 'Нет опыта')\n",
        "'''\n"
      ]
    },
    {
      "cell_type": "code",
      "execution_count": 695,
      "id": "ZNM-LLYuu1dj",
      "metadata": {
        "id": "ZNM-LLYuu1dj"
      },
      "outputs": [
        {
          "data": {
            "application/vnd.microsoft.datawrangler.viewer.v0+json": {
              "columns": [
                {
                  "name": "index",
                  "rawType": "int64",
                  "type": "integer"
                },
                {
                  "name": "name",
                  "rawType": "object",
                  "type": "string"
                },
                {
                  "name": "experience",
                  "rawType": "object",
                  "type": "string"
                },
                {
                  "name": "employment",
                  "rawType": "object",
                  "type": "string"
                }
              ],
              "conversionMethod": "pd.DataFrame",
              "ref": "03a621f8-30bb-45fb-a504-d3c8363a57f7",
              "rows": [
                [
                  "0",
                  "Junior+ CV/ML developer",
                  "От 1 года до 3 лет",
                  "Полная занятость"
                ],
                [
                  "1",
                  "Data Scientist (Junior+)",
                  "От 1 года до 3 лет",
                  "Полная занятость"
                ],
                [
                  "2",
                  "Junior Data Scientist (Стажер)",
                  "Нет опыта",
                  "Стажировка"
                ],
                [
                  "3",
                  "Математик, Junior/Middle/Senior Data Scientist",
                  "От 1 года до 3 лет",
                  "Частичная занятость"
                ],
                [
                  "4",
                  "Data Scientist/Machine Learning Engineer (Developer)",
                  "Нет опыта",
                  "Частичная занятость"
                ],
                [
                  "5",
                  "Junior Data Scientist",
                  "Нет опыта",
                  "Полная занятость"
                ],
                [
                  "6",
                  "Data Scientist (Junior)",
                  "Нет опыта",
                  "Частичная занятость"
                ],
                [
                  "7",
                  "Intern/Junior Data Scientist",
                  "Нет опыта",
                  "Стажировка"
                ],
                [
                  "8",
                  "Junior Data Scientist (VK)",
                  "От 1 года до 3 лет",
                  "Полная занятость"
                ],
                [
                  "9",
                  "Junior/Middle Data Scientist",
                  "От 1 года до 3 лет",
                  "Полная занятость"
                ],
                [
                  "10",
                  "Data Scientist (Computer Vision) - Junior",
                  "Нет опыта",
                  "Полная занятость"
                ],
                [
                  "11",
                  "Исследователь в области машинного обучения и математического моделирования",
                  "Нет опыта",
                  "Полная занятость"
                ],
                [
                  "12",
                  "Data Scientist, Junior",
                  "Нет опыта",
                  "Полная занятость"
                ],
                [
                  "13",
                  "Data Scientist (junior+/middle)",
                  "От 1 года до 3 лет",
                  "Полная занятость"
                ],
                [
                  "14",
                  "Junior Data Scientist Управления модельных рисков и валидации",
                  "От 1 года до 3 лет",
                  "Полная занятость"
                ],
                [
                  "15",
                  "Математик-аналитик (data scientist / data analyst)",
                  "Нет опыта",
                  "Полная занятость"
                ],
                [
                  "16",
                  "Junior Data Scientist",
                  "От 1 года до 3 лет",
                  "Полная занятость"
                ],
                [
                  "17",
                  "Research Engineer / Data Scientist",
                  "Нет опыта",
                  "Полная занятость"
                ],
                [
                  "18",
                  "Стажер направления Машинное обучение и анализ данных",
                  "Нет опыта",
                  "Стажировка"
                ],
                [
                  "19",
                  "Junior Data Scientist",
                  "От 1 года до 3 лет",
                  "Полная занятость"
                ],
                [
                  "20",
                  "Стажёр Data Scientist / Группа сервисов Антифрод / Антибот",
                  "Нет опыта",
                  "Стажировка"
                ],
                [
                  "21",
                  "Junior Data Scientist (Promo Forecast)",
                  "От 1 года до 3 лет",
                  "Полная занятость"
                ],
                [
                  "22",
                  "Senior Research Engineer / Data Scientist",
                  "Нет опыта",
                  "Полная занятость"
                ],
                [
                  "23",
                  "Ведущий AI/ML инженер",
                  "Нет опыта",
                  "Полная занятость"
                ],
                [
                  "24",
                  "Data scientist (Junior/Middle) в консалтинг",
                  "Нет опыта",
                  "Полная занятость"
                ],
                [
                  "25",
                  "Junior Data Scientist (математик-аналитик) удаленно",
                  "От 1 года до 3 лет",
                  "Полная занятость"
                ],
                [
                  "26",
                  "Data Scientist/Machine Learning Engineer (Developer)",
                  "Нет опыта",
                  "Частичная занятость"
                ],
                [
                  "27",
                  "Junior Data Scientist (Валидация скоринговых моделей)",
                  "От 1 года до 3 лет",
                  "Полная занятость"
                ],
                [
                  "28",
                  "Data Scientist в Сбер",
                  "Нет опыта",
                  "Полная занятость"
                ],
                [
                  "29",
                  "Data Scientist/Machine Learning Engineer (Developer)",
                  "Нет опыта",
                  "Частичная занятость"
                ],
                [
                  "30",
                  "Junior Data Scientist (Валидация скоринговых моделей)",
                  "От 1 года до 3 лет",
                  "Полная занятость"
                ],
                [
                  "31",
                  "Junior Data Scientist (Валидация скоринговых моделей)",
                  "От 1 года до 3 лет",
                  "Полная занятость"
                ],
                [
                  "32",
                  "Junior Data Scientist (Валидация скоринговых моделей)",
                  "От 1 года до 3 лет",
                  "Полная занятость"
                ],
                [
                  "33",
                  "Junior Data Scientist (Валидация скоринговых моделей)",
                  "От 1 года до 3 лет",
                  "Полная занятость"
                ],
                [
                  "34",
                  "Junior Data Scientist (Валидация скоринговых моделей)",
                  "От 1 года до 3 лет",
                  "Полная занятость"
                ],
                [
                  "35",
                  "Junior Data Scientist (Валидация скоринговых моделей)",
                  "От 1 года до 3 лет",
                  "Полная занятость"
                ],
                [
                  "36",
                  "Junior Data Scientist (Валидация скоринговых моделей)",
                  "От 1 года до 3 лет",
                  "Полная занятость"
                ],
                [
                  "37",
                  "Junior Data Scientist (Валидация скоринговых моделей)",
                  "От 1 года до 3 лет",
                  "Полная занятость"
                ],
                [
                  "38",
                  "Риск - Аналитик (Junior Data scientist)",
                  "От 1 года до 3 лет",
                  "Полная занятость"
                ],
                [
                  "39",
                  "Программист Python/ Data Scientist (junior / middle уровень)",
                  "Нет опыта",
                  "Полная занятость"
                ],
                [
                  "40",
                  "Data Scientist/ML engineer (Python/C++)",
                  "Нет опыта",
                  "Полная занятость"
                ],
                [
                  "41",
                  "Риск-аналитик (ML Engineer / Data Scientist)",
                  "Нет опыта",
                  "Полная занятость"
                ],
                [
                  "42",
                  "Junior Data scientist/ Младший риск-аналитик",
                  "От 1 года до 3 лет",
                  "Полная занятость"
                ],
                [
                  "43",
                  "Senior Data Scientist (AI)",
                  "Нет опыта",
                  "Полная занятость"
                ],
                [
                  "44",
                  "Junior Data Scientist for NLP (Python)",
                  "Нет опыта",
                  "Полная занятость"
                ],
                [
                  "45",
                  "Junior Research Engineer / Data Scientist",
                  "От 1 года до 3 лет",
                  "Полная занятость"
                ],
                [
                  "46",
                  "Ведущий AI/ML инженер",
                  "Нет опыта",
                  "Полная занятость"
                ],
                [
                  "47",
                  "Python developer / Junior ML engineer",
                  "Нет опыта",
                  "Полная занятость"
                ],
                [
                  "48",
                  "Data Scientist",
                  "Нет опыта",
                  "Полная занятость"
                ],
                [
                  "49",
                  "Data Scientist (Computer Vision) / Junior",
                  "Нет опыта",
                  "Полная занятость"
                ]
              ],
              "shape": {
                "columns": 3,
                "rows": 51
              }
            },
            "text/html": [
              "<div>\n",
              "<style scoped>\n",
              "    .dataframe tbody tr th:only-of-type {\n",
              "        vertical-align: middle;\n",
              "    }\n",
              "\n",
              "    .dataframe tbody tr th {\n",
              "        vertical-align: top;\n",
              "    }\n",
              "\n",
              "    .dataframe thead th {\n",
              "        text-align: right;\n",
              "    }\n",
              "</style>\n",
              "<table border=\"1\" class=\"dataframe\">\n",
              "  <thead>\n",
              "    <tr style=\"text-align: right;\">\n",
              "      <th></th>\n",
              "      <th>name</th>\n",
              "      <th>experience</th>\n",
              "      <th>employment</th>\n",
              "    </tr>\n",
              "  </thead>\n",
              "  <tbody>\n",
              "    <tr>\n",
              "      <th>0</th>\n",
              "      <td>Junior+ CV/ML developer</td>\n",
              "      <td>От 1 года до 3 лет</td>\n",
              "      <td>Полная занятость</td>\n",
              "    </tr>\n",
              "    <tr>\n",
              "      <th>1</th>\n",
              "      <td>Data Scientist (Junior+)</td>\n",
              "      <td>От 1 года до 3 лет</td>\n",
              "      <td>Полная занятость</td>\n",
              "    </tr>\n",
              "    <tr>\n",
              "      <th>2</th>\n",
              "      <td>Junior Data Scientist (Стажер)</td>\n",
              "      <td>Нет опыта</td>\n",
              "      <td>Стажировка</td>\n",
              "    </tr>\n",
              "    <tr>\n",
              "      <th>3</th>\n",
              "      <td>Математик, Junior/Middle/Senior Data Scientist</td>\n",
              "      <td>От 1 года до 3 лет</td>\n",
              "      <td>Частичная занятость</td>\n",
              "    </tr>\n",
              "    <tr>\n",
              "      <th>4</th>\n",
              "      <td>Data Scientist/Machine Learning Engineer (Deve...</td>\n",
              "      <td>Нет опыта</td>\n",
              "      <td>Частичная занятость</td>\n",
              "    </tr>\n",
              "    <tr>\n",
              "      <th>5</th>\n",
              "      <td>Junior Data Scientist</td>\n",
              "      <td>Нет опыта</td>\n",
              "      <td>Полная занятость</td>\n",
              "    </tr>\n",
              "    <tr>\n",
              "      <th>6</th>\n",
              "      <td>Data Scientist (Junior)</td>\n",
              "      <td>Нет опыта</td>\n",
              "      <td>Частичная занятость</td>\n",
              "    </tr>\n",
              "    <tr>\n",
              "      <th>7</th>\n",
              "      <td>Intern/Junior Data Scientist</td>\n",
              "      <td>Нет опыта</td>\n",
              "      <td>Стажировка</td>\n",
              "    </tr>\n",
              "    <tr>\n",
              "      <th>8</th>\n",
              "      <td>Junior Data Scientist (VK)</td>\n",
              "      <td>От 1 года до 3 лет</td>\n",
              "      <td>Полная занятость</td>\n",
              "    </tr>\n",
              "    <tr>\n",
              "      <th>9</th>\n",
              "      <td>Junior/Middle Data Scientist</td>\n",
              "      <td>От 1 года до 3 лет</td>\n",
              "      <td>Полная занятость</td>\n",
              "    </tr>\n",
              "    <tr>\n",
              "      <th>10</th>\n",
              "      <td>Data Scientist (Computer Vision) - Junior</td>\n",
              "      <td>Нет опыта</td>\n",
              "      <td>Полная занятость</td>\n",
              "    </tr>\n",
              "    <tr>\n",
              "      <th>11</th>\n",
              "      <td>Исследователь в области машинного обучения и м...</td>\n",
              "      <td>Нет опыта</td>\n",
              "      <td>Полная занятость</td>\n",
              "    </tr>\n",
              "    <tr>\n",
              "      <th>12</th>\n",
              "      <td>Data Scientist, Junior</td>\n",
              "      <td>Нет опыта</td>\n",
              "      <td>Полная занятость</td>\n",
              "    </tr>\n",
              "    <tr>\n",
              "      <th>13</th>\n",
              "      <td>Data Scientist (junior+/middle)</td>\n",
              "      <td>От 1 года до 3 лет</td>\n",
              "      <td>Полная занятость</td>\n",
              "    </tr>\n",
              "    <tr>\n",
              "      <th>14</th>\n",
              "      <td>Junior Data Scientist Управления модельных рис...</td>\n",
              "      <td>От 1 года до 3 лет</td>\n",
              "      <td>Полная занятость</td>\n",
              "    </tr>\n",
              "    <tr>\n",
              "      <th>15</th>\n",
              "      <td>Математик-аналитик (data scientist / data anal...</td>\n",
              "      <td>Нет опыта</td>\n",
              "      <td>Полная занятость</td>\n",
              "    </tr>\n",
              "    <tr>\n",
              "      <th>16</th>\n",
              "      <td>Junior Data Scientist</td>\n",
              "      <td>От 1 года до 3 лет</td>\n",
              "      <td>Полная занятость</td>\n",
              "    </tr>\n",
              "    <tr>\n",
              "      <th>17</th>\n",
              "      <td>Research Engineer / Data Scientist</td>\n",
              "      <td>Нет опыта</td>\n",
              "      <td>Полная занятость</td>\n",
              "    </tr>\n",
              "    <tr>\n",
              "      <th>18</th>\n",
              "      <td>Стажер направления Машинное обучение и анализ ...</td>\n",
              "      <td>Нет опыта</td>\n",
              "      <td>Стажировка</td>\n",
              "    </tr>\n",
              "    <tr>\n",
              "      <th>19</th>\n",
              "      <td>Junior Data Scientist</td>\n",
              "      <td>От 1 года до 3 лет</td>\n",
              "      <td>Полная занятость</td>\n",
              "    </tr>\n",
              "    <tr>\n",
              "      <th>20</th>\n",
              "      <td>Стажёр Data Scientist / Группа сервисов Антифр...</td>\n",
              "      <td>Нет опыта</td>\n",
              "      <td>Стажировка</td>\n",
              "    </tr>\n",
              "    <tr>\n",
              "      <th>21</th>\n",
              "      <td>Junior Data Scientist (Promo Forecast)</td>\n",
              "      <td>От 1 года до 3 лет</td>\n",
              "      <td>Полная занятость</td>\n",
              "    </tr>\n",
              "    <tr>\n",
              "      <th>22</th>\n",
              "      <td>Senior Research Engineer / Data Scientist</td>\n",
              "      <td>Нет опыта</td>\n",
              "      <td>Полная занятость</td>\n",
              "    </tr>\n",
              "    <tr>\n",
              "      <th>23</th>\n",
              "      <td>Ведущий AI/ML инженер</td>\n",
              "      <td>Нет опыта</td>\n",
              "      <td>Полная занятость</td>\n",
              "    </tr>\n",
              "    <tr>\n",
              "      <th>24</th>\n",
              "      <td>Data scientist (Junior/Middle) в консалтинг</td>\n",
              "      <td>Нет опыта</td>\n",
              "      <td>Полная занятость</td>\n",
              "    </tr>\n",
              "    <tr>\n",
              "      <th>25</th>\n",
              "      <td>Junior Data Scientist (математик-аналитик) уда...</td>\n",
              "      <td>От 1 года до 3 лет</td>\n",
              "      <td>Полная занятость</td>\n",
              "    </tr>\n",
              "    <tr>\n",
              "      <th>26</th>\n",
              "      <td>Data Scientist/Machine Learning Engineer (Deve...</td>\n",
              "      <td>Нет опыта</td>\n",
              "      <td>Частичная занятость</td>\n",
              "    </tr>\n",
              "    <tr>\n",
              "      <th>27</th>\n",
              "      <td>Junior Data Scientist (Валидация скоринговых м...</td>\n",
              "      <td>От 1 года до 3 лет</td>\n",
              "      <td>Полная занятость</td>\n",
              "    </tr>\n",
              "    <tr>\n",
              "      <th>28</th>\n",
              "      <td>Data Scientist в Сбер</td>\n",
              "      <td>Нет опыта</td>\n",
              "      <td>Полная занятость</td>\n",
              "    </tr>\n",
              "    <tr>\n",
              "      <th>29</th>\n",
              "      <td>Data Scientist/Machine Learning Engineer (Deve...</td>\n",
              "      <td>Нет опыта</td>\n",
              "      <td>Частичная занятость</td>\n",
              "    </tr>\n",
              "    <tr>\n",
              "      <th>30</th>\n",
              "      <td>Junior Data Scientist (Валидация скоринговых м...</td>\n",
              "      <td>От 1 года до 3 лет</td>\n",
              "      <td>Полная занятость</td>\n",
              "    </tr>\n",
              "    <tr>\n",
              "      <th>31</th>\n",
              "      <td>Junior Data Scientist (Валидация скоринговых м...</td>\n",
              "      <td>От 1 года до 3 лет</td>\n",
              "      <td>Полная занятость</td>\n",
              "    </tr>\n",
              "    <tr>\n",
              "      <th>32</th>\n",
              "      <td>Junior Data Scientist (Валидация скоринговых м...</td>\n",
              "      <td>От 1 года до 3 лет</td>\n",
              "      <td>Полная занятость</td>\n",
              "    </tr>\n",
              "    <tr>\n",
              "      <th>33</th>\n",
              "      <td>Junior Data Scientist (Валидация скоринговых м...</td>\n",
              "      <td>От 1 года до 3 лет</td>\n",
              "      <td>Полная занятость</td>\n",
              "    </tr>\n",
              "    <tr>\n",
              "      <th>34</th>\n",
              "      <td>Junior Data Scientist (Валидация скоринговых м...</td>\n",
              "      <td>От 1 года до 3 лет</td>\n",
              "      <td>Полная занятость</td>\n",
              "    </tr>\n",
              "    <tr>\n",
              "      <th>35</th>\n",
              "      <td>Junior Data Scientist (Валидация скоринговых м...</td>\n",
              "      <td>От 1 года до 3 лет</td>\n",
              "      <td>Полная занятость</td>\n",
              "    </tr>\n",
              "    <tr>\n",
              "      <th>36</th>\n",
              "      <td>Junior Data Scientist (Валидация скоринговых м...</td>\n",
              "      <td>От 1 года до 3 лет</td>\n",
              "      <td>Полная занятость</td>\n",
              "    </tr>\n",
              "    <tr>\n",
              "      <th>37</th>\n",
              "      <td>Junior Data Scientist (Валидация скоринговых м...</td>\n",
              "      <td>От 1 года до 3 лет</td>\n",
              "      <td>Полная занятость</td>\n",
              "    </tr>\n",
              "    <tr>\n",
              "      <th>38</th>\n",
              "      <td>Риск - Аналитик (Junior Data scientist)</td>\n",
              "      <td>От 1 года до 3 лет</td>\n",
              "      <td>Полная занятость</td>\n",
              "    </tr>\n",
              "    <tr>\n",
              "      <th>39</th>\n",
              "      <td>Программист Python/ Data Scientist (junior / m...</td>\n",
              "      <td>Нет опыта</td>\n",
              "      <td>Полная занятость</td>\n",
              "    </tr>\n",
              "    <tr>\n",
              "      <th>40</th>\n",
              "      <td>Data Scientist/ML engineer (Python/C++)</td>\n",
              "      <td>Нет опыта</td>\n",
              "      <td>Полная занятость</td>\n",
              "    </tr>\n",
              "    <tr>\n",
              "      <th>41</th>\n",
              "      <td>Риск-аналитик (ML Engineer / Data Scientist)</td>\n",
              "      <td>Нет опыта</td>\n",
              "      <td>Полная занятость</td>\n",
              "    </tr>\n",
              "    <tr>\n",
              "      <th>42</th>\n",
              "      <td>Junior Data scientist/ Младший риск-аналитик</td>\n",
              "      <td>От 1 года до 3 лет</td>\n",
              "      <td>Полная занятость</td>\n",
              "    </tr>\n",
              "    <tr>\n",
              "      <th>43</th>\n",
              "      <td>Senior Data Scientist (AI)</td>\n",
              "      <td>Нет опыта</td>\n",
              "      <td>Полная занятость</td>\n",
              "    </tr>\n",
              "    <tr>\n",
              "      <th>44</th>\n",
              "      <td>Junior Data Scientist for NLP (Python)</td>\n",
              "      <td>Нет опыта</td>\n",
              "      <td>Полная занятость</td>\n",
              "    </tr>\n",
              "    <tr>\n",
              "      <th>45</th>\n",
              "      <td>Junior Research Engineer / Data Scientist</td>\n",
              "      <td>От 1 года до 3 лет</td>\n",
              "      <td>Полная занятость</td>\n",
              "    </tr>\n",
              "    <tr>\n",
              "      <th>46</th>\n",
              "      <td>Ведущий AI/ML инженер</td>\n",
              "      <td>Нет опыта</td>\n",
              "      <td>Полная занятость</td>\n",
              "    </tr>\n",
              "    <tr>\n",
              "      <th>47</th>\n",
              "      <td>Python developer / Junior ML engineer</td>\n",
              "      <td>Нет опыта</td>\n",
              "      <td>Полная занятость</td>\n",
              "    </tr>\n",
              "    <tr>\n",
              "      <th>48</th>\n",
              "      <td>Data Scientist</td>\n",
              "      <td>Нет опыта</td>\n",
              "      <td>Полная занятость</td>\n",
              "    </tr>\n",
              "    <tr>\n",
              "      <th>49</th>\n",
              "      <td>Data Scientist (Computer Vision) / Junior</td>\n",
              "      <td>Нет опыта</td>\n",
              "      <td>Полная занятость</td>\n",
              "    </tr>\n",
              "    <tr>\n",
              "      <th>50</th>\n",
              "      <td>Data Scientist, Junior</td>\n",
              "      <td>Нет опыта</td>\n",
              "      <td>Полная занятость</td>\n",
              "    </tr>\n",
              "  </tbody>\n",
              "</table>\n",
              "</div>"
            ],
            "text/plain": [
              "                                                 name          experience  \\\n",
              "0                             Junior+ CV/ML developer  От 1 года до 3 лет   \n",
              "1                            Data Scientist (Junior+)  От 1 года до 3 лет   \n",
              "2                      Junior Data Scientist (Стажер)           Нет опыта   \n",
              "3      Математик, Junior/Middle/Senior Data Scientist  От 1 года до 3 лет   \n",
              "4   Data Scientist/Machine Learning Engineer (Deve...           Нет опыта   \n",
              "5                               Junior Data Scientist           Нет опыта   \n",
              "6                             Data Scientist (Junior)           Нет опыта   \n",
              "7                        Intern/Junior Data Scientist           Нет опыта   \n",
              "8                          Junior Data Scientist (VK)  От 1 года до 3 лет   \n",
              "9                        Junior/Middle Data Scientist  От 1 года до 3 лет   \n",
              "10          Data Scientist (Computer Vision) - Junior           Нет опыта   \n",
              "11  Исследователь в области машинного обучения и м...           Нет опыта   \n",
              "12                             Data Scientist, Junior           Нет опыта   \n",
              "13                    Data Scientist (junior+/middle)  От 1 года до 3 лет   \n",
              "14  Junior Data Scientist Управления модельных рис...  От 1 года до 3 лет   \n",
              "15  Математик-аналитик (data scientist / data anal...           Нет опыта   \n",
              "16                              Junior Data Scientist  От 1 года до 3 лет   \n",
              "17                 Research Engineer / Data Scientist           Нет опыта   \n",
              "18  Стажер направления Машинное обучение и анализ ...           Нет опыта   \n",
              "19                              Junior Data Scientist  От 1 года до 3 лет   \n",
              "20  Стажёр Data Scientist / Группа сервисов Антифр...           Нет опыта   \n",
              "21             Junior Data Scientist (Promo Forecast)  От 1 года до 3 лет   \n",
              "22          Senior Research Engineer / Data Scientist           Нет опыта   \n",
              "23                              Ведущий AI/ML инженер           Нет опыта   \n",
              "24        Data scientist (Junior/Middle) в консалтинг           Нет опыта   \n",
              "25  Junior Data Scientist (математик-аналитик) уда...  От 1 года до 3 лет   \n",
              "26  Data Scientist/Machine Learning Engineer (Deve...           Нет опыта   \n",
              "27  Junior Data Scientist (Валидация скоринговых м...  От 1 года до 3 лет   \n",
              "28                              Data Scientist в Сбер           Нет опыта   \n",
              "29  Data Scientist/Machine Learning Engineer (Deve...           Нет опыта   \n",
              "30  Junior Data Scientist (Валидация скоринговых м...  От 1 года до 3 лет   \n",
              "31  Junior Data Scientist (Валидация скоринговых м...  От 1 года до 3 лет   \n",
              "32  Junior Data Scientist (Валидация скоринговых м...  От 1 года до 3 лет   \n",
              "33  Junior Data Scientist (Валидация скоринговых м...  От 1 года до 3 лет   \n",
              "34  Junior Data Scientist (Валидация скоринговых м...  От 1 года до 3 лет   \n",
              "35  Junior Data Scientist (Валидация скоринговых м...  От 1 года до 3 лет   \n",
              "36  Junior Data Scientist (Валидация скоринговых м...  От 1 года до 3 лет   \n",
              "37  Junior Data Scientist (Валидация скоринговых м...  От 1 года до 3 лет   \n",
              "38            Риск - Аналитик (Junior Data scientist)  От 1 года до 3 лет   \n",
              "39  Программист Python/ Data Scientist (junior / m...           Нет опыта   \n",
              "40            Data Scientist/ML engineer (Python/C++)           Нет опыта   \n",
              "41       Риск-аналитик (ML Engineer / Data Scientist)           Нет опыта   \n",
              "42       Junior Data scientist/ Младший риск-аналитик  От 1 года до 3 лет   \n",
              "43                         Senior Data Scientist (AI)           Нет опыта   \n",
              "44             Junior Data Scientist for NLP (Python)           Нет опыта   \n",
              "45          Junior Research Engineer / Data Scientist  От 1 года до 3 лет   \n",
              "46                              Ведущий AI/ML инженер           Нет опыта   \n",
              "47              Python developer / Junior ML engineer           Нет опыта   \n",
              "48                                     Data Scientist           Нет опыта   \n",
              "49          Data Scientist (Computer Vision) / Junior           Нет опыта   \n",
              "50                             Data Scientist, Junior           Нет опыта   \n",
              "\n",
              "             employment  \n",
              "0      Полная занятость  \n",
              "1      Полная занятость  \n",
              "2            Стажировка  \n",
              "3   Частичная занятость  \n",
              "4   Частичная занятость  \n",
              "5      Полная занятость  \n",
              "6   Частичная занятость  \n",
              "7            Стажировка  \n",
              "8      Полная занятость  \n",
              "9      Полная занятость  \n",
              "10     Полная занятость  \n",
              "11     Полная занятость  \n",
              "12     Полная занятость  \n",
              "13     Полная занятость  \n",
              "14     Полная занятость  \n",
              "15     Полная занятость  \n",
              "16     Полная занятость  \n",
              "17     Полная занятость  \n",
              "18           Стажировка  \n",
              "19     Полная занятость  \n",
              "20           Стажировка  \n",
              "21     Полная занятость  \n",
              "22     Полная занятость  \n",
              "23     Полная занятость  \n",
              "24     Полная занятость  \n",
              "25     Полная занятость  \n",
              "26  Частичная занятость  \n",
              "27     Полная занятость  \n",
              "28     Полная занятость  \n",
              "29  Частичная занятость  \n",
              "30     Полная занятость  \n",
              "31     Полная занятость  \n",
              "32     Полная занятость  \n",
              "33     Полная занятость  \n",
              "34     Полная занятость  \n",
              "35     Полная занятость  \n",
              "36     Полная занятость  \n",
              "37     Полная занятость  \n",
              "38     Полная занятость  \n",
              "39     Полная занятость  \n",
              "40     Полная занятость  \n",
              "41     Полная занятость  \n",
              "42     Полная занятость  \n",
              "43     Полная занятость  \n",
              "44     Полная занятость  \n",
              "45     Полная занятость  \n",
              "46     Полная занятость  \n",
              "47     Полная занятость  \n",
              "48     Полная занятость  \n",
              "49     Полная занятость  \n",
              "50     Полная занятость  "
            ]
          },
          "metadata": {},
          "output_type": "display_data"
        }
      ],
      "source": [
        "Data_Vac_Jun = pd.read_sql_query(query_6_2, connection)\n",
        "display(Data_Vac_Jun)"
      ]
    },
    {
      "cell_type": "markdown",
      "id": "eedceb80-c5ca-480e-b27a-278dfb8b4438",
      "metadata": {
        "id": "eedceb80-c5ca-480e-b27a-278dfb8b4438"
      },
      "source": [
        "3. Сколько есть вакансий для DS, в которых в качестве ключевого навыка указан SQL или postgres?\n",
        "\n",
        "** Критерии для отнесения вакансии к DS указаны в предыдущем задании.*"
      ]
    },
    {
      "cell_type": "code",
      "execution_count": 696,
      "id": "69621713-0cc5-4f1b-a1d7-bb144fa6148c",
      "metadata": {
        "id": "69621713-0cc5-4f1b-a1d7-bb144fa6148c"
      },
      "outputs": [],
      "source": [
        "query_6_3 = ''' \n",
        "\n",
        "-- из таблицы с вакансиями выбираем название и ключевые навыки \n",
        "select \n",
        "    name,\n",
        "    key_skills\n",
        "\n",
        "from \n",
        "    vacancies\n",
        "\n",
        "where \n",
        "    -- фильтруем данные в соответсвии с условием \n",
        "    ((name ilike '%ML%' and name not ilike '%HTML%') or        \n",
        "    (lower(name) like '%data scientist%') or \n",
        "    (lower(name) like '%data science%') or\n",
        "    (lower(name) like '%исследователь данных%') or\n",
        "    (lower(name) like '%machine learning%') or\n",
        "    (lower(name) like '%машинн%обучен%') \n",
        "    \n",
        "    AND \n",
        "    \n",
        "    -- исключаем данные, где key_skills отсутсвуют \n",
        "    (key_skills IS NOT NULL))\n",
        "\n",
        "    AND\n",
        "    \n",
        "    -- выбираем данные, где key_skills включают SQL или Postgres\n",
        "    (key_skills like '%SQL%' or key_skills ilike '%postgres%')\n",
        "\n",
        "order by name\n",
        "    \n",
        "'''\n"
      ]
    },
    {
      "cell_type": "code",
      "execution_count": 697,
      "id": "be935bdd",
      "metadata": {},
      "outputs": [
        {
          "data": {
            "application/vnd.microsoft.datawrangler.viewer.v0+json": {
              "columns": [
                {
                  "name": "index",
                  "rawType": "int64",
                  "type": "integer"
                },
                {
                  "name": "name",
                  "rawType": "object",
                  "type": "string"
                },
                {
                  "name": "key_skills",
                  "rawType": "object",
                  "type": "string"
                }
              ],
              "conversionMethod": "pd.DataFrame",
              "ref": "32a9c967-c4a6-494d-a876-e6382e2eafd7",
              "rows": [
                [
                  "0",
                  "Analyst/Data Scientist",
                  "Английский язык\tНавыки презентации\tСбор и анализ информации\tАнализ данных\tBig Data\tGoogle Sheets\tPython\tData Mining\tPower Pivot\tPower BI\tData Analysis\tData Science\tАналитические исследования\tАналитическое мышление\tSQL"
                ],
                [
                  "1",
                  "B2B Data Scientist (Эксперт по моделированию и анализу данных) Senior/Middle",
                  "Python\tSQL\tPostgreSQL\tGit\tАнглийский язык"
                ],
                [
                  "2",
                  "Backend- разработчик (Middle/Senior-TeamLeader)",
                  "JavaScript\tMySQL\tОбучение и развитие\tУправление персоналом\tPHP\tMVC\tReact\tVue"
                ],
                [
                  "3",
                  "Chief Data Science (Цифровой кредитный мониторинг)",
                  "Python\tSpark\tHadoop\tSQL\tBig Data"
                ],
                [
                  "4",
                  "Commercial Data Scientist / Эксперт по наукоемким методам анализа данных в сфере маркетинга и продаж",
                  "Python\tData Analysis\tMachine Learning\tTensorflow\tKeras\tSQL\tMarket Research\tDeep Learning\tBusiness Analysis"
                ],
                [
                  "5",
                  "C++ разработчик (QML)",
                  "ООП\tC++\tSQL"
                ],
                [
                  "6",
                  "Data Analyst/Data Scientist",
                  "SQL\tPython"
                ],
                [
                  "7",
                  "Data Engineer в команду Data Science Блока «Сеть Продаж»",
                  "Hadoop\tSpark\tSQL\tPython\tSCALA"
                ],
                [
                  "8",
                  "Data / ML Engineer (Персонализация)",
                  "Python\tSQL\tORACLE\tOracle Pl/SQL"
                ],
                [
                  "9",
                  "Data / ML Engineer (Персонализация)",
                  "Python\tSQL\tORACLE\tOracle Pl/SQL"
                ],
                [
                  "10",
                  "Data / ML Engineer (Персонализация)",
                  "Python\tSQL\tORACLE\tOracle Pl/SQL"
                ],
                [
                  "11",
                  "Data Science",
                  "Spark\tPython\tHadoop\tBig Data\tSCALA\tGreenplum\tNumpy\tSQL\tML\tPandas\tHive\tImpala\tOozie\tPyspark"
                ],
                [
                  "12",
                  "Data science engineer (MY.GAMES)",
                  "Python\tSQL\tПроверка гипотез\tСтатистика"
                ],
                [
                  "13",
                  "Data Science specialist",
                  "Python\tSQL\tМатематическая статистика\tML\tsklearn\tРабота в команде"
                ],
                [
                  "14",
                  "Data Science Team Lead",
                  "Python\tSQL\tData Analysis\tМатематическая статистика\tАнализ данных"
                ],
                [
                  "15",
                  "Data science инженер",
                  "SQL\tPython"
                ],
                [
                  "16",
                  "Data Science эксперт",
                  "Python\tСтатистический анализ\tSQL\tМатематическая статистика\tMachine Learning"
                ],
                [
                  "17",
                  "Data scientist",
                  "Python\tSQL\tМатематическая статистика\tСтатистический анализ\tСтатистика"
                ],
                [
                  "18",
                  "Data scientist",
                  "Python\tМатематическая статистика\tSQL\tPandas\tМашинное обучение"
                ],
                [
                  "19",
                  "Data scientist",
                  "Python\tSQL\tHadoop\tSpark\tBig Data\tМашинное обучение\tМатематическая статистика"
                ],
                [
                  "20",
                  "Data scientist",
                  "Python\tNLP\tMachine Learning\tPyTorch\tSQL"
                ],
                [
                  "21",
                  "Data scientist",
                  "Spark\tHadoop\tPython\tBig Data\tSCALA\tJava\tSQL\tGreenplum\tTeradata"
                ],
                [
                  "22",
                  "Data Scientist",
                  "Python\tSQL\tМатематическая статистика\tМатематическое моделирование\tBig Data\tMachine Learning\tJava\tИсследование данных"
                ],
                [
                  "23",
                  "Data Scientist",
                  "Python\tМатематическая статистика\tSQL\tMachine Learning"
                ],
                [
                  "24",
                  "Data Scientist",
                  "SCALA\tSQL\tМатематический анализ\tСтатистический анализ\tСтатистика\tМатематическое моделирование\tPandas"
                ],
                [
                  "25",
                  "Data Scientist",
                  "Linux\tPython\tSQL\tОбучение и развитие\tУмение принимать решения\tData Analysis\tBig Data\tHadoop"
                ],
                [
                  "26",
                  "Data Scientist",
                  "Python\tSQL\tData Mining\tАналитические исследования\tNLP"
                ],
                [
                  "27",
                  "Data Scientist",
                  "Python\tSQL\tData Mining\tАналитические исследования\tNLP"
                ],
                [
                  "28",
                  "Data Scientist",
                  "Python\tSQL\tLinux\tHadoop\tАнализ данных\tCatBoost\tMachine Learning\tData Science\tРекомендательные системы\tML\tАлгоритмы\tМашинное обучение\tMathematical Statistics\tМатематический анализ\tData Analysis\tНейросети\tГрадиентный бустинг"
                ],
                [
                  "29",
                  "Data Scientist",
                  "Python\tMS SQL\tPandas\tВалидация моделей\tРозничный риск"
                ],
                [
                  "30",
                  "Data Scientist",
                  "Python\tData Mining\tSQL\tМатематическая статистика\tZepellin"
                ],
                [
                  "31",
                  "Data Scientist",
                  "SQL\tData Analysis\tdata science"
                ],
                [
                  "32",
                  "Data Scientist",
                  "Oracle Pl/SQL\tБазы данных\tMachine Learning\tМашинное обучение\tGit\tData science\tPython\tРабота с базами данных\tМатематические модели"
                ],
                [
                  "33",
                  "Data Scientist",
                  "Python\tSQL\tNLP\tScikit-learn\tMachine Learning"
                ],
                [
                  "34",
                  "Data Scientist",
                  "Python\tSQL\tNLP\tScikit-learn\tMachine Learning"
                ],
                [
                  "35",
                  "Data Scientist",
                  "Python\tSQL\tNLP\tScikit-learn\tMachine Learning"
                ],
                [
                  "36",
                  "Data Scientist",
                  "Python\tSQL\tNLP\tScikit-learn\tMachine Learning"
                ],
                [
                  "37",
                  "Data Scientist",
                  "Python\tGit\tTensorFlow\tKeras\tJupiter\tNLP\tSQL\tDataiku\tSpark\tMongoDB\tAzure"
                ],
                [
                  "38",
                  "Data Scientist",
                  "Python\tSQL\tsklearn\tpytorch\ttensorflow\tBI\tСтатистика\tА/Б тесты\tBigQuery\tEDA\tGit"
                ],
                [
                  "39",
                  "Data Scientist",
                  "Python\tАнглийский язык\tMachine Learning\tАнализ данных\tPandas\tАлгоритмы\tМатематическое моделирование\tSQL\tМашинное обучение\tБазы данных\tData Analysis\tData Science\tBig Data"
                ],
                [
                  "40",
                  "Data Scientist",
                  "Статистический анализ\tАналитическое мышление\tSQL\tМатематическая статистика\tАнализ данных"
                ],
                [
                  "41",
                  "Data Scientist",
                  "Python\tSQL\tMachine Learning\tJupyter Notebook\tPostgreSQL"
                ],
                [
                  "42",
                  "Data Scientist",
                  "Python\tSQL\tScikit-learn\tМатематическое моделирование\tМатематическая статистика\tPostgreSQL\tXGBoost\tWeb Speech API\tStanford Core NLP"
                ],
                [
                  "43",
                  "Data Scientist",
                  "Python\tSQL\tData Mining\tАналитические исследования\tNLP"
                ],
                [
                  "44",
                  "Data Scientist",
                  "Python\tSQL\tData Mining\tАналитические исследования\tNLP"
                ],
                [
                  "45",
                  "Data Scientist",
                  "Python\tSQL\tData Mining\tАналитические исследования\tNLP"
                ],
                [
                  "46",
                  "Data Scientist",
                  "Python\tSQL\tData Mining\tАналитические исследования\tNLP"
                ],
                [
                  "47",
                  "Data Scientist",
                  "Python\tLinux\tSQL\tДеловая переписка\tMachine Learning\tМатематическое моделирование\tML\tData Science\tBig Data"
                ],
                [
                  "48",
                  "Data Scientist",
                  "Python\tSpark\tSQL\tDocker\tMachine Learning\tkubernetes"
                ],
                [
                  "49",
                  "Data Scientist",
                  "SQL\tData Analysis\tdata science"
                ]
              ],
              "shape": {
                "columns": 2,
                "rows": 229
              }
            },
            "text/html": [
              "<div>\n",
              "<style scoped>\n",
              "    .dataframe tbody tr th:only-of-type {\n",
              "        vertical-align: middle;\n",
              "    }\n",
              "\n",
              "    .dataframe tbody tr th {\n",
              "        vertical-align: top;\n",
              "    }\n",
              "\n",
              "    .dataframe thead th {\n",
              "        text-align: right;\n",
              "    }\n",
              "</style>\n",
              "<table border=\"1\" class=\"dataframe\">\n",
              "  <thead>\n",
              "    <tr style=\"text-align: right;\">\n",
              "      <th></th>\n",
              "      <th>name</th>\n",
              "      <th>key_skills</th>\n",
              "    </tr>\n",
              "  </thead>\n",
              "  <tbody>\n",
              "    <tr>\n",
              "      <th>0</th>\n",
              "      <td>Analyst/Data Scientist</td>\n",
              "      <td>Английский язык\\tНавыки презентации\\tСбор и ан...</td>\n",
              "    </tr>\n",
              "    <tr>\n",
              "      <th>1</th>\n",
              "      <td>B2B Data Scientist (Эксперт по моделированию и...</td>\n",
              "      <td>Python\\tSQL\\tPostgreSQL\\tGit\\tАнглийский язык</td>\n",
              "    </tr>\n",
              "    <tr>\n",
              "      <th>2</th>\n",
              "      <td>Backend- разработчик (Middle/Senior-TeamLeader)</td>\n",
              "      <td>JavaScript\\tMySQL\\tОбучение и развитие\\tУправл...</td>\n",
              "    </tr>\n",
              "    <tr>\n",
              "      <th>3</th>\n",
              "      <td>Chief Data Science (Цифровой кредитный монитор...</td>\n",
              "      <td>Python\\tSpark\\tHadoop\\tSQL\\tBig Data</td>\n",
              "    </tr>\n",
              "    <tr>\n",
              "      <th>4</th>\n",
              "      <td>Commercial Data Scientist / Эксперт по наукоем...</td>\n",
              "      <td>Python\\tData Analysis\\tMachine Learning\\tTenso...</td>\n",
              "    </tr>\n",
              "    <tr>\n",
              "      <th>...</th>\n",
              "      <td>...</td>\n",
              "      <td>...</td>\n",
              "    </tr>\n",
              "    <tr>\n",
              "      <th>224</th>\n",
              "      <td>Специалист по разработке систем технического з...</td>\n",
              "      <td>Python\\tLinux\\tMongoDB\\tPostgreSQL</td>\n",
              "    </tr>\n",
              "    <tr>\n",
              "      <th>225</th>\n",
              "      <td>Специалист по углубленной аналитике данных (Da...</td>\n",
              "      <td>SPSS\\tСтатистический анализ\\tStatistica\\tАнали...</td>\n",
              "    </tr>\n",
              "    <tr>\n",
              "      <th>226</th>\n",
              "      <td>Стажер направления Машинное обучение и анализ ...</td>\n",
              "      <td>SQL\\tOracle Pl/SQL</td>\n",
              "    </tr>\n",
              "    <tr>\n",
              "      <th>227</th>\n",
              "      <td>Стажёр Data Scientist / Группа сервисов Антифр...</td>\n",
              "      <td>Python\\tSQL\\tPostgreSQL\\tML\\tMachine Learning\\...</td>\n",
              "    </tr>\n",
              "    <tr>\n",
              "      <th>228</th>\n",
              "      <td>Старший аналитик (Data Science)</td>\n",
              "      <td>Data Mining\\tMS SQL Server\\tOlap (online analy...</td>\n",
              "    </tr>\n",
              "  </tbody>\n",
              "</table>\n",
              "<p>229 rows × 2 columns</p>\n",
              "</div>"
            ],
            "text/plain": [
              "                                                  name  \\\n",
              "0                               Analyst/Data Scientist   \n",
              "1    B2B Data Scientist (Эксперт по моделированию и...   \n",
              "2      Backend- разработчик (Middle/Senior-TeamLeader)   \n",
              "3    Chief Data Science (Цифровой кредитный монитор...   \n",
              "4    Commercial Data Scientist / Эксперт по наукоем...   \n",
              "..                                                 ...   \n",
              "224  Специалист по разработке систем технического з...   \n",
              "225  Специалист по углубленной аналитике данных (Da...   \n",
              "226  Стажер направления Машинное обучение и анализ ...   \n",
              "227  Стажёр Data Scientist / Группа сервисов Антифр...   \n",
              "228                    Старший аналитик (Data Science)   \n",
              "\n",
              "                                            key_skills  \n",
              "0    Английский язык\\tНавыки презентации\\tСбор и ан...  \n",
              "1        Python\\tSQL\\tPostgreSQL\\tGit\\tАнглийский язык  \n",
              "2    JavaScript\\tMySQL\\tОбучение и развитие\\tУправл...  \n",
              "3                 Python\\tSpark\\tHadoop\\tSQL\\tBig Data  \n",
              "4    Python\\tData Analysis\\tMachine Learning\\tTenso...  \n",
              "..                                                 ...  \n",
              "224                 Python\\tLinux\\tMongoDB\\tPostgreSQL  \n",
              "225  SPSS\\tСтатистический анализ\\tStatistica\\tАнали...  \n",
              "226                                 SQL\\tOracle Pl/SQL  \n",
              "227  Python\\tSQL\\tPostgreSQL\\tML\\tMachine Learning\\...  \n",
              "228  Data Mining\\tMS SQL Server\\tOlap (online analy...  \n",
              "\n",
              "[229 rows x 2 columns]"
            ]
          },
          "execution_count": 697,
          "metadata": {},
          "output_type": "execute_result"
        }
      ],
      "source": [
        "Data_Vac_SQL = pd.read_sql_query(query_6_3, connection)\n",
        "Data_Vac_SQL"
      ]
    },
    {
      "cell_type": "markdown",
      "id": "1be1e9c6-37cf-4a5f-bfeb-04cab799dc80",
      "metadata": {
        "id": "1be1e9c6-37cf-4a5f-bfeb-04cab799dc80"
      },
      "source": [
        "4. Проверьте, насколько популярен Python в требованиях работодателей к DS.Для этого вычислите количество вакансий, в которых в качестве ключевого навыка указан Python.\n",
        "\n",
        "** Это можно сделать помощью запроса, аналогичного предыдущему.*"
      ]
    },
    {
      "cell_type": "code",
      "execution_count": 698,
      "id": "0036a355-9ccf-4564-8b01-73d8194297e7",
      "metadata": {
        "id": "0036a355-9ccf-4564-8b01-73d8194297e7"
      },
      "outputs": [],
      "source": [
        "query_6_4 = ''' \n",
        "\n",
        "-- из таблицы с вакансиями выбираем название и ключевые навыки \n",
        "select \n",
        "    name,\n",
        "    key_skills\n",
        "\n",
        "from \n",
        "    vacancies\n",
        "\n",
        "where \n",
        "\n",
        "    -- фильтруем данные в соответсвии с условием \n",
        "    ((name ilike '%ML%' and name not ilike '%HTML%') or        \n",
        "    (lower(name) like '%data scientist%') or \n",
        "    (lower(name) like '%data science%') or\n",
        "    (lower(name) like '%исследователь данных%') or\n",
        "    (lower(name) like '%machine learning%') or\n",
        "    (lower(name) like '%машинн%обучен%') )\n",
        "    \n",
        "    AND \n",
        "    \n",
        "    -- исключаем данные, где key_skills отсутсвуют \n",
        "    (key_skills IS NOT NULL)\n",
        "\n",
        "    AND\n",
        "    \n",
        "    -- выбираем данные, где key_skills включают Python \n",
        "    (key_skills ilike '%python%')\n",
        "\n",
        "order by name\n",
        "    \n",
        "'''"
      ]
    },
    {
      "cell_type": "code",
      "execution_count": 699,
      "id": "1i-5WyucvQ6v",
      "metadata": {
        "id": "1i-5WyucvQ6v"
      },
      "outputs": [
        {
          "data": {
            "application/vnd.microsoft.datawrangler.viewer.v0+json": {
              "columns": [
                {
                  "name": "index",
                  "rawType": "int64",
                  "type": "integer"
                },
                {
                  "name": "name",
                  "rawType": "object",
                  "type": "string"
                },
                {
                  "name": "key_skills",
                  "rawType": "object",
                  "type": "string"
                }
              ],
              "conversionMethod": "pd.DataFrame",
              "ref": "3c64907f-939e-4852-9f74-a11d85488c04",
              "rows": [
                [
                  "0",
                  "AI/ML Senior Engineer",
                  "Python\tFlask\tLinux\tAWS\tGit"
                ],
                [
                  "1",
                  "AI/ML Senior Engineer",
                  "Python\tFlask\tLinux\tAWS\tGit"
                ],
                [
                  "2",
                  "Analyst/Data Scientist",
                  "Английский язык\tНавыки презентации\tСбор и анализ информации\tАнализ данных\tBig Data\tGoogle Sheets\tPython\tData Mining\tPower Pivot\tPower BI\tData Analysis\tData Science\tАналитические исследования\tАналитическое мышление\tSQL"
                ],
                [
                  "3",
                  "B2B Data Scientist (Эксперт по моделированию и анализу данных) Senior/Middle",
                  "Python\tSQL\tPostgreSQL\tGit\tАнглийский язык"
                ],
                [
                  "4",
                  "Chief Data Science (Цифровой кредитный мониторинг)",
                  "Python\tSpark\tHadoop\tSQL\tBig Data"
                ],
                [
                  "5",
                  "Commercial Data Scientist / Эксперт по наукоемким методам анализа данных в сфере маркетинга и продаж",
                  "Python\tData Analysis\tMachine Learning\tTensorflow\tKeras\tSQL\tMarket Research\tDeep Learning\tBusiness Analysis"
                ],
                [
                  "6",
                  "Computer vision / machine learning engineer",
                  "PyTorch\tPython\tTensorflow\tOpenCV\tComputer Vision"
                ],
                [
                  "7",
                  "Data Analyst/Data Scientist",
                  "SQL\tPython"
                ],
                [
                  "8",
                  "Data Engineer в команду Data Science Блока «Сеть Продаж»",
                  "Hadoop\tSpark\tSQL\tPython\tSCALA"
                ],
                [
                  "9",
                  "Data / ML Engineer (Персонализация)",
                  "Python\tSQL\tORACLE\tOracle Pl/SQL"
                ],
                [
                  "10",
                  "Data / ML Engineer (Персонализация)",
                  "Python\tSQL\tORACLE\tOracle Pl/SQL"
                ],
                [
                  "11",
                  "Data / ML Engineer (Персонализация)",
                  "Python\tSQL\tORACLE\tOracle Pl/SQL"
                ],
                [
                  "12",
                  "Data Science",
                  "Spark\tPython\tHadoop\tBig Data\tSCALA\tGreenplum\tNumpy\tSQL\tML\tPandas\tHive\tImpala\tOozie\tPyspark"
                ],
                [
                  "13",
                  "Data Science / Data Analyst",
                  "Анализ больших данных\tБазы данных\tРабота с большим объемом информации\tData Science\tPython\tData Analysis"
                ],
                [
                  "14",
                  "Data science engineer (MY.GAMES)",
                  "Python\tSQL\tПроверка гипотез\tСтатистика"
                ],
                [
                  "15",
                  "Data Science specialist",
                  "Python\tSQL\tМатематическая статистика\tML\tsklearn\tРабота в команде"
                ],
                [
                  "16",
                  "Data Science Team Lead",
                  "Python\tSQL\tData Analysis\tМатематическая статистика\tАнализ данных"
                ],
                [
                  "17",
                  "Data Science Team Lead (to Cyprus)",
                  "Python\tАнглийский язык\tBig Data\tData Science\tPeople Management"
                ],
                [
                  "18",
                  "Data science инженер",
                  "SQL\tPython"
                ],
                [
                  "19",
                  "Data Science - инженер",
                  "Git\tML\tРазработка продукта\tAgile\tАналитика\tВедение переговоров\tРабота с большим объемом информации\tPython\tScrum\tKanban"
                ],
                [
                  "20",
                  "Data science разработчик (Товарная платформа)",
                  "Hadoop\tSpark\tPython\tSCALA\tJava\tBig Data\tData Science"
                ],
                [
                  "21",
                  "Data Science эксперт",
                  "Python\tСтатистический анализ\tSQL\tМатематическая статистика\tMachine Learning"
                ],
                [
                  "22",
                  "Data scientist",
                  "Python\tC++\tНаписание статей\tНаписание научный статей\tАнглийский язык\tnlp"
                ],
                [
                  "23",
                  "Data scientist",
                  "Spark\tHadoop\tPython\tBig Data\tSCALA\tJava\tSQL\tGreenplum\tTeradata"
                ],
                [
                  "24",
                  "Data scientist",
                  "Python\tMachine Learning\tDeep Learning\tPandas, Numpy, Keras, Pytorch, SciPy, Flask"
                ],
                [
                  "25",
                  "Data scientist",
                  "Python\tComputer Vision\tTensorflow\tPyTorch\tKeras\tML"
                ],
                [
                  "26",
                  "Data scientist",
                  "Python\tSQL\tHadoop\tSpark\tBig Data\tМашинное обучение\tМатематическая статистика"
                ],
                [
                  "27",
                  "Data scientist",
                  "Python\tМатематическая статистика\tSQL\tPandas\tМашинное обучение"
                ],
                [
                  "28",
                  "Data scientist",
                  "Python\tSQL\tМатематическая статистика\tСтатистический анализ\tСтатистика"
                ],
                [
                  "29",
                  "Data scientist",
                  "Python\tNLP\tMachine Learning\tPyTorch\tSQL"
                ],
                [
                  "30",
                  "Data Scientist",
                  "Python\tSQL\tNLP\tScikit-learn\tMachine Learning"
                ],
                [
                  "31",
                  "Data Scientist",
                  "Python\tSQL\tData Mining\tАналитические исследования\tNLP"
                ],
                [
                  "32",
                  "Data Scientist",
                  "Python\tSQL\tData Mining\tАналитические исследования\tNLP"
                ],
                [
                  "33",
                  "Data Scientist",
                  "Python\tSQL\tData Mining\tАналитические исследования\tNLP"
                ],
                [
                  "34",
                  "Data Scientist",
                  "Python\tSQL\tData Mining\tАналитические исследования\tNLP"
                ],
                [
                  "35",
                  "Data Scientist",
                  "Python\tLinux\tSQL\tДеловая переписка\tMachine Learning\tМатематическое моделирование\tML\tData Science\tBig Data"
                ],
                [
                  "36",
                  "Data Scientist",
                  "Python\tАнглийский язык\tMachine Learning\tАнализ данных\tPandas\tАлгоритмы\tМатематическое моделирование\tSQL\tМашинное обучение\tБазы данных\tData Analysis\tData Science\tBig Data"
                ],
                [
                  "37",
                  "Data Scientist",
                  "Python\tАнглийский язык\tTime management\tMS PowerPoint\tTensorflow"
                ],
                [
                  "38",
                  "Data Scientist",
                  "Python\tАнглийский язык\tTime management\tMS PowerPoint\tTensorflow"
                ],
                [
                  "39",
                  "Data Scientist",
                  "Python\tSQL\tNLP\tTensorflow\tРабота с базами данных\tWebRTC"
                ],
                [
                  "40",
                  "Data Scientist",
                  "Python\tData Science\tMachine Learning\tМатематическое моделирование\tМатематический анализ\tSQL\tПостроение предиктивных моделей\tМашинное обучение"
                ],
                [
                  "41",
                  "Data Scientist",
                  "Python\tSQL\tООП\tmachine learning\tclickhouse\tgo"
                ],
                [
                  "42",
                  "Data Scientist",
                  "Python\tSQL\tМатематическая статистика\tМатематическое моделирование\tBig Data\tMachine Learning\tJava\tИсследование данных"
                ],
                [
                  "43",
                  "Data Scientist",
                  "Python\tSQL\tsklearn\tpytorch\ttensorflow\tBI\tСтатистика\tА/Б тесты\tBigQuery\tEDA\tGit"
                ],
                [
                  "44",
                  "Data Scientist",
                  "Python\tGit\tPyTorch\tМатематический анализ\tC++"
                ],
                [
                  "45",
                  "Data Scientist",
                  "Python\tHadoop\tBig Data\tSpark\tМашинное обучение\tJava\tSCALA\tMachine Learning"
                ],
                [
                  "46",
                  "Data Scientist",
                  "Python\tSQL\tPandas\tML\tАнализ данных\tGit\tАнглийский язык"
                ],
                [
                  "47",
                  "Data Scientist",
                  "Python\tSQL\tGit\tLinux\tМатематическая статистика"
                ],
                [
                  "48",
                  "Data Scientist",
                  "Python\tМоделирование\tБенчмаркинг\tbasel\tMachine Learning"
                ],
                [
                  "49",
                  "Data Scientist",
                  "Python\tSQL\tScikit-learn\tМатематическое моделирование\tМатематическая статистика\tPostgreSQL\tXGBoost\tWeb Speech API\tStanford Core NLP"
                ]
              ],
              "shape": {
                "columns": 2,
                "rows": 357
              }
            },
            "text/html": [
              "<div>\n",
              "<style scoped>\n",
              "    .dataframe tbody tr th:only-of-type {\n",
              "        vertical-align: middle;\n",
              "    }\n",
              "\n",
              "    .dataframe tbody tr th {\n",
              "        vertical-align: top;\n",
              "    }\n",
              "\n",
              "    .dataframe thead th {\n",
              "        text-align: right;\n",
              "    }\n",
              "</style>\n",
              "<table border=\"1\" class=\"dataframe\">\n",
              "  <thead>\n",
              "    <tr style=\"text-align: right;\">\n",
              "      <th></th>\n",
              "      <th>name</th>\n",
              "      <th>key_skills</th>\n",
              "    </tr>\n",
              "  </thead>\n",
              "  <tbody>\n",
              "    <tr>\n",
              "      <th>0</th>\n",
              "      <td>AI/ML Senior Engineer</td>\n",
              "      <td>Python\\tFlask\\tLinux\\tAWS\\tGit</td>\n",
              "    </tr>\n",
              "    <tr>\n",
              "      <th>1</th>\n",
              "      <td>AI/ML Senior Engineer</td>\n",
              "      <td>Python\\tFlask\\tLinux\\tAWS\\tGit</td>\n",
              "    </tr>\n",
              "    <tr>\n",
              "      <th>2</th>\n",
              "      <td>Analyst/Data Scientist</td>\n",
              "      <td>Английский язык\\tНавыки презентации\\tСбор и ан...</td>\n",
              "    </tr>\n",
              "    <tr>\n",
              "      <th>3</th>\n",
              "      <td>B2B Data Scientist (Эксперт по моделированию и...</td>\n",
              "      <td>Python\\tSQL\\tPostgreSQL\\tGit\\tАнглийский язык</td>\n",
              "    </tr>\n",
              "    <tr>\n",
              "      <th>4</th>\n",
              "      <td>Chief Data Science (Цифровой кредитный монитор...</td>\n",
              "      <td>Python\\tSpark\\tHadoop\\tSQL\\tBig Data</td>\n",
              "    </tr>\n",
              "    <tr>\n",
              "      <th>...</th>\n",
              "      <td>...</td>\n",
              "      <td>...</td>\n",
              "    </tr>\n",
              "    <tr>\n",
              "      <th>352</th>\n",
              "      <td>Специалист по углубленной аналитике данных (Da...</td>\n",
              "      <td>SPSS\\tСтатистический анализ\\tStatistica\\tАнали...</td>\n",
              "    </tr>\n",
              "    <tr>\n",
              "      <th>353</th>\n",
              "      <td>Стажёр Data Scientist / Группа сервисов Антифр...</td>\n",
              "      <td>Python\\tSQL\\tPostgreSQL\\tML\\tMachine Learning\\...</td>\n",
              "    </tr>\n",
              "    <tr>\n",
              "      <th>354</th>\n",
              "      <td>Старший разработчик (ML engineer)</td>\n",
              "      <td>Python\\tLinux\\tPyTorch\\tMachine Learning\\tData...</td>\n",
              "    </tr>\n",
              "    <tr>\n",
              "      <th>355</th>\n",
              "      <td>Эксперт по машинному обучению и искусственному...</td>\n",
              "      <td>Python\\tМатематическая статистика\\tМатематичес...</td>\n",
              "    </tr>\n",
              "    <tr>\n",
              "      <th>356</th>\n",
              "      <td>Эксперт по машинному обучению и искусственному...</td>\n",
              "      <td>Python\\tМатематическая статистика\\tМатематичес...</td>\n",
              "    </tr>\n",
              "  </tbody>\n",
              "</table>\n",
              "<p>357 rows × 2 columns</p>\n",
              "</div>"
            ],
            "text/plain": [
              "                                                  name  \\\n",
              "0                                AI/ML Senior Engineer   \n",
              "1                                AI/ML Senior Engineer   \n",
              "2                               Analyst/Data Scientist   \n",
              "3    B2B Data Scientist (Эксперт по моделированию и...   \n",
              "4    Chief Data Science (Цифровой кредитный монитор...   \n",
              "..                                                 ...   \n",
              "352  Специалист по углубленной аналитике данных (Da...   \n",
              "353  Стажёр Data Scientist / Группа сервисов Антифр...   \n",
              "354                  Старший разработчик (ML engineer)   \n",
              "355  Эксперт по машинному обучению и искусственному...   \n",
              "356  Эксперт по машинному обучению и искусственному...   \n",
              "\n",
              "                                            key_skills  \n",
              "0                       Python\\tFlask\\tLinux\\tAWS\\tGit  \n",
              "1                       Python\\tFlask\\tLinux\\tAWS\\tGit  \n",
              "2    Английский язык\\tНавыки презентации\\tСбор и ан...  \n",
              "3        Python\\tSQL\\tPostgreSQL\\tGit\\tАнглийский язык  \n",
              "4                 Python\\tSpark\\tHadoop\\tSQL\\tBig Data  \n",
              "..                                                 ...  \n",
              "352  SPSS\\tСтатистический анализ\\tStatistica\\tАнали...  \n",
              "353  Python\\tSQL\\tPostgreSQL\\tML\\tMachine Learning\\...  \n",
              "354  Python\\tLinux\\tPyTorch\\tMachine Learning\\tData...  \n",
              "355  Python\\tМатематическая статистика\\tМатематичес...  \n",
              "356  Python\\tМатематическая статистика\\tМатематичес...  \n",
              "\n",
              "[357 rows x 2 columns]"
            ]
          },
          "execution_count": 699,
          "metadata": {},
          "output_type": "execute_result"
        }
      ],
      "source": [
        "Data_Vac_Python = pd.read_sql_query(query_6_4, connection)\n",
        "Data_Vac_Python"
      ]
    },
    {
      "cell_type": "markdown",
      "id": "ec3c8db7-fa21-4a41-a994-1af63742a642",
      "metadata": {
        "id": "ec3c8db7-fa21-4a41-a994-1af63742a642"
      },
      "source": [
        "5. Сколько ключевых навыков в среднем указывают в вакансиях для DS?\n",
        "Ответ округлите до двух знаков после точки-разделителя."
      ]
    },
    {
      "cell_type": "code",
      "execution_count": 700,
      "id": "949132bc-d5b6-4611-8218-0b9a504d74f4",
      "metadata": {
        "id": "949132bc-d5b6-4611-8218-0b9a504d74f4"
      },
      "outputs": [],
      "source": [
        "query_6_5 = ''' \n",
        "\n",
        "-- из таблицы с вакансиями выбираем название, навыки и подчитываем кол-во навыков\n",
        "select \n",
        "    v.name, \n",
        "    v.key_skills,\n",
        "    \n",
        "    -- для подсчета кол-ва навыков от строки key_skills \n",
        "    -- отнимаем строку key_skills, где все разделители удалены и прибавляем единицу\n",
        "    length(v.key_skills) - length(replace(v.key_skills, CHR(9), ''))+1 n_skills\n",
        "\n",
        "from \n",
        "    vacancies v\n",
        "\n",
        "where \n",
        "   -- фильтруем данные в соответсвии с условием \n",
        "    (\n",
        "    (name ILIKE '%data scientist%') \n",
        "    OR (name ILIKE '%data science%') \n",
        "    OR (name ILIKE '%исследователь данных%')\n",
        "    OR ((name ILIKE '%ML%') AND (name NOT ILIKE '%HTML%'))\n",
        "    OR (name ILIKE '%machine learning%')\n",
        "    OR (name ILIKE '%машинн%обучен%')  \n",
        "    )\n",
        "    \n",
        "    -- исключаем данные, где key_skills отсутсвуют \n",
        "    AND (key_skills IS NOT NULL)\n",
        "    \n",
        "    order by v.name\n",
        "'''\n"
      ]
    },
    {
      "cell_type": "code",
      "execution_count": 701,
      "id": "07818879",
      "metadata": {},
      "outputs": [
        {
          "name": "stdout",
          "output_type": "stream",
          "text": [
            "Среднее количество запрашиваемых навыков составляет: 6.55\n"
          ]
        }
      ],
      "source": [
        "# записываем запрос в перемменную и расчитываем средннее по столбику 'n_skills'\n",
        "DS_Vacs = pd.read_sql_query(query_6_5, connection)\n",
        "Avg_vacs = round(DS_Vacs['n_skills'].mean(), 2)\n",
        "\n",
        "print(f'Среднее количество запрашиваемых навыков составляет: {Avg_vacs}')"
      ]
    },
    {
      "cell_type": "markdown",
      "id": "1041c17a-ca8f-4543-a0ca-32778914fb00",
      "metadata": {
        "id": "1041c17a-ca8f-4543-a0ca-32778914fb00"
      },
      "source": [
        "6. Напишите запрос, позволяющий вычислить, какую зарплату для DS в **среднем** указывают для каждого типа требуемого опыта (уникальное значение из поля *experience*). \n",
        "\n",
        "При решении задачи примите во внимание следующее:\n",
        "1. Рассматриваем только вакансии, у которых заполнено хотя бы одно из двух полей с зарплатой.\n",
        "2. Если заполнены оба поля с зарплатой, то считаем зарплату по каждой вакансии как сумму двух полей, делённую на 2. Если заполнено только одно из полей, то его и считаем зарплатой по вакансии.\n",
        "3. Если в расчётах участвует null, в результате он тоже даст null (посмотрите, что возвращает запрос select 1 + null). Чтобы избежать этой ситуацию, мы воспользуемся функцией [coalesce](https://postgrespro.ru/docs/postgresql/9.5/functions-conditional#functions-coalesce-nvl-ifnull), которая заменит null на значение, которое мы передадим. Например, посмотрите, что возвращает запрос `select 1 + coalesce(null, 0)`\n",
        "\n",
        "Выясните, на какую зарплату в среднем может рассчитывать дата-сайентист с опытом работы от 3 до 6 лет. Результат округлите до целого числа. "
      ]
    },
    {
      "cell_type": "code",
      "execution_count": 702,
      "id": "6a743d39-5204-48d3-8271-b9f88e68d40e",
      "metadata": {
        "id": "6a743d39-5204-48d3-8271-b9f88e68d40e"
      },
      "outputs": [],
      "source": [
        "add_query_3 = ''' \n",
        "\n",
        "-- присоединяем к таблице с вакансиями названия городов\n",
        "-- выводим название вакансии, название города, опыт работы, \n",
        "-- занятость и расписание \n",
        "select \n",
        "    v.experience,\n",
        "    coalesce(salary_from, 0) + coalesce(salary_to, 0)   Avg_slry\n",
        "    \n",
        "from \n",
        "    vacancies v\n",
        "   \n",
        "\n",
        "where \n",
        "     -- выбираем данные, связанные с DS и ML\n",
        "     (v.name ilike 'ml%'or\n",
        "     v.name ilike '% ml%'or\n",
        "     v.name ilike '%-ml%'or\n",
        "     v.name ilike '%/ml%'or\n",
        "     v.name ilike '%(ml%'or\n",
        "     \n",
        "        \n",
        "     v.name ilike '%data scientist%' or \n",
        "     v.name ilike '%data science%' or \n",
        "     v.name ilike '%исследователь данных%' or\n",
        "     v.name ilike '%machine learning%' or \n",
        "     v.name ilike '%машинн%обучен%')\n",
        "      \n",
        "     \n",
        "     \n",
        "     AND \n",
        "     \n",
        "    (coalesce(salary_from, 0) = 0 or coalesce(salary_to, 0) = 0 )   \n",
        "    \n",
        "     AND \n",
        "    \n",
        "    coalesce(salary_from, 0) + coalesce(salary_to, 0) != 0\n",
        "    \n",
        "union all\n",
        "\n",
        "\n",
        "select \n",
        "    v.experience,\n",
        "    (coalesce(salary_from, 0) + coalesce(salary_to, 0))/2   Avg_slry\n",
        "    \n",
        "from \n",
        "    vacancies v\n",
        "   \n",
        "\n",
        "where \n",
        "     -- выбираем данные, связанные с DS и ML\n",
        "     (v.name ilike 'ml%'or\n",
        "     v.name ilike '% ml%'or\n",
        "     v.name ilike '%-ml%'or\n",
        "     v.name ilike '%/ml%'or\n",
        "     v.name ilike '%(ml%'or\n",
        "     \n",
        "        \n",
        "     v.name ilike '%data scientist%' or \n",
        "     v.name ilike '%data science%' or \n",
        "     v.name ilike '%исследователь данных%' or\n",
        "     v.name ilike '%machine learning%' or \n",
        "     v.name ilike '%машинн%обучен%')\n",
        "     \n",
        "     AND \n",
        "     \n",
        "    (coalesce(salary_from, 0)!=0 and coalesce(salary_to, 0) !=0)\n",
        "\n",
        "\n",
        "'''\n"
      ]
    },
    {
      "cell_type": "code",
      "execution_count": 703,
      "id": "dd5fba33",
      "metadata": {},
      "outputs": [
        {
          "data": {
            "application/vnd.microsoft.datawrangler.viewer.v0+json": {
              "columns": [
                {
                  "name": "index",
                  "rawType": "int64",
                  "type": "integer"
                },
                {
                  "name": "experience",
                  "rawType": "object",
                  "type": "string"
                },
                {
                  "name": "avg_slry",
                  "rawType": "float64",
                  "type": "float"
                }
              ],
              "conversionMethod": "pd.DataFrame",
              "ref": "11f018e9-d891-427f-b220-0d2d689b6f7f",
              "rows": [
                [
                  "0",
                  "Нет опыта",
                  "74643.0"
                ],
                [
                  "1",
                  "От 1 года до 3 лет",
                  "142626.0"
                ],
                [
                  "2",
                  "От 3 до 6 лет",
                  "243115.0"
                ]
              ],
              "shape": {
                "columns": 2,
                "rows": 3
              }
            },
            "text/html": [
              "<div>\n",
              "<style scoped>\n",
              "    .dataframe tbody tr th:only-of-type {\n",
              "        vertical-align: middle;\n",
              "    }\n",
              "\n",
              "    .dataframe tbody tr th {\n",
              "        vertical-align: top;\n",
              "    }\n",
              "\n",
              "    .dataframe thead th {\n",
              "        text-align: right;\n",
              "    }\n",
              "</style>\n",
              "<table border=\"1\" class=\"dataframe\">\n",
              "  <thead>\n",
              "    <tr style=\"text-align: right;\">\n",
              "      <th></th>\n",
              "      <th>experience</th>\n",
              "      <th>avg_slry</th>\n",
              "    </tr>\n",
              "  </thead>\n",
              "  <tbody>\n",
              "    <tr>\n",
              "      <th>0</th>\n",
              "      <td>Нет опыта</td>\n",
              "      <td>74643.0</td>\n",
              "    </tr>\n",
              "    <tr>\n",
              "      <th>1</th>\n",
              "      <td>От 1 года до 3 лет</td>\n",
              "      <td>142626.0</td>\n",
              "    </tr>\n",
              "    <tr>\n",
              "      <th>2</th>\n",
              "      <td>От 3 до 6 лет</td>\n",
              "      <td>243115.0</td>\n",
              "    </tr>\n",
              "  </tbody>\n",
              "</table>\n",
              "</div>"
            ],
            "text/plain": [
              "           experience  avg_slry\n",
              "0           Нет опыта   74643.0\n",
              "1  От 1 года до 3 лет  142626.0\n",
              "2       От 3 до 6 лет  243115.0"
            ]
          },
          "execution_count": 703,
          "metadata": {},
          "output_type": "execute_result"
        }
      ],
      "source": [
        "DS_Avg_Slry = pd.read_sql_query(add_query_3, connection)\n",
        "round(DS_Avg_Slry.groupby('experience', as_index=False)['avg_slry'].mean())"
      ]
    },
    {
      "cell_type": "markdown",
      "id": "6a7892b4-4113-4746-adce-18aa2844f18e",
      "metadata": {
        "id": "6a7892b4-4113-4746-adce-18aa2844f18e"
      },
      "source": [
        "***"
      ]
    },
    {
      "cell_type": "markdown",
      "id": "9ed4d9aa",
      "metadata": {},
      "source": [
        "1.\tВ приведённом датасете к анализу данных относится **1771** вакансия. При этом **461** вакансия относится <br>\n",
        "к *Data science* или *ML*. **51** вакансия подходит для новичков и не требует опыта работы.\n",
        "\n",
        "2.\tВ **229** вакансиях в качестве ключевого навыка указан *SQL* или *PostgreSQL*. *Python* является ключевым <br>\n",
        "навыком в **357** вакансиях. В среднем, количество запрашиваемых навыков составило **6.5**.\n",
        "\n",
        "3.\tСредняя зарплата в вакансиях, не требующих опыта работы, составила **74к**. При опыте работы от *1-го <br>\n",
        "года до 3-х лет*, ЗП увеличивается практически вдвое и составляет в среднем **144к**. Удивительно, что средняя <br>\n",
        "ЗП при опыте работы *более 6-ти лет* ниже, чем при опыте работы *от 3-х до 6-ти лет*. По-видимому, это<br> \n",
        "связано с тем, что в вакансиях *от 6-ти лет* указывают только нижнюю границу зарплатной вилки.\n"
      ]
    },
    {
      "cell_type": "markdown",
      "id": "c0ED6fh7wiBT",
      "metadata": {
        "id": "c0ED6fh7wiBT"
      },
      "source": [
        "# Общий вывод по проекту"
      ]
    },
    {
      "cell_type": "code",
      "execution_count": 704,
      "id": "2c205e7a",
      "metadata": {},
      "outputs": [],
      "source": [
        "add_query_1 = ''' \n",
        "\n",
        "-- присоединяем к таблице с вакансиями названия городов\n",
        "-- выводим название вакансии, название города, опыт работы, \n",
        "-- занятость и расписание \n",
        "select \n",
        "    v.name vac_name,\n",
        "    a.name city,\n",
        "    experience,\n",
        "    employment,\n",
        "    schedule\n",
        "     \n",
        "from \n",
        "    vacancies v \n",
        "    join areas a \n",
        "    on v.area_id=a.id\n",
        "\n",
        "where \n",
        "\n",
        "-- выбираем данные, связанные с DS и ML\n",
        "     v.name ilike 'ml%'or\n",
        "     v.name ilike '% ml%'or\n",
        "     v.name ilike '%-ml%'or\n",
        "     v.name ilike '%/ml%'or\n",
        "     v.name ilike '%(ml%'or\n",
        "     \n",
        "        \n",
        "     v.name ilike '%data scientist%' or \n",
        "     v.name ilike '%data science%' or \n",
        "     v.name ilike '%исследователь данных%' or\n",
        "     v.name ilike '%machine learning%' or \n",
        "     v.name ilike '%машинн%обучен%'\n",
        "'''"
      ]
    },
    {
      "cell_type": "code",
      "execution_count": 706,
      "id": "6d58644d",
      "metadata": {},
      "outputs": [
        {
          "data": {
            "application/vnd.plotly.v1+json": {
              "config": {
                "plotlyServerURL": "https://plot.ly"
              },
              "data": [
                {
                  "coloraxis": "coloraxis",
                  "hovertemplate": "x: %{x}<br>Опыт работы: %{y}<br>color: %{z}<extra></extra>",
                  "name": "0",
                  "type": "heatmap",
                  "x": [
                    "Москва",
                    "Санкт-Петербург",
                    "Новосибирск",
                    "Екатеринбург",
                    "Казань",
                    "Нижний Новгород",
                    "Челябинск",
                    "Уфа",
                    "Самара",
                    "Ростов-на-Дону",
                    "Краснодар",
                    "Омск",
                    "Воронеж",
                    "Пермь",
                    "Волгоград"
                  ],
                  "xaxis": "x",
                  "y": [
                    "Нет опыта",
                    "От 1 года до 3 лет",
                    "От 3 до 6 лет",
                    "Более 6 лет"
                  ],
                  "yaxis": "y",
                  "z": [
                    [
                      10,
                      6,
                      3,
                      2,
                      1,
                      null,
                      null,
                      null,
                      null,
                      null,
                      null,
                      1,
                      1,
                      1,
                      null
                    ],
                    [
                      105,
                      34,
                      11,
                      3,
                      9,
                      10,
                      1,
                      2,
                      3,
                      4,
                      4,
                      1,
                      1,
                      3,
                      1
                    ],
                    [
                      91,
                      22,
                      8,
                      1,
                      4,
                      9,
                      null,
                      null,
                      2,
                      null,
                      2,
                      1,
                      null,
                      null,
                      null
                    ],
                    [
                      8,
                      2,
                      null,
                      null,
                      null,
                      null,
                      null,
                      null,
                      null,
                      null,
                      null,
                      null,
                      null,
                      null,
                      null
                    ]
                  ]
                }
              ],
              "layout": {
                "coloraxis": {
                  "colorscale": [
                    [
                      0,
                      "whitesmoke"
                    ],
                    [
                      1,
                      "darkred"
                    ]
                  ]
                },
                "template": {
                  "data": {
                    "bar": [
                      {
                        "error_x": {
                          "color": "#2a3f5f"
                        },
                        "error_y": {
                          "color": "#2a3f5f"
                        },
                        "marker": {
                          "line": {
                            "color": "#E5ECF6",
                            "width": 0.5
                          },
                          "pattern": {
                            "fillmode": "overlay",
                            "size": 10,
                            "solidity": 0.2
                          }
                        },
                        "type": "bar"
                      }
                    ],
                    "barpolar": [
                      {
                        "marker": {
                          "line": {
                            "color": "#E5ECF6",
                            "width": 0.5
                          },
                          "pattern": {
                            "fillmode": "overlay",
                            "size": 10,
                            "solidity": 0.2
                          }
                        },
                        "type": "barpolar"
                      }
                    ],
                    "carpet": [
                      {
                        "aaxis": {
                          "endlinecolor": "#2a3f5f",
                          "gridcolor": "white",
                          "linecolor": "white",
                          "minorgridcolor": "white",
                          "startlinecolor": "#2a3f5f"
                        },
                        "baxis": {
                          "endlinecolor": "#2a3f5f",
                          "gridcolor": "white",
                          "linecolor": "white",
                          "minorgridcolor": "white",
                          "startlinecolor": "#2a3f5f"
                        },
                        "type": "carpet"
                      }
                    ],
                    "choropleth": [
                      {
                        "colorbar": {
                          "outlinewidth": 0,
                          "ticks": ""
                        },
                        "type": "choropleth"
                      }
                    ],
                    "contour": [
                      {
                        "colorbar": {
                          "outlinewidth": 0,
                          "ticks": ""
                        },
                        "colorscale": [
                          [
                            0,
                            "#0d0887"
                          ],
                          [
                            0.1111111111111111,
                            "#46039f"
                          ],
                          [
                            0.2222222222222222,
                            "#7201a8"
                          ],
                          [
                            0.3333333333333333,
                            "#9c179e"
                          ],
                          [
                            0.4444444444444444,
                            "#bd3786"
                          ],
                          [
                            0.5555555555555556,
                            "#d8576b"
                          ],
                          [
                            0.6666666666666666,
                            "#ed7953"
                          ],
                          [
                            0.7777777777777778,
                            "#fb9f3a"
                          ],
                          [
                            0.8888888888888888,
                            "#fdca26"
                          ],
                          [
                            1,
                            "#f0f921"
                          ]
                        ],
                        "type": "contour"
                      }
                    ],
                    "contourcarpet": [
                      {
                        "colorbar": {
                          "outlinewidth": 0,
                          "ticks": ""
                        },
                        "type": "contourcarpet"
                      }
                    ],
                    "heatmap": [
                      {
                        "colorbar": {
                          "outlinewidth": 0,
                          "ticks": ""
                        },
                        "colorscale": [
                          [
                            0,
                            "#0d0887"
                          ],
                          [
                            0.1111111111111111,
                            "#46039f"
                          ],
                          [
                            0.2222222222222222,
                            "#7201a8"
                          ],
                          [
                            0.3333333333333333,
                            "#9c179e"
                          ],
                          [
                            0.4444444444444444,
                            "#bd3786"
                          ],
                          [
                            0.5555555555555556,
                            "#d8576b"
                          ],
                          [
                            0.6666666666666666,
                            "#ed7953"
                          ],
                          [
                            0.7777777777777778,
                            "#fb9f3a"
                          ],
                          [
                            0.8888888888888888,
                            "#fdca26"
                          ],
                          [
                            1,
                            "#f0f921"
                          ]
                        ],
                        "type": "heatmap"
                      }
                    ],
                    "heatmapgl": [
                      {
                        "colorbar": {
                          "outlinewidth": 0,
                          "ticks": ""
                        },
                        "colorscale": [
                          [
                            0,
                            "#0d0887"
                          ],
                          [
                            0.1111111111111111,
                            "#46039f"
                          ],
                          [
                            0.2222222222222222,
                            "#7201a8"
                          ],
                          [
                            0.3333333333333333,
                            "#9c179e"
                          ],
                          [
                            0.4444444444444444,
                            "#bd3786"
                          ],
                          [
                            0.5555555555555556,
                            "#d8576b"
                          ],
                          [
                            0.6666666666666666,
                            "#ed7953"
                          ],
                          [
                            0.7777777777777778,
                            "#fb9f3a"
                          ],
                          [
                            0.8888888888888888,
                            "#fdca26"
                          ],
                          [
                            1,
                            "#f0f921"
                          ]
                        ],
                        "type": "heatmapgl"
                      }
                    ],
                    "histogram": [
                      {
                        "marker": {
                          "pattern": {
                            "fillmode": "overlay",
                            "size": 10,
                            "solidity": 0.2
                          }
                        },
                        "type": "histogram"
                      }
                    ],
                    "histogram2d": [
                      {
                        "colorbar": {
                          "outlinewidth": 0,
                          "ticks": ""
                        },
                        "colorscale": [
                          [
                            0,
                            "#0d0887"
                          ],
                          [
                            0.1111111111111111,
                            "#46039f"
                          ],
                          [
                            0.2222222222222222,
                            "#7201a8"
                          ],
                          [
                            0.3333333333333333,
                            "#9c179e"
                          ],
                          [
                            0.4444444444444444,
                            "#bd3786"
                          ],
                          [
                            0.5555555555555556,
                            "#d8576b"
                          ],
                          [
                            0.6666666666666666,
                            "#ed7953"
                          ],
                          [
                            0.7777777777777778,
                            "#fb9f3a"
                          ],
                          [
                            0.8888888888888888,
                            "#fdca26"
                          ],
                          [
                            1,
                            "#f0f921"
                          ]
                        ],
                        "type": "histogram2d"
                      }
                    ],
                    "histogram2dcontour": [
                      {
                        "colorbar": {
                          "outlinewidth": 0,
                          "ticks": ""
                        },
                        "colorscale": [
                          [
                            0,
                            "#0d0887"
                          ],
                          [
                            0.1111111111111111,
                            "#46039f"
                          ],
                          [
                            0.2222222222222222,
                            "#7201a8"
                          ],
                          [
                            0.3333333333333333,
                            "#9c179e"
                          ],
                          [
                            0.4444444444444444,
                            "#bd3786"
                          ],
                          [
                            0.5555555555555556,
                            "#d8576b"
                          ],
                          [
                            0.6666666666666666,
                            "#ed7953"
                          ],
                          [
                            0.7777777777777778,
                            "#fb9f3a"
                          ],
                          [
                            0.8888888888888888,
                            "#fdca26"
                          ],
                          [
                            1,
                            "#f0f921"
                          ]
                        ],
                        "type": "histogram2dcontour"
                      }
                    ],
                    "mesh3d": [
                      {
                        "colorbar": {
                          "outlinewidth": 0,
                          "ticks": ""
                        },
                        "type": "mesh3d"
                      }
                    ],
                    "parcoords": [
                      {
                        "line": {
                          "colorbar": {
                            "outlinewidth": 0,
                            "ticks": ""
                          }
                        },
                        "type": "parcoords"
                      }
                    ],
                    "pie": [
                      {
                        "automargin": true,
                        "type": "pie"
                      }
                    ],
                    "scatter": [
                      {
                        "fillpattern": {
                          "fillmode": "overlay",
                          "size": 10,
                          "solidity": 0.2
                        },
                        "type": "scatter"
                      }
                    ],
                    "scatter3d": [
                      {
                        "line": {
                          "colorbar": {
                            "outlinewidth": 0,
                            "ticks": ""
                          }
                        },
                        "marker": {
                          "colorbar": {
                            "outlinewidth": 0,
                            "ticks": ""
                          }
                        },
                        "type": "scatter3d"
                      }
                    ],
                    "scattercarpet": [
                      {
                        "marker": {
                          "colorbar": {
                            "outlinewidth": 0,
                            "ticks": ""
                          }
                        },
                        "type": "scattercarpet"
                      }
                    ],
                    "scattergeo": [
                      {
                        "marker": {
                          "colorbar": {
                            "outlinewidth": 0,
                            "ticks": ""
                          }
                        },
                        "type": "scattergeo"
                      }
                    ],
                    "scattergl": [
                      {
                        "marker": {
                          "colorbar": {
                            "outlinewidth": 0,
                            "ticks": ""
                          }
                        },
                        "type": "scattergl"
                      }
                    ],
                    "scattermapbox": [
                      {
                        "marker": {
                          "colorbar": {
                            "outlinewidth": 0,
                            "ticks": ""
                          }
                        },
                        "type": "scattermapbox"
                      }
                    ],
                    "scatterpolar": [
                      {
                        "marker": {
                          "colorbar": {
                            "outlinewidth": 0,
                            "ticks": ""
                          }
                        },
                        "type": "scatterpolar"
                      }
                    ],
                    "scatterpolargl": [
                      {
                        "marker": {
                          "colorbar": {
                            "outlinewidth": 0,
                            "ticks": ""
                          }
                        },
                        "type": "scatterpolargl"
                      }
                    ],
                    "scatterternary": [
                      {
                        "marker": {
                          "colorbar": {
                            "outlinewidth": 0,
                            "ticks": ""
                          }
                        },
                        "type": "scatterternary"
                      }
                    ],
                    "surface": [
                      {
                        "colorbar": {
                          "outlinewidth": 0,
                          "ticks": ""
                        },
                        "colorscale": [
                          [
                            0,
                            "#0d0887"
                          ],
                          [
                            0.1111111111111111,
                            "#46039f"
                          ],
                          [
                            0.2222222222222222,
                            "#7201a8"
                          ],
                          [
                            0.3333333333333333,
                            "#9c179e"
                          ],
                          [
                            0.4444444444444444,
                            "#bd3786"
                          ],
                          [
                            0.5555555555555556,
                            "#d8576b"
                          ],
                          [
                            0.6666666666666666,
                            "#ed7953"
                          ],
                          [
                            0.7777777777777778,
                            "#fb9f3a"
                          ],
                          [
                            0.8888888888888888,
                            "#fdca26"
                          ],
                          [
                            1,
                            "#f0f921"
                          ]
                        ],
                        "type": "surface"
                      }
                    ],
                    "table": [
                      {
                        "cells": {
                          "fill": {
                            "color": "#EBF0F8"
                          },
                          "line": {
                            "color": "white"
                          }
                        },
                        "header": {
                          "fill": {
                            "color": "#C8D4E3"
                          },
                          "line": {
                            "color": "white"
                          }
                        },
                        "type": "table"
                      }
                    ]
                  },
                  "layout": {
                    "annotationdefaults": {
                      "arrowcolor": "#2a3f5f",
                      "arrowhead": 0,
                      "arrowwidth": 1
                    },
                    "autotypenumbers": "strict",
                    "coloraxis": {
                      "colorbar": {
                        "outlinewidth": 0,
                        "ticks": ""
                      }
                    },
                    "colorscale": {
                      "diverging": [
                        [
                          0,
                          "#8e0152"
                        ],
                        [
                          0.1,
                          "#c51b7d"
                        ],
                        [
                          0.2,
                          "#de77ae"
                        ],
                        [
                          0.3,
                          "#f1b6da"
                        ],
                        [
                          0.4,
                          "#fde0ef"
                        ],
                        [
                          0.5,
                          "#f7f7f7"
                        ],
                        [
                          0.6,
                          "#e6f5d0"
                        ],
                        [
                          0.7,
                          "#b8e186"
                        ],
                        [
                          0.8,
                          "#7fbc41"
                        ],
                        [
                          0.9,
                          "#4d9221"
                        ],
                        [
                          1,
                          "#276419"
                        ]
                      ],
                      "sequential": [
                        [
                          0,
                          "#0d0887"
                        ],
                        [
                          0.1111111111111111,
                          "#46039f"
                        ],
                        [
                          0.2222222222222222,
                          "#7201a8"
                        ],
                        [
                          0.3333333333333333,
                          "#9c179e"
                        ],
                        [
                          0.4444444444444444,
                          "#bd3786"
                        ],
                        [
                          0.5555555555555556,
                          "#d8576b"
                        ],
                        [
                          0.6666666666666666,
                          "#ed7953"
                        ],
                        [
                          0.7777777777777778,
                          "#fb9f3a"
                        ],
                        [
                          0.8888888888888888,
                          "#fdca26"
                        ],
                        [
                          1,
                          "#f0f921"
                        ]
                      ],
                      "sequentialminus": [
                        [
                          0,
                          "#0d0887"
                        ],
                        [
                          0.1111111111111111,
                          "#46039f"
                        ],
                        [
                          0.2222222222222222,
                          "#7201a8"
                        ],
                        [
                          0.3333333333333333,
                          "#9c179e"
                        ],
                        [
                          0.4444444444444444,
                          "#bd3786"
                        ],
                        [
                          0.5555555555555556,
                          "#d8576b"
                        ],
                        [
                          0.6666666666666666,
                          "#ed7953"
                        ],
                        [
                          0.7777777777777778,
                          "#fb9f3a"
                        ],
                        [
                          0.8888888888888888,
                          "#fdca26"
                        ],
                        [
                          1,
                          "#f0f921"
                        ]
                      ]
                    },
                    "colorway": [
                      "#636efa",
                      "#EF553B",
                      "#00cc96",
                      "#ab63fa",
                      "#FFA15A",
                      "#19d3f3",
                      "#FF6692",
                      "#B6E880",
                      "#FF97FF",
                      "#FECB52"
                    ],
                    "font": {
                      "color": "#2a3f5f"
                    },
                    "geo": {
                      "bgcolor": "white",
                      "lakecolor": "white",
                      "landcolor": "#E5ECF6",
                      "showlakes": true,
                      "showland": true,
                      "subunitcolor": "white"
                    },
                    "hoverlabel": {
                      "align": "left"
                    },
                    "hovermode": "closest",
                    "mapbox": {
                      "style": "light"
                    },
                    "paper_bgcolor": "white",
                    "plot_bgcolor": "#E5ECF6",
                    "polar": {
                      "angularaxis": {
                        "gridcolor": "white",
                        "linecolor": "white",
                        "ticks": ""
                      },
                      "bgcolor": "#E5ECF6",
                      "radialaxis": {
                        "gridcolor": "white",
                        "linecolor": "white",
                        "ticks": ""
                      }
                    },
                    "scene": {
                      "xaxis": {
                        "backgroundcolor": "#E5ECF6",
                        "gridcolor": "white",
                        "gridwidth": 2,
                        "linecolor": "white",
                        "showbackground": true,
                        "ticks": "",
                        "zerolinecolor": "white"
                      },
                      "yaxis": {
                        "backgroundcolor": "#E5ECF6",
                        "gridcolor": "white",
                        "gridwidth": 2,
                        "linecolor": "white",
                        "showbackground": true,
                        "ticks": "",
                        "zerolinecolor": "white"
                      },
                      "zaxis": {
                        "backgroundcolor": "#E5ECF6",
                        "gridcolor": "white",
                        "gridwidth": 2,
                        "linecolor": "white",
                        "showbackground": true,
                        "ticks": "",
                        "zerolinecolor": "white"
                      }
                    },
                    "shapedefaults": {
                      "line": {
                        "color": "#2a3f5f"
                      }
                    },
                    "ternary": {
                      "aaxis": {
                        "gridcolor": "white",
                        "linecolor": "white",
                        "ticks": ""
                      },
                      "baxis": {
                        "gridcolor": "white",
                        "linecolor": "white",
                        "ticks": ""
                      },
                      "bgcolor": "#E5ECF6",
                      "caxis": {
                        "gridcolor": "white",
                        "linecolor": "white",
                        "ticks": ""
                      }
                    },
                    "title": {
                      "x": 0.05
                    },
                    "xaxis": {
                      "automargin": true,
                      "gridcolor": "white",
                      "linecolor": "white",
                      "ticks": "",
                      "title": {
                        "standoff": 15
                      },
                      "zerolinecolor": "white",
                      "zerolinewidth": 2
                    },
                    "yaxis": {
                      "automargin": true,
                      "gridcolor": "white",
                      "linecolor": "white",
                      "ticks": "",
                      "title": {
                        "standoff": 15
                      },
                      "zerolinecolor": "white",
                      "zerolinewidth": 2
                    }
                  }
                },
                "title": {
                  "text": "Зависимость количества вакансий от опыта работы и города <br>(данные представлены только по городам-миллионникам)"
                },
                "width": 1200,
                "xaxis": {
                  "anchor": "y",
                  "constrain": "domain",
                  "domain": [
                    0,
                    1
                  ],
                  "scaleanchor": "y"
                },
                "yaxis": {
                  "anchor": "x",
                  "autorange": "reversed",
                  "constrain": "domain",
                  "domain": [
                    0,
                    1
                  ],
                  "title": {
                    "text": "Опыт работы"
                  }
                }
              }
            }
          },
          "metadata": {},
          "output_type": "display_data"
        }
      ],
      "source": [
        "# записываем SQL запрос в датафрейм\n",
        "add_df_1 = pd.read_sql_query(add_query_1, connection)\n",
        "\n",
        "# выбираем только те данные, которые относятся к городам-миллионникам\n",
        "mask = add_df_1.loc[:, 'city'].apply(lambda x: x in city_names)\n",
        "add_df_1 = add_df_1[mask]\n",
        "\n",
        "# группируем данные по опыту работы и городу; подсчитываем кол-во вакансий\n",
        "exp_by_city = add_df_1.groupby(['experience', 'city'], \\\n",
        "    as_index=False)['vac_name'].count().sort_values(['experience', 'city'])\n",
        "\n",
        "# создаем Pivot-таблицу\n",
        "exp_by_city\n",
        "pivot = pd.pivot_table(\n",
        "    data = exp_by_city,\n",
        "    index = 'experience',\n",
        "    columns = 'city',\n",
        "    values = 'vac_name'\n",
        ")\n",
        "\n",
        "# переставляем местами строки и колонки \n",
        "# (удаляем Красноярск из списка городов т.к. там нету удовлетворяющих нас вакансий)\n",
        "pivot = pivot.reindex(['Нет опыта', 'От 1 года до 3 лет',\n",
        "                       'От 3 до 6 лет', 'Более 6 лет'])\n",
        "\n",
        "city_names_cp = city_names.copy()\n",
        "city_names_cp.remove('Красноярск')\n",
        "\n",
        "pivot = pivot[city_names_cp]\n",
        "\n",
        "\n",
        "# выводим полученные данные в виде тепловой карты\n",
        "Vac_by_CityExp = px.imshow(pivot,\n",
        "                           color_continuous_scale=['whitesmoke', 'darkred'],\n",
        "                           labels=dict(x='', y ='Опыт работы'),                   \n",
        "                           width=1200,\n",
        "                           title = 'Зависимость количества вакансий от опыта работы и города <br>\\\n",
        "(данные представлены только по городам-миллионникам)')\n",
        "\n",
        "Vac_by_CityExp.show()\n",
        "Vac_by_CityExp.write_html(path + '/HTMLs/Vac_by_CityExp.html')\n",
        "Vac_by_CityExp.write_image(path + '/PNGs/Vac_by_CityExp.png', scale=6.5)"
      ]
    },
    {
      "cell_type": "markdown",
      "id": "d2a0c0a6",
      "metadata": {},
      "source": [
        "* На данной тепловой карте показано, что наибольшее количество работодателей ищут сотрудников с опытом работы *1 год и более*.<br>\n",
        "При этом сотрудников *без опыта работы* ищут немного чаще, чем и сотрудников со значительным *опытом работы более 6 лет*. \n",
        "\n",
        "* Основное количестов вакансий наблюдается в **Москве** и **Санк-Петербурге**, при этом в **Москве** требуется гораздо больше (до трех раз) сотрудников в каждой категории.<br>\n",
        "Только в этих двух городах ищут сотрудников *с опытом работы более 6-ти лет*.\n",
        "* В пятерку лидеров по количеству вакансий также входят **Новосибирск**, **Казань** и **Нижний Новгород**, хотя и со значительным отрывом."
      ]
    },
    {
      "cell_type": "code",
      "execution_count": 707,
      "id": "78a26580",
      "metadata": {},
      "outputs": [],
      "source": [
        "add_query_2 = ''' \n",
        "\n",
        "-- присоединяем к таблице с вакансиями названия городов\n",
        "-- выводим название вакансии, название города, опыт работы, \n",
        "-- занятость и расписание \n",
        "select \n",
        "    v.name  vac_name, \n",
        "    a.name  city,\n",
        "    e.name  employer,\n",
        "    coalesce(salary_from, 0) salary_from,\n",
        "    coalesce(salary_to, 0) salary_to     \n",
        "from \n",
        "    vacancies v \n",
        "    join areas a \n",
        "    on v.area_id=a.id\n",
        "    \n",
        "    join employers e \n",
        "    on v.employer_id=e.id\n",
        "\n",
        "where \n",
        "\n",
        "-- выбираем данные, связанные с DS и ML\n",
        "     (v.name ilike 'ml%'or\n",
        "     v.name ilike '% ml%'or\n",
        "     v.name ilike '%-ml%'or\n",
        "     v.name ilike '%/ml%'or\n",
        "     v.name ilike '%(ml%'or\n",
        "     \n",
        "        \n",
        "     v.name ilike '%data scientist%' or \n",
        "     v.name ilike '%data science%' or \n",
        "     v.name ilike '%исследователь данных%' or\n",
        "     v.name ilike '%machine learning%' or \n",
        "     v.name ilike '%машинн%обучен%')\n",
        "     \n",
        "     AND\n",
        "     \n",
        "     (salary_from is not null or salary_to is not null)\n",
        "'''\n"
      ]
    },
    {
      "cell_type": "code",
      "execution_count": null,
      "id": "55a41181",
      "metadata": {},
      "outputs": [],
      "source": [
        "# создаем функцию Avg_slry для поиска средней ЗП\n",
        "def Avg_slry(data_frame):\n",
        "    \n",
        "    \"\"\" \n",
        "        Эта функция расчитывает среднее по ЗП, если оба \n",
        "        значения не равны нулю. Если значение salary_from == 0, \n",
        "        принимает значение salary_to. И наоборот, Если значение \n",
        "        salary_to == 0, принимает значение salary_from. \n",
        "        NB: Перед использованием проверить сброшены ли индексы\n",
        "\n",
        "    Args:\n",
        "        data_frame (pd.dataframe): Датафрейм, в котором есть колонки \n",
        "        salary_from (ЗП от) и salary_to (ЗП до)\n",
        "\n",
        "    Returns:\n",
        "        pd.dataframe: Датафрейм с дополнительным столбцом 'Avg_salary' \n",
        "        (среднее значение по ЗП)\n",
        "    \"\"\"\n",
        "    \n",
        "    for i in range (0, len(data_frame)):\n",
        "    \n",
        "        if data_frame.loc[i, 'salary_from'] == 0 or \\\n",
        "            data_frame.loc[i, 'salary_to'] == 0:\n",
        "                \n",
        "            data_frame.loc[i, 'Avg_salary'] = \\\n",
        "                (data_frame.loc[i, 'salary_to'] + \\\n",
        "                    data_frame.loc[i, 'salary_from'])\n",
        "            \n",
        "               \n",
        "        else: data_frame.loc[i, 'Avg_salary'] = \\\n",
        "            (data_frame.loc[i, 'salary_to'] + data_frame.loc[i, 'salary_from']) / 2\n",
        "            \n",
        "    return data_frame\n",
        "            "
      ]
    },
    {
      "cell_type": "code",
      "execution_count": 711,
      "id": "08d79dfb",
      "metadata": {},
      "outputs": [
        {
          "data": {
            "application/vnd.plotly.v1+json": {
              "config": {
                "plotlyServerURL": "https://plot.ly"
              },
              "data": [
                {
                  "alignmentgroup": "True",
                  "hovertemplate": "city=Москва<br>employer=%{x}<br>Avg_salary=%{y}<extra></extra>",
                  "legendgroup": "Москва",
                  "marker": {
                    "color": "#636efa",
                    "pattern": {
                      "shape": ""
                    }
                  },
                  "name": "Москва",
                  "offsetgroup": "Москва",
                  "orientation": "v",
                  "showlegend": true,
                  "textposition": "auto",
                  "type": "bar",
                  "x": [
                    "Итон",
                    "AppQuantum",
                    "JSA Group",
                    "СберЛизинг",
                    "Кловер Групп",
                    "КИБЕР-РОМ",
                    "Dbrain",
                    "Freedom International Group",
                    "Spice Agency",
                    "Телега",
                    "АЙТИ.СПЕЙС",
                    "Bip.ru",
                    "DIGINETICA",
                    "УЦ Новый шаг",
                    "Алгоритмические Системы",
                    "JuicyScore",
                    "Центр хранения и анализа больших данных",
                    "НСК ЭкоСфера",
                    "Интеллектуальные решения",
                    "РТК Автоматика",
                    "Азимут Технолоджи",
                    "РКК Энергия",
                    "Лидстех",
                    "ВижнЛабс (VisionLabs)",
                    "Cpaaggregator.com",
                    "Строительный Двор"
                  ],
                  "xaxis": "x",
                  "y": [
                    450000,
                    350000,
                    300000,
                    300000,
                    275000,
                    275000,
                    275000,
                    250000,
                    250000,
                    225000,
                    225000,
                    225000,
                    205000,
                    200000,
                    200000,
                    200000,
                    170000,
                    150000,
                    150000,
                    143500,
                    140000,
                    130000,
                    120000,
                    100000,
                    75000,
                    72500
                  ],
                  "yaxis": "y"
                },
                {
                  "alignmentgroup": "True",
                  "hovertemplate": "city=Санкт-Петербург<br>employer=%{x}<br>Avg_salary=%{y}<extra></extra>",
                  "legendgroup": "Санкт-Петербург",
                  "marker": {
                    "color": "#EF553B",
                    "pattern": {
                      "shape": ""
                    }
                  },
                  "name": "Санкт-Петербург",
                  "offsetgroup": "Санкт-Петербург",
                  "orientation": "v",
                  "showlegend": true,
                  "textposition": "auto",
                  "type": "bar",
                  "x": [
                    "JSA Group",
                    "OVISION",
                    "Hype Auditor",
                    "НИИАС",
                    "Университет ИТМО",
                    "ННФормат",
                    "Улыбка радуги"
                  ],
                  "xaxis": "x",
                  "y": [
                    300000,
                    300000,
                    175346,
                    175000,
                    115000,
                    98000,
                    50000
                  ],
                  "yaxis": "y"
                },
                {
                  "alignmentgroup": "True",
                  "hovertemplate": "city=Новосибирск<br>employer=%{x}<br>Avg_salary=%{y}<extra></extra>",
                  "legendgroup": "Новосибирск",
                  "marker": {
                    "color": "#00cc96",
                    "pattern": {
                      "shape": ""
                    }
                  },
                  "name": "Новосибирск",
                  "offsetgroup": "Новосибирск",
                  "orientation": "v",
                  "showlegend": true,
                  "textposition": "auto",
                  "type": "bar",
                  "x": [
                    "Дром",
                    "Igor Polyakov Consulting",
                    "Апэрбот"
                  ],
                  "xaxis": "x",
                  "y": [
                    300000,
                    119000,
                    80000
                  ],
                  "yaxis": "y"
                },
                {
                  "alignmentgroup": "True",
                  "hovertemplate": "city=Екатеринбург<br>employer=%{x}<br>Avg_salary=%{y}<extra></extra>",
                  "legendgroup": "Екатеринбург",
                  "marker": {
                    "color": "#ab63fa",
                    "pattern": {
                      "shape": ""
                    }
                  },
                  "name": "Екатеринбург",
                  "offsetgroup": "Екатеринбург",
                  "orientation": "v",
                  "showlegend": true,
                  "textposition": "auto",
                  "type": "bar",
                  "x": [
                    "Сима-ленд",
                    "Сталепромышленная компания",
                    "КБ Уральский банк реконструкции и развития (УБРиР)"
                  ],
                  "xaxis": "x",
                  "y": [
                    225000,
                    110000,
                    37000
                  ],
                  "yaxis": "y"
                },
                {
                  "alignmentgroup": "True",
                  "hovertemplate": "city=Уфа<br>employer=%{x}<br>Avg_salary=%{y}<extra></extra>",
                  "legendgroup": "Уфа",
                  "marker": {
                    "color": "#FFA15A",
                    "pattern": {
                      "shape": ""
                    }
                  },
                  "name": "Уфа",
                  "offsetgroup": "Уфа",
                  "orientation": "v",
                  "showlegend": true,
                  "textposition": "auto",
                  "type": "bar",
                  "x": [
                    "Homework"
                  ],
                  "xaxis": "x",
                  "y": [
                    90000
                  ],
                  "yaxis": "y"
                },
                {
                  "alignmentgroup": "True",
                  "hovertemplate": "city=Пермь<br>employer=%{x}<br>Avg_salary=%{y}<extra></extra>",
                  "legendgroup": "Пермь",
                  "marker": {
                    "color": "#19d3f3",
                    "pattern": {
                      "shape": ""
                    }
                  },
                  "name": "Пермь",
                  "offsetgroup": "Пермь",
                  "orientation": "v",
                  "showlegend": true,
                  "textposition": "auto",
                  "type": "bar",
                  "x": [
                    "Homework",
                    "Випакс+"
                  ],
                  "xaxis": "x",
                  "y": [
                    90000,
                    60000
                  ],
                  "yaxis": "y"
                },
                {
                  "alignmentgroup": "True",
                  "hovertemplate": "city=Ростов-на-Дону<br>employer=%{x}<br>Avg_salary=%{y}<extra></extra>",
                  "legendgroup": "Ростов-на-Дону",
                  "marker": {
                    "color": "#FF6692",
                    "pattern": {
                      "shape": ""
                    }
                  },
                  "name": "Ростов-на-Дону",
                  "offsetgroup": "Ростов-на-Дону",
                  "orientation": "v",
                  "showlegend": true,
                  "textposition": "auto",
                  "type": "bar",
                  "x": [
                    "Theyr Ltd"
                  ],
                  "xaxis": "x",
                  "y": [
                    50000
                  ],
                  "yaxis": "y"
                },
                {
                  "alignmentgroup": "True",
                  "hovertemplate": "city=Казань<br>employer=%{x}<br>Avg_salary=%{y}<extra></extra>",
                  "legendgroup": "Казань",
                  "marker": {
                    "color": "#B6E880",
                    "pattern": {
                      "shape": ""
                    }
                  },
                  "name": "Казань",
                  "offsetgroup": "Казань",
                  "orientation": "v",
                  "showlegend": true,
                  "textposition": "auto",
                  "type": "bar",
                  "x": [
                    "Ранкс"
                  ],
                  "xaxis": "x",
                  "y": [
                    50000
                  ],
                  "yaxis": "y"
                }
              ],
              "layout": {
                "barmode": "relative",
                "height": 900,
                "legend": {
                  "title": {
                    "text": ""
                  },
                  "tracegroupgap": 0
                },
                "template": {
                  "data": {
                    "bar": [
                      {
                        "error_x": {
                          "color": "#2a3f5f"
                        },
                        "error_y": {
                          "color": "#2a3f5f"
                        },
                        "marker": {
                          "line": {
                            "color": "#E5ECF6",
                            "width": 0.5
                          },
                          "pattern": {
                            "fillmode": "overlay",
                            "size": 10,
                            "solidity": 0.2
                          }
                        },
                        "type": "bar"
                      }
                    ],
                    "barpolar": [
                      {
                        "marker": {
                          "line": {
                            "color": "#E5ECF6",
                            "width": 0.5
                          },
                          "pattern": {
                            "fillmode": "overlay",
                            "size": 10,
                            "solidity": 0.2
                          }
                        },
                        "type": "barpolar"
                      }
                    ],
                    "carpet": [
                      {
                        "aaxis": {
                          "endlinecolor": "#2a3f5f",
                          "gridcolor": "white",
                          "linecolor": "white",
                          "minorgridcolor": "white",
                          "startlinecolor": "#2a3f5f"
                        },
                        "baxis": {
                          "endlinecolor": "#2a3f5f",
                          "gridcolor": "white",
                          "linecolor": "white",
                          "minorgridcolor": "white",
                          "startlinecolor": "#2a3f5f"
                        },
                        "type": "carpet"
                      }
                    ],
                    "choropleth": [
                      {
                        "colorbar": {
                          "outlinewidth": 0,
                          "ticks": ""
                        },
                        "type": "choropleth"
                      }
                    ],
                    "contour": [
                      {
                        "colorbar": {
                          "outlinewidth": 0,
                          "ticks": ""
                        },
                        "colorscale": [
                          [
                            0,
                            "#0d0887"
                          ],
                          [
                            0.1111111111111111,
                            "#46039f"
                          ],
                          [
                            0.2222222222222222,
                            "#7201a8"
                          ],
                          [
                            0.3333333333333333,
                            "#9c179e"
                          ],
                          [
                            0.4444444444444444,
                            "#bd3786"
                          ],
                          [
                            0.5555555555555556,
                            "#d8576b"
                          ],
                          [
                            0.6666666666666666,
                            "#ed7953"
                          ],
                          [
                            0.7777777777777778,
                            "#fb9f3a"
                          ],
                          [
                            0.8888888888888888,
                            "#fdca26"
                          ],
                          [
                            1,
                            "#f0f921"
                          ]
                        ],
                        "type": "contour"
                      }
                    ],
                    "contourcarpet": [
                      {
                        "colorbar": {
                          "outlinewidth": 0,
                          "ticks": ""
                        },
                        "type": "contourcarpet"
                      }
                    ],
                    "heatmap": [
                      {
                        "colorbar": {
                          "outlinewidth": 0,
                          "ticks": ""
                        },
                        "colorscale": [
                          [
                            0,
                            "#0d0887"
                          ],
                          [
                            0.1111111111111111,
                            "#46039f"
                          ],
                          [
                            0.2222222222222222,
                            "#7201a8"
                          ],
                          [
                            0.3333333333333333,
                            "#9c179e"
                          ],
                          [
                            0.4444444444444444,
                            "#bd3786"
                          ],
                          [
                            0.5555555555555556,
                            "#d8576b"
                          ],
                          [
                            0.6666666666666666,
                            "#ed7953"
                          ],
                          [
                            0.7777777777777778,
                            "#fb9f3a"
                          ],
                          [
                            0.8888888888888888,
                            "#fdca26"
                          ],
                          [
                            1,
                            "#f0f921"
                          ]
                        ],
                        "type": "heatmap"
                      }
                    ],
                    "heatmapgl": [
                      {
                        "colorbar": {
                          "outlinewidth": 0,
                          "ticks": ""
                        },
                        "colorscale": [
                          [
                            0,
                            "#0d0887"
                          ],
                          [
                            0.1111111111111111,
                            "#46039f"
                          ],
                          [
                            0.2222222222222222,
                            "#7201a8"
                          ],
                          [
                            0.3333333333333333,
                            "#9c179e"
                          ],
                          [
                            0.4444444444444444,
                            "#bd3786"
                          ],
                          [
                            0.5555555555555556,
                            "#d8576b"
                          ],
                          [
                            0.6666666666666666,
                            "#ed7953"
                          ],
                          [
                            0.7777777777777778,
                            "#fb9f3a"
                          ],
                          [
                            0.8888888888888888,
                            "#fdca26"
                          ],
                          [
                            1,
                            "#f0f921"
                          ]
                        ],
                        "type": "heatmapgl"
                      }
                    ],
                    "histogram": [
                      {
                        "marker": {
                          "pattern": {
                            "fillmode": "overlay",
                            "size": 10,
                            "solidity": 0.2
                          }
                        },
                        "type": "histogram"
                      }
                    ],
                    "histogram2d": [
                      {
                        "colorbar": {
                          "outlinewidth": 0,
                          "ticks": ""
                        },
                        "colorscale": [
                          [
                            0,
                            "#0d0887"
                          ],
                          [
                            0.1111111111111111,
                            "#46039f"
                          ],
                          [
                            0.2222222222222222,
                            "#7201a8"
                          ],
                          [
                            0.3333333333333333,
                            "#9c179e"
                          ],
                          [
                            0.4444444444444444,
                            "#bd3786"
                          ],
                          [
                            0.5555555555555556,
                            "#d8576b"
                          ],
                          [
                            0.6666666666666666,
                            "#ed7953"
                          ],
                          [
                            0.7777777777777778,
                            "#fb9f3a"
                          ],
                          [
                            0.8888888888888888,
                            "#fdca26"
                          ],
                          [
                            1,
                            "#f0f921"
                          ]
                        ],
                        "type": "histogram2d"
                      }
                    ],
                    "histogram2dcontour": [
                      {
                        "colorbar": {
                          "outlinewidth": 0,
                          "ticks": ""
                        },
                        "colorscale": [
                          [
                            0,
                            "#0d0887"
                          ],
                          [
                            0.1111111111111111,
                            "#46039f"
                          ],
                          [
                            0.2222222222222222,
                            "#7201a8"
                          ],
                          [
                            0.3333333333333333,
                            "#9c179e"
                          ],
                          [
                            0.4444444444444444,
                            "#bd3786"
                          ],
                          [
                            0.5555555555555556,
                            "#d8576b"
                          ],
                          [
                            0.6666666666666666,
                            "#ed7953"
                          ],
                          [
                            0.7777777777777778,
                            "#fb9f3a"
                          ],
                          [
                            0.8888888888888888,
                            "#fdca26"
                          ],
                          [
                            1,
                            "#f0f921"
                          ]
                        ],
                        "type": "histogram2dcontour"
                      }
                    ],
                    "mesh3d": [
                      {
                        "colorbar": {
                          "outlinewidth": 0,
                          "ticks": ""
                        },
                        "type": "mesh3d"
                      }
                    ],
                    "parcoords": [
                      {
                        "line": {
                          "colorbar": {
                            "outlinewidth": 0,
                            "ticks": ""
                          }
                        },
                        "type": "parcoords"
                      }
                    ],
                    "pie": [
                      {
                        "automargin": true,
                        "type": "pie"
                      }
                    ],
                    "scatter": [
                      {
                        "fillpattern": {
                          "fillmode": "overlay",
                          "size": 10,
                          "solidity": 0.2
                        },
                        "type": "scatter"
                      }
                    ],
                    "scatter3d": [
                      {
                        "line": {
                          "colorbar": {
                            "outlinewidth": 0,
                            "ticks": ""
                          }
                        },
                        "marker": {
                          "colorbar": {
                            "outlinewidth": 0,
                            "ticks": ""
                          }
                        },
                        "type": "scatter3d"
                      }
                    ],
                    "scattercarpet": [
                      {
                        "marker": {
                          "colorbar": {
                            "outlinewidth": 0,
                            "ticks": ""
                          }
                        },
                        "type": "scattercarpet"
                      }
                    ],
                    "scattergeo": [
                      {
                        "marker": {
                          "colorbar": {
                            "outlinewidth": 0,
                            "ticks": ""
                          }
                        },
                        "type": "scattergeo"
                      }
                    ],
                    "scattergl": [
                      {
                        "marker": {
                          "colorbar": {
                            "outlinewidth": 0,
                            "ticks": ""
                          }
                        },
                        "type": "scattergl"
                      }
                    ],
                    "scattermapbox": [
                      {
                        "marker": {
                          "colorbar": {
                            "outlinewidth": 0,
                            "ticks": ""
                          }
                        },
                        "type": "scattermapbox"
                      }
                    ],
                    "scatterpolar": [
                      {
                        "marker": {
                          "colorbar": {
                            "outlinewidth": 0,
                            "ticks": ""
                          }
                        },
                        "type": "scatterpolar"
                      }
                    ],
                    "scatterpolargl": [
                      {
                        "marker": {
                          "colorbar": {
                            "outlinewidth": 0,
                            "ticks": ""
                          }
                        },
                        "type": "scatterpolargl"
                      }
                    ],
                    "scatterternary": [
                      {
                        "marker": {
                          "colorbar": {
                            "outlinewidth": 0,
                            "ticks": ""
                          }
                        },
                        "type": "scatterternary"
                      }
                    ],
                    "surface": [
                      {
                        "colorbar": {
                          "outlinewidth": 0,
                          "ticks": ""
                        },
                        "colorscale": [
                          [
                            0,
                            "#0d0887"
                          ],
                          [
                            0.1111111111111111,
                            "#46039f"
                          ],
                          [
                            0.2222222222222222,
                            "#7201a8"
                          ],
                          [
                            0.3333333333333333,
                            "#9c179e"
                          ],
                          [
                            0.4444444444444444,
                            "#bd3786"
                          ],
                          [
                            0.5555555555555556,
                            "#d8576b"
                          ],
                          [
                            0.6666666666666666,
                            "#ed7953"
                          ],
                          [
                            0.7777777777777778,
                            "#fb9f3a"
                          ],
                          [
                            0.8888888888888888,
                            "#fdca26"
                          ],
                          [
                            1,
                            "#f0f921"
                          ]
                        ],
                        "type": "surface"
                      }
                    ],
                    "table": [
                      {
                        "cells": {
                          "fill": {
                            "color": "#EBF0F8"
                          },
                          "line": {
                            "color": "white"
                          }
                        },
                        "header": {
                          "fill": {
                            "color": "#C8D4E3"
                          },
                          "line": {
                            "color": "white"
                          }
                        },
                        "type": "table"
                      }
                    ]
                  },
                  "layout": {
                    "annotationdefaults": {
                      "arrowcolor": "#2a3f5f",
                      "arrowhead": 0,
                      "arrowwidth": 1
                    },
                    "autotypenumbers": "strict",
                    "coloraxis": {
                      "colorbar": {
                        "outlinewidth": 0,
                        "ticks": ""
                      }
                    },
                    "colorscale": {
                      "diverging": [
                        [
                          0,
                          "#8e0152"
                        ],
                        [
                          0.1,
                          "#c51b7d"
                        ],
                        [
                          0.2,
                          "#de77ae"
                        ],
                        [
                          0.3,
                          "#f1b6da"
                        ],
                        [
                          0.4,
                          "#fde0ef"
                        ],
                        [
                          0.5,
                          "#f7f7f7"
                        ],
                        [
                          0.6,
                          "#e6f5d0"
                        ],
                        [
                          0.7,
                          "#b8e186"
                        ],
                        [
                          0.8,
                          "#7fbc41"
                        ],
                        [
                          0.9,
                          "#4d9221"
                        ],
                        [
                          1,
                          "#276419"
                        ]
                      ],
                      "sequential": [
                        [
                          0,
                          "#0d0887"
                        ],
                        [
                          0.1111111111111111,
                          "#46039f"
                        ],
                        [
                          0.2222222222222222,
                          "#7201a8"
                        ],
                        [
                          0.3333333333333333,
                          "#9c179e"
                        ],
                        [
                          0.4444444444444444,
                          "#bd3786"
                        ],
                        [
                          0.5555555555555556,
                          "#d8576b"
                        ],
                        [
                          0.6666666666666666,
                          "#ed7953"
                        ],
                        [
                          0.7777777777777778,
                          "#fb9f3a"
                        ],
                        [
                          0.8888888888888888,
                          "#fdca26"
                        ],
                        [
                          1,
                          "#f0f921"
                        ]
                      ],
                      "sequentialminus": [
                        [
                          0,
                          "#0d0887"
                        ],
                        [
                          0.1111111111111111,
                          "#46039f"
                        ],
                        [
                          0.2222222222222222,
                          "#7201a8"
                        ],
                        [
                          0.3333333333333333,
                          "#9c179e"
                        ],
                        [
                          0.4444444444444444,
                          "#bd3786"
                        ],
                        [
                          0.5555555555555556,
                          "#d8576b"
                        ],
                        [
                          0.6666666666666666,
                          "#ed7953"
                        ],
                        [
                          0.7777777777777778,
                          "#fb9f3a"
                        ],
                        [
                          0.8888888888888888,
                          "#fdca26"
                        ],
                        [
                          1,
                          "#f0f921"
                        ]
                      ]
                    },
                    "colorway": [
                      "#636efa",
                      "#EF553B",
                      "#00cc96",
                      "#ab63fa",
                      "#FFA15A",
                      "#19d3f3",
                      "#FF6692",
                      "#B6E880",
                      "#FF97FF",
                      "#FECB52"
                    ],
                    "font": {
                      "color": "#2a3f5f"
                    },
                    "geo": {
                      "bgcolor": "white",
                      "lakecolor": "white",
                      "landcolor": "#E5ECF6",
                      "showlakes": true,
                      "showland": true,
                      "subunitcolor": "white"
                    },
                    "hoverlabel": {
                      "align": "left"
                    },
                    "hovermode": "closest",
                    "mapbox": {
                      "style": "light"
                    },
                    "paper_bgcolor": "white",
                    "plot_bgcolor": "#E5ECF6",
                    "polar": {
                      "angularaxis": {
                        "gridcolor": "white",
                        "linecolor": "white",
                        "ticks": ""
                      },
                      "bgcolor": "#E5ECF6",
                      "radialaxis": {
                        "gridcolor": "white",
                        "linecolor": "white",
                        "ticks": ""
                      }
                    },
                    "scene": {
                      "xaxis": {
                        "backgroundcolor": "#E5ECF6",
                        "gridcolor": "white",
                        "gridwidth": 2,
                        "linecolor": "white",
                        "showbackground": true,
                        "ticks": "",
                        "zerolinecolor": "white"
                      },
                      "yaxis": {
                        "backgroundcolor": "#E5ECF6",
                        "gridcolor": "white",
                        "gridwidth": 2,
                        "linecolor": "white",
                        "showbackground": true,
                        "ticks": "",
                        "zerolinecolor": "white"
                      },
                      "zaxis": {
                        "backgroundcolor": "#E5ECF6",
                        "gridcolor": "white",
                        "gridwidth": 2,
                        "linecolor": "white",
                        "showbackground": true,
                        "ticks": "",
                        "zerolinecolor": "white"
                      }
                    },
                    "shapedefaults": {
                      "line": {
                        "color": "#2a3f5f"
                      }
                    },
                    "ternary": {
                      "aaxis": {
                        "gridcolor": "white",
                        "linecolor": "white",
                        "ticks": ""
                      },
                      "baxis": {
                        "gridcolor": "white",
                        "linecolor": "white",
                        "ticks": ""
                      },
                      "bgcolor": "#E5ECF6",
                      "caxis": {
                        "gridcolor": "white",
                        "linecolor": "white",
                        "ticks": ""
                      }
                    },
                    "title": {
                      "x": 0.05
                    },
                    "xaxis": {
                      "automargin": true,
                      "gridcolor": "white",
                      "linecolor": "white",
                      "ticks": "",
                      "title": {
                        "standoff": 15
                      },
                      "zerolinecolor": "white",
                      "zerolinewidth": 2
                    },
                    "yaxis": {
                      "automargin": true,
                      "gridcolor": "white",
                      "linecolor": "white",
                      "ticks": "",
                      "title": {
                        "standoff": 15
                      },
                      "zerolinecolor": "white",
                      "zerolinewidth": 2
                    }
                  }
                },
                "title": {
                  "text": "Зависимость средней зарплаты от работодателя<br>(данные представлены по городам-миллионникам)"
                },
                "width": 1400,
                "xaxis": {
                  "anchor": "y",
                  "domain": [
                    0,
                    1
                  ],
                  "title": {
                    "text": ""
                  }
                },
                "yaxis": {
                  "anchor": "x",
                  "domain": [
                    0,
                    1
                  ],
                  "title": {
                    "text": "Средняя зарплата"
                  }
                }
              }
            }
          },
          "metadata": {},
          "output_type": "display_data"
        }
      ],
      "source": [
        "# Записываем результат запроса в переменную и оставляем только те данные, \n",
        "# которые соответсвуют городам-миллионникам \n",
        "add_df_2 = pd.read_sql_query(add_query_2, connection)\n",
        "\n",
        "mask = add_df_2.loc[:, 'city'].apply(lambda x: x in city_names)\n",
        "add_df_2 = add_df_2[mask].reset_index(drop=True)\n",
        "\n",
        "\n",
        "# добавляем столбец со средней ЗП и группируем по городам и работодателям\n",
        "add_df_2 = Avg_slry(add_df_2)\n",
        "\n",
        "CityEmpl_data = add_df_2.groupby(['city', 'employer'],\\\n",
        "    as_index=False)['Avg_salary'].mean()\n",
        "\n",
        "CityEmpl_data = CityEmpl_data.sort_values('Avg_salary', ascending=False)\n",
        "\n",
        "\n",
        "# Выводм данные по ЗП в зависимости от работадателя в виде барплота\n",
        "Slry_by_CityEmpl = px.bar(\n",
        "    data_frame= CityEmpl_data,\n",
        "    x = 'employer',\n",
        "    y = 'Avg_salary',\n",
        "    color = 'city', \n",
        "    width = 1400,\n",
        "    height = 900,\n",
        "    title = 'Зависимость средней зарплаты от работодателя<br>\\\n",
        "(данные представлены по городам-миллионникам)'\n",
        ")\n",
        "\n",
        "\n",
        "Slry_by_CityEmpl.update_layout(yaxis = dict(title = 'Средняя зарплата'),\n",
        "                               xaxis = dict(title = ''),\n",
        "                               legend = dict(title = ''))\n",
        "                               \n",
        "Slry_by_CityEmpl.show()\n",
        "Slry_by_CityEmpl.write_html(path + '/HTMLs/Slry_by_CityEmpl.html')\n",
        "Slry_by_CityEmpl.write_image(path + '/PNGs/Slry_by_CityEmpl.png', scale=6.5)\n"
      ]
    },
    {
      "cell_type": "markdown",
      "metadata": {},
      "source": [
        "* Наибольшее количество компаний, которые ищут сотрудников в сфере DS и ML расположено в *Москве*. На втором месте *Санкт-Петербург*. <br>\n",
        "В пятерку лидеров также входят *Новосибирск*, *Екатеринбург* и *Пермь*. Наибольшую ЗП в **450к** предлагает компания \"Итон\" (Москва). Наименьшую - компания \"Ранкс\" (Казань).\n",
        "\n",
        "* Зарплату выше **150к** рублей предлагают преимущественно работодатели в *Москве*, однако отдельные компании предлагают аналогичную зарплату в *СпБ*, *НСК* и *ЕКБ*.\n",
        "* В *Перми*, *Уфе*, *Ростове-на-Дону* и *Казани* не предлагают зарплату выше **100к**."
      ]
    },
    {
      "cell_type": "code",
      "execution_count": null,
      "id": "d187230c",
      "metadata": {},
      "outputs": [
        {
          "data": {
            "application/vnd.microsoft.datawrangler.viewer.v0+json": {
              "columns": [
                {
                  "name": "index",
                  "rawType": "int64",
                  "type": "integer"
                },
                {
                  "name": "employer",
                  "rawType": "object",
                  "type": "string"
                },
                {
                  "name": "industry",
                  "rawType": "object",
                  "type": "string"
                },
                {
                  "name": "Avg_salary",
                  "rawType": "float64",
                  "type": "float"
                }
              ],
              "conversionMethod": "pd.DataFrame",
              "ref": "8a3fc144-d14a-4b83-bee2-56944dd8f48e",
              "rows": [
                [
                  "0",
                  "Andersen",
                  "Разработка программного обеспечения",
                  "268862.6666666667"
                ],
                [
                  "1",
                  "Andersen",
                  "Системная интеграция,  автоматизации технологических и бизнес-процессов предприятия, ИТ-консалтинг",
                  "268862.6666666667"
                ],
                [
                  "2",
                  "AppQuantum",
                  "Издательская деятельность",
                  "350000.0"
                ],
                [
                  "3",
                  "AppQuantum",
                  "Интернет-компания (поисковики, платежные системы, соц.сети, информационно-познавательные и развлекательные ресурсы, продвижение сайтов и прочее)",
                  "350000.0"
                ],
                [
                  "4",
                  "AppQuantum",
                  "Маркетинговые, рекламные, BTL, дизайнерские, Event-, PR-агентства, организация выставок",
                  "350000.0"
                ],
                [
                  "5",
                  "AppQuantum",
                  "Разработка программного обеспечения",
                  "350000.0"
                ],
                [
                  "6",
                  "Cybernet (Кибернет)",
                  "Системная интеграция,  автоматизации технологических и бизнес-процессов предприятия, ИТ-консалтинг",
                  "67126.0"
                ],
                [
                  "7",
                  "DIGINETICA",
                  "Интернет-компания (поисковики, платежные системы, соц.сети, информационно-познавательные и развлекательные ресурсы, продвижение сайтов и прочее)",
                  "205000.0"
                ],
                [
                  "8",
                  "DIGINETICA",
                  "Разработка программного обеспечения",
                  "205000.0"
                ],
                [
                  "9",
                  "DIGINETICA",
                  "Системная интеграция,  автоматизации технологических и бизнес-процессов предприятия, ИТ-консалтинг",
                  "205000.0"
                ],
                [
                  "10",
                  "Dbrain",
                  "Системная интеграция,  автоматизации технологических и бизнес-процессов предприятия, ИТ-консалтинг",
                  "275000.0"
                ],
                [
                  "11",
                  "Homework",
                  "Интернет-компания (поисковики, платежные системы, соц.сети, информационно-познавательные и развлекательные ресурсы, продвижение сайтов и прочее)",
                  "90000.0"
                ],
                [
                  "12",
                  "Hype Auditor",
                  "Интернет-компания (поисковики, платежные системы, соц.сети, информационно-познавательные и развлекательные ресурсы, продвижение сайтов и прочее)",
                  "175346.0"
                ],
                [
                  "13",
                  "Hype Auditor",
                  "Интернет-провайдер",
                  "175346.0"
                ],
                [
                  "14",
                  "Hype Auditor",
                  "Разработка программного обеспечения",
                  "175346.0"
                ],
                [
                  "15",
                  "Hype Auditor",
                  "Системная интеграция,  автоматизации технологических и бизнес-процессов предприятия, ИТ-консалтинг",
                  "175346.0"
                ],
                [
                  "16",
                  "Igor Polyakov Consulting",
                  "Разработка программного обеспечения",
                  "119000.0"
                ],
                [
                  "17",
                  "Igor Polyakov Consulting",
                  "Системная интеграция,  автоматизации технологических и бизнес-процессов предприятия, ИТ-консалтинг",
                  "119000.0"
                ],
                [
                  "18",
                  "IntelligiChain",
                  "Разработка программного обеспечения",
                  "233794.0"
                ],
                [
                  "19",
                  "IntelligiChain",
                  "Системная интеграция,  автоматизации технологических и бизнес-процессов предприятия, ИТ-консалтинг",
                  "233794.0"
                ],
                [
                  "20",
                  "JSA Group",
                  "Разработка программного обеспечения",
                  "300000.0"
                ],
                [
                  "21",
                  "JSA Group",
                  "Системная интеграция,  автоматизации технологических и бизнес-процессов предприятия, ИТ-консалтинг",
                  "300000.0"
                ],
                [
                  "22",
                  "JuicyScore",
                  "Разработка программного обеспечения",
                  "200000.0"
                ],
                [
                  "23",
                  "Kolesa Group",
                  "Издательская деятельность",
                  "122047.0"
                ],
                [
                  "24",
                  "Kolesa Group",
                  "Интернет-компания (поисковики, платежные системы, соц.сети, информационно-познавательные и развлекательные ресурсы, продвижение сайтов и прочее)",
                  "122047.0"
                ],
                [
                  "25",
                  "Kolesa Group",
                  "Производство мультимедиа, контента, редакторская деятельность",
                  "122047.0"
                ],
                [
                  "26",
                  "Kolesa Group",
                  "Производство печатной, полиграфической продукции",
                  "122047.0"
                ],
                [
                  "27",
                  "MNOGOGAMES",
                  "Интернет-компания (поисковики, платежные системы, соц.сети, информационно-познавательные и развлекательные ресурсы, продвижение сайтов и прочее)",
                  "155000.0"
                ],
                [
                  "28",
                  "OVISION",
                  "Разработка программного обеспечения",
                  "300000.0"
                ],
                [
                  "29",
                  "Semrush",
                  "Разработка программного обеспечения",
                  "300000.0"
                ],
                [
                  "30",
                  "Spice Agency",
                  "Интернет-компания (поисковики, платежные системы, соц.сети, информационно-познавательные и развлекательные ресурсы, продвижение сайтов и прочее)",
                  "250000.0"
                ],
                [
                  "31",
                  "Spice Agency",
                  "Кадровые агентства",
                  "250000.0"
                ],
                [
                  "32",
                  "Spice Agency",
                  "Разработка программного обеспечения",
                  "250000.0"
                ],
                [
                  "33",
                  "Spice Agency",
                  "Системная интеграция,  автоматизации технологических и бизнес-процессов предприятия, ИТ-консалтинг",
                  "250000.0"
                ],
                [
                  "34",
                  "Theyr Ltd",
                  "Интернет-компания (поисковики, платежные системы, соц.сети, информационно-познавательные и развлекательные ресурсы, продвижение сайтов и прочее)",
                  "50000.0"
                ],
                [
                  "35",
                  "Theyr Ltd",
                  "Разработка программного обеспечения",
                  "50000.0"
                ],
                [
                  "36",
                  "Theyr Ltd",
                  "Системная интеграция,  автоматизации технологических и бизнес-процессов предприятия, ИТ-консалтинг",
                  "50000.0"
                ],
                [
                  "37",
                  "АЙТИ.СПЕЙС",
                  "Кадровые агентства",
                  "225000.0"
                ],
                [
                  "38",
                  "АЙТИ.СПЕЙС",
                  "Разработка программного обеспечения",
                  "225000.0"
                ],
                [
                  "39",
                  "АЙТИ.СПЕЙС",
                  "Системная интеграция,  автоматизации технологических и бизнес-процессов предприятия, ИТ-консалтинг",
                  "225000.0"
                ],
                [
                  "40",
                  "Апэрбот",
                  "Разработка программного обеспечения",
                  "80000.0"
                ],
                [
                  "41",
                  "Апэрбот",
                  "Системная интеграция,  автоматизации технологических и бизнес-процессов предприятия, ИТ-консалтинг",
                  "80000.0"
                ],
                [
                  "42",
                  "ВижнЛабс (VisionLabs)",
                  "Разработка программного обеспечения",
                  "100000.0"
                ],
                [
                  "43",
                  "Випакс+",
                  "Промышленное, бытовое электрооборудование и электротехника (монтаж, сервис, ремонт)",
                  "60000.0"
                ],
                [
                  "44",
                  "Випакс+",
                  "Промышленное, бытовое электрооборудование и электротехника (продвижение, оптовая торговля)",
                  "60000.0"
                ],
                [
                  "45",
                  "Випакс+",
                  "Промышленное, бытовое электрооборудование и электротехника (производство)",
                  "60000.0"
                ],
                [
                  "46",
                  "Випакс+",
                  "Разработка программного обеспечения",
                  "60000.0"
                ],
                [
                  "47",
                  "Випакс+",
                  "Электронно-вычислительная, оптическая, контрольно-измерительная техника, радиоэлектроника, автоматика (продвижение, оптовая торговля)",
                  "60000.0"
                ],
                [
                  "48",
                  "Дром",
                  "Интернет-компания (поисковики, платежные системы, соц.сети, информационно-познавательные и развлекательные ресурсы, продвижение сайтов и прочее)",
                  "300000.0"
                ],
                [
                  "49",
                  "Зеленая долина, ГК",
                  "Управляющая, инвестиционная компания (управление активами)",
                  "200000.0"
                ]
              ],
              "shape": {
                "columns": 3,
                "rows": 77
              }
            },
            "text/html": [
              "<div>\n",
              "<style scoped>\n",
              "    .dataframe tbody tr th:only-of-type {\n",
              "        vertical-align: middle;\n",
              "    }\n",
              "\n",
              "    .dataframe tbody tr th {\n",
              "        vertical-align: top;\n",
              "    }\n",
              "\n",
              "    .dataframe thead th {\n",
              "        text-align: right;\n",
              "    }\n",
              "</style>\n",
              "<table border=\"1\" class=\"dataframe\">\n",
              "  <thead>\n",
              "    <tr style=\"text-align: right;\">\n",
              "      <th></th>\n",
              "      <th>employer</th>\n",
              "      <th>industry</th>\n",
              "      <th>Avg_salary</th>\n",
              "    </tr>\n",
              "  </thead>\n",
              "  <tbody>\n",
              "    <tr>\n",
              "      <th>0</th>\n",
              "      <td>Andersen</td>\n",
              "      <td>Разработка программного обеспечения</td>\n",
              "      <td>268862.666667</td>\n",
              "    </tr>\n",
              "    <tr>\n",
              "      <th>1</th>\n",
              "      <td>Andersen</td>\n",
              "      <td>Системная интеграция,  автоматизации технологи...</td>\n",
              "      <td>268862.666667</td>\n",
              "    </tr>\n",
              "    <tr>\n",
              "      <th>2</th>\n",
              "      <td>AppQuantum</td>\n",
              "      <td>Издательская деятельность</td>\n",
              "      <td>350000.000000</td>\n",
              "    </tr>\n",
              "    <tr>\n",
              "      <th>3</th>\n",
              "      <td>AppQuantum</td>\n",
              "      <td>Интернет-компания (поисковики, платежные систе...</td>\n",
              "      <td>350000.000000</td>\n",
              "    </tr>\n",
              "    <tr>\n",
              "      <th>4</th>\n",
              "      <td>AppQuantum</td>\n",
              "      <td>Маркетинговые, рекламные, BTL, дизайнерские, E...</td>\n",
              "      <td>350000.000000</td>\n",
              "    </tr>\n",
              "    <tr>\n",
              "      <th>...</th>\n",
              "      <td>...</td>\n",
              "      <td>...</td>\n",
              "      <td>...</td>\n",
              "    </tr>\n",
              "    <tr>\n",
              "      <th>72</th>\n",
              "      <td>Университет ИТМО</td>\n",
              "      <td>Государственные организации</td>\n",
              "      <td>115000.000000</td>\n",
              "    </tr>\n",
              "    <tr>\n",
              "      <th>73</th>\n",
              "      <td>Университет ИТМО</td>\n",
              "      <td>Научно-исследовательская, научная, академическ...</td>\n",
              "      <td>115000.000000</td>\n",
              "    </tr>\n",
              "    <tr>\n",
              "      <th>74</th>\n",
              "      <td>Центр хранения и анализа больших данных</td>\n",
              "      <td>Консалтинговые услуги</td>\n",
              "      <td>170000.000000</td>\n",
              "    </tr>\n",
              "    <tr>\n",
              "      <th>75</th>\n",
              "      <td>Центр хранения и анализа больших данных</td>\n",
              "      <td>Разработка программного обеспечения</td>\n",
              "      <td>170000.000000</td>\n",
              "    </tr>\n",
              "    <tr>\n",
              "      <th>76</th>\n",
              "      <td>Центр хранения и анализа больших данных</td>\n",
              "      <td>Системная интеграция,  автоматизации технологи...</td>\n",
              "      <td>170000.000000</td>\n",
              "    </tr>\n",
              "  </tbody>\n",
              "</table>\n",
              "<p>77 rows × 3 columns</p>\n",
              "</div>"
            ],
            "text/plain": [
              "                                   employer  \\\n",
              "0                                  Andersen   \n",
              "1                                  Andersen   \n",
              "2                                AppQuantum   \n",
              "3                                AppQuantum   \n",
              "4                                AppQuantum   \n",
              "..                                      ...   \n",
              "72                         Университет ИТМО   \n",
              "73                         Университет ИТМО   \n",
              "74  Центр хранения и анализа больших данных   \n",
              "75  Центр хранения и анализа больших данных   \n",
              "76  Центр хранения и анализа больших данных   \n",
              "\n",
              "                                             industry     Avg_salary  \n",
              "0                 Разработка программного обеспечения  268862.666667  \n",
              "1   Системная интеграция,  автоматизации технологи...  268862.666667  \n",
              "2                           Издательская деятельность  350000.000000  \n",
              "3   Интернет-компания (поисковики, платежные систе...  350000.000000  \n",
              "4   Маркетинговые, рекламные, BTL, дизайнерские, E...  350000.000000  \n",
              "..                                                ...            ...  \n",
              "72                        Государственные организации  115000.000000  \n",
              "73  Научно-исследовательская, научная, академическ...  115000.000000  \n",
              "74                              Консалтинговые услуги  170000.000000  \n",
              "75                Разработка программного обеспечения  170000.000000  \n",
              "76  Системная интеграция,  автоматизации технологи...  170000.000000  \n",
              "\n",
              "[77 rows x 3 columns]"
            ]
          },
          "metadata": {},
          "output_type": "display_data"
        },
        {
          "data": {
            "application/vnd.plotly.v1+json": {
              "config": {
                "plotlyServerURL": "https://plot.ly"
              },
              "data": [
                {
                  "alignmentgroup": "True",
                  "hovertemplate": "employer=Andersen<br>industry=%{x}<br>Avg_salary=%{y}<extra></extra>",
                  "legendgroup": "Andersen",
                  "marker": {
                    "color": "#636efa",
                    "pattern": {
                      "shape": ""
                    }
                  },
                  "name": "Andersen",
                  "offsetgroup": "Andersen",
                  "orientation": "v",
                  "showlegend": true,
                  "textposition": "auto",
                  "type": "bar",
                  "x": [
                    "Разработка программного обеспечения",
                    "Системная интеграция,  автоматизации технологических и бизнес-процессов предприятия, ИТ-консалтинг"
                  ],
                  "xaxis": "x",
                  "y": [
                    268862.6666666667,
                    268862.6666666667
                  ],
                  "yaxis": "y"
                },
                {
                  "alignmentgroup": "True",
                  "hovertemplate": "employer=AppQuantum<br>industry=%{x}<br>Avg_salary=%{y}<extra></extra>",
                  "legendgroup": "AppQuantum",
                  "marker": {
                    "color": "#EF553B",
                    "pattern": {
                      "shape": ""
                    }
                  },
                  "name": "AppQuantum",
                  "offsetgroup": "AppQuantum",
                  "orientation": "v",
                  "showlegend": true,
                  "textposition": "auto",
                  "type": "bar",
                  "x": [
                    "Издательская деятельность",
                    "Интернет-компания (поисковики, платежные системы, соц.сети, информационно-познавательные и развлекательные ресурсы, продвижение сайтов и прочее)",
                    "Маркетинговые, рекламные, BTL, дизайнерские, Event-, PR-агентства, организация выставок",
                    "Разработка программного обеспечения"
                  ],
                  "xaxis": "x",
                  "y": [
                    350000,
                    350000,
                    350000,
                    350000
                  ],
                  "yaxis": "y"
                },
                {
                  "alignmentgroup": "True",
                  "hovertemplate": "employer=Cybernet (Кибернет)<br>industry=%{x}<br>Avg_salary=%{y}<extra></extra>",
                  "legendgroup": "Cybernet (Кибернет)",
                  "marker": {
                    "color": "#00cc96",
                    "pattern": {
                      "shape": ""
                    }
                  },
                  "name": "Cybernet (Кибернет)",
                  "offsetgroup": "Cybernet (Кибернет)",
                  "orientation": "v",
                  "showlegend": true,
                  "textposition": "auto",
                  "type": "bar",
                  "x": [
                    "Системная интеграция,  автоматизации технологических и бизнес-процессов предприятия, ИТ-консалтинг"
                  ],
                  "xaxis": "x",
                  "y": [
                    67126
                  ],
                  "yaxis": "y"
                },
                {
                  "alignmentgroup": "True",
                  "hovertemplate": "employer=DIGINETICA<br>industry=%{x}<br>Avg_salary=%{y}<extra></extra>",
                  "legendgroup": "DIGINETICA",
                  "marker": {
                    "color": "#ab63fa",
                    "pattern": {
                      "shape": ""
                    }
                  },
                  "name": "DIGINETICA",
                  "offsetgroup": "DIGINETICA",
                  "orientation": "v",
                  "showlegend": true,
                  "textposition": "auto",
                  "type": "bar",
                  "x": [
                    "Интернет-компания (поисковики, платежные системы, соц.сети, информационно-познавательные и развлекательные ресурсы, продвижение сайтов и прочее)",
                    "Разработка программного обеспечения",
                    "Системная интеграция,  автоматизации технологических и бизнес-процессов предприятия, ИТ-консалтинг"
                  ],
                  "xaxis": "x",
                  "y": [
                    205000,
                    205000,
                    205000
                  ],
                  "yaxis": "y"
                },
                {
                  "alignmentgroup": "True",
                  "hovertemplate": "employer=Dbrain<br>industry=%{x}<br>Avg_salary=%{y}<extra></extra>",
                  "legendgroup": "Dbrain",
                  "marker": {
                    "color": "#FFA15A",
                    "pattern": {
                      "shape": ""
                    }
                  },
                  "name": "Dbrain",
                  "offsetgroup": "Dbrain",
                  "orientation": "v",
                  "showlegend": true,
                  "textposition": "auto",
                  "type": "bar",
                  "x": [
                    "Системная интеграция,  автоматизации технологических и бизнес-процессов предприятия, ИТ-консалтинг"
                  ],
                  "xaxis": "x",
                  "y": [
                    275000
                  ],
                  "yaxis": "y"
                },
                {
                  "alignmentgroup": "True",
                  "hovertemplate": "employer=Homework<br>industry=%{x}<br>Avg_salary=%{y}<extra></extra>",
                  "legendgroup": "Homework",
                  "marker": {
                    "color": "#19d3f3",
                    "pattern": {
                      "shape": ""
                    }
                  },
                  "name": "Homework",
                  "offsetgroup": "Homework",
                  "orientation": "v",
                  "showlegend": true,
                  "textposition": "auto",
                  "type": "bar",
                  "x": [
                    "Интернет-компания (поисковики, платежные системы, соц.сети, информационно-познавательные и развлекательные ресурсы, продвижение сайтов и прочее)"
                  ],
                  "xaxis": "x",
                  "y": [
                    90000
                  ],
                  "yaxis": "y"
                },
                {
                  "alignmentgroup": "True",
                  "hovertemplate": "employer=Hype Auditor<br>industry=%{x}<br>Avg_salary=%{y}<extra></extra>",
                  "legendgroup": "Hype Auditor",
                  "marker": {
                    "color": "#FF6692",
                    "pattern": {
                      "shape": ""
                    }
                  },
                  "name": "Hype Auditor",
                  "offsetgroup": "Hype Auditor",
                  "orientation": "v",
                  "showlegend": true,
                  "textposition": "auto",
                  "type": "bar",
                  "x": [
                    "Интернет-компания (поисковики, платежные системы, соц.сети, информационно-познавательные и развлекательные ресурсы, продвижение сайтов и прочее)",
                    "Интернет-провайдер",
                    "Разработка программного обеспечения",
                    "Системная интеграция,  автоматизации технологических и бизнес-процессов предприятия, ИТ-консалтинг"
                  ],
                  "xaxis": "x",
                  "y": [
                    175346,
                    175346,
                    175346,
                    175346
                  ],
                  "yaxis": "y"
                },
                {
                  "alignmentgroup": "True",
                  "hovertemplate": "employer=Igor Polyakov Consulting<br>industry=%{x}<br>Avg_salary=%{y}<extra></extra>",
                  "legendgroup": "Igor Polyakov Consulting",
                  "marker": {
                    "color": "#B6E880",
                    "pattern": {
                      "shape": ""
                    }
                  },
                  "name": "Igor Polyakov Consulting",
                  "offsetgroup": "Igor Polyakov Consulting",
                  "orientation": "v",
                  "showlegend": true,
                  "textposition": "auto",
                  "type": "bar",
                  "x": [
                    "Разработка программного обеспечения",
                    "Системная интеграция,  автоматизации технологических и бизнес-процессов предприятия, ИТ-консалтинг"
                  ],
                  "xaxis": "x",
                  "y": [
                    119000,
                    119000
                  ],
                  "yaxis": "y"
                },
                {
                  "alignmentgroup": "True",
                  "hovertemplate": "employer=IntelligiChain<br>industry=%{x}<br>Avg_salary=%{y}<extra></extra>",
                  "legendgroup": "IntelligiChain",
                  "marker": {
                    "color": "#FF97FF",
                    "pattern": {
                      "shape": ""
                    }
                  },
                  "name": "IntelligiChain",
                  "offsetgroup": "IntelligiChain",
                  "orientation": "v",
                  "showlegend": true,
                  "textposition": "auto",
                  "type": "bar",
                  "x": [
                    "Разработка программного обеспечения",
                    "Системная интеграция,  автоматизации технологических и бизнес-процессов предприятия, ИТ-консалтинг"
                  ],
                  "xaxis": "x",
                  "y": [
                    233794,
                    233794
                  ],
                  "yaxis": "y"
                },
                {
                  "alignmentgroup": "True",
                  "hovertemplate": "employer=JSA Group<br>industry=%{x}<br>Avg_salary=%{y}<extra></extra>",
                  "legendgroup": "JSA Group",
                  "marker": {
                    "color": "#FECB52",
                    "pattern": {
                      "shape": ""
                    }
                  },
                  "name": "JSA Group",
                  "offsetgroup": "JSA Group",
                  "orientation": "v",
                  "showlegend": true,
                  "textposition": "auto",
                  "type": "bar",
                  "x": [
                    "Разработка программного обеспечения",
                    "Системная интеграция,  автоматизации технологических и бизнес-процессов предприятия, ИТ-консалтинг"
                  ],
                  "xaxis": "x",
                  "y": [
                    300000,
                    300000
                  ],
                  "yaxis": "y"
                },
                {
                  "alignmentgroup": "True",
                  "hovertemplate": "employer=JuicyScore<br>industry=%{x}<br>Avg_salary=%{y}<extra></extra>",
                  "legendgroup": "JuicyScore",
                  "marker": {
                    "color": "#636efa",
                    "pattern": {
                      "shape": ""
                    }
                  },
                  "name": "JuicyScore",
                  "offsetgroup": "JuicyScore",
                  "orientation": "v",
                  "showlegend": true,
                  "textposition": "auto",
                  "type": "bar",
                  "x": [
                    "Разработка программного обеспечения"
                  ],
                  "xaxis": "x",
                  "y": [
                    200000
                  ],
                  "yaxis": "y"
                },
                {
                  "alignmentgroup": "True",
                  "hovertemplate": "employer=Kolesa Group<br>industry=%{x}<br>Avg_salary=%{y}<extra></extra>",
                  "legendgroup": "Kolesa Group",
                  "marker": {
                    "color": "#EF553B",
                    "pattern": {
                      "shape": ""
                    }
                  },
                  "name": "Kolesa Group",
                  "offsetgroup": "Kolesa Group",
                  "orientation": "v",
                  "showlegend": true,
                  "textposition": "auto",
                  "type": "bar",
                  "x": [
                    "Издательская деятельность",
                    "Интернет-компания (поисковики, платежные системы, соц.сети, информационно-познавательные и развлекательные ресурсы, продвижение сайтов и прочее)",
                    "Производство мультимедиа, контента, редакторская деятельность",
                    "Производство печатной, полиграфической продукции"
                  ],
                  "xaxis": "x",
                  "y": [
                    122047,
                    122047,
                    122047,
                    122047
                  ],
                  "yaxis": "y"
                },
                {
                  "alignmentgroup": "True",
                  "hovertemplate": "employer=MNOGOGAMES<br>industry=%{x}<br>Avg_salary=%{y}<extra></extra>",
                  "legendgroup": "MNOGOGAMES",
                  "marker": {
                    "color": "#00cc96",
                    "pattern": {
                      "shape": ""
                    }
                  },
                  "name": "MNOGOGAMES",
                  "offsetgroup": "MNOGOGAMES",
                  "orientation": "v",
                  "showlegend": true,
                  "textposition": "auto",
                  "type": "bar",
                  "x": [
                    "Интернет-компания (поисковики, платежные системы, соц.сети, информационно-познавательные и развлекательные ресурсы, продвижение сайтов и прочее)"
                  ],
                  "xaxis": "x",
                  "y": [
                    155000
                  ],
                  "yaxis": "y"
                },
                {
                  "alignmentgroup": "True",
                  "hovertemplate": "employer=OVISION<br>industry=%{x}<br>Avg_salary=%{y}<extra></extra>",
                  "legendgroup": "OVISION",
                  "marker": {
                    "color": "#ab63fa",
                    "pattern": {
                      "shape": ""
                    }
                  },
                  "name": "OVISION",
                  "offsetgroup": "OVISION",
                  "orientation": "v",
                  "showlegend": true,
                  "textposition": "auto",
                  "type": "bar",
                  "x": [
                    "Разработка программного обеспечения"
                  ],
                  "xaxis": "x",
                  "y": [
                    300000
                  ],
                  "yaxis": "y"
                },
                {
                  "alignmentgroup": "True",
                  "hovertemplate": "employer=Semrush<br>industry=%{x}<br>Avg_salary=%{y}<extra></extra>",
                  "legendgroup": "Semrush",
                  "marker": {
                    "color": "#FFA15A",
                    "pattern": {
                      "shape": ""
                    }
                  },
                  "name": "Semrush",
                  "offsetgroup": "Semrush",
                  "orientation": "v",
                  "showlegend": true,
                  "textposition": "auto",
                  "type": "bar",
                  "x": [
                    "Разработка программного обеспечения"
                  ],
                  "xaxis": "x",
                  "y": [
                    300000
                  ],
                  "yaxis": "y"
                },
                {
                  "alignmentgroup": "True",
                  "hovertemplate": "employer=Spice Agency<br>industry=%{x}<br>Avg_salary=%{y}<extra></extra>",
                  "legendgroup": "Spice Agency",
                  "marker": {
                    "color": "#19d3f3",
                    "pattern": {
                      "shape": ""
                    }
                  },
                  "name": "Spice Agency",
                  "offsetgroup": "Spice Agency",
                  "orientation": "v",
                  "showlegend": true,
                  "textposition": "auto",
                  "type": "bar",
                  "x": [
                    "Интернет-компания (поисковики, платежные системы, соц.сети, информационно-познавательные и развлекательные ресурсы, продвижение сайтов и прочее)",
                    "Кадровые агентства",
                    "Разработка программного обеспечения",
                    "Системная интеграция,  автоматизации технологических и бизнес-процессов предприятия, ИТ-консалтинг"
                  ],
                  "xaxis": "x",
                  "y": [
                    250000,
                    250000,
                    250000,
                    250000
                  ],
                  "yaxis": "y"
                },
                {
                  "alignmentgroup": "True",
                  "hovertemplate": "employer=Theyr Ltd<br>industry=%{x}<br>Avg_salary=%{y}<extra></extra>",
                  "legendgroup": "Theyr Ltd",
                  "marker": {
                    "color": "#FF6692",
                    "pattern": {
                      "shape": ""
                    }
                  },
                  "name": "Theyr Ltd",
                  "offsetgroup": "Theyr Ltd",
                  "orientation": "v",
                  "showlegend": true,
                  "textposition": "auto",
                  "type": "bar",
                  "x": [
                    "Интернет-компания (поисковики, платежные системы, соц.сети, информационно-познавательные и развлекательные ресурсы, продвижение сайтов и прочее)",
                    "Разработка программного обеспечения",
                    "Системная интеграция,  автоматизации технологических и бизнес-процессов предприятия, ИТ-консалтинг"
                  ],
                  "xaxis": "x",
                  "y": [
                    50000,
                    50000,
                    50000
                  ],
                  "yaxis": "y"
                },
                {
                  "alignmentgroup": "True",
                  "hovertemplate": "employer=АЙТИ.СПЕЙС<br>industry=%{x}<br>Avg_salary=%{y}<extra></extra>",
                  "legendgroup": "АЙТИ.СПЕЙС",
                  "marker": {
                    "color": "#B6E880",
                    "pattern": {
                      "shape": ""
                    }
                  },
                  "name": "АЙТИ.СПЕЙС",
                  "offsetgroup": "АЙТИ.СПЕЙС",
                  "orientation": "v",
                  "showlegend": true,
                  "textposition": "auto",
                  "type": "bar",
                  "x": [
                    "Кадровые агентства",
                    "Разработка программного обеспечения",
                    "Системная интеграция,  автоматизации технологических и бизнес-процессов предприятия, ИТ-консалтинг"
                  ],
                  "xaxis": "x",
                  "y": [
                    225000,
                    225000,
                    225000
                  ],
                  "yaxis": "y"
                },
                {
                  "alignmentgroup": "True",
                  "hovertemplate": "employer=Апэрбот<br>industry=%{x}<br>Avg_salary=%{y}<extra></extra>",
                  "legendgroup": "Апэрбот",
                  "marker": {
                    "color": "#FF97FF",
                    "pattern": {
                      "shape": ""
                    }
                  },
                  "name": "Апэрбот",
                  "offsetgroup": "Апэрбот",
                  "orientation": "v",
                  "showlegend": true,
                  "textposition": "auto",
                  "type": "bar",
                  "x": [
                    "Разработка программного обеспечения",
                    "Системная интеграция,  автоматизации технологических и бизнес-процессов предприятия, ИТ-консалтинг"
                  ],
                  "xaxis": "x",
                  "y": [
                    80000,
                    80000
                  ],
                  "yaxis": "y"
                },
                {
                  "alignmentgroup": "True",
                  "hovertemplate": "employer=ВижнЛабс (VisionLabs)<br>industry=%{x}<br>Avg_salary=%{y}<extra></extra>",
                  "legendgroup": "ВижнЛабс (VisionLabs)",
                  "marker": {
                    "color": "#FECB52",
                    "pattern": {
                      "shape": ""
                    }
                  },
                  "name": "ВижнЛабс (VisionLabs)",
                  "offsetgroup": "ВижнЛабс (VisionLabs)",
                  "orientation": "v",
                  "showlegend": true,
                  "textposition": "auto",
                  "type": "bar",
                  "x": [
                    "Разработка программного обеспечения"
                  ],
                  "xaxis": "x",
                  "y": [
                    100000
                  ],
                  "yaxis": "y"
                },
                {
                  "alignmentgroup": "True",
                  "hovertemplate": "employer=Випакс+<br>industry=%{x}<br>Avg_salary=%{y}<extra></extra>",
                  "legendgroup": "Випакс+",
                  "marker": {
                    "color": "#636efa",
                    "pattern": {
                      "shape": ""
                    }
                  },
                  "name": "Випакс+",
                  "offsetgroup": "Випакс+",
                  "orientation": "v",
                  "showlegend": true,
                  "textposition": "auto",
                  "type": "bar",
                  "x": [
                    "Промышленное, бытовое электрооборудование и электротехника (монтаж, сервис, ремонт)",
                    "Промышленное, бытовое электрооборудование и электротехника (продвижение, оптовая торговля)",
                    "Промышленное, бытовое электрооборудование и электротехника (производство)",
                    "Разработка программного обеспечения",
                    "Электронно-вычислительная, оптическая, контрольно-измерительная техника, радиоэлектроника, автоматика (продвижение, оптовая торговля)"
                  ],
                  "xaxis": "x",
                  "y": [
                    60000,
                    60000,
                    60000,
                    60000,
                    60000
                  ],
                  "yaxis": "y"
                },
                {
                  "alignmentgroup": "True",
                  "hovertemplate": "employer=Дром<br>industry=%{x}<br>Avg_salary=%{y}<extra></extra>",
                  "legendgroup": "Дром",
                  "marker": {
                    "color": "#EF553B",
                    "pattern": {
                      "shape": ""
                    }
                  },
                  "name": "Дром",
                  "offsetgroup": "Дром",
                  "orientation": "v",
                  "showlegend": true,
                  "textposition": "auto",
                  "type": "bar",
                  "x": [
                    "Интернет-компания (поисковики, платежные системы, соц.сети, информационно-познавательные и развлекательные ресурсы, продвижение сайтов и прочее)"
                  ],
                  "xaxis": "x",
                  "y": [
                    300000
                  ],
                  "yaxis": "y"
                },
                {
                  "alignmentgroup": "True",
                  "hovertemplate": "employer=Зеленая долина, ГК<br>industry=%{x}<br>Avg_salary=%{y}<extra></extra>",
                  "legendgroup": "Зеленая долина, ГК",
                  "marker": {
                    "color": "#00cc96",
                    "pattern": {
                      "shape": ""
                    }
                  },
                  "name": "Зеленая долина, ГК",
                  "offsetgroup": "Зеленая долина, ГК",
                  "orientation": "v",
                  "showlegend": true,
                  "textposition": "auto",
                  "type": "bar",
                  "x": [
                    "Управляющая, инвестиционная компания (управление активами)"
                  ],
                  "xaxis": "x",
                  "y": [
                    200000
                  ],
                  "yaxis": "y"
                },
                {
                  "alignmentgroup": "True",
                  "hovertemplate": "employer=Итон<br>industry=%{x}<br>Avg_salary=%{y}<extra></extra>",
                  "legendgroup": "Итон",
                  "marker": {
                    "color": "#ab63fa",
                    "pattern": {
                      "shape": ""
                    }
                  },
                  "name": "Итон",
                  "offsetgroup": "Итон",
                  "orientation": "v",
                  "showlegend": true,
                  "textposition": "auto",
                  "type": "bar",
                  "x": [
                    "Разработка программного обеспечения",
                    "Системная интеграция,  автоматизации технологических и бизнес-процессов предприятия, ИТ-консалтинг"
                  ],
                  "xaxis": "x",
                  "y": [
                    450000,
                    450000
                  ],
                  "yaxis": "y"
                },
                {
                  "alignmentgroup": "True",
                  "hovertemplate": "employer=КБ Уральский банк реконструкции и развития (УБРиР)<br>industry=%{x}<br>Avg_salary=%{y}<extra></extra>",
                  "legendgroup": "КБ Уральский банк реконструкции и развития (УБРиР)",
                  "marker": {
                    "color": "#FFA15A",
                    "pattern": {
                      "shape": ""
                    }
                  },
                  "name": "КБ Уральский банк реконструкции и развития (УБРиР)",
                  "offsetgroup": "КБ Уральский банк реконструкции и развития (УБРиР)",
                  "orientation": "v",
                  "showlegend": true,
                  "textposition": "auto",
                  "type": "bar",
                  "x": [
                    "Банк"
                  ],
                  "xaxis": "x",
                  "y": [
                    37000
                  ],
                  "yaxis": "y"
                },
                {
                  "alignmentgroup": "True",
                  "hovertemplate": "employer=Кловер Групп<br>industry=%{x}<br>Avg_salary=%{y}<extra></extra>",
                  "legendgroup": "Кловер Групп",
                  "marker": {
                    "color": "#19d3f3",
                    "pattern": {
                      "shape": ""
                    }
                  },
                  "name": "Кловер Групп",
                  "offsetgroup": "Кловер Групп",
                  "orientation": "v",
                  "showlegend": true,
                  "textposition": "auto",
                  "type": "bar",
                  "x": [
                    "Консалтинговые услуги",
                    "Разработка программного обеспечения",
                    "Системная интеграция,  автоматизации технологических и бизнес-процессов предприятия, ИТ-консалтинг"
                  ],
                  "xaxis": "x",
                  "y": [
                    275000,
                    275000,
                    275000
                  ],
                  "yaxis": "y"
                },
                {
                  "alignmentgroup": "True",
                  "hovertemplate": "employer=НИИАС<br>industry=%{x}<br>Avg_salary=%{y}<extra></extra>",
                  "legendgroup": "НИИАС",
                  "marker": {
                    "color": "#FF6692",
                    "pattern": {
                      "shape": ""
                    }
                  },
                  "name": "НИИАС",
                  "offsetgroup": "НИИАС",
                  "orientation": "v",
                  "showlegend": true,
                  "textposition": "auto",
                  "type": "bar",
                  "x": [
                    "Системная интеграция,  автоматизации технологических и бизнес-процессов предприятия, ИТ-консалтинг"
                  ],
                  "xaxis": "x",
                  "y": [
                    175000
                  ],
                  "yaxis": "y"
                },
                {
                  "alignmentgroup": "True",
                  "hovertemplate": "employer=Программный регион<br>industry=%{x}<br>Avg_salary=%{y}<extra></extra>",
                  "legendgroup": "Программный регион",
                  "marker": {
                    "color": "#B6E880",
                    "pattern": {
                      "shape": ""
                    }
                  },
                  "name": "Программный регион",
                  "offsetgroup": "Программный регион",
                  "orientation": "v",
                  "showlegend": true,
                  "textposition": "auto",
                  "type": "bar",
                  "x": [
                    "Разработка программного обеспечения",
                    "Системная интеграция,  автоматизации технологических и бизнес-процессов предприятия, ИТ-консалтинг"
                  ],
                  "xaxis": "x",
                  "y": [
                    127500,
                    127500
                  ],
                  "yaxis": "y"
                },
                {
                  "alignmentgroup": "True",
                  "hovertemplate": "employer=РКК Энергия<br>industry=%{x}<br>Avg_salary=%{y}<extra></extra>",
                  "legendgroup": "РКК Энергия",
                  "marker": {
                    "color": "#FF97FF",
                    "pattern": {
                      "shape": ""
                    }
                  },
                  "name": "РКК Энергия",
                  "offsetgroup": "РКК Энергия",
                  "orientation": "v",
                  "showlegend": true,
                  "textposition": "auto",
                  "type": "bar",
                  "x": [
                    "Авиационная, вертолетная, аэрокосмическая промышленность",
                    "Двигатели (производство)",
                    "Продукция авиационной, аэрокосмической, вертолетной промышленности (монтаж, сервис, ремонт)"
                  ],
                  "xaxis": "x",
                  "y": [
                    130000,
                    130000,
                    130000
                  ],
                  "yaxis": "y"
                },
                {
                  "alignmentgroup": "True",
                  "hovertemplate": "employer=СберЛизинг<br>industry=%{x}<br>Avg_salary=%{y}<extra></extra>",
                  "legendgroup": "СберЛизинг",
                  "marker": {
                    "color": "#FECB52",
                    "pattern": {
                      "shape": ""
                    }
                  },
                  "name": "СберЛизинг",
                  "offsetgroup": "СберЛизинг",
                  "orientation": "v",
                  "showlegend": true,
                  "textposition": "auto",
                  "type": "bar",
                  "x": [
                    "Лизинговые компании"
                  ],
                  "xaxis": "x",
                  "y": [
                    300000
                  ],
                  "yaxis": "y"
                },
                {
                  "alignmentgroup": "True",
                  "hovertemplate": "employer=Сталепромышленная компания<br>industry=%{x}<br>Avg_salary=%{y}<extra></extra>",
                  "legendgroup": "Сталепромышленная компания",
                  "marker": {
                    "color": "#636efa",
                    "pattern": {
                      "shape": ""
                    }
                  },
                  "name": "Сталепромышленная компания",
                  "offsetgroup": "Сталепромышленная компания",
                  "orientation": "v",
                  "showlegend": true,
                  "textposition": "auto",
                  "type": "bar",
                  "x": [
                    "Металлические изделия, металлоконструкции (продвижение, оптовая торговля)",
                    "Металлические изделия, металлоконструкции (производство)",
                    "Продукция черной металлургии (продвижение, оптовая торговля)"
                  ],
                  "xaxis": "x",
                  "y": [
                    110000,
                    110000,
                    110000
                  ],
                  "yaxis": "y"
                },
                {
                  "alignmentgroup": "True",
                  "hovertemplate": "employer=Строительный Двор<br>industry=%{x}<br>Avg_salary=%{y}<extra></extra>",
                  "legendgroup": "Строительный Двор",
                  "marker": {
                    "color": "#EF553B",
                    "pattern": {
                      "shape": ""
                    }
                  },
                  "name": "Строительный Двор",
                  "offsetgroup": "Строительный Двор",
                  "orientation": "v",
                  "showlegend": true,
                  "textposition": "auto",
                  "type": "bar",
                  "x": [
                    "Розничная сеть (DIY и товары для дома)",
                    "Стройматериалы, сборные конструкции для ремонта и строительства (продвижение, оптовая торговля)"
                  ],
                  "xaxis": "x",
                  "y": [
                    72500,
                    72500
                  ],
                  "yaxis": "y"
                },
                {
                  "alignmentgroup": "True",
                  "hovertemplate": "employer=Улыбка радуги<br>industry=%{x}<br>Avg_salary=%{y}<extra></extra>",
                  "legendgroup": "Улыбка радуги",
                  "marker": {
                    "color": "#00cc96",
                    "pattern": {
                      "shape": ""
                    }
                  },
                  "name": "Улыбка радуги",
                  "offsetgroup": "Улыбка радуги",
                  "orientation": "v",
                  "showlegend": true,
                  "textposition": "auto",
                  "type": "bar",
                  "x": [
                    "Бытовая химия, парфюмерия, косметика  (продвижение, оптовая торговля)",
                    "Бытовая химия, парфюмерия, косметика  (производство)",
                    "Розничная сеть (drogerie, товары повседневного спроса)"
                  ],
                  "xaxis": "x",
                  "y": [
                    50000,
                    50000,
                    50000
                  ],
                  "yaxis": "y"
                },
                {
                  "alignmentgroup": "True",
                  "hovertemplate": "employer=Университет ИТМО<br>industry=%{x}<br>Avg_salary=%{y}<extra></extra>",
                  "legendgroup": "Университет ИТМО",
                  "marker": {
                    "color": "#ab63fa",
                    "pattern": {
                      "shape": ""
                    }
                  },
                  "name": "Университет ИТМО",
                  "offsetgroup": "Университет ИТМО",
                  "orientation": "v",
                  "showlegend": true,
                  "textposition": "auto",
                  "type": "bar",
                  "x": [
                    "Вуз, ссуз колледж, ПТУ",
                    "Государственные организации",
                    "Научно-исследовательская, научная, академическая деятельность"
                  ],
                  "xaxis": "x",
                  "y": [
                    115000,
                    115000,
                    115000
                  ],
                  "yaxis": "y"
                },
                {
                  "alignmentgroup": "True",
                  "hovertemplate": "employer=Центр хранения и анализа больших данных<br>industry=%{x}<br>Avg_salary=%{y}<extra></extra>",
                  "legendgroup": "Центр хранения и анализа больших данных",
                  "marker": {
                    "color": "#FFA15A",
                    "pattern": {
                      "shape": ""
                    }
                  },
                  "name": "Центр хранения и анализа больших данных",
                  "offsetgroup": "Центр хранения и анализа больших данных",
                  "orientation": "v",
                  "showlegend": true,
                  "textposition": "auto",
                  "type": "bar",
                  "x": [
                    "Консалтинговые услуги",
                    "Разработка программного обеспечения",
                    "Системная интеграция,  автоматизации технологических и бизнес-процессов предприятия, ИТ-консалтинг"
                  ],
                  "xaxis": "x",
                  "y": [
                    170000,
                    170000,
                    170000
                  ],
                  "yaxis": "y"
                }
              ],
              "layout": {
                "barmode": "relative",
                "legend": {
                  "title": {
                    "text": "employer"
                  },
                  "tracegroupgap": 0
                },
                "template": {
                  "data": {
                    "bar": [
                      {
                        "error_x": {
                          "color": "#2a3f5f"
                        },
                        "error_y": {
                          "color": "#2a3f5f"
                        },
                        "marker": {
                          "line": {
                            "color": "#E5ECF6",
                            "width": 0.5
                          },
                          "pattern": {
                            "fillmode": "overlay",
                            "size": 10,
                            "solidity": 0.2
                          }
                        },
                        "type": "bar"
                      }
                    ],
                    "barpolar": [
                      {
                        "marker": {
                          "line": {
                            "color": "#E5ECF6",
                            "width": 0.5
                          },
                          "pattern": {
                            "fillmode": "overlay",
                            "size": 10,
                            "solidity": 0.2
                          }
                        },
                        "type": "barpolar"
                      }
                    ],
                    "carpet": [
                      {
                        "aaxis": {
                          "endlinecolor": "#2a3f5f",
                          "gridcolor": "white",
                          "linecolor": "white",
                          "minorgridcolor": "white",
                          "startlinecolor": "#2a3f5f"
                        },
                        "baxis": {
                          "endlinecolor": "#2a3f5f",
                          "gridcolor": "white",
                          "linecolor": "white",
                          "minorgridcolor": "white",
                          "startlinecolor": "#2a3f5f"
                        },
                        "type": "carpet"
                      }
                    ],
                    "choropleth": [
                      {
                        "colorbar": {
                          "outlinewidth": 0,
                          "ticks": ""
                        },
                        "type": "choropleth"
                      }
                    ],
                    "contour": [
                      {
                        "colorbar": {
                          "outlinewidth": 0,
                          "ticks": ""
                        },
                        "colorscale": [
                          [
                            0,
                            "#0d0887"
                          ],
                          [
                            0.1111111111111111,
                            "#46039f"
                          ],
                          [
                            0.2222222222222222,
                            "#7201a8"
                          ],
                          [
                            0.3333333333333333,
                            "#9c179e"
                          ],
                          [
                            0.4444444444444444,
                            "#bd3786"
                          ],
                          [
                            0.5555555555555556,
                            "#d8576b"
                          ],
                          [
                            0.6666666666666666,
                            "#ed7953"
                          ],
                          [
                            0.7777777777777778,
                            "#fb9f3a"
                          ],
                          [
                            0.8888888888888888,
                            "#fdca26"
                          ],
                          [
                            1,
                            "#f0f921"
                          ]
                        ],
                        "type": "contour"
                      }
                    ],
                    "contourcarpet": [
                      {
                        "colorbar": {
                          "outlinewidth": 0,
                          "ticks": ""
                        },
                        "type": "contourcarpet"
                      }
                    ],
                    "heatmap": [
                      {
                        "colorbar": {
                          "outlinewidth": 0,
                          "ticks": ""
                        },
                        "colorscale": [
                          [
                            0,
                            "#0d0887"
                          ],
                          [
                            0.1111111111111111,
                            "#46039f"
                          ],
                          [
                            0.2222222222222222,
                            "#7201a8"
                          ],
                          [
                            0.3333333333333333,
                            "#9c179e"
                          ],
                          [
                            0.4444444444444444,
                            "#bd3786"
                          ],
                          [
                            0.5555555555555556,
                            "#d8576b"
                          ],
                          [
                            0.6666666666666666,
                            "#ed7953"
                          ],
                          [
                            0.7777777777777778,
                            "#fb9f3a"
                          ],
                          [
                            0.8888888888888888,
                            "#fdca26"
                          ],
                          [
                            1,
                            "#f0f921"
                          ]
                        ],
                        "type": "heatmap"
                      }
                    ],
                    "heatmapgl": [
                      {
                        "colorbar": {
                          "outlinewidth": 0,
                          "ticks": ""
                        },
                        "colorscale": [
                          [
                            0,
                            "#0d0887"
                          ],
                          [
                            0.1111111111111111,
                            "#46039f"
                          ],
                          [
                            0.2222222222222222,
                            "#7201a8"
                          ],
                          [
                            0.3333333333333333,
                            "#9c179e"
                          ],
                          [
                            0.4444444444444444,
                            "#bd3786"
                          ],
                          [
                            0.5555555555555556,
                            "#d8576b"
                          ],
                          [
                            0.6666666666666666,
                            "#ed7953"
                          ],
                          [
                            0.7777777777777778,
                            "#fb9f3a"
                          ],
                          [
                            0.8888888888888888,
                            "#fdca26"
                          ],
                          [
                            1,
                            "#f0f921"
                          ]
                        ],
                        "type": "heatmapgl"
                      }
                    ],
                    "histogram": [
                      {
                        "marker": {
                          "pattern": {
                            "fillmode": "overlay",
                            "size": 10,
                            "solidity": 0.2
                          }
                        },
                        "type": "histogram"
                      }
                    ],
                    "histogram2d": [
                      {
                        "colorbar": {
                          "outlinewidth": 0,
                          "ticks": ""
                        },
                        "colorscale": [
                          [
                            0,
                            "#0d0887"
                          ],
                          [
                            0.1111111111111111,
                            "#46039f"
                          ],
                          [
                            0.2222222222222222,
                            "#7201a8"
                          ],
                          [
                            0.3333333333333333,
                            "#9c179e"
                          ],
                          [
                            0.4444444444444444,
                            "#bd3786"
                          ],
                          [
                            0.5555555555555556,
                            "#d8576b"
                          ],
                          [
                            0.6666666666666666,
                            "#ed7953"
                          ],
                          [
                            0.7777777777777778,
                            "#fb9f3a"
                          ],
                          [
                            0.8888888888888888,
                            "#fdca26"
                          ],
                          [
                            1,
                            "#f0f921"
                          ]
                        ],
                        "type": "histogram2d"
                      }
                    ],
                    "histogram2dcontour": [
                      {
                        "colorbar": {
                          "outlinewidth": 0,
                          "ticks": ""
                        },
                        "colorscale": [
                          [
                            0,
                            "#0d0887"
                          ],
                          [
                            0.1111111111111111,
                            "#46039f"
                          ],
                          [
                            0.2222222222222222,
                            "#7201a8"
                          ],
                          [
                            0.3333333333333333,
                            "#9c179e"
                          ],
                          [
                            0.4444444444444444,
                            "#bd3786"
                          ],
                          [
                            0.5555555555555556,
                            "#d8576b"
                          ],
                          [
                            0.6666666666666666,
                            "#ed7953"
                          ],
                          [
                            0.7777777777777778,
                            "#fb9f3a"
                          ],
                          [
                            0.8888888888888888,
                            "#fdca26"
                          ],
                          [
                            1,
                            "#f0f921"
                          ]
                        ],
                        "type": "histogram2dcontour"
                      }
                    ],
                    "mesh3d": [
                      {
                        "colorbar": {
                          "outlinewidth": 0,
                          "ticks": ""
                        },
                        "type": "mesh3d"
                      }
                    ],
                    "parcoords": [
                      {
                        "line": {
                          "colorbar": {
                            "outlinewidth": 0,
                            "ticks": ""
                          }
                        },
                        "type": "parcoords"
                      }
                    ],
                    "pie": [
                      {
                        "automargin": true,
                        "type": "pie"
                      }
                    ],
                    "scatter": [
                      {
                        "fillpattern": {
                          "fillmode": "overlay",
                          "size": 10,
                          "solidity": 0.2
                        },
                        "type": "scatter"
                      }
                    ],
                    "scatter3d": [
                      {
                        "line": {
                          "colorbar": {
                            "outlinewidth": 0,
                            "ticks": ""
                          }
                        },
                        "marker": {
                          "colorbar": {
                            "outlinewidth": 0,
                            "ticks": ""
                          }
                        },
                        "type": "scatter3d"
                      }
                    ],
                    "scattercarpet": [
                      {
                        "marker": {
                          "colorbar": {
                            "outlinewidth": 0,
                            "ticks": ""
                          }
                        },
                        "type": "scattercarpet"
                      }
                    ],
                    "scattergeo": [
                      {
                        "marker": {
                          "colorbar": {
                            "outlinewidth": 0,
                            "ticks": ""
                          }
                        },
                        "type": "scattergeo"
                      }
                    ],
                    "scattergl": [
                      {
                        "marker": {
                          "colorbar": {
                            "outlinewidth": 0,
                            "ticks": ""
                          }
                        },
                        "type": "scattergl"
                      }
                    ],
                    "scattermapbox": [
                      {
                        "marker": {
                          "colorbar": {
                            "outlinewidth": 0,
                            "ticks": ""
                          }
                        },
                        "type": "scattermapbox"
                      }
                    ],
                    "scatterpolar": [
                      {
                        "marker": {
                          "colorbar": {
                            "outlinewidth": 0,
                            "ticks": ""
                          }
                        },
                        "type": "scatterpolar"
                      }
                    ],
                    "scatterpolargl": [
                      {
                        "marker": {
                          "colorbar": {
                            "outlinewidth": 0,
                            "ticks": ""
                          }
                        },
                        "type": "scatterpolargl"
                      }
                    ],
                    "scatterternary": [
                      {
                        "marker": {
                          "colorbar": {
                            "outlinewidth": 0,
                            "ticks": ""
                          }
                        },
                        "type": "scatterternary"
                      }
                    ],
                    "surface": [
                      {
                        "colorbar": {
                          "outlinewidth": 0,
                          "ticks": ""
                        },
                        "colorscale": [
                          [
                            0,
                            "#0d0887"
                          ],
                          [
                            0.1111111111111111,
                            "#46039f"
                          ],
                          [
                            0.2222222222222222,
                            "#7201a8"
                          ],
                          [
                            0.3333333333333333,
                            "#9c179e"
                          ],
                          [
                            0.4444444444444444,
                            "#bd3786"
                          ],
                          [
                            0.5555555555555556,
                            "#d8576b"
                          ],
                          [
                            0.6666666666666666,
                            "#ed7953"
                          ],
                          [
                            0.7777777777777778,
                            "#fb9f3a"
                          ],
                          [
                            0.8888888888888888,
                            "#fdca26"
                          ],
                          [
                            1,
                            "#f0f921"
                          ]
                        ],
                        "type": "surface"
                      }
                    ],
                    "table": [
                      {
                        "cells": {
                          "fill": {
                            "color": "#EBF0F8"
                          },
                          "line": {
                            "color": "white"
                          }
                        },
                        "header": {
                          "fill": {
                            "color": "#C8D4E3"
                          },
                          "line": {
                            "color": "white"
                          }
                        },
                        "type": "table"
                      }
                    ]
                  },
                  "layout": {
                    "annotationdefaults": {
                      "arrowcolor": "#2a3f5f",
                      "arrowhead": 0,
                      "arrowwidth": 1
                    },
                    "autotypenumbers": "strict",
                    "coloraxis": {
                      "colorbar": {
                        "outlinewidth": 0,
                        "ticks": ""
                      }
                    },
                    "colorscale": {
                      "diverging": [
                        [
                          0,
                          "#8e0152"
                        ],
                        [
                          0.1,
                          "#c51b7d"
                        ],
                        [
                          0.2,
                          "#de77ae"
                        ],
                        [
                          0.3,
                          "#f1b6da"
                        ],
                        [
                          0.4,
                          "#fde0ef"
                        ],
                        [
                          0.5,
                          "#f7f7f7"
                        ],
                        [
                          0.6,
                          "#e6f5d0"
                        ],
                        [
                          0.7,
                          "#b8e186"
                        ],
                        [
                          0.8,
                          "#7fbc41"
                        ],
                        [
                          0.9,
                          "#4d9221"
                        ],
                        [
                          1,
                          "#276419"
                        ]
                      ],
                      "sequential": [
                        [
                          0,
                          "#0d0887"
                        ],
                        [
                          0.1111111111111111,
                          "#46039f"
                        ],
                        [
                          0.2222222222222222,
                          "#7201a8"
                        ],
                        [
                          0.3333333333333333,
                          "#9c179e"
                        ],
                        [
                          0.4444444444444444,
                          "#bd3786"
                        ],
                        [
                          0.5555555555555556,
                          "#d8576b"
                        ],
                        [
                          0.6666666666666666,
                          "#ed7953"
                        ],
                        [
                          0.7777777777777778,
                          "#fb9f3a"
                        ],
                        [
                          0.8888888888888888,
                          "#fdca26"
                        ],
                        [
                          1,
                          "#f0f921"
                        ]
                      ],
                      "sequentialminus": [
                        [
                          0,
                          "#0d0887"
                        ],
                        [
                          0.1111111111111111,
                          "#46039f"
                        ],
                        [
                          0.2222222222222222,
                          "#7201a8"
                        ],
                        [
                          0.3333333333333333,
                          "#9c179e"
                        ],
                        [
                          0.4444444444444444,
                          "#bd3786"
                        ],
                        [
                          0.5555555555555556,
                          "#d8576b"
                        ],
                        [
                          0.6666666666666666,
                          "#ed7953"
                        ],
                        [
                          0.7777777777777778,
                          "#fb9f3a"
                        ],
                        [
                          0.8888888888888888,
                          "#fdca26"
                        ],
                        [
                          1,
                          "#f0f921"
                        ]
                      ]
                    },
                    "colorway": [
                      "#636efa",
                      "#EF553B",
                      "#00cc96",
                      "#ab63fa",
                      "#FFA15A",
                      "#19d3f3",
                      "#FF6692",
                      "#B6E880",
                      "#FF97FF",
                      "#FECB52"
                    ],
                    "font": {
                      "color": "#2a3f5f"
                    },
                    "geo": {
                      "bgcolor": "white",
                      "lakecolor": "white",
                      "landcolor": "#E5ECF6",
                      "showlakes": true,
                      "showland": true,
                      "subunitcolor": "white"
                    },
                    "hoverlabel": {
                      "align": "left"
                    },
                    "hovermode": "closest",
                    "mapbox": {
                      "style": "light"
                    },
                    "paper_bgcolor": "white",
                    "plot_bgcolor": "#E5ECF6",
                    "polar": {
                      "angularaxis": {
                        "gridcolor": "white",
                        "linecolor": "white",
                        "ticks": ""
                      },
                      "bgcolor": "#E5ECF6",
                      "radialaxis": {
                        "gridcolor": "white",
                        "linecolor": "white",
                        "ticks": ""
                      }
                    },
                    "scene": {
                      "xaxis": {
                        "backgroundcolor": "#E5ECF6",
                        "gridcolor": "white",
                        "gridwidth": 2,
                        "linecolor": "white",
                        "showbackground": true,
                        "ticks": "",
                        "zerolinecolor": "white"
                      },
                      "yaxis": {
                        "backgroundcolor": "#E5ECF6",
                        "gridcolor": "white",
                        "gridwidth": 2,
                        "linecolor": "white",
                        "showbackground": true,
                        "ticks": "",
                        "zerolinecolor": "white"
                      },
                      "zaxis": {
                        "backgroundcolor": "#E5ECF6",
                        "gridcolor": "white",
                        "gridwidth": 2,
                        "linecolor": "white",
                        "showbackground": true,
                        "ticks": "",
                        "zerolinecolor": "white"
                      }
                    },
                    "shapedefaults": {
                      "line": {
                        "color": "#2a3f5f"
                      }
                    },
                    "ternary": {
                      "aaxis": {
                        "gridcolor": "white",
                        "linecolor": "white",
                        "ticks": ""
                      },
                      "baxis": {
                        "gridcolor": "white",
                        "linecolor": "white",
                        "ticks": ""
                      },
                      "bgcolor": "#E5ECF6",
                      "caxis": {
                        "gridcolor": "white",
                        "linecolor": "white",
                        "ticks": ""
                      }
                    },
                    "title": {
                      "x": 0.05
                    },
                    "xaxis": {
                      "automargin": true,
                      "gridcolor": "white",
                      "linecolor": "white",
                      "ticks": "",
                      "title": {
                        "standoff": 15
                      },
                      "zerolinecolor": "white",
                      "zerolinewidth": 2
                    },
                    "yaxis": {
                      "automargin": true,
                      "gridcolor": "white",
                      "linecolor": "white",
                      "ticks": "",
                      "title": {
                        "standoff": 15
                      },
                      "zerolinecolor": "white",
                      "zerolinewidth": 2
                    }
                  }
                },
                "title": {
                  "text": "Зависимость средней зарплаты от работодателя<br>(данные представлены по городам-миллионникам)"
                },
                "xaxis": {
                  "anchor": "y",
                  "domain": [
                    0,
                    1
                  ],
                  "title": {
                    "text": "industry"
                  }
                },
                "yaxis": {
                  "anchor": "x",
                  "domain": [
                    0,
                    1
                  ],
                  "title": {
                    "text": "Avg_salary"
                  }
                }
              }
            }
          },
          "metadata": {},
          "output_type": "display_data"
        }
      ],
      "source": [
        "# Записываем результат запроса в переменную и оставляем только те данные, \n",
        "# которые соответсвуют городам-миллионникам \n",
        "add_df_3 = pd.read_sql_query(add_query_3, connection)\n",
        "add_df_3 = Avg_slry(add_df_3)\n",
        "\n",
        "\n",
        "\n",
        "\n",
        "Slry_by_IndEmpl = add_df_3.groupby(['employer', 'industry'], \\\n",
        "    as_index=False)['Avg_salary'].mean().sort_values(['employer', 'Avg_salary'])\n",
        "display(Slry_by_IndEmpl)\n",
        "\n",
        "\n"
      ]
    },
    {
      "cell_type": "code",
      "execution_count": null,
      "id": "6e3122d8",
      "metadata": {},
      "outputs": [],
      "source": [
        "# выводим полученные данные в виде тепловой карты\n",
        "Slry_by_IndEmpl_imsh = px.bar(\n",
        "    data_frame=Slry_by_IndEmpl,\n",
        "    x = 'industry',\n",
        "    y = 'Avg_salary',\n",
        "    color = 'employer', \n",
        "    \n",
        "    title = 'Зависимость средней зарплаты от работодателя<br>\\\n",
        "(данные представлены по городам-миллионникам)'\n",
        ")\n",
        "    \n",
        "\n",
        "Slry_by_IndEmpl_imsh.show()\n",
        "Slry_by_IndEmpl_imsh.write_html(path + '/HTMLs/Slry_by_IndEmpl_imsh.html')\n",
        "Slry_by_IndEmpl_imsh.write_image(path + '/PNGs/Slry_by_IndEmpl_imsh.png', scale=6.5)"
      ]
    },
    {
      "cell_type": "code",
      "execution_count": null,
      "id": "h9B3BL-wwj18",
      "metadata": {
        "id": "h9B3BL-wwj18"
      },
      "outputs": [],
      "source": [
        "# подведем итог исследования, обобщите выводы\n",
        "# здесь можно (это будет плюсом) провести дополнительные исследования данных, сделать прогнозы, продумать варианты продолжения исследования"
      ]
    }
  ],
  "metadata": {
    "colab": {
      "collapsed_sections": [
        "8d62a9f3-f64e-4fe7-bdac-c4dffa16155e"
      ],
      "provenance": []
    },
    "kernelspec": {
      "display_name": "Python 3",
      "language": "python",
      "name": "python3"
    },
    "language_info": {
      "codemirror_mode": {
        "name": "ipython",
        "version": 3
      },
      "file_extension": ".py",
      "mimetype": "text/x-python",
      "name": "python",
      "nbconvert_exporter": "python",
      "pygments_lexer": "ipython3",
      "version": "3.9.10"
    }
  },
  "nbformat": 4,
  "nbformat_minor": 5
}
