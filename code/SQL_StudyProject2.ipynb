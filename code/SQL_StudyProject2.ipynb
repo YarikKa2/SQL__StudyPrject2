{
  "cells": [
    {
      "cell_type": "markdown",
      "id": "42289889-bd57-434e-9637-d3e354756316",
      "metadata": {
        "id": "42289889-bd57-434e-9637-d3e354756316"
      },
      "source": [
        "<center> <img src = https://raw.githubusercontent.com/AndreyRysistov/DatasetsForPandas/main/hh%20label.jpg alt=\"drawing\" style=\"width:400px;\">"
      ]
    },
    {
      "cell_type": "markdown",
      "id": "829cb75b-f14e-4ba8-9195-7ba929a7d656",
      "metadata": {
        "id": "829cb75b-f14e-4ba8-9195-7ba929a7d656",
        "tags": []
      },
      "source": [
        "# <center> Проект: Анализ вакансий из HeadHunter\n",
        "   "
      ]
    },
    {
      "cell_type": "code",
      "execution_count": 2,
      "id": "dccfde33-2452-43fb-a8a5-5c6ebc02a71d",
      "metadata": {
        "id": "dccfde33-2452-43fb-a8a5-5c6ebc02a71d"
      },
      "outputs": [],
      "source": [
        "import pandas as pd\n",
        "import psycopg2\n",
        "import warnings\n",
        "warnings.filterwarnings('ignore')"
      ]
    },
    {
      "cell_type": "code",
      "execution_count": 3,
      "id": "oVKH4ehvf8Ay",
      "metadata": {
        "id": "oVKH4ehvf8Ay"
      },
      "outputs": [],
      "source": [
        "DBNAME = 'project_sql'\n",
        "USER = 'skillfactory'\n",
        "PASSWORD = 'cCkxxLVrDE8EbvjueeMedPKt'\n",
        "HOST = '84.201.134.129'\n",
        "PORT = 5432"
      ]
    },
    {
      "cell_type": "code",
      "execution_count": 4,
      "id": "G4X_q8KBf7SF",
      "metadata": {
        "id": "G4X_q8KBf7SF"
      },
      "outputs": [],
      "source": [
        "connection = psycopg2.connect(\n",
        "   dbname=DBNAME,\n",
        "   user=USER,\n",
        "   host=HOST,\n",
        "   password=PASSWORD,\n",
        "   port=PORT\n",
        ")"
      ]
    },
    {
      "cell_type": "markdown",
      "id": "0dc6476b-7a00-44f1-ac93-6e3baed33a29",
      "metadata": {
        "id": "0dc6476b-7a00-44f1-ac93-6e3baed33a29"
      },
      "source": [
        "# Юнит 3. Предварительный анализ данных"
      ]
    },
    {
      "cell_type": "markdown",
      "id": "889782b6-8d1c-410e-8920-e57f27917c64",
      "metadata": {
        "id": "889782b6-8d1c-410e-8920-e57f27917c64"
      },
      "source": [
        "1. Напишите запрос, который посчитает количество вакансий в нашей базе (вакансии находятся в таблице vacancies). "
      ]
    },
    {
      "cell_type": "code",
      "execution_count": 5,
      "id": "bc39e68e-ed02-4ee2-9235-7258a2f867a8",
      "metadata": {
        "id": "bc39e68e-ed02-4ee2-9235-7258a2f867a8"
      },
      "outputs": [],
      "source": [
        "# текст запроса\n",
        "query_3_1 = f''' \n",
        "select\n",
        "    count(*) as N_row,\n",
        "    count(distinct id) as N_ids,\n",
        "    count(distinct name) as N_names\n",
        "from\n",
        "    vacancies\n",
        "limit 10\n",
        "'''"
      ]
    },
    {
      "cell_type": "code",
      "execution_count": 6,
      "id": "7mAwtsk4hEHY",
      "metadata": {
        "id": "7mAwtsk4hEHY"
      },
      "outputs": [
        {
          "data": {
            "application/vnd.microsoft.datawrangler.viewer.v0+json": {
              "columns": [
                {
                  "name": "index",
                  "rawType": "int64",
                  "type": "integer"
                },
                {
                  "name": "n_row",
                  "rawType": "int64",
                  "type": "integer"
                },
                {
                  "name": "n_ids",
                  "rawType": "int64",
                  "type": "integer"
                },
                {
                  "name": "n_names",
                  "rawType": "int64",
                  "type": "integer"
                }
              ],
              "conversionMethod": "pd.DataFrame",
              "ref": "05e9572d-83ed-452f-97c0-00ef62dfb0ab",
              "rows": [
                [
                  "0",
                  "49197",
                  "49197",
                  "21223"
                ]
              ],
              "shape": {
                "columns": 3,
                "rows": 1
              }
            },
            "text/html": [
              "<div>\n",
              "<style scoped>\n",
              "    .dataframe tbody tr th:only-of-type {\n",
              "        vertical-align: middle;\n",
              "    }\n",
              "\n",
              "    .dataframe tbody tr th {\n",
              "        vertical-align: top;\n",
              "    }\n",
              "\n",
              "    .dataframe thead th {\n",
              "        text-align: right;\n",
              "    }\n",
              "</style>\n",
              "<table border=\"1\" class=\"dataframe\">\n",
              "  <thead>\n",
              "    <tr style=\"text-align: right;\">\n",
              "      <th></th>\n",
              "      <th>n_row</th>\n",
              "      <th>n_ids</th>\n",
              "      <th>n_names</th>\n",
              "    </tr>\n",
              "  </thead>\n",
              "  <tbody>\n",
              "    <tr>\n",
              "      <th>0</th>\n",
              "      <td>49197</td>\n",
              "      <td>49197</td>\n",
              "      <td>21223</td>\n",
              "    </tr>\n",
              "  </tbody>\n",
              "</table>\n",
              "</div>"
            ],
            "text/plain": [
              "   n_row  n_ids  n_names\n",
              "0  49197  49197    21223"
            ]
          },
          "execution_count": 6,
          "metadata": {},
          "output_type": "execute_result"
        }
      ],
      "source": [
        "vacancies_df = pd.read_sql_query(query_3_1, connection)\n",
        "vacancies_df"
      ]
    },
    {
      "cell_type": "markdown",
      "id": "b583485d-1f9e-494e-ada4-80ffff7c53d6",
      "metadata": {
        "id": "b583485d-1f9e-494e-ada4-80ffff7c53d6"
      },
      "source": [
        "2. Напишите запрос, который посчитает количество работодателей (таблица employers). "
      ]
    },
    {
      "cell_type": "code",
      "execution_count": 7,
      "id": "5408c52c-3407-4a63-b25b-1aafa2322d28",
      "metadata": {
        "id": "5408c52c-3407-4a63-b25b-1aafa2322d28"
      },
      "outputs": [],
      "source": [
        "query_3_2 = '''\n",
        "select\n",
        "    count(distinct name) as N_employers,\n",
        "    count(distinct id) as N_ids,\n",
        "    count(*) as N_rows\n",
        "from\n",
        "    employers\n",
        "'''"
      ]
    },
    {
      "cell_type": "code",
      "execution_count": 8,
      "id": "jVL4eshKhdqc",
      "metadata": {
        "id": "jVL4eshKhdqc"
      },
      "outputs": [
        {
          "data": {
            "application/vnd.microsoft.datawrangler.viewer.v0+json": {
              "columns": [
                {
                  "name": "index",
                  "rawType": "int64",
                  "type": "integer"
                },
                {
                  "name": "n_employers",
                  "rawType": "int64",
                  "type": "integer"
                },
                {
                  "name": "n_ids",
                  "rawType": "int64",
                  "type": "integer"
                },
                {
                  "name": "n_rows",
                  "rawType": "int64",
                  "type": "integer"
                }
              ],
              "conversionMethod": "pd.DataFrame",
              "ref": "f8d96690-fca2-4501-bfa6-8febb86759d8",
              "rows": [
                [
                  "0",
                  "23175",
                  "23501",
                  "23501"
                ]
              ],
              "shape": {
                "columns": 3,
                "rows": 1
              }
            },
            "text/html": [
              "<div>\n",
              "<style scoped>\n",
              "    .dataframe tbody tr th:only-of-type {\n",
              "        vertical-align: middle;\n",
              "    }\n",
              "\n",
              "    .dataframe tbody tr th {\n",
              "        vertical-align: top;\n",
              "    }\n",
              "\n",
              "    .dataframe thead th {\n",
              "        text-align: right;\n",
              "    }\n",
              "</style>\n",
              "<table border=\"1\" class=\"dataframe\">\n",
              "  <thead>\n",
              "    <tr style=\"text-align: right;\">\n",
              "      <th></th>\n",
              "      <th>n_employers</th>\n",
              "      <th>n_ids</th>\n",
              "      <th>n_rows</th>\n",
              "    </tr>\n",
              "  </thead>\n",
              "  <tbody>\n",
              "    <tr>\n",
              "      <th>0</th>\n",
              "      <td>23175</td>\n",
              "      <td>23501</td>\n",
              "      <td>23501</td>\n",
              "    </tr>\n",
              "  </tbody>\n",
              "</table>\n",
              "</div>"
            ],
            "text/plain": [
              "   n_employers  n_ids  n_rows\n",
              "0        23175  23501   23501"
            ]
          },
          "execution_count": 8,
          "metadata": {},
          "output_type": "execute_result"
        }
      ],
      "source": [
        "employers_df = pd.read_sql_query(query_3_2, connection)\n",
        "employers_df"
      ]
    },
    {
      "cell_type": "markdown",
      "id": "a2bfff1f-c975-4bf6-84be-2185d79dcb76",
      "metadata": {
        "id": "a2bfff1f-c975-4bf6-84be-2185d79dcb76"
      },
      "source": [
        "3. Посчитате с помощью запроса количество регионов (таблица areas)."
      ]
    },
    {
      "cell_type": "code",
      "execution_count": 9,
      "id": "1m8QJwBYhey6",
      "metadata": {
        "id": "1m8QJwBYhey6"
      },
      "outputs": [],
      "source": [
        "query_3_3 = ''' \n",
        "select\n",
        "    count(distinct name) as N_areas,\n",
        "    count(distinct id) as N_ids\n",
        "from\n",
        "    areas   \n",
        "'''"
      ]
    },
    {
      "cell_type": "code",
      "execution_count": 10,
      "id": "EZsn9tlfhe7f",
      "metadata": {
        "id": "EZsn9tlfhe7f"
      },
      "outputs": [
        {
          "data": {
            "application/vnd.microsoft.datawrangler.viewer.v0+json": {
              "columns": [
                {
                  "name": "index",
                  "rawType": "int64",
                  "type": "integer"
                },
                {
                  "name": "n_areas",
                  "rawType": "int64",
                  "type": "integer"
                },
                {
                  "name": "n_ids",
                  "rawType": "int64",
                  "type": "integer"
                }
              ],
              "conversionMethod": "pd.DataFrame",
              "ref": "759d67fb-8ef7-4b60-868d-460c8ec09a70",
              "rows": [
                [
                  "0",
                  "1362",
                  "1362"
                ]
              ],
              "shape": {
                "columns": 2,
                "rows": 1
              }
            },
            "text/html": [
              "<div>\n",
              "<style scoped>\n",
              "    .dataframe tbody tr th:only-of-type {\n",
              "        vertical-align: middle;\n",
              "    }\n",
              "\n",
              "    .dataframe tbody tr th {\n",
              "        vertical-align: top;\n",
              "    }\n",
              "\n",
              "    .dataframe thead th {\n",
              "        text-align: right;\n",
              "    }\n",
              "</style>\n",
              "<table border=\"1\" class=\"dataframe\">\n",
              "  <thead>\n",
              "    <tr style=\"text-align: right;\">\n",
              "      <th></th>\n",
              "      <th>n_areas</th>\n",
              "      <th>n_ids</th>\n",
              "    </tr>\n",
              "  </thead>\n",
              "  <tbody>\n",
              "    <tr>\n",
              "      <th>0</th>\n",
              "      <td>1362</td>\n",
              "      <td>1362</td>\n",
              "    </tr>\n",
              "  </tbody>\n",
              "</table>\n",
              "</div>"
            ],
            "text/plain": [
              "   n_areas  n_ids\n",
              "0     1362   1362"
            ]
          },
          "execution_count": 10,
          "metadata": {},
          "output_type": "execute_result"
        }
      ],
      "source": [
        "areas_df = pd.read_sql_query(query_3_3, connection)\n",
        "areas_df"
      ]
    },
    {
      "cell_type": "markdown",
      "id": "41bb59f3-53cc-4a67-a5bc-bedf573955e4",
      "metadata": {
        "id": "41bb59f3-53cc-4a67-a5bc-bedf573955e4"
      },
      "source": [
        "4. Посчитате с помощью запроса количество сфер деятельности в базе (таблица industries)."
      ]
    },
    {
      "cell_type": "code",
      "execution_count": 11,
      "id": "d286cf4c-707b-4cd2-9190-7ab3587d04a1",
      "metadata": {
        "id": "d286cf4c-707b-4cd2-9190-7ab3587d04a1"
      },
      "outputs": [],
      "source": [
        "query_3_4 =''' \n",
        "select\n",
        "    count(distinct name) as N_areas,\n",
        "    count(distinct id) as N_ids\n",
        "from\n",
        "    industries       \n",
        "'''"
      ]
    },
    {
      "cell_type": "code",
      "execution_count": 12,
      "id": "JYAaoZ4qhfzW",
      "metadata": {
        "id": "JYAaoZ4qhfzW"
      },
      "outputs": [
        {
          "data": {
            "application/vnd.microsoft.datawrangler.viewer.v0+json": {
              "columns": [
                {
                  "name": "index",
                  "rawType": "int64",
                  "type": "integer"
                },
                {
                  "name": "n_areas",
                  "rawType": "int64",
                  "type": "integer"
                },
                {
                  "name": "n_ids",
                  "rawType": "int64",
                  "type": "integer"
                }
              ],
              "conversionMethod": "pd.DataFrame",
              "ref": "36de9c4f-4afd-4c78-99e6-73ca89823021",
              "rows": [
                [
                  "0",
                  "294",
                  "294"
                ]
              ],
              "shape": {
                "columns": 2,
                "rows": 1
              }
            },
            "text/html": [
              "<div>\n",
              "<style scoped>\n",
              "    .dataframe tbody tr th:only-of-type {\n",
              "        vertical-align: middle;\n",
              "    }\n",
              "\n",
              "    .dataframe tbody tr th {\n",
              "        vertical-align: top;\n",
              "    }\n",
              "\n",
              "    .dataframe thead th {\n",
              "        text-align: right;\n",
              "    }\n",
              "</style>\n",
              "<table border=\"1\" class=\"dataframe\">\n",
              "  <thead>\n",
              "    <tr style=\"text-align: right;\">\n",
              "      <th></th>\n",
              "      <th>n_areas</th>\n",
              "      <th>n_ids</th>\n",
              "    </tr>\n",
              "  </thead>\n",
              "  <tbody>\n",
              "    <tr>\n",
              "      <th>0</th>\n",
              "      <td>294</td>\n",
              "      <td>294</td>\n",
              "    </tr>\n",
              "  </tbody>\n",
              "</table>\n",
              "</div>"
            ],
            "text/plain": [
              "   n_areas  n_ids\n",
              "0      294    294"
            ]
          },
          "execution_count": 12,
          "metadata": {},
          "output_type": "execute_result"
        }
      ],
      "source": [
        "idustries_df = pd.read_sql_query(query_3_4, connection)\n",
        "idustries_df"
      ]
    },
    {
      "cell_type": "markdown",
      "id": "9a8a2181-6914-448b-85f1-38f5f18b8a93",
      "metadata": {
        "id": "9a8a2181-6914-448b-85f1-38f5f18b8a93"
      },
      "source": [
        "***"
      ]
    },
    {
      "cell_type": "markdown",
      "id": "58e8d5c3",
      "metadata": {},
      "source": [
        "1. В таблице vacancies, которая отражает общее количество вакансий, 49197 строк. <br>\n",
        "Кличество уникальных названий вакансий составило 21223\n",
        "2. В таблице employers, которая отражает общее количество работодателей, 23501 строка. <br>\n",
        "Кличество уникальных названий работадателя составило 23175\n",
        "3. В таблице areas, которая отражает общее количество регионов, 1362 строки. <br>\n",
        "Все названия (names) уникальны.\n",
        "\n",
        "4. В таблице industries которая отражает количество сфер деятельности, 294 строки <br>\n",
        "Все названия (names) уникальны.\n"
      ]
    },
    {
      "cell_type": "markdown",
      "id": "8d62a9f3-f64e-4fe7-bdac-c4dffa16155e",
      "metadata": {
        "id": "8d62a9f3-f64e-4fe7-bdac-c4dffa16155e"
      },
      "source": [
        "# Юнит 4. Детальный анализ вакансий"
      ]
    },
    {
      "cell_type": "markdown",
      "id": "93053d3d-b284-481a-9cf7-012d7014c0e0",
      "metadata": {
        "id": "93053d3d-b284-481a-9cf7-012d7014c0e0"
      },
      "source": [
        "1. Напишите запрос, который позволит узнать, сколько (cnt) вакансий в каждом регионе (area).\n",
        "Отсортируйте по количеству вакансий в порядке убывания."
      ]
    },
    {
      "cell_type": "code",
      "execution_count": 13,
      "id": "3f069da6-fdc9-4ae7-b514-fafe2675efd3",
      "metadata": {
        "id": "3f069da6-fdc9-4ae7-b514-fafe2675efd3"
      },
      "outputs": [],
      "source": [
        "query_4_1 = ''' \n",
        "select\n",
        "    a.name,\n",
        "    count(*) N_vacs\n",
        "from\n",
        "    vacancies v\n",
        "    join areas a\n",
        "    on v.area_id = a.id\n",
        "group by a.name\n",
        "order by count(*) desc\n",
        "limit 10\n",
        "'''"
      ]
    },
    {
      "cell_type": "code",
      "execution_count": 14,
      "id": "P7QL86hrjhRJ",
      "metadata": {
        "id": "P7QL86hrjhRJ"
      },
      "outputs": [
        {
          "data": {
            "application/vnd.microsoft.datawrangler.viewer.v0+json": {
              "columns": [
                {
                  "name": "index",
                  "rawType": "int64",
                  "type": "integer"
                },
                {
                  "name": "name",
                  "rawType": "object",
                  "type": "string"
                },
                {
                  "name": "n_vacs",
                  "rawType": "int64",
                  "type": "integer"
                }
              ],
              "conversionMethod": "pd.DataFrame",
              "ref": "102a75cc-f95a-42b6-8769-1ea1c73d7c58",
              "rows": [
                [
                  "0",
                  "Москва",
                  "5333"
                ],
                [
                  "1",
                  "Санкт-Петербург",
                  "2851"
                ],
                [
                  "2",
                  "Минск",
                  "2112"
                ],
                [
                  "3",
                  "Новосибирск",
                  "2006"
                ],
                [
                  "4",
                  "Алматы",
                  "1892"
                ],
                [
                  "5",
                  "Екатеринбург",
                  "1698"
                ],
                [
                  "6",
                  "Нижний Новгород",
                  "1670"
                ],
                [
                  "7",
                  "Казань",
                  "1415"
                ],
                [
                  "8",
                  "Краснодар",
                  "1301"
                ],
                [
                  "9",
                  "Самара",
                  "1144"
                ]
              ],
              "shape": {
                "columns": 2,
                "rows": 10
              }
            },
            "text/html": [
              "<div>\n",
              "<style scoped>\n",
              "    .dataframe tbody tr th:only-of-type {\n",
              "        vertical-align: middle;\n",
              "    }\n",
              "\n",
              "    .dataframe tbody tr th {\n",
              "        vertical-align: top;\n",
              "    }\n",
              "\n",
              "    .dataframe thead th {\n",
              "        text-align: right;\n",
              "    }\n",
              "</style>\n",
              "<table border=\"1\" class=\"dataframe\">\n",
              "  <thead>\n",
              "    <tr style=\"text-align: right;\">\n",
              "      <th></th>\n",
              "      <th>name</th>\n",
              "      <th>n_vacs</th>\n",
              "    </tr>\n",
              "  </thead>\n",
              "  <tbody>\n",
              "    <tr>\n",
              "      <th>0</th>\n",
              "      <td>Москва</td>\n",
              "      <td>5333</td>\n",
              "    </tr>\n",
              "    <tr>\n",
              "      <th>1</th>\n",
              "      <td>Санкт-Петербург</td>\n",
              "      <td>2851</td>\n",
              "    </tr>\n",
              "    <tr>\n",
              "      <th>2</th>\n",
              "      <td>Минск</td>\n",
              "      <td>2112</td>\n",
              "    </tr>\n",
              "    <tr>\n",
              "      <th>3</th>\n",
              "      <td>Новосибирск</td>\n",
              "      <td>2006</td>\n",
              "    </tr>\n",
              "    <tr>\n",
              "      <th>4</th>\n",
              "      <td>Алматы</td>\n",
              "      <td>1892</td>\n",
              "    </tr>\n",
              "    <tr>\n",
              "      <th>5</th>\n",
              "      <td>Екатеринбург</td>\n",
              "      <td>1698</td>\n",
              "    </tr>\n",
              "    <tr>\n",
              "      <th>6</th>\n",
              "      <td>Нижний Новгород</td>\n",
              "      <td>1670</td>\n",
              "    </tr>\n",
              "    <tr>\n",
              "      <th>7</th>\n",
              "      <td>Казань</td>\n",
              "      <td>1415</td>\n",
              "    </tr>\n",
              "    <tr>\n",
              "      <th>8</th>\n",
              "      <td>Краснодар</td>\n",
              "      <td>1301</td>\n",
              "    </tr>\n",
              "    <tr>\n",
              "      <th>9</th>\n",
              "      <td>Самара</td>\n",
              "      <td>1144</td>\n",
              "    </tr>\n",
              "  </tbody>\n",
              "</table>\n",
              "</div>"
            ],
            "text/plain": [
              "              name  n_vacs\n",
              "0           Москва    5333\n",
              "1  Санкт-Петербург    2851\n",
              "2            Минск    2112\n",
              "3      Новосибирск    2006\n",
              "4           Алматы    1892\n",
              "5     Екатеринбург    1698\n",
              "6  Нижний Новгород    1670\n",
              "7           Казань    1415\n",
              "8        Краснодар    1301\n",
              "9           Самара    1144"
            ]
          },
          "execution_count": 14,
          "metadata": {},
          "output_type": "execute_result"
        }
      ],
      "source": [
        "VacAreaJoin = pd.read_sql_query(query_4_1, connection)\n",
        "VacAreaJoin"
      ]
    },
    {
      "cell_type": "markdown",
      "id": "4266f0b6-1646-492a-88b4-2f6a46502135",
      "metadata": {
        "id": "4266f0b6-1646-492a-88b4-2f6a46502135"
      },
      "source": [
        "2. Напишите запрос, чтобы определить у какого количества вакансий заполнено хотя бы одно из двух полей с зарплатой."
      ]
    },
    {
      "cell_type": "code",
      "execution_count": 15,
      "id": "0c44b350-72eb-4d65-8b54-a1fc449ba9fd",
      "metadata": {
        "id": "0c44b350-72eb-4d65-8b54-a1fc449ba9fd"
      },
      "outputs": [],
      "source": [
        "query_4_2 = ''' \n",
        "select\n",
        "    count(*) as N_slry_non_null\n",
        "from \n",
        "    vacancies\n",
        "where \n",
        "    (salary_from is not null) or (salary_to is not null)\n",
        "'''\n"
      ]
    },
    {
      "cell_type": "code",
      "execution_count": 16,
      "id": "rhvwaMDkoWTi",
      "metadata": {
        "id": "rhvwaMDkoWTi"
      },
      "outputs": [
        {
          "data": {
            "application/vnd.microsoft.datawrangler.viewer.v0+json": {
              "columns": [
                {
                  "name": "index",
                  "rawType": "int64",
                  "type": "integer"
                },
                {
                  "name": "n_slry_non_null",
                  "rawType": "int64",
                  "type": "integer"
                }
              ],
              "conversionMethod": "pd.DataFrame",
              "ref": "05afdfb1-66d9-4065-a3ea-9647f5d5a18c",
              "rows": [
                [
                  "0",
                  "24073"
                ]
              ],
              "shape": {
                "columns": 1,
                "rows": 1
              }
            },
            "text/html": [
              "<div>\n",
              "<style scoped>\n",
              "    .dataframe tbody tr th:only-of-type {\n",
              "        vertical-align: middle;\n",
              "    }\n",
              "\n",
              "    .dataframe tbody tr th {\n",
              "        vertical-align: top;\n",
              "    }\n",
              "\n",
              "    .dataframe thead th {\n",
              "        text-align: right;\n",
              "    }\n",
              "</style>\n",
              "<table border=\"1\" class=\"dataframe\">\n",
              "  <thead>\n",
              "    <tr style=\"text-align: right;\">\n",
              "      <th></th>\n",
              "      <th>n_slry_non_null</th>\n",
              "    </tr>\n",
              "  </thead>\n",
              "  <tbody>\n",
              "    <tr>\n",
              "      <th>0</th>\n",
              "      <td>24073</td>\n",
              "    </tr>\n",
              "  </tbody>\n",
              "</table>\n",
              "</div>"
            ],
            "text/plain": [
              "   n_slry_non_null\n",
              "0            24073"
            ]
          },
          "execution_count": 16,
          "metadata": {},
          "output_type": "execute_result"
        }
      ],
      "source": [
        "slry_not_null = pd.read_sql_query(query_4_2, connection)\n",
        "slry_not_null"
      ]
    },
    {
      "cell_type": "markdown",
      "id": "635c4d5d-f323-4c66-b428-50a088120aa0",
      "metadata": {
        "id": "635c4d5d-f323-4c66-b428-50a088120aa0"
      },
      "source": [
        "3. Найдите средние значения для нижней и верхней границы зарплатной вилки. Округлите значения до целого."
      ]
    },
    {
      "cell_type": "code",
      "execution_count": 17,
      "id": "603cdbe4-0ec3-4106-8eaf-c73fcdd29165",
      "metadata": {
        "id": "603cdbe4-0ec3-4106-8eaf-c73fcdd29165"
      },
      "outputs": [],
      "source": [
        "query_4_3 = ''' \n",
        "select\n",
        "    round(avg(salary_from)) as avg_slry_from,\n",
        "    round(avg(salary_to)) as avg_slry_to\n",
        "from \n",
        "    vacancies\n",
        "\n",
        "'''"
      ]
    },
    {
      "cell_type": "code",
      "execution_count": 18,
      "id": "pswpAb66ovZZ",
      "metadata": {
        "id": "pswpAb66ovZZ"
      },
      "outputs": [
        {
          "data": {
            "application/vnd.microsoft.datawrangler.viewer.v0+json": {
              "columns": [
                {
                  "name": "index",
                  "rawType": "int64",
                  "type": "integer"
                },
                {
                  "name": "avg_slry_from",
                  "rawType": "float64",
                  "type": "float"
                },
                {
                  "name": "avg_slry_to",
                  "rawType": "float64",
                  "type": "float"
                }
              ],
              "conversionMethod": "pd.DataFrame",
              "ref": "056e3a49-73fb-40eb-80d3-79cb46725403",
              "rows": [
                [
                  "0",
                  "71065.0",
                  "110537.0"
                ]
              ],
              "shape": {
                "columns": 2,
                "rows": 1
              }
            },
            "text/html": [
              "<div>\n",
              "<style scoped>\n",
              "    .dataframe tbody tr th:only-of-type {\n",
              "        vertical-align: middle;\n",
              "    }\n",
              "\n",
              "    .dataframe tbody tr th {\n",
              "        vertical-align: top;\n",
              "    }\n",
              "\n",
              "    .dataframe thead th {\n",
              "        text-align: right;\n",
              "    }\n",
              "</style>\n",
              "<table border=\"1\" class=\"dataframe\">\n",
              "  <thead>\n",
              "    <tr style=\"text-align: right;\">\n",
              "      <th></th>\n",
              "      <th>avg_slry_from</th>\n",
              "      <th>avg_slry_to</th>\n",
              "    </tr>\n",
              "  </thead>\n",
              "  <tbody>\n",
              "    <tr>\n",
              "      <th>0</th>\n",
              "      <td>71065.0</td>\n",
              "      <td>110537.0</td>\n",
              "    </tr>\n",
              "  </tbody>\n",
              "</table>\n",
              "</div>"
            ],
            "text/plain": [
              "   avg_slry_from  avg_slry_to\n",
              "0        71065.0     110537.0"
            ]
          },
          "execution_count": 18,
          "metadata": {},
          "output_type": "execute_result"
        }
      ],
      "source": [
        "avg_slry = pd.read_sql_query(query_4_3, connection)\n",
        "avg_slry"
      ]
    },
    {
      "cell_type": "markdown",
      "id": "f3fdaec9-5fd3-4260-9cf5-1d7406b628a5",
      "metadata": {
        "id": "f3fdaec9-5fd3-4260-9cf5-1d7406b628a5"
      },
      "source": [
        "4. Напишите запрос, который выведет количество вакансий для каждого сочетания типа рабочего графика (schedule) и типа трудоустройства (employment), используемого в вакансиях. <br> Результат отсортируйте по убыванию количества.\n"
      ]
    },
    {
      "cell_type": "code",
      "execution_count": 19,
      "id": "1ea710ec-871b-431e-9462-c7d0fd87011b",
      "metadata": {
        "id": "1ea710ec-871b-431e-9462-c7d0fd87011b"
      },
      "outputs": [],
      "source": [
        "query_4_4 = ''' \n",
        "select\n",
        "    schedule,\n",
        "    employment,\n",
        "    count(*) N_vac\n",
        "from\n",
        "    vacancies\n",
        "group by \n",
        "    schedule, employment\n",
        "order by count(*) desc\n",
        "'''"
      ]
    },
    {
      "cell_type": "code",
      "execution_count": 20,
      "id": "lGUVqavdo4JQ",
      "metadata": {
        "id": "lGUVqavdo4JQ"
      },
      "outputs": [
        {
          "data": {
            "text/plain": [
              "6028"
            ]
          },
          "metadata": {},
          "output_type": "display_data"
        },
        {
          "data": {
            "application/vnd.microsoft.datawrangler.viewer.v0+json": {
              "columns": [
                {
                  "name": "index",
                  "rawType": "int64",
                  "type": "integer"
                },
                {
                  "name": "schedule",
                  "rawType": "object",
                  "type": "string"
                },
                {
                  "name": "employment",
                  "rawType": "object",
                  "type": "string"
                },
                {
                  "name": "n_vac",
                  "rawType": "int64",
                  "type": "integer"
                }
              ],
              "conversionMethod": "pd.DataFrame",
              "ref": "591f19bd-9926-4605-a9d7-33db89246e05",
              "rows": [
                [
                  "0",
                  "Полный день",
                  "Полная занятость",
                  "35367"
                ],
                [
                  "1",
                  "Удаленная работа",
                  "Полная занятость",
                  "7802"
                ],
                [
                  "2",
                  "Гибкий график",
                  "Полная занятость",
                  "1593"
                ],
                [
                  "3",
                  "Удаленная работа",
                  "Частичная занятость",
                  "1312"
                ],
                [
                  "4",
                  "Сменный график",
                  "Полная занятость",
                  "940"
                ],
                [
                  "5",
                  "Полный день",
                  "Стажировка",
                  "569"
                ],
                [
                  "6",
                  "Вахтовый метод",
                  "Полная занятость",
                  "367"
                ],
                [
                  "7",
                  "Полный день",
                  "Частичная занятость",
                  "347"
                ],
                [
                  "8",
                  "Гибкий график",
                  "Частичная занятость",
                  "312"
                ],
                [
                  "9",
                  "Полный день",
                  "Проектная работа",
                  "141"
                ],
                [
                  "10",
                  "Удаленная работа",
                  "Проектная работа",
                  "133"
                ],
                [
                  "11",
                  "Гибкий график",
                  "Стажировка",
                  "116"
                ],
                [
                  "12",
                  "Сменный график",
                  "Частичная занятость",
                  "101"
                ],
                [
                  "13",
                  "Удаленная работа",
                  "Стажировка",
                  "64"
                ],
                [
                  "14",
                  "Гибкий график",
                  "Проектная работа",
                  "18"
                ],
                [
                  "15",
                  "Сменный график",
                  "Стажировка",
                  "12"
                ],
                [
                  "16",
                  "Вахтовый метод",
                  "Проектная работа",
                  "2"
                ],
                [
                  "17",
                  "Сменный график",
                  "Проектная работа",
                  "1"
                ]
              ],
              "shape": {
                "columns": 3,
                "rows": 18
              }
            },
            "text/html": [
              "<div>\n",
              "<style scoped>\n",
              "    .dataframe tbody tr th:only-of-type {\n",
              "        vertical-align: middle;\n",
              "    }\n",
              "\n",
              "    .dataframe tbody tr th {\n",
              "        vertical-align: top;\n",
              "    }\n",
              "\n",
              "    .dataframe thead th {\n",
              "        text-align: right;\n",
              "    }\n",
              "</style>\n",
              "<table border=\"1\" class=\"dataframe\">\n",
              "  <thead>\n",
              "    <tr style=\"text-align: right;\">\n",
              "      <th></th>\n",
              "      <th>schedule</th>\n",
              "      <th>employment</th>\n",
              "      <th>n_vac</th>\n",
              "    </tr>\n",
              "  </thead>\n",
              "  <tbody>\n",
              "    <tr>\n",
              "      <th>0</th>\n",
              "      <td>Полный день</td>\n",
              "      <td>Полная занятость</td>\n",
              "      <td>35367</td>\n",
              "    </tr>\n",
              "    <tr>\n",
              "      <th>1</th>\n",
              "      <td>Удаленная работа</td>\n",
              "      <td>Полная занятость</td>\n",
              "      <td>7802</td>\n",
              "    </tr>\n",
              "    <tr>\n",
              "      <th>2</th>\n",
              "      <td>Гибкий график</td>\n",
              "      <td>Полная занятость</td>\n",
              "      <td>1593</td>\n",
              "    </tr>\n",
              "    <tr>\n",
              "      <th>3</th>\n",
              "      <td>Удаленная работа</td>\n",
              "      <td>Частичная занятость</td>\n",
              "      <td>1312</td>\n",
              "    </tr>\n",
              "    <tr>\n",
              "      <th>4</th>\n",
              "      <td>Сменный график</td>\n",
              "      <td>Полная занятость</td>\n",
              "      <td>940</td>\n",
              "    </tr>\n",
              "    <tr>\n",
              "      <th>5</th>\n",
              "      <td>Полный день</td>\n",
              "      <td>Стажировка</td>\n",
              "      <td>569</td>\n",
              "    </tr>\n",
              "    <tr>\n",
              "      <th>6</th>\n",
              "      <td>Вахтовый метод</td>\n",
              "      <td>Полная занятость</td>\n",
              "      <td>367</td>\n",
              "    </tr>\n",
              "    <tr>\n",
              "      <th>7</th>\n",
              "      <td>Полный день</td>\n",
              "      <td>Частичная занятость</td>\n",
              "      <td>347</td>\n",
              "    </tr>\n",
              "    <tr>\n",
              "      <th>8</th>\n",
              "      <td>Гибкий график</td>\n",
              "      <td>Частичная занятость</td>\n",
              "      <td>312</td>\n",
              "    </tr>\n",
              "    <tr>\n",
              "      <th>9</th>\n",
              "      <td>Полный день</td>\n",
              "      <td>Проектная работа</td>\n",
              "      <td>141</td>\n",
              "    </tr>\n",
              "    <tr>\n",
              "      <th>10</th>\n",
              "      <td>Удаленная работа</td>\n",
              "      <td>Проектная работа</td>\n",
              "      <td>133</td>\n",
              "    </tr>\n",
              "    <tr>\n",
              "      <th>11</th>\n",
              "      <td>Гибкий график</td>\n",
              "      <td>Стажировка</td>\n",
              "      <td>116</td>\n",
              "    </tr>\n",
              "    <tr>\n",
              "      <th>12</th>\n",
              "      <td>Сменный график</td>\n",
              "      <td>Частичная занятость</td>\n",
              "      <td>101</td>\n",
              "    </tr>\n",
              "    <tr>\n",
              "      <th>13</th>\n",
              "      <td>Удаленная работа</td>\n",
              "      <td>Стажировка</td>\n",
              "      <td>64</td>\n",
              "    </tr>\n",
              "    <tr>\n",
              "      <th>14</th>\n",
              "      <td>Гибкий график</td>\n",
              "      <td>Проектная работа</td>\n",
              "      <td>18</td>\n",
              "    </tr>\n",
              "    <tr>\n",
              "      <th>15</th>\n",
              "      <td>Сменный график</td>\n",
              "      <td>Стажировка</td>\n",
              "      <td>12</td>\n",
              "    </tr>\n",
              "    <tr>\n",
              "      <th>16</th>\n",
              "      <td>Вахтовый метод</td>\n",
              "      <td>Проектная работа</td>\n",
              "      <td>2</td>\n",
              "    </tr>\n",
              "    <tr>\n",
              "      <th>17</th>\n",
              "      <td>Сменный график</td>\n",
              "      <td>Проектная работа</td>\n",
              "      <td>1</td>\n",
              "    </tr>\n",
              "  </tbody>\n",
              "</table>\n",
              "</div>"
            ],
            "text/plain": [
              "            schedule           employment  n_vac\n",
              "0        Полный день     Полная занятость  35367\n",
              "1   Удаленная работа     Полная занятость   7802\n",
              "2      Гибкий график     Полная занятость   1593\n",
              "3   Удаленная работа  Частичная занятость   1312\n",
              "4     Сменный график     Полная занятость    940\n",
              "5        Полный день           Стажировка    569\n",
              "6     Вахтовый метод     Полная занятость    367\n",
              "7        Полный день  Частичная занятость    347\n",
              "8      Гибкий график  Частичная занятость    312\n",
              "9        Полный день     Проектная работа    141\n",
              "10  Удаленная работа     Проектная работа    133\n",
              "11     Гибкий график           Стажировка    116\n",
              "12    Сменный график  Частичная занятость    101\n",
              "13  Удаленная работа           Стажировка     64\n",
              "14     Гибкий график     Проектная работа     18\n",
              "15    Сменный график           Стажировка     12\n",
              "16    Вахтовый метод     Проектная работа      2\n",
              "17    Сменный график     Проектная работа      1"
            ]
          },
          "execution_count": 20,
          "metadata": {},
          "output_type": "execute_result"
        }
      ],
      "source": [
        "sch_empl_count = pd.read_sql_query(query_4_4, connection)\n",
        "display(sum(sch_empl_count.loc[2:, 'n_vac']))\n",
        "sch_empl_count"
      ]
    },
    {
      "cell_type": "markdown",
      "id": "0136ffee-0ead-4a6b-b608-61d1c753a438",
      "metadata": {
        "id": "0136ffee-0ead-4a6b-b608-61d1c753a438"
      },
      "source": [
        "5. Напишите запрос, выводящий значения поля Требуемый опыт работы (experience) в порядке возрастания количества вакансий, в которых указан данный вариант опыта. "
      ]
    },
    {
      "cell_type": "code",
      "execution_count": 21,
      "id": "5b3a8e79-f7ab-4008-b767-12aea3a205ea",
      "metadata": {
        "id": "5b3a8e79-f7ab-4008-b767-12aea3a205ea"
      },
      "outputs": [],
      "source": [
        "query_4_5 = ''' \n",
        "select\n",
        "    experience,\n",
        "    count(*) as N_vac\n",
        "from\n",
        "    vacancies\n",
        "group by experience\n",
        "order by count(*) asc\n",
        "'''"
      ]
    },
    {
      "cell_type": "code",
      "execution_count": 22,
      "id": "3Is64Y-hpDpq",
      "metadata": {
        "id": "3Is64Y-hpDpq"
      },
      "outputs": [
        {
          "data": {
            "application/vnd.microsoft.datawrangler.viewer.v0+json": {
              "columns": [
                {
                  "name": "index",
                  "rawType": "int64",
                  "type": "integer"
                },
                {
                  "name": "experience",
                  "rawType": "object",
                  "type": "string"
                },
                {
                  "name": "n_vac",
                  "rawType": "int64",
                  "type": "integer"
                }
              ],
              "conversionMethod": "pd.DataFrame",
              "ref": "5049e325-1972-4620-999f-634d057d6580",
              "rows": [
                [
                  "0",
                  "Более 6 лет",
                  "1337"
                ],
                [
                  "1",
                  "Нет опыта",
                  "7197"
                ],
                [
                  "2",
                  "От 3 до 6 лет",
                  "14511"
                ],
                [
                  "3",
                  "От 1 года до 3 лет",
                  "26152"
                ]
              ],
              "shape": {
                "columns": 2,
                "rows": 4
              }
            },
            "text/html": [
              "<div>\n",
              "<style scoped>\n",
              "    .dataframe tbody tr th:only-of-type {\n",
              "        vertical-align: middle;\n",
              "    }\n",
              "\n",
              "    .dataframe tbody tr th {\n",
              "        vertical-align: top;\n",
              "    }\n",
              "\n",
              "    .dataframe thead th {\n",
              "        text-align: right;\n",
              "    }\n",
              "</style>\n",
              "<table border=\"1\" class=\"dataframe\">\n",
              "  <thead>\n",
              "    <tr style=\"text-align: right;\">\n",
              "      <th></th>\n",
              "      <th>experience</th>\n",
              "      <th>n_vac</th>\n",
              "    </tr>\n",
              "  </thead>\n",
              "  <tbody>\n",
              "    <tr>\n",
              "      <th>0</th>\n",
              "      <td>Более 6 лет</td>\n",
              "      <td>1337</td>\n",
              "    </tr>\n",
              "    <tr>\n",
              "      <th>1</th>\n",
              "      <td>Нет опыта</td>\n",
              "      <td>7197</td>\n",
              "    </tr>\n",
              "    <tr>\n",
              "      <th>2</th>\n",
              "      <td>От 3 до 6 лет</td>\n",
              "      <td>14511</td>\n",
              "    </tr>\n",
              "    <tr>\n",
              "      <th>3</th>\n",
              "      <td>От 1 года до 3 лет</td>\n",
              "      <td>26152</td>\n",
              "    </tr>\n",
              "  </tbody>\n",
              "</table>\n",
              "</div>"
            ],
            "text/plain": [
              "           experience  n_vac\n",
              "0         Более 6 лет   1337\n",
              "1           Нет опыта   7197\n",
              "2       От 3 до 6 лет  14511\n",
              "3  От 1 года до 3 лет  26152"
            ]
          },
          "execution_count": 22,
          "metadata": {},
          "output_type": "execute_result"
        }
      ],
      "source": [
        "count_by_exp = pd.read_sql_query(query_4_5, connection)\n",
        "count_by_exp"
      ]
    },
    {
      "cell_type": "markdown",
      "id": "oq2b7n1QpIka",
      "metadata": {
        "id": "oq2b7n1QpIka"
      },
      "source": [
        "***"
      ]
    },
    {
      "cell_type": "markdown",
      "id": "bdee117f",
      "metadata": {},
      "source": [
        "1. Наибольшее количество вакансий представлено в Москве и Санкт-Петербурге. Также, в топе столицы сосдних государств и города-миллионники.\n",
        "\n",
        "2. Только у 24073 соискателей из 49197 (чуть менее половины) указана хотя бы одна граница зарплатной вилки\n",
        "\n",
        "3. В среднем, нижняя граница зарплатной вилки составила 71к рублей, верхней - 110к рублей\n",
        "\n",
        "4. Соискатели, преимущественно, предпочитают полную занятость и полный день (~35к). На втором месте удаленная работа и полная занятость (~8к).<br>\n",
        "На все остальные сочетания графика работы и занятости приходится ~6к\n",
        "5. Подавляющее бльшинство соискателей (~26к) имеет опыть работы до 3-х лет. От 3-х до 6-ти лет у ~14к соискателей. <br>\n",
        "~7к соискателей не имеют опыта работы. Опыт работы более 6 лет имеют всего 1337 соискателей."
      ]
    },
    {
      "cell_type": "markdown",
      "id": "1a437dd3",
      "metadata": {},
      "source": [
        "ЗАМЕНИТЬ СОИСКАТЕЛЕЙ НА ВАКАНСИИ\n"
      ]
    },
    {
      "cell_type": "markdown",
      "id": "7ea20ab6-04a7-40a0-adec-443a0e5a42c3",
      "metadata": {
        "id": "7ea20ab6-04a7-40a0-adec-443a0e5a42c3"
      },
      "source": [
        "# Юнит 5. Анализ работодателей"
      ]
    },
    {
      "cell_type": "markdown",
      "id": "968aed80-74ef-4ffb-b5bf-c65b84e9caea",
      "metadata": {
        "id": "968aed80-74ef-4ffb-b5bf-c65b84e9caea"
      },
      "source": [
        "1. Напишите запрос, который позволит узнать, какие работодатели находятся на первом и пятом месте по количеству вакансий."
      ]
    },
    {
      "cell_type": "code",
      "execution_count": 23,
      "id": "f2d62796-d400-4ec1-a675-88112739a50e",
      "metadata": {
        "id": "f2d62796-d400-4ec1-a675-88112739a50e"
      },
      "outputs": [],
      "source": [
        "query_5_1 = ''' \n",
        "select\n",
        "    e.name,\n",
        "    count(*) N_vacs\n",
        "from\n",
        "    vacancies v\n",
        "    join employers e\n",
        "    on v.employer_id = e.id\n",
        "group by\n",
        "    e.name  \n",
        "order by count(*) desc\n",
        "'''"
      ]
    },
    {
      "cell_type": "code",
      "execution_count": 24,
      "id": "64tOMkAxqkQk",
      "metadata": {
        "id": "64tOMkAxqkQk"
      },
      "outputs": [
        {
          "data": {
            "application/vnd.microsoft.datawrangler.viewer.v0+json": {
              "columns": [
                {
                  "name": "index",
                  "rawType": "int64",
                  "type": "integer"
                },
                {
                  "name": "name",
                  "rawType": "object",
                  "type": "string"
                },
                {
                  "name": "n_vacs",
                  "rawType": "int64",
                  "type": "integer"
                }
              ],
              "conversionMethod": "pd.DataFrame",
              "ref": "fa0a6b7d-1d95-4b9b-8ced-23fc9d793052",
              "rows": [
                [
                  "0",
                  "Яндекс",
                  "1933"
                ],
                [
                  "1",
                  "Ростелеком",
                  "491"
                ],
                [
                  "2",
                  "Тинькофф",
                  "444"
                ],
                [
                  "3",
                  "СБЕР",
                  "428"
                ],
                [
                  "4",
                  "Газпром нефть",
                  "331"
                ]
              ],
              "shape": {
                "columns": 2,
                "rows": 5
              }
            },
            "text/html": [
              "<div>\n",
              "<style scoped>\n",
              "    .dataframe tbody tr th:only-of-type {\n",
              "        vertical-align: middle;\n",
              "    }\n",
              "\n",
              "    .dataframe tbody tr th {\n",
              "        vertical-align: top;\n",
              "    }\n",
              "\n",
              "    .dataframe thead th {\n",
              "        text-align: right;\n",
              "    }\n",
              "</style>\n",
              "<table border=\"1\" class=\"dataframe\">\n",
              "  <thead>\n",
              "    <tr style=\"text-align: right;\">\n",
              "      <th></th>\n",
              "      <th>name</th>\n",
              "      <th>n_vacs</th>\n",
              "    </tr>\n",
              "  </thead>\n",
              "  <tbody>\n",
              "    <tr>\n",
              "      <th>0</th>\n",
              "      <td>Яндекс</td>\n",
              "      <td>1933</td>\n",
              "    </tr>\n",
              "    <tr>\n",
              "      <th>1</th>\n",
              "      <td>Ростелеком</td>\n",
              "      <td>491</td>\n",
              "    </tr>\n",
              "    <tr>\n",
              "      <th>2</th>\n",
              "      <td>Тинькофф</td>\n",
              "      <td>444</td>\n",
              "    </tr>\n",
              "    <tr>\n",
              "      <th>3</th>\n",
              "      <td>СБЕР</td>\n",
              "      <td>428</td>\n",
              "    </tr>\n",
              "    <tr>\n",
              "      <th>4</th>\n",
              "      <td>Газпром нефть</td>\n",
              "      <td>331</td>\n",
              "    </tr>\n",
              "  </tbody>\n",
              "</table>\n",
              "</div>"
            ],
            "text/plain": [
              "            name  n_vacs\n",
              "0         Яндекс    1933\n",
              "1     Ростелеком     491\n",
              "2       Тинькофф     444\n",
              "3           СБЕР     428\n",
              "4  Газпром нефть     331"
            ]
          },
          "execution_count": 24,
          "metadata": {},
          "output_type": "execute_result"
        }
      ],
      "source": [
        "vac_count_by_empl = pd.read_sql_query(query_5_1, connection)\n",
        "vac_count_by_empl.iloc[:5, :]"
      ]
    },
    {
      "cell_type": "markdown",
      "id": "68377cfc-b378-43dc-ab7d-1195abf2c515",
      "metadata": {
        "id": "68377cfc-b378-43dc-ab7d-1195abf2c515"
      },
      "source": [
        "2. Напишите запрос, который для каждого региона выведет количество работодателей и вакансий в нём. <br>\n",
        "Среди регионов, в которых нет вакансий, найдите тот, в котором наибольшее количество работодателей.\n"
      ]
    },
    {
      "cell_type": "code",
      "execution_count": 25,
      "id": "f7cfde97",
      "metadata": {},
      "outputs": [],
      "source": [
        "query_5_2 =''' \n",
        "select\n",
        "    a.name,\n",
        "    count(e.name) N_employers\n",
        "    \n",
        "from\n",
        "    areas a\n",
        "    left join vacancies v \n",
        "    on v.area_id = a.id\n",
        "    \n",
        "    join employers e \n",
        "    on a.id = e.area\n",
        "    \n",
        "where \n",
        "    v.id is null\n",
        "    \n",
        "group by \n",
        "    a.name\n",
        "\n",
        "order by \n",
        "    count(e.name) desc\n",
        "'''"
      ]
    },
    {
      "cell_type": "code",
      "execution_count": 26,
      "id": "x1ikWbydrbf6",
      "metadata": {
        "id": "x1ikWbydrbf6"
      },
      "outputs": [
        {
          "data": {
            "application/vnd.microsoft.datawrangler.viewer.v0+json": {
              "columns": [
                {
                  "name": "index",
                  "rawType": "int64",
                  "type": "integer"
                },
                {
                  "name": "name",
                  "rawType": "object",
                  "type": "string"
                },
                {
                  "name": "n_employers",
                  "rawType": "int64",
                  "type": "integer"
                }
              ],
              "conversionMethod": "pd.DataFrame",
              "ref": "cf2e880f-d020-40b5-b3f6-117adb6ec842",
              "rows": [
                [
                  "0",
                  "Россия",
                  "410"
                ],
                [
                  "1",
                  "Казахстан",
                  "207"
                ],
                [
                  "2",
                  "Московская область",
                  "75"
                ],
                [
                  "3",
                  "Краснодарский край",
                  "19"
                ],
                [
                  "4",
                  "Беларусь",
                  "18"
                ],
                [
                  "5",
                  "Ростовская область",
                  "18"
                ],
                [
                  "6",
                  "Азербайджан",
                  "17"
                ],
                [
                  "7",
                  "Республика Татарстан",
                  "16"
                ],
                [
                  "8",
                  "Нижегородская область",
                  "16"
                ],
                [
                  "9",
                  "Узбекистан",
                  "15"
                ],
                [
                  "10",
                  "Белгородская область",
                  "10"
                ],
                [
                  "11",
                  "Сингапур",
                  "10"
                ],
                [
                  "12",
                  "Калужская область",
                  "9"
                ],
                [
                  "13",
                  "Ленинградская область",
                  "9"
                ],
                [
                  "14",
                  "Самарская область",
                  "7"
                ],
                [
                  "15",
                  "Воронежская область",
                  "7"
                ],
                [
                  "16",
                  "Кировская область",
                  "6"
                ],
                [
                  "17",
                  "Ульяновская область",
                  "6"
                ],
                [
                  "18",
                  "Кыргызстан",
                  "6"
                ],
                [
                  "19",
                  "Австралия",
                  "6"
                ],
                [
                  "20",
                  "Ставропольский край",
                  "6"
                ],
                [
                  "21",
                  "Ивановская область",
                  "5"
                ],
                [
                  "22",
                  "Липецкая область",
                  "5"
                ],
                [
                  "23",
                  "Новосибирская область",
                  "5"
                ],
                [
                  "24",
                  "Тульская область",
                  "5"
                ],
                [
                  "25",
                  "Канада",
                  "5"
                ],
                [
                  "26",
                  "Швейцария",
                  "5"
                ],
                [
                  "27",
                  "Республика Крым",
                  "4"
                ],
                [
                  "28",
                  "Пензенская область",
                  "4"
                ],
                [
                  "29",
                  "Чувашская Республика",
                  "4"
                ],
                [
                  "30",
                  "Иркутская область",
                  "4"
                ],
                [
                  "31",
                  "Кемеровская область",
                  "4"
                ],
                [
                  "32",
                  "Волгоградская область",
                  "4"
                ],
                [
                  "33",
                  "Свердловская область",
                  "4"
                ],
                [
                  "34",
                  "Рязанская область",
                  "4"
                ],
                [
                  "35",
                  "Минская область",
                  "3"
                ],
                [
                  "36",
                  "Владимирская область",
                  "3"
                ],
                [
                  "37",
                  "Другие регионы",
                  "3"
                ],
                [
                  "38",
                  "Калининградская область",
                  "3"
                ],
                [
                  "39",
                  "Томская область",
                  "3"
                ],
                [
                  "40",
                  "Удмуртская Республика",
                  "3"
                ],
                [
                  "41",
                  "Костромская область",
                  "3"
                ],
                [
                  "42",
                  "Пермский край",
                  "3"
                ],
                [
                  "43",
                  "Алтайский край",
                  "3"
                ],
                [
                  "44",
                  "Красноярский край",
                  "3"
                ],
                [
                  "45",
                  "Ярославская область",
                  "3"
                ],
                [
                  "46",
                  "Саратовская область",
                  "2"
                ],
                [
                  "47",
                  "Жодино",
                  "2"
                ],
                [
                  "48",
                  "Тверская область",
                  "2"
                ],
                [
                  "49",
                  "Челябинская область",
                  "2"
                ]
              ],
              "shape": {
                "columns": 2,
                "rows": 186
              }
            },
            "text/html": [
              "<div>\n",
              "<style scoped>\n",
              "    .dataframe tbody tr th:only-of-type {\n",
              "        vertical-align: middle;\n",
              "    }\n",
              "\n",
              "    .dataframe tbody tr th {\n",
              "        vertical-align: top;\n",
              "    }\n",
              "\n",
              "    .dataframe thead th {\n",
              "        text-align: right;\n",
              "    }\n",
              "</style>\n",
              "<table border=\"1\" class=\"dataframe\">\n",
              "  <thead>\n",
              "    <tr style=\"text-align: right;\">\n",
              "      <th></th>\n",
              "      <th>name</th>\n",
              "      <th>n_employers</th>\n",
              "    </tr>\n",
              "  </thead>\n",
              "  <tbody>\n",
              "    <tr>\n",
              "      <th>0</th>\n",
              "      <td>Россия</td>\n",
              "      <td>410</td>\n",
              "    </tr>\n",
              "    <tr>\n",
              "      <th>1</th>\n",
              "      <td>Казахстан</td>\n",
              "      <td>207</td>\n",
              "    </tr>\n",
              "    <tr>\n",
              "      <th>2</th>\n",
              "      <td>Московская область</td>\n",
              "      <td>75</td>\n",
              "    </tr>\n",
              "    <tr>\n",
              "      <th>3</th>\n",
              "      <td>Краснодарский край</td>\n",
              "      <td>19</td>\n",
              "    </tr>\n",
              "    <tr>\n",
              "      <th>4</th>\n",
              "      <td>Беларусь</td>\n",
              "      <td>18</td>\n",
              "    </tr>\n",
              "    <tr>\n",
              "      <th>...</th>\n",
              "      <td>...</td>\n",
              "      <td>...</td>\n",
              "    </tr>\n",
              "    <tr>\n",
              "      <th>181</th>\n",
              "      <td>Миллерово</td>\n",
              "      <td>1</td>\n",
              "    </tr>\n",
              "    <tr>\n",
              "      <th>182</th>\n",
              "      <td>Михайловка (Уфимский район, Башкортостан)</td>\n",
              "      <td>1</td>\n",
              "    </tr>\n",
              "    <tr>\n",
              "      <th>183</th>\n",
              "      <td>Можайск</td>\n",
              "      <td>1</td>\n",
              "    </tr>\n",
              "    <tr>\n",
              "      <th>184</th>\n",
              "      <td>Морозовск\\n</td>\n",
              "      <td>1</td>\n",
              "    </tr>\n",
              "    <tr>\n",
              "      <th>185</th>\n",
              "      <td>Несвиж</td>\n",
              "      <td>1</td>\n",
              "    </tr>\n",
              "  </tbody>\n",
              "</table>\n",
              "<p>186 rows × 2 columns</p>\n",
              "</div>"
            ],
            "text/plain": [
              "                                          name  n_employers\n",
              "0                                       Россия          410\n",
              "1                                    Казахстан          207\n",
              "2                           Московская область           75\n",
              "3                           Краснодарский край           19\n",
              "4                                     Беларусь           18\n",
              "..                                         ...          ...\n",
              "181                                  Миллерово            1\n",
              "182  Михайловка (Уфимский район, Башкортостан)            1\n",
              "183                                    Можайск            1\n",
              "184                                Морозовск\\n            1\n",
              "185                                     Несвиж            1\n",
              "\n",
              "[186 rows x 2 columns]"
            ]
          },
          "execution_count": 26,
          "metadata": {},
          "output_type": "execute_result"
        }
      ],
      "source": [
        "Null_vac = pd.read_sql_query(query_5_2, connection)\n",
        "Null_vac"
      ]
    },
    {
      "cell_type": "markdown",
      "id": "f2fe0acb-ab1a-4e15-9326-2560e22d73c1",
      "metadata": {
        "id": "f2fe0acb-ab1a-4e15-9326-2560e22d73c1"
      },
      "source": [
        "3. Для каждого работодателя посчитайте количество регионов, в которых он публикует свои вакансии. Отсортируйте результат по убыванию количества.\n"
      ]
    },
    {
      "cell_type": "code",
      "execution_count": 27,
      "id": "6271f8ad-bd2e-4196-ae4a-5b39c4c1010e",
      "metadata": {
        "id": "6271f8ad-bd2e-4196-ae4a-5b39c4c1010e"
      },
      "outputs": [],
      "source": [
        "query_5_3 = ''' \n",
        "select\n",
        "    e.name as Employer_name,\n",
        "    count(distinct a.name) as N_regions_with_vac\n",
        "from\n",
        "    vacancies v\n",
        "    join employers e\n",
        "    on v.employer_id = e.id\n",
        "    \n",
        "    join areas a\n",
        "    on v.area_id = a.id\n",
        "    \n",
        "group by \n",
        "    e.name\n",
        "    \n",
        "order by \n",
        "    count(distinct a.name) desc\n",
        "'''\n"
      ]
    },
    {
      "cell_type": "code",
      "execution_count": 28,
      "id": "1EIvX3HasH4F",
      "metadata": {
        "id": "1EIvX3HasH4F"
      },
      "outputs": [
        {
          "data": {
            "application/vnd.microsoft.datawrangler.viewer.v0+json": {
              "columns": [
                {
                  "name": "index",
                  "rawType": "int64",
                  "type": "integer"
                },
                {
                  "name": "employer_name",
                  "rawType": "object",
                  "type": "string"
                },
                {
                  "name": "n_regions_with_vac",
                  "rawType": "int64",
                  "type": "integer"
                }
              ],
              "conversionMethod": "pd.DataFrame",
              "ref": "505cbe50-646f-4c33-8765-d377098c748d",
              "rows": [
                [
                  "0",
                  "Яндекс",
                  "181"
                ],
                [
                  "1",
                  "Ростелеком",
                  "152"
                ],
                [
                  "2",
                  "Спецремонт",
                  "116"
                ],
                [
                  "3",
                  "Поляков Денис Иванович",
                  "88"
                ],
                [
                  "4",
                  "ООО ЕФИН ",
                  "71"
                ],
                [
                  "5",
                  "Совкомбанк",
                  "63"
                ],
                [
                  "6",
                  "МТС",
                  "55"
                ],
                [
                  "7",
                  "ЭФКО, Управляющая компания",
                  "49"
                ],
                [
                  "8",
                  "Почта России",
                  "48"
                ],
                [
                  "9",
                  "КРОН",
                  "48"
                ],
                [
                  "10",
                  "ИК СИБИНТЕК",
                  "46"
                ],
                [
                  "11",
                  "MCORE",
                  "46"
                ],
                [
                  "12",
                  "Сбербанк-Сервис",
                  "45"
                ],
                [
                  "13",
                  "ANCOR",
                  "44"
                ],
                [
                  "14",
                  "Тинькофф",
                  "43"
                ],
                [
                  "15",
                  "Первый Бит",
                  "43"
                ],
                [
                  "16",
                  "АЛНАС",
                  "41"
                ],
                [
                  "17",
                  "Ozon",
                  "36"
                ],
                [
                  "18",
                  "IBS",
                  "36"
                ],
                [
                  "19",
                  "Авито",
                  "35"
                ],
                [
                  "20",
                  "Т1 Интеграция",
                  "34"
                ],
                [
                  "21",
                  "АТМ АЛЬЯНС",
                  "34"
                ],
                [
                  "22",
                  "ЭР-Телеком",
                  "33"
                ],
                [
                  "23",
                  "ЛАНИТ",
                  "29"
                ],
                [
                  "24",
                  "1C-Рарус",
                  "28"
                ],
                [
                  "25",
                  "Красное & Белое, розничная сеть",
                  "27"
                ],
                [
                  "26",
                  "Volna.tech",
                  "27"
                ],
                [
                  "27",
                  "Bell Integrator",
                  "26"
                ],
                [
                  "28",
                  "Совкомбанк Технологии",
                  "26"
                ],
                [
                  "29",
                  "Спортмастер",
                  "25"
                ],
                [
                  "30",
                  "МАГНИТ, Розничная сеть",
                  "25"
                ],
                [
                  "31",
                  "Softline",
                  "25"
                ],
                [
                  "32",
                  "Playrix",
                  "25"
                ],
                [
                  "33",
                  "Тензор",
                  "25"
                ],
                [
                  "34",
                  "Филиал ФКУ Налог-Сервис ФНС России по ЦОД в г.Москве",
                  "25"
                ],
                [
                  "35",
                  "СБЕР",
                  "24"
                ],
                [
                  "36",
                  "Нэти",
                  "24"
                ],
                [
                  "37",
                  "Газпром нефть",
                  "24"
                ],
                [
                  "38",
                  "Банк ВТБ (ПАО)",
                  "24"
                ],
                [
                  "39",
                  "МегаФон",
                  "23"
                ],
                [
                  "40",
                  "Диалог Регионы",
                  "23"
                ],
                [
                  "41",
                  "Сеть магазинов цифровой и бытовой техники DNS",
                  "23"
                ],
                [
                  "42",
                  "«Аксиома-Софт»",
                  "23"
                ],
                [
                  "43",
                  "Консалтинг Групп",
                  "23"
                ],
                [
                  "44",
                  "Sumitec International",
                  "23"
                ],
                [
                  "45",
                  "Российская телевизионная и радиовещательная сеть, ФГУП",
                  "22"
                ],
                [
                  "46",
                  "Россельхозбанк",
                  "22"
                ],
                [
                  "47",
                  "Калашников",
                  "21"
                ],
                [
                  "48",
                  "ITooLabs",
                  "21"
                ],
                [
                  "49",
                  "Северсталь",
                  "21"
                ]
              ],
              "shape": {
                "columns": 2,
                "rows": 14766
              }
            },
            "text/html": [
              "<div>\n",
              "<style scoped>\n",
              "    .dataframe tbody tr th:only-of-type {\n",
              "        vertical-align: middle;\n",
              "    }\n",
              "\n",
              "    .dataframe tbody tr th {\n",
              "        vertical-align: top;\n",
              "    }\n",
              "\n",
              "    .dataframe thead th {\n",
              "        text-align: right;\n",
              "    }\n",
              "</style>\n",
              "<table border=\"1\" class=\"dataframe\">\n",
              "  <thead>\n",
              "    <tr style=\"text-align: right;\">\n",
              "      <th></th>\n",
              "      <th>employer_name</th>\n",
              "      <th>n_regions_with_vac</th>\n",
              "    </tr>\n",
              "  </thead>\n",
              "  <tbody>\n",
              "    <tr>\n",
              "      <th>0</th>\n",
              "      <td>Яндекс</td>\n",
              "      <td>181</td>\n",
              "    </tr>\n",
              "    <tr>\n",
              "      <th>1</th>\n",
              "      <td>Ростелеком</td>\n",
              "      <td>152</td>\n",
              "    </tr>\n",
              "    <tr>\n",
              "      <th>2</th>\n",
              "      <td>Спецремонт</td>\n",
              "      <td>116</td>\n",
              "    </tr>\n",
              "    <tr>\n",
              "      <th>3</th>\n",
              "      <td>Поляков Денис Иванович</td>\n",
              "      <td>88</td>\n",
              "    </tr>\n",
              "    <tr>\n",
              "      <th>4</th>\n",
              "      <td>ООО ЕФИН</td>\n",
              "      <td>71</td>\n",
              "    </tr>\n",
              "    <tr>\n",
              "      <th>...</th>\n",
              "      <td>...</td>\n",
              "      <td>...</td>\n",
              "    </tr>\n",
              "    <tr>\n",
              "      <th>14761</th>\n",
              "      <td>UniSol</td>\n",
              "      <td>1</td>\n",
              "    </tr>\n",
              "    <tr>\n",
              "      <th>14762</th>\n",
              "      <td>UNISTORY LLC</td>\n",
              "      <td>1</td>\n",
              "    </tr>\n",
              "    <tr>\n",
              "      <th>14763</th>\n",
              "      <td>UNIT6</td>\n",
              "      <td>1</td>\n",
              "    </tr>\n",
              "    <tr>\n",
              "      <th>14764</th>\n",
              "      <td>United Distribution</td>\n",
              "      <td>1</td>\n",
              "    </tr>\n",
              "    <tr>\n",
              "      <th>14765</th>\n",
              "      <td>UNITEL LLC</td>\n",
              "      <td>1</td>\n",
              "    </tr>\n",
              "  </tbody>\n",
              "</table>\n",
              "<p>14766 rows × 2 columns</p>\n",
              "</div>"
            ],
            "text/plain": [
              "                employer_name  n_regions_with_vac\n",
              "0                      Яндекс                 181\n",
              "1                  Ростелеком                 152\n",
              "2                  Спецремонт                 116\n",
              "3      Поляков Денис Иванович                  88\n",
              "4                   ООО ЕФИН                   71\n",
              "...                       ...                 ...\n",
              "14761                  UniSol                   1\n",
              "14762            UNISTORY LLC                   1\n",
              "14763                   UNIT6                   1\n",
              "14764     United Distribution                   1\n",
              "14765              UNITEL LLC                   1\n",
              "\n",
              "[14766 rows x 2 columns]"
            ]
          },
          "execution_count": 28,
          "metadata": {},
          "output_type": "execute_result"
        }
      ],
      "source": [
        "N_region_by_Employer = pd.read_sql_query(query_5_3, connection)\n",
        "N_region_by_Employer"
      ]
    },
    {
      "cell_type": "markdown",
      "id": "eab2206d-d95b-468b-8e5f-34381abf0ce7",
      "metadata": {
        "id": "eab2206d-d95b-468b-8e5f-34381abf0ce7"
      },
      "source": [
        "4. Напишите запрос для подсчёта количества работодателей, у которых не указана сфера деятельности. "
      ]
    },
    {
      "cell_type": "code",
      "execution_count": 29,
      "id": "80defb23-bfb1-4a18-8be6-bf36aa7165d5",
      "metadata": {
        "id": "80defb23-bfb1-4a18-8be6-bf36aa7165d5"
      },
      "outputs": [],
      "source": [
        "query_5_4 = ''' \n",
        "select \n",
        "    count(e.name) N_empl_with_no_indstr\n",
        "from\n",
        "    employers e\n",
        "    left join employers_industries ei \n",
        "    on ei.employer_id = e.id\n",
        "where industry_id is null\n",
        "\n",
        "'''\n"
      ]
    },
    {
      "cell_type": "code",
      "execution_count": 30,
      "id": "Dp_yCx6ysQSu",
      "metadata": {
        "id": "Dp_yCx6ysQSu"
      },
      "outputs": [
        {
          "data": {
            "application/vnd.microsoft.datawrangler.viewer.v0+json": {
              "columns": [
                {
                  "name": "index",
                  "rawType": "int64",
                  "type": "integer"
                },
                {
                  "name": "n_empl_with_no_indstr",
                  "rawType": "int64",
                  "type": "integer"
                }
              ],
              "conversionMethod": "pd.DataFrame",
              "ref": "83d827fe-10d1-4824-9cb4-df46088910de",
              "rows": [
                [
                  "0",
                  "8419"
                ]
              ],
              "shape": {
                "columns": 1,
                "rows": 1
              }
            },
            "text/html": [
              "<div>\n",
              "<style scoped>\n",
              "    .dataframe tbody tr th:only-of-type {\n",
              "        vertical-align: middle;\n",
              "    }\n",
              "\n",
              "    .dataframe tbody tr th {\n",
              "        vertical-align: top;\n",
              "    }\n",
              "\n",
              "    .dataframe thead th {\n",
              "        text-align: right;\n",
              "    }\n",
              "</style>\n",
              "<table border=\"1\" class=\"dataframe\">\n",
              "  <thead>\n",
              "    <tr style=\"text-align: right;\">\n",
              "      <th></th>\n",
              "      <th>n_empl_with_no_indstr</th>\n",
              "    </tr>\n",
              "  </thead>\n",
              "  <tbody>\n",
              "    <tr>\n",
              "      <th>0</th>\n",
              "      <td>8419</td>\n",
              "    </tr>\n",
              "  </tbody>\n",
              "</table>\n",
              "</div>"
            ],
            "text/plain": [
              "   n_empl_with_no_indstr\n",
              "0                   8419"
            ]
          },
          "execution_count": 30,
          "metadata": {},
          "output_type": "execute_result"
        }
      ],
      "source": [
        "N_Empl_null_Indstr = pd.read_sql_query(query_5_4, connection)\n",
        "N_Empl_null_Indstr"
      ]
    },
    {
      "cell_type": "markdown",
      "id": "0112af31-f6b0-4e3b-82ab-71296e752e5e",
      "metadata": {
        "id": "0112af31-f6b0-4e3b-82ab-71296e752e5e"
      },
      "source": [
        "5. Напишите запрос, чтобы узнать название компании, находящейся на третьем месте в алфавитном списке (по названию) компаний, у которых указано четыре сферы деятельности. "
      ]
    },
    {
      "cell_type": "code",
      "execution_count": 31,
      "id": "973b0cfc-a972-470a-8b4a-68744ef220c4",
      "metadata": {
        "id": "973b0cfc-a972-470a-8b4a-68744ef220c4"
      },
      "outputs": [],
      "source": [
        "query_5_5 = ''' \n",
        "select \n",
        "    e.name,\n",
        "    count(ei.industry_id)\n",
        "    \n",
        "from\n",
        "    employers_industries ei\n",
        "    join employers e\n",
        "    on ei.employer_id = e.id \n",
        "    \n",
        "group by \n",
        "    e.name\n",
        "\n",
        "having \n",
        "    count(ei.industry_id) = 4\n",
        "    \n",
        "order by \n",
        "    e.name\n",
        "    \n",
        "offset 2\n",
        "limit 1\n",
        "'''"
      ]
    },
    {
      "cell_type": "code",
      "execution_count": 32,
      "id": "xsPtpp8EsaED",
      "metadata": {
        "id": "xsPtpp8EsaED"
      },
      "outputs": [
        {
          "data": {
            "application/vnd.microsoft.datawrangler.viewer.v0+json": {
              "columns": [
                {
                  "name": "index",
                  "rawType": "int64",
                  "type": "integer"
                },
                {
                  "name": "name",
                  "rawType": "object",
                  "type": "string"
                },
                {
                  "name": "count",
                  "rawType": "int64",
                  "type": "integer"
                }
              ],
              "conversionMethod": "pd.DataFrame",
              "ref": "fce92e39-45f5-4b08-a0fc-6b31b06ada50",
              "rows": [
                [
                  "0",
                  "2ГИС",
                  "4"
                ]
              ],
              "shape": {
                "columns": 2,
                "rows": 1
              }
            },
            "text/html": [
              "<div>\n",
              "<style scoped>\n",
              "    .dataframe tbody tr th:only-of-type {\n",
              "        vertical-align: middle;\n",
              "    }\n",
              "\n",
              "    .dataframe tbody tr th {\n",
              "        vertical-align: top;\n",
              "    }\n",
              "\n",
              "    .dataframe thead th {\n",
              "        text-align: right;\n",
              "    }\n",
              "</style>\n",
              "<table border=\"1\" class=\"dataframe\">\n",
              "  <thead>\n",
              "    <tr style=\"text-align: right;\">\n",
              "      <th></th>\n",
              "      <th>name</th>\n",
              "      <th>count</th>\n",
              "    </tr>\n",
              "  </thead>\n",
              "  <tbody>\n",
              "    <tr>\n",
              "      <th>0</th>\n",
              "      <td>2ГИС</td>\n",
              "      <td>4</td>\n",
              "    </tr>\n",
              "  </tbody>\n",
              "</table>\n",
              "</div>"
            ],
            "text/plain": [
              "   name  count\n",
              "0  2ГИС      4"
            ]
          },
          "execution_count": 32,
          "metadata": {},
          "output_type": "execute_result"
        }
      ],
      "source": [
        "Indstr_by_Empl = pd.read_sql_query(query_5_5, connection)\n",
        "Indstr_by_Empl"
      ]
    },
    {
      "cell_type": "markdown",
      "id": "3bfcfdaf-755d-4d2b-8ed8-326201dc07ab",
      "metadata": {
        "id": "3bfcfdaf-755d-4d2b-8ed8-326201dc07ab"
      },
      "source": [
        "6. С помощью запроса выясните, у какого количества работодателей в качестве сферы деятельности указана Разработка программного обеспечения.\n"
      ]
    },
    {
      "cell_type": "code",
      "execution_count": 33,
      "id": "ad3f270f-2991-47eb-929b-e8f88a55b0d1",
      "metadata": {
        "id": "ad3f270f-2991-47eb-929b-e8f88a55b0d1"
      },
      "outputs": [],
      "source": [
        "query_5_6 = ''' \n",
        "select \n",
        "    i.name,\n",
        "    count (*) N_emplyers\n",
        "    \n",
        "from\n",
        "    employers_industries ei\n",
        "    join employers e\n",
        "    on ei.employer_id = e.id \n",
        "    \n",
        "    join industries i\n",
        "    on ei.industry_id = i.id\n",
        "\n",
        "group by \n",
        "    i.name\n",
        "    \n",
        "having \n",
        "    i.name = 'Разработка программного обеспечения'\n",
        "'''\n"
      ]
    },
    {
      "cell_type": "code",
      "execution_count": 34,
      "id": "H72qxWM0shPR",
      "metadata": {
        "id": "H72qxWM0shPR"
      },
      "outputs": [
        {
          "data": {
            "application/vnd.microsoft.datawrangler.viewer.v0+json": {
              "columns": [
                {
                  "name": "index",
                  "rawType": "int64",
                  "type": "integer"
                },
                {
                  "name": "name",
                  "rawType": "object",
                  "type": "string"
                },
                {
                  "name": "n_emplyers",
                  "rawType": "int64",
                  "type": "integer"
                }
              ],
              "conversionMethod": "pd.DataFrame",
              "ref": "1e4876ee-a1c8-4b00-9d81-7af691ba9c88",
              "rows": [
                [
                  "0",
                  "Разработка программного обеспечения",
                  "3553"
                ]
              ],
              "shape": {
                "columns": 2,
                "rows": 1
              }
            },
            "text/html": [
              "<div>\n",
              "<style scoped>\n",
              "    .dataframe tbody tr th:only-of-type {\n",
              "        vertical-align: middle;\n",
              "    }\n",
              "\n",
              "    .dataframe tbody tr th {\n",
              "        vertical-align: top;\n",
              "    }\n",
              "\n",
              "    .dataframe thead th {\n",
              "        text-align: right;\n",
              "    }\n",
              "</style>\n",
              "<table border=\"1\" class=\"dataframe\">\n",
              "  <thead>\n",
              "    <tr style=\"text-align: right;\">\n",
              "      <th></th>\n",
              "      <th>name</th>\n",
              "      <th>n_emplyers</th>\n",
              "    </tr>\n",
              "  </thead>\n",
              "  <tbody>\n",
              "    <tr>\n",
              "      <th>0</th>\n",
              "      <td>Разработка программного обеспечения</td>\n",
              "      <td>3553</td>\n",
              "    </tr>\n",
              "  </tbody>\n",
              "</table>\n",
              "</div>"
            ],
            "text/plain": [
              "                                  name  n_emplyers\n",
              "0  Разработка программного обеспечения        3553"
            ]
          },
          "execution_count": 34,
          "metadata": {},
          "output_type": "execute_result"
        }
      ],
      "source": [
        "N_dev_Empl = pd.read_sql_query(query_5_6, connection)\n",
        "N_dev_Empl"
      ]
    },
    {
      "cell_type": "markdown",
      "id": "7b02bb86-0546-40fb-94a4-242f050a5c57",
      "metadata": {
        "id": "7b02bb86-0546-40fb-94a4-242f050a5c57"
      },
      "source": [
        "7. Для компании «Яндекс» выведите список регионов-миллионников, в которых представлены вакансии компании, вместе с количеством вакансий в этих регионах. Также добавьте строку Total с общим количеством вакансий компании. Результат отсортируйте по возрастанию количества.\n",
        "\n",
        "Список городов-милионников надо взять [отсюда](https://ru.wikipedia.org/wiki/%D0%93%D0%BE%D1%80%D0%BE%D0%B4%D0%B0-%D0%BC%D0%B8%D0%BB%D0%BB%D0%B8%D0%BE%D0%BD%D0%B5%D1%80%D1%8B_%D0%A0%D0%BE%D1%81%D1%81%D0%B8%D0%B8). \n",
        "\n",
        "Если возникнут трудности с этим задание посмотрите материалы модуля  PYTHON-17. Как получать данные из веб-источников и API. "
      ]
    },
    {
      "cell_type": "code",
      "execution_count": 35,
      "id": "ZdfrL6gIs1Pn",
      "metadata": {
        "id": "ZdfrL6gIs1Pn"
      },
      "outputs": [],
      "source": [
        "import requests\n",
        "from bs4 import BeautifulSoup\n",
        "\n",
        "# Устанавливаем библиотеки BeautifulSoup и lxml\n",
        "\n",
        "#!pip install beautifulsoup4 \n",
        "#!pip install lxml\n",
        "\n",
        "# Выделяем таблицу с названиями городов-миллионников\n",
        "url = 'https://ru.wikipedia.org/wiki/%D0%93%D0%BE%D1%80%D0%BE%D0%B4%D0%B0-%D0%BC%D0%B8%D0%BB%D0%BB%D0%B8%D0%BE%D0%BD%D0%B5%D1%80%D1%8B_%D0%A0%D0%BE%D1%81%D1%81%D0%B8%D0%B8'\n",
        "page = requests.get(url).text\n",
        "soup = BeautifulSoup(page, 'html.parser')\n",
        "table = soup.find('table', class_=\"standard sortable\")\n",
        "\n",
        "\n",
        "# Создаем список с названиями городов-миллионников\n",
        "df = pd.read_html(str(table))\n",
        "df = pd.concat(df) \n",
        "city_names = list(df.loc[:,'Город'])"
      ]
    },
    {
      "cell_type": "code",
      "execution_count": 36,
      "id": "5a0e32a4-e68a-4365-8a39-2fe24c542c36",
      "metadata": {
        "id": "5a0e32a4-e68a-4365-8a39-2fe24c542c36"
      },
      "outputs": [],
      "source": [
        "query_5_7 = ''' \n",
        "select \n",
        "    a.name as City,\n",
        "    v.id as vacancy_cnt\n",
        "    \n",
        "from \n",
        "    vacancies v\n",
        "    join employers e\n",
        "    on v.employer_id = e.id\n",
        "    \n",
        "    join areas a\n",
        "    on v.area_id = a.id\n",
        "\n",
        "where e.name = 'Яндекс' \n",
        "'''"
      ]
    },
    {
      "cell_type": "code",
      "execution_count": 37,
      "id": "3de06c6b",
      "metadata": {},
      "outputs": [
        {
          "data": {
            "application/vnd.microsoft.datawrangler.viewer.v0+json": {
              "columns": [
                {
                  "name": "city",
                  "rawType": "object",
                  "type": "string"
                },
                {
                  "name": "vacancy_cnt",
                  "rawType": "int64",
                  "type": "integer"
                }
              ],
              "conversionMethod": "pd.DataFrame",
              "ref": "840d5182-ee89-4d71-9913-694f71fda6d0",
              "rows": [
                [
                  "Москва",
                  "54"
                ],
                [
                  "Санкт-Петербург",
                  "42"
                ],
                [
                  "Екатеринбург",
                  "39"
                ],
                [
                  "Нижний Новгород",
                  "36"
                ],
                [
                  "Новосибирск",
                  "35"
                ],
                [
                  "Воронеж",
                  "32"
                ],
                [
                  "Краснодар",
                  "30"
                ],
                [
                  "Самара",
                  "26"
                ],
                [
                  "Уфа",
                  "26"
                ],
                [
                  "Казань",
                  "25"
                ],
                [
                  "Пермь",
                  "25"
                ],
                [
                  "Ростов-на-Дону",
                  "25"
                ],
                [
                  "Волгоград",
                  "24"
                ],
                [
                  "Красноярск",
                  "23"
                ],
                [
                  "Челябинск",
                  "22"
                ],
                [
                  "Омск",
                  "21"
                ],
                [
                  "Total",
                  "485"
                ]
              ],
              "shape": {
                "columns": 1,
                "rows": 17
              }
            },
            "text/html": [
              "<div>\n",
              "<style scoped>\n",
              "    .dataframe tbody tr th:only-of-type {\n",
              "        vertical-align: middle;\n",
              "    }\n",
              "\n",
              "    .dataframe tbody tr th {\n",
              "        vertical-align: top;\n",
              "    }\n",
              "\n",
              "    .dataframe thead th {\n",
              "        text-align: right;\n",
              "    }\n",
              "</style>\n",
              "<table border=\"1\" class=\"dataframe\">\n",
              "  <thead>\n",
              "    <tr style=\"text-align: right;\">\n",
              "      <th></th>\n",
              "      <th>vacancy_cnt</th>\n",
              "    </tr>\n",
              "    <tr>\n",
              "      <th>city</th>\n",
              "      <th></th>\n",
              "    </tr>\n",
              "  </thead>\n",
              "  <tbody>\n",
              "    <tr>\n",
              "      <th>Москва</th>\n",
              "      <td>54</td>\n",
              "    </tr>\n",
              "    <tr>\n",
              "      <th>Санкт-Петербург</th>\n",
              "      <td>42</td>\n",
              "    </tr>\n",
              "    <tr>\n",
              "      <th>Екатеринбург</th>\n",
              "      <td>39</td>\n",
              "    </tr>\n",
              "    <tr>\n",
              "      <th>Нижний Новгород</th>\n",
              "      <td>36</td>\n",
              "    </tr>\n",
              "    <tr>\n",
              "      <th>Новосибирск</th>\n",
              "      <td>35</td>\n",
              "    </tr>\n",
              "    <tr>\n",
              "      <th>Воронеж</th>\n",
              "      <td>32</td>\n",
              "    </tr>\n",
              "    <tr>\n",
              "      <th>Краснодар</th>\n",
              "      <td>30</td>\n",
              "    </tr>\n",
              "    <tr>\n",
              "      <th>Самара</th>\n",
              "      <td>26</td>\n",
              "    </tr>\n",
              "    <tr>\n",
              "      <th>Уфа</th>\n",
              "      <td>26</td>\n",
              "    </tr>\n",
              "    <tr>\n",
              "      <th>Казань</th>\n",
              "      <td>25</td>\n",
              "    </tr>\n",
              "    <tr>\n",
              "      <th>Пермь</th>\n",
              "      <td>25</td>\n",
              "    </tr>\n",
              "    <tr>\n",
              "      <th>Ростов-на-Дону</th>\n",
              "      <td>25</td>\n",
              "    </tr>\n",
              "    <tr>\n",
              "      <th>Волгоград</th>\n",
              "      <td>24</td>\n",
              "    </tr>\n",
              "    <tr>\n",
              "      <th>Красноярск</th>\n",
              "      <td>23</td>\n",
              "    </tr>\n",
              "    <tr>\n",
              "      <th>Челябинск</th>\n",
              "      <td>22</td>\n",
              "    </tr>\n",
              "    <tr>\n",
              "      <th>Омск</th>\n",
              "      <td>21</td>\n",
              "    </tr>\n",
              "    <tr>\n",
              "      <th>Total</th>\n",
              "      <td>485</td>\n",
              "    </tr>\n",
              "  </tbody>\n",
              "</table>\n",
              "</div>"
            ],
            "text/plain": [
              "                 vacancy_cnt\n",
              "city                        \n",
              "Москва                    54\n",
              "Санкт-Петербург           42\n",
              "Екатеринбург              39\n",
              "Нижний Новгород           36\n",
              "Новосибирск               35\n",
              "Воронеж                   32\n",
              "Краснодар                 30\n",
              "Самара                    26\n",
              "Уфа                       26\n",
              "Казань                    25\n",
              "Пермь                     25\n",
              "Ростов-на-Дону            25\n",
              "Волгоград                 24\n",
              "Красноярск                23\n",
              "Челябинск                 22\n",
              "Омск                      21\n",
              "Total                    485"
            ]
          },
          "metadata": {},
          "output_type": "display_data"
        }
      ],
      "source": [
        "# Записываем результат запроса в датафрейм\n",
        "YaVac_by_City = pd.read_sql_query(query_5_7, connection)\n",
        "\n",
        "\n",
        "# Выбираем только данные из городов-миллионников\n",
        "mask = YaVac_by_City.loc[:, 'city'].apply(lambda x: x in city_names)\n",
        "YaVac_by_City = YaVac_by_City[mask]\n",
        "\n",
        "\n",
        "# Группируем по переменной 'City', подссчитываем кол-во вакансий\n",
        "YaVac_by_City = \\\n",
        "    YaVac_by_City.groupby('city').count()\\\n",
        "        .sort_values('vacancy_cnt', ascending=False)\n",
        "\n",
        "\n",
        "# Добавляем строрку 'Total' с суммой по солбцу с вакансиями\n",
        "YaVac_by_City.loc['Total'] = sum(YaVac_by_City['vacancy_cnt'])\n",
        "display(YaVac_by_City)\n"
      ]
    },
    {
      "cell_type": "markdown",
      "id": "04966e40-3bc3-4dc8-9ba2-e80580ce3abc",
      "metadata": {
        "id": "04966e40-3bc3-4dc8-9ba2-e80580ce3abc"
      },
      "source": [
        "***"
      ]
    },
    {
      "cell_type": "markdown",
      "id": "ec16b977",
      "metadata": {},
      "source": [
        "1.\tНаибольшее количество вакансий (1933) предлагает компания **Яндекс**. В пятерку лидеров также входят **Ростелеком**, **Тинькофф**, **СБЕР** и **Газпром нефть**.\n",
        "\n",
        "2.\tКомпании **Яндекс**, **Ростелеком** и **Спецремонт** входят в тройку лидеров по количеству регионов, в которых они предлагают вакансии. \n",
        "\n",
        "3.\tКомпания **Яндекс** предлагает **485** вакансий в городах-миллионниках. Наибольшее количество вакансий приходится на **Москву**, **Санкт-Петербург**, **Екатеринбург**, **Нижний Новгород** и **Новосибирск**.\n",
        "\n",
        "4.\tСреди всех работодателей, у **8419** не указан род деятельности. У **3553** компаний в качестве рода деятельности указана разработка программного обеспеченья.\n"
      ]
    },
    {
      "cell_type": "markdown",
      "id": "b1ef156a-efcb-49ce-bb23-90763e7f35b2",
      "metadata": {
        "id": "b1ef156a-efcb-49ce-bb23-90763e7f35b2",
        "tags": []
      },
      "source": [
        "# Юнит 6. Предметный анализ"
      ]
    },
    {
      "cell_type": "markdown",
      "id": "b9cd50a0-992d-4988-8463-2b2b1c4629b4",
      "metadata": {
        "id": "b9cd50a0-992d-4988-8463-2b2b1c4629b4"
      },
      "source": [
        "1. Сколько вакансий имеет отношение к данным?\n",
        "\n",
        "Считаем, что вакансия имеет отношение к данным, если в её названии содержатся слова 'data' или 'данн'.\n",
        "\n",
        "*Подсказка: Обратите внимание, что названия вакансий могут быть написаны в любом регистре.* \n"
      ]
    },
    {
      "cell_type": "code",
      "execution_count": 38,
      "id": "54ab0e50-c0f1-47cc-a54b-bc5c8bc363f9",
      "metadata": {
        "id": "54ab0e50-c0f1-47cc-a54b-bc5c8bc363f9"
      },
      "outputs": [
        {
          "data": {
            "application/vnd.microsoft.datawrangler.viewer.v0+json": {
              "columns": [
                {
                  "name": "index",
                  "rawType": "int64",
                  "type": "integer"
                },
                {
                  "name": "name",
                  "rawType": "object",
                  "type": "string"
                }
              ],
              "conversionMethod": "pd.DataFrame",
              "ref": "b71890f3-0252-4452-b4ae-0143aabbe124",
              "rows": [
                [
                  "0",
                  "Аналитик хранилищ данных и BI-систем/Аналитик EAM (ТОиР)"
                ],
                [
                  "1",
                  "Data-analysts (удаленно)"
                ],
                [
                  "2",
                  "Стажер Data Engineer/Data Аналитик в команду Блока «Сеть продаж»"
                ],
                [
                  "3",
                  "Старший специалист хранилищ данных"
                ],
                [
                  "4",
                  "Администратор баз данных и сетей"
                ],
                [
                  "5",
                  "Администратор баз данных (DBA)"
                ],
                [
                  "6",
                  "Data Scientist"
                ],
                [
                  "7",
                  "Старший менеджер по анализу данных"
                ],
                [
                  "8",
                  "Администратор баз данных 1С"
                ],
                [
                  "9",
                  "Администратор баз данных (стажер)"
                ],
                [
                  "10",
                  "Администратор сети и передачи данных"
                ],
                [
                  "11",
                  "Data Scientist (Junior+)"
                ],
                [
                  "12",
                  "Специалист аналитик данных (г. Шымкент)"
                ],
                [
                  "13",
                  "PostgreSQL DBA (Database Administrator)"
                ],
                [
                  "14",
                  "Аналитик данных - стажер (г. Шымкент)"
                ],
                [
                  "15",
                  "Руководитель отдела обработки данных"
                ],
                [
                  "16",
                  "Старший специалист (администратор баз данных)"
                ],
                [
                  "17",
                  "Data Scientist"
                ],
                [
                  "18",
                  "Data Scientist"
                ],
                [
                  "19",
                  "Администратор баз данных"
                ],
                [
                  "20",
                  "Data Scientist"
                ],
                [
                  "21",
                  "Data Scientist"
                ],
                [
                  "22",
                  "Data Analyst"
                ],
                [
                  "23",
                  "CDP Team Lead - Customer Data Platform Solutions Architect"
                ],
                [
                  "24",
                  "Администратор баз данных"
                ],
                [
                  "25",
                  "Старший разработчик баз данных (middle)"
                ],
                [
                  "26",
                  "Администратор баз данных"
                ],
                [
                  "27",
                  "Аналитик данных"
                ],
                [
                  "28",
                  "Аналитик данных"
                ],
                [
                  "29",
                  "Senior Data engineer"
                ],
                [
                  "30",
                  "Middle Data Engineer"
                ],
                [
                  "31",
                  "Junior Data Engineer"
                ],
                [
                  "32",
                  "Разработчик витрин данных"
                ],
                [
                  "33",
                  "Middle Data Engineer"
                ],
                [
                  "34",
                  "Data Analyst в направление Data Office"
                ],
                [
                  "35",
                  "Аналитик бизнес данных"
                ],
                [
                  "36",
                  "Data Analyst"
                ],
                [
                  "37",
                  "Data Analytics (in-house)"
                ],
                [
                  "38",
                  "Менеджер по обмену данными"
                ],
                [
                  "39",
                  "Администратор базы данных 1с"
                ],
                [
                  "40",
                  "Риск-менеджер/Data Scientist"
                ],
                [
                  "41",
                  "Специалист по работе с данными (модератор данных)"
                ],
                [
                  "42",
                  "Веб аналитик данных"
                ],
                [
                  "43",
                  "Oracle developer (Database administrator, DBA)"
                ],
                [
                  "44",
                  "Cloud Data Engineer (Riga, Latvia)"
                ],
                [
                  "45",
                  "Database engineer (Oracle/MS SQL/NoSQL/MongoDB)"
                ],
                [
                  "46",
                  "Администратор баз данных"
                ],
                [
                  "47",
                  "Data Engineer/ETL Developer"
                ],
                [
                  "48",
                  "Senior Data engineer"
                ],
                [
                  "49",
                  "Data Engineer"
                ]
              ],
              "shape": {
                "columns": 1,
                "rows": 1771
              }
            },
            "text/html": [
              "<div>\n",
              "<style scoped>\n",
              "    .dataframe tbody tr th:only-of-type {\n",
              "        vertical-align: middle;\n",
              "    }\n",
              "\n",
              "    .dataframe tbody tr th {\n",
              "        vertical-align: top;\n",
              "    }\n",
              "\n",
              "    .dataframe thead th {\n",
              "        text-align: right;\n",
              "    }\n",
              "</style>\n",
              "<table border=\"1\" class=\"dataframe\">\n",
              "  <thead>\n",
              "    <tr style=\"text-align: right;\">\n",
              "      <th></th>\n",
              "      <th>name</th>\n",
              "    </tr>\n",
              "  </thead>\n",
              "  <tbody>\n",
              "    <tr>\n",
              "      <th>0</th>\n",
              "      <td>Аналитик хранилищ данных и BI-систем/Аналитик ...</td>\n",
              "    </tr>\n",
              "    <tr>\n",
              "      <th>1</th>\n",
              "      <td>Data-analysts (удаленно)</td>\n",
              "    </tr>\n",
              "    <tr>\n",
              "      <th>2</th>\n",
              "      <td>Стажер Data Engineer/Data Аналитик в команду Б...</td>\n",
              "    </tr>\n",
              "    <tr>\n",
              "      <th>3</th>\n",
              "      <td>Старший специалист хранилищ данных</td>\n",
              "    </tr>\n",
              "    <tr>\n",
              "      <th>4</th>\n",
              "      <td>Администратор баз данных и сетей</td>\n",
              "    </tr>\n",
              "    <tr>\n",
              "      <th>...</th>\n",
              "      <td>...</td>\n",
              "    </tr>\n",
              "    <tr>\n",
              "      <th>1766</th>\n",
              "      <td>Программист Delphi / разработчик баз данных</td>\n",
              "    </tr>\n",
              "    <tr>\n",
              "      <th>1767</th>\n",
              "      <td>Разработчик баз данных (Big Data)</td>\n",
              "    </tr>\n",
              "    <tr>\n",
              "      <th>1768</th>\n",
              "      <td>Аналитик данных</td>\n",
              "    </tr>\n",
              "    <tr>\n",
              "      <th>1769</th>\n",
              "      <td>Data аналитик /Аналитик BI (удаленно)</td>\n",
              "    </tr>\n",
              "    <tr>\n",
              "      <th>1770</th>\n",
              "      <td>DataOps Engineer</td>\n",
              "    </tr>\n",
              "  </tbody>\n",
              "</table>\n",
              "<p>1771 rows × 1 columns</p>\n",
              "</div>"
            ],
            "text/plain": [
              "                                                   name\n",
              "0     Аналитик хранилищ данных и BI-систем/Аналитик ...\n",
              "1                              Data-analysts (удаленно)\n",
              "2     Стажер Data Engineer/Data Аналитик в команду Б...\n",
              "3                    Старший специалист хранилищ данных\n",
              "4                      Администратор баз данных и сетей\n",
              "...                                                 ...\n",
              "1766        Программист Delphi / разработчик баз данных\n",
              "1767                  Разработчик баз данных (Big Data)\n",
              "1768                                    Аналитик данных\n",
              "1769              Data аналитик /Аналитик BI (удаленно)\n",
              "1770                                   DataOps Engineer\n",
              "\n",
              "[1771 rows x 1 columns]"
            ]
          },
          "execution_count": 38,
          "metadata": {},
          "output_type": "execute_result"
        }
      ],
      "source": [
        "query_6_1 = ''' \n",
        "select\n",
        "    name\n",
        "from\n",
        "    vacancies\n",
        "where \n",
        "    lower(name) like '%data%' \n",
        "    or \n",
        "    lower(name) like '%данн%'\n",
        "'''\n",
        "\n",
        "Data_Vac = pd.read_sql_query(query_6_1, connection)\n",
        "Data_Vac"
      ]
    },
    {
      "cell_type": "markdown",
      "id": "4dea20cb-a36b-474a-a0b9-e08e8e3857a5",
      "metadata": {
        "id": "4dea20cb-a36b-474a-a0b9-e08e8e3857a5"
      },
      "source": [
        "2. Сколько есть подходящих вакансий для начинающего дата-сайентиста? \n",
        "Будем считать вакансиями для дата-сайентистов такие, в названии которых есть хотя бы одно из следующих сочетаний:\n",
        "* 'data scientist'\n",
        "* 'data science'\n",
        "* 'исследователь данных'\n",
        "* 'ML' (здесь не нужно брать вакансии по HTML)\n",
        "* 'machine learning'\n",
        "* 'машинн%обучен%'\n",
        "\n",
        "** В следующих заданиях мы продолжим работать с вакансиями по этому условию.*\n",
        "\n",
        "Считаем вакансиями для специалистов уровня Junior следующие:\n",
        "* в названии есть слово 'junior' *или*\n",
        "* требуемый опыт — Нет опыта *или*\n",
        "* тип трудоустройства — Стажировка.\n",
        " "
      ]
    },
    {
      "cell_type": "code",
      "execution_count": 39,
      "id": "9c61b3c0-bb66-46c9-ae1e-81d3f5752b4a",
      "metadata": {
        "id": "9c61b3c0-bb66-46c9-ae1e-81d3f5752b4a"
      },
      "outputs": [],
      "source": [
        "query_6_2 = ''' \n",
        "select\n",
        "    name,\n",
        "    experience,\n",
        "    employment\n",
        "    \n",
        "from\n",
        "    vacancies\n",
        "    \n",
        "where \n",
        "    (lower(name) like 'ml%'or\n",
        "     lower(name) like '% ml%'or\n",
        "     lower(name) like '%-ml%'or\n",
        "     lower(name) like '%/ml%'or\n",
        "     lower(name) like '%(ml%'or\n",
        "     \n",
        "        \n",
        "     lower(name) like '%data scientist%' or \n",
        "     lower(name) like '%data science%' or \n",
        "     lower(name) like '%исследователь данных%' or\n",
        "     lower(name) like '%machine learning%' or \n",
        "     lower(name) like '%машинн%обучен%')\n",
        "     \n",
        "    and\n",
        "    \n",
        "    (lower(name) like '%junior%' or \n",
        "     employment like 'Cтажировка' or\n",
        "     experience like 'Нет опыта')\n",
        "'''\n"
      ]
    },
    {
      "cell_type": "code",
      "execution_count": 40,
      "id": "ZNM-LLYuu1dj",
      "metadata": {
        "id": "ZNM-LLYuu1dj"
      },
      "outputs": [
        {
          "data": {
            "application/vnd.microsoft.datawrangler.viewer.v0+json": {
              "columns": [
                {
                  "name": "index",
                  "rawType": "int64",
                  "type": "integer"
                },
                {
                  "name": "name",
                  "rawType": "object",
                  "type": "string"
                },
                {
                  "name": "experience",
                  "rawType": "object",
                  "type": "string"
                },
                {
                  "name": "employment",
                  "rawType": "object",
                  "type": "string"
                }
              ],
              "conversionMethod": "pd.DataFrame",
              "ref": "ad91d8e6-2927-4b51-a456-1429e97c4e3a",
              "rows": [
                [
                  "0",
                  "Junior+ CV/ML developer",
                  "От 1 года до 3 лет",
                  "Полная занятость"
                ],
                [
                  "1",
                  "Data Scientist (Junior+)",
                  "От 1 года до 3 лет",
                  "Полная занятость"
                ],
                [
                  "2",
                  "Junior Data Scientist (Стажер)",
                  "Нет опыта",
                  "Стажировка"
                ],
                [
                  "3",
                  "Математик, Junior/Middle/Senior Data Scientist",
                  "От 1 года до 3 лет",
                  "Частичная занятость"
                ],
                [
                  "4",
                  "Data Scientist/Machine Learning Engineer (Developer)",
                  "Нет опыта",
                  "Частичная занятость"
                ],
                [
                  "5",
                  "Junior Data Scientist",
                  "Нет опыта",
                  "Полная занятость"
                ],
                [
                  "6",
                  "Data Scientist (Junior)",
                  "Нет опыта",
                  "Частичная занятость"
                ],
                [
                  "7",
                  "Intern/Junior Data Scientist",
                  "Нет опыта",
                  "Стажировка"
                ],
                [
                  "8",
                  "Junior Data Scientist (VK)",
                  "От 1 года до 3 лет",
                  "Полная занятость"
                ],
                [
                  "9",
                  "Junior/Middle Data Scientist",
                  "От 1 года до 3 лет",
                  "Полная занятость"
                ],
                [
                  "10",
                  "Data Scientist (Computer Vision) - Junior",
                  "Нет опыта",
                  "Полная занятость"
                ],
                [
                  "11",
                  "Исследователь в области машинного обучения и математического моделирования",
                  "Нет опыта",
                  "Полная занятость"
                ],
                [
                  "12",
                  "Data Scientist, Junior",
                  "Нет опыта",
                  "Полная занятость"
                ],
                [
                  "13",
                  "Математик-аналитик (data scientist / data analyst)",
                  "Нет опыта",
                  "Полная занятость"
                ],
                [
                  "14",
                  "Junior Data Scientist Управления модельных рисков и валидации",
                  "От 1 года до 3 лет",
                  "Полная занятость"
                ],
                [
                  "15",
                  "Data Scientist (junior+/middle)",
                  "От 1 года до 3 лет",
                  "Полная занятость"
                ],
                [
                  "16",
                  "Junior Data Scientist",
                  "От 1 года до 3 лет",
                  "Полная занятость"
                ],
                [
                  "17",
                  "Research Engineer / Data Scientist",
                  "Нет опыта",
                  "Полная занятость"
                ],
                [
                  "18",
                  "Стажёр Data Scientist / Группа сервисов Антифрод / Антибот",
                  "Нет опыта",
                  "Стажировка"
                ],
                [
                  "19",
                  "Стажер направления Машинное обучение и анализ данных",
                  "Нет опыта",
                  "Стажировка"
                ],
                [
                  "20",
                  "Junior Data Scientist",
                  "От 1 года до 3 лет",
                  "Полная занятость"
                ],
                [
                  "21",
                  "Ведущий AI/ML инженер",
                  "Нет опыта",
                  "Полная занятость"
                ],
                [
                  "22",
                  "Senior Research Engineer / Data Scientist",
                  "Нет опыта",
                  "Полная занятость"
                ],
                [
                  "23",
                  "Data scientist (Junior/Middle) в консалтинг",
                  "Нет опыта",
                  "Полная занятость"
                ],
                [
                  "24",
                  "Data Scientist/Machine Learning Engineer (Developer)",
                  "Нет опыта",
                  "Частичная занятость"
                ],
                [
                  "25",
                  "Junior Data Scientist (математик-аналитик) удаленно",
                  "От 1 года до 3 лет",
                  "Полная занятость"
                ],
                [
                  "26",
                  "Junior Data Scientist (Promo Forecast)",
                  "От 1 года до 3 лет",
                  "Полная занятость"
                ],
                [
                  "27",
                  "Data Scientist/Machine Learning Engineer (Developer)",
                  "Нет опыта",
                  "Частичная занятость"
                ],
                [
                  "28",
                  "Data Scientist в Сбер",
                  "Нет опыта",
                  "Полная занятость"
                ],
                [
                  "29",
                  "Data Scientist/ML engineer (Python/C++)",
                  "Нет опыта",
                  "Полная занятость"
                ],
                [
                  "30",
                  "Junior Data Scientist (Валидация скоринговых моделей)",
                  "От 1 года до 3 лет",
                  "Полная занятость"
                ],
                [
                  "31",
                  "Junior Data Scientist (Валидация скоринговых моделей)",
                  "От 1 года до 3 лет",
                  "Полная занятость"
                ],
                [
                  "32",
                  "Junior Data Scientist (Валидация скоринговых моделей)",
                  "От 1 года до 3 лет",
                  "Полная занятость"
                ],
                [
                  "33",
                  "Junior Data Scientist (Валидация скоринговых моделей)",
                  "От 1 года до 3 лет",
                  "Полная занятость"
                ],
                [
                  "34",
                  "Junior Data Scientist (Валидация скоринговых моделей)",
                  "От 1 года до 3 лет",
                  "Полная занятость"
                ],
                [
                  "35",
                  "Junior Data Scientist (Валидация скоринговых моделей)",
                  "От 1 года до 3 лет",
                  "Полная занятость"
                ],
                [
                  "36",
                  "Junior Data Scientist (Валидация скоринговых моделей)",
                  "От 1 года до 3 лет",
                  "Полная занятость"
                ],
                [
                  "37",
                  "Junior Data Scientist (Валидация скоринговых моделей)",
                  "От 1 года до 3 лет",
                  "Полная занятость"
                ],
                [
                  "38",
                  "Junior Data Scientist (Валидация скоринговых моделей)",
                  "От 1 года до 3 лет",
                  "Полная занятость"
                ],
                [
                  "39",
                  "Риск - Аналитик (Junior Data scientist)",
                  "От 1 года до 3 лет",
                  "Полная занятость"
                ],
                [
                  "40",
                  "Программист Python/ Data Scientist (junior / middle уровень)",
                  "Нет опыта",
                  "Полная занятость"
                ],
                [
                  "41",
                  "Риск-аналитик (ML Engineer / Data Scientist)",
                  "Нет опыта",
                  "Полная занятость"
                ],
                [
                  "42",
                  "Junior Data scientist/ Младший риск-аналитик",
                  "От 1 года до 3 лет",
                  "Полная занятость"
                ],
                [
                  "43",
                  "Senior Data Scientist (AI)",
                  "Нет опыта",
                  "Полная занятость"
                ],
                [
                  "44",
                  "Junior Data Scientist for NLP (Python)",
                  "Нет опыта",
                  "Полная занятость"
                ],
                [
                  "45",
                  "Junior Research Engineer / Data Scientist",
                  "От 1 года до 3 лет",
                  "Полная занятость"
                ],
                [
                  "46",
                  "Python developer / Junior ML engineer",
                  "Нет опыта",
                  "Полная занятость"
                ],
                [
                  "47",
                  "Ведущий AI/ML инженер",
                  "Нет опыта",
                  "Полная занятость"
                ],
                [
                  "48",
                  "Data Scientist",
                  "Нет опыта",
                  "Полная занятость"
                ],
                [
                  "49",
                  "Data Scientist, Junior",
                  "Нет опыта",
                  "Полная занятость"
                ]
              ],
              "shape": {
                "columns": 3,
                "rows": 51
              }
            },
            "text/html": [
              "<div>\n",
              "<style scoped>\n",
              "    .dataframe tbody tr th:only-of-type {\n",
              "        vertical-align: middle;\n",
              "    }\n",
              "\n",
              "    .dataframe tbody tr th {\n",
              "        vertical-align: top;\n",
              "    }\n",
              "\n",
              "    .dataframe thead th {\n",
              "        text-align: right;\n",
              "    }\n",
              "</style>\n",
              "<table border=\"1\" class=\"dataframe\">\n",
              "  <thead>\n",
              "    <tr style=\"text-align: right;\">\n",
              "      <th></th>\n",
              "      <th>name</th>\n",
              "      <th>experience</th>\n",
              "      <th>employment</th>\n",
              "    </tr>\n",
              "  </thead>\n",
              "  <tbody>\n",
              "    <tr>\n",
              "      <th>0</th>\n",
              "      <td>Junior+ CV/ML developer</td>\n",
              "      <td>От 1 года до 3 лет</td>\n",
              "      <td>Полная занятость</td>\n",
              "    </tr>\n",
              "    <tr>\n",
              "      <th>1</th>\n",
              "      <td>Data Scientist (Junior+)</td>\n",
              "      <td>От 1 года до 3 лет</td>\n",
              "      <td>Полная занятость</td>\n",
              "    </tr>\n",
              "    <tr>\n",
              "      <th>2</th>\n",
              "      <td>Junior Data Scientist (Стажер)</td>\n",
              "      <td>Нет опыта</td>\n",
              "      <td>Стажировка</td>\n",
              "    </tr>\n",
              "    <tr>\n",
              "      <th>3</th>\n",
              "      <td>Математик, Junior/Middle/Senior Data Scientist</td>\n",
              "      <td>От 1 года до 3 лет</td>\n",
              "      <td>Частичная занятость</td>\n",
              "    </tr>\n",
              "    <tr>\n",
              "      <th>4</th>\n",
              "      <td>Data Scientist/Machine Learning Engineer (Deve...</td>\n",
              "      <td>Нет опыта</td>\n",
              "      <td>Частичная занятость</td>\n",
              "    </tr>\n",
              "    <tr>\n",
              "      <th>5</th>\n",
              "      <td>Junior Data Scientist</td>\n",
              "      <td>Нет опыта</td>\n",
              "      <td>Полная занятость</td>\n",
              "    </tr>\n",
              "    <tr>\n",
              "      <th>6</th>\n",
              "      <td>Data Scientist (Junior)</td>\n",
              "      <td>Нет опыта</td>\n",
              "      <td>Частичная занятость</td>\n",
              "    </tr>\n",
              "    <tr>\n",
              "      <th>7</th>\n",
              "      <td>Intern/Junior Data Scientist</td>\n",
              "      <td>Нет опыта</td>\n",
              "      <td>Стажировка</td>\n",
              "    </tr>\n",
              "    <tr>\n",
              "      <th>8</th>\n",
              "      <td>Junior Data Scientist (VK)</td>\n",
              "      <td>От 1 года до 3 лет</td>\n",
              "      <td>Полная занятость</td>\n",
              "    </tr>\n",
              "    <tr>\n",
              "      <th>9</th>\n",
              "      <td>Junior/Middle Data Scientist</td>\n",
              "      <td>От 1 года до 3 лет</td>\n",
              "      <td>Полная занятость</td>\n",
              "    </tr>\n",
              "    <tr>\n",
              "      <th>10</th>\n",
              "      <td>Data Scientist (Computer Vision) - Junior</td>\n",
              "      <td>Нет опыта</td>\n",
              "      <td>Полная занятость</td>\n",
              "    </tr>\n",
              "    <tr>\n",
              "      <th>11</th>\n",
              "      <td>Исследователь в области машинного обучения и м...</td>\n",
              "      <td>Нет опыта</td>\n",
              "      <td>Полная занятость</td>\n",
              "    </tr>\n",
              "    <tr>\n",
              "      <th>12</th>\n",
              "      <td>Data Scientist, Junior</td>\n",
              "      <td>Нет опыта</td>\n",
              "      <td>Полная занятость</td>\n",
              "    </tr>\n",
              "    <tr>\n",
              "      <th>13</th>\n",
              "      <td>Математик-аналитик (data scientist / data anal...</td>\n",
              "      <td>Нет опыта</td>\n",
              "      <td>Полная занятость</td>\n",
              "    </tr>\n",
              "    <tr>\n",
              "      <th>14</th>\n",
              "      <td>Junior Data Scientist Управления модельных рис...</td>\n",
              "      <td>От 1 года до 3 лет</td>\n",
              "      <td>Полная занятость</td>\n",
              "    </tr>\n",
              "    <tr>\n",
              "      <th>15</th>\n",
              "      <td>Data Scientist (junior+/middle)</td>\n",
              "      <td>От 1 года до 3 лет</td>\n",
              "      <td>Полная занятость</td>\n",
              "    </tr>\n",
              "    <tr>\n",
              "      <th>16</th>\n",
              "      <td>Junior Data Scientist</td>\n",
              "      <td>От 1 года до 3 лет</td>\n",
              "      <td>Полная занятость</td>\n",
              "    </tr>\n",
              "    <tr>\n",
              "      <th>17</th>\n",
              "      <td>Research Engineer / Data Scientist</td>\n",
              "      <td>Нет опыта</td>\n",
              "      <td>Полная занятость</td>\n",
              "    </tr>\n",
              "    <tr>\n",
              "      <th>18</th>\n",
              "      <td>Стажёр Data Scientist / Группа сервисов Антифр...</td>\n",
              "      <td>Нет опыта</td>\n",
              "      <td>Стажировка</td>\n",
              "    </tr>\n",
              "    <tr>\n",
              "      <th>19</th>\n",
              "      <td>Стажер направления Машинное обучение и анализ ...</td>\n",
              "      <td>Нет опыта</td>\n",
              "      <td>Стажировка</td>\n",
              "    </tr>\n",
              "    <tr>\n",
              "      <th>20</th>\n",
              "      <td>Junior Data Scientist</td>\n",
              "      <td>От 1 года до 3 лет</td>\n",
              "      <td>Полная занятость</td>\n",
              "    </tr>\n",
              "    <tr>\n",
              "      <th>21</th>\n",
              "      <td>Ведущий AI/ML инженер</td>\n",
              "      <td>Нет опыта</td>\n",
              "      <td>Полная занятость</td>\n",
              "    </tr>\n",
              "    <tr>\n",
              "      <th>22</th>\n",
              "      <td>Senior Research Engineer / Data Scientist</td>\n",
              "      <td>Нет опыта</td>\n",
              "      <td>Полная занятость</td>\n",
              "    </tr>\n",
              "    <tr>\n",
              "      <th>23</th>\n",
              "      <td>Data scientist (Junior/Middle) в консалтинг</td>\n",
              "      <td>Нет опыта</td>\n",
              "      <td>Полная занятость</td>\n",
              "    </tr>\n",
              "    <tr>\n",
              "      <th>24</th>\n",
              "      <td>Data Scientist/Machine Learning Engineer (Deve...</td>\n",
              "      <td>Нет опыта</td>\n",
              "      <td>Частичная занятость</td>\n",
              "    </tr>\n",
              "    <tr>\n",
              "      <th>25</th>\n",
              "      <td>Junior Data Scientist (математик-аналитик) уда...</td>\n",
              "      <td>От 1 года до 3 лет</td>\n",
              "      <td>Полная занятость</td>\n",
              "    </tr>\n",
              "    <tr>\n",
              "      <th>26</th>\n",
              "      <td>Junior Data Scientist (Promo Forecast)</td>\n",
              "      <td>От 1 года до 3 лет</td>\n",
              "      <td>Полная занятость</td>\n",
              "    </tr>\n",
              "    <tr>\n",
              "      <th>27</th>\n",
              "      <td>Data Scientist/Machine Learning Engineer (Deve...</td>\n",
              "      <td>Нет опыта</td>\n",
              "      <td>Частичная занятость</td>\n",
              "    </tr>\n",
              "    <tr>\n",
              "      <th>28</th>\n",
              "      <td>Data Scientist в Сбер</td>\n",
              "      <td>Нет опыта</td>\n",
              "      <td>Полная занятость</td>\n",
              "    </tr>\n",
              "    <tr>\n",
              "      <th>29</th>\n",
              "      <td>Data Scientist/ML engineer (Python/C++)</td>\n",
              "      <td>Нет опыта</td>\n",
              "      <td>Полная занятость</td>\n",
              "    </tr>\n",
              "    <tr>\n",
              "      <th>30</th>\n",
              "      <td>Junior Data Scientist (Валидация скоринговых м...</td>\n",
              "      <td>От 1 года до 3 лет</td>\n",
              "      <td>Полная занятость</td>\n",
              "    </tr>\n",
              "    <tr>\n",
              "      <th>31</th>\n",
              "      <td>Junior Data Scientist (Валидация скоринговых м...</td>\n",
              "      <td>От 1 года до 3 лет</td>\n",
              "      <td>Полная занятость</td>\n",
              "    </tr>\n",
              "    <tr>\n",
              "      <th>32</th>\n",
              "      <td>Junior Data Scientist (Валидация скоринговых м...</td>\n",
              "      <td>От 1 года до 3 лет</td>\n",
              "      <td>Полная занятость</td>\n",
              "    </tr>\n",
              "    <tr>\n",
              "      <th>33</th>\n",
              "      <td>Junior Data Scientist (Валидация скоринговых м...</td>\n",
              "      <td>От 1 года до 3 лет</td>\n",
              "      <td>Полная занятость</td>\n",
              "    </tr>\n",
              "    <tr>\n",
              "      <th>34</th>\n",
              "      <td>Junior Data Scientist (Валидация скоринговых м...</td>\n",
              "      <td>От 1 года до 3 лет</td>\n",
              "      <td>Полная занятость</td>\n",
              "    </tr>\n",
              "    <tr>\n",
              "      <th>35</th>\n",
              "      <td>Junior Data Scientist (Валидация скоринговых м...</td>\n",
              "      <td>От 1 года до 3 лет</td>\n",
              "      <td>Полная занятость</td>\n",
              "    </tr>\n",
              "    <tr>\n",
              "      <th>36</th>\n",
              "      <td>Junior Data Scientist (Валидация скоринговых м...</td>\n",
              "      <td>От 1 года до 3 лет</td>\n",
              "      <td>Полная занятость</td>\n",
              "    </tr>\n",
              "    <tr>\n",
              "      <th>37</th>\n",
              "      <td>Junior Data Scientist (Валидация скоринговых м...</td>\n",
              "      <td>От 1 года до 3 лет</td>\n",
              "      <td>Полная занятость</td>\n",
              "    </tr>\n",
              "    <tr>\n",
              "      <th>38</th>\n",
              "      <td>Junior Data Scientist (Валидация скоринговых м...</td>\n",
              "      <td>От 1 года до 3 лет</td>\n",
              "      <td>Полная занятость</td>\n",
              "    </tr>\n",
              "    <tr>\n",
              "      <th>39</th>\n",
              "      <td>Риск - Аналитик (Junior Data scientist)</td>\n",
              "      <td>От 1 года до 3 лет</td>\n",
              "      <td>Полная занятость</td>\n",
              "    </tr>\n",
              "    <tr>\n",
              "      <th>40</th>\n",
              "      <td>Программист Python/ Data Scientist (junior / m...</td>\n",
              "      <td>Нет опыта</td>\n",
              "      <td>Полная занятость</td>\n",
              "    </tr>\n",
              "    <tr>\n",
              "      <th>41</th>\n",
              "      <td>Риск-аналитик (ML Engineer / Data Scientist)</td>\n",
              "      <td>Нет опыта</td>\n",
              "      <td>Полная занятость</td>\n",
              "    </tr>\n",
              "    <tr>\n",
              "      <th>42</th>\n",
              "      <td>Junior Data scientist/ Младший риск-аналитик</td>\n",
              "      <td>От 1 года до 3 лет</td>\n",
              "      <td>Полная занятость</td>\n",
              "    </tr>\n",
              "    <tr>\n",
              "      <th>43</th>\n",
              "      <td>Senior Data Scientist (AI)</td>\n",
              "      <td>Нет опыта</td>\n",
              "      <td>Полная занятость</td>\n",
              "    </tr>\n",
              "    <tr>\n",
              "      <th>44</th>\n",
              "      <td>Junior Data Scientist for NLP (Python)</td>\n",
              "      <td>Нет опыта</td>\n",
              "      <td>Полная занятость</td>\n",
              "    </tr>\n",
              "    <tr>\n",
              "      <th>45</th>\n",
              "      <td>Junior Research Engineer / Data Scientist</td>\n",
              "      <td>От 1 года до 3 лет</td>\n",
              "      <td>Полная занятость</td>\n",
              "    </tr>\n",
              "    <tr>\n",
              "      <th>46</th>\n",
              "      <td>Python developer / Junior ML engineer</td>\n",
              "      <td>Нет опыта</td>\n",
              "      <td>Полная занятость</td>\n",
              "    </tr>\n",
              "    <tr>\n",
              "      <th>47</th>\n",
              "      <td>Ведущий AI/ML инженер</td>\n",
              "      <td>Нет опыта</td>\n",
              "      <td>Полная занятость</td>\n",
              "    </tr>\n",
              "    <tr>\n",
              "      <th>48</th>\n",
              "      <td>Data Scientist</td>\n",
              "      <td>Нет опыта</td>\n",
              "      <td>Полная занятость</td>\n",
              "    </tr>\n",
              "    <tr>\n",
              "      <th>49</th>\n",
              "      <td>Data Scientist, Junior</td>\n",
              "      <td>Нет опыта</td>\n",
              "      <td>Полная занятость</td>\n",
              "    </tr>\n",
              "    <tr>\n",
              "      <th>50</th>\n",
              "      <td>Data Scientist (Computer Vision) / Junior</td>\n",
              "      <td>Нет опыта</td>\n",
              "      <td>Полная занятость</td>\n",
              "    </tr>\n",
              "  </tbody>\n",
              "</table>\n",
              "</div>"
            ],
            "text/plain": [
              "                                                 name          experience  \\\n",
              "0                             Junior+ CV/ML developer  От 1 года до 3 лет   \n",
              "1                            Data Scientist (Junior+)  От 1 года до 3 лет   \n",
              "2                      Junior Data Scientist (Стажер)           Нет опыта   \n",
              "3      Математик, Junior/Middle/Senior Data Scientist  От 1 года до 3 лет   \n",
              "4   Data Scientist/Machine Learning Engineer (Deve...           Нет опыта   \n",
              "5                               Junior Data Scientist           Нет опыта   \n",
              "6                             Data Scientist (Junior)           Нет опыта   \n",
              "7                        Intern/Junior Data Scientist           Нет опыта   \n",
              "8                          Junior Data Scientist (VK)  От 1 года до 3 лет   \n",
              "9                        Junior/Middle Data Scientist  От 1 года до 3 лет   \n",
              "10          Data Scientist (Computer Vision) - Junior           Нет опыта   \n",
              "11  Исследователь в области машинного обучения и м...           Нет опыта   \n",
              "12                             Data Scientist, Junior           Нет опыта   \n",
              "13  Математик-аналитик (data scientist / data anal...           Нет опыта   \n",
              "14  Junior Data Scientist Управления модельных рис...  От 1 года до 3 лет   \n",
              "15                    Data Scientist (junior+/middle)  От 1 года до 3 лет   \n",
              "16                              Junior Data Scientist  От 1 года до 3 лет   \n",
              "17                 Research Engineer / Data Scientist           Нет опыта   \n",
              "18  Стажёр Data Scientist / Группа сервисов Антифр...           Нет опыта   \n",
              "19  Стажер направления Машинное обучение и анализ ...           Нет опыта   \n",
              "20                              Junior Data Scientist  От 1 года до 3 лет   \n",
              "21                              Ведущий AI/ML инженер           Нет опыта   \n",
              "22          Senior Research Engineer / Data Scientist           Нет опыта   \n",
              "23        Data scientist (Junior/Middle) в консалтинг           Нет опыта   \n",
              "24  Data Scientist/Machine Learning Engineer (Deve...           Нет опыта   \n",
              "25  Junior Data Scientist (математик-аналитик) уда...  От 1 года до 3 лет   \n",
              "26             Junior Data Scientist (Promo Forecast)  От 1 года до 3 лет   \n",
              "27  Data Scientist/Machine Learning Engineer (Deve...           Нет опыта   \n",
              "28                              Data Scientist в Сбер           Нет опыта   \n",
              "29            Data Scientist/ML engineer (Python/C++)           Нет опыта   \n",
              "30  Junior Data Scientist (Валидация скоринговых м...  От 1 года до 3 лет   \n",
              "31  Junior Data Scientist (Валидация скоринговых м...  От 1 года до 3 лет   \n",
              "32  Junior Data Scientist (Валидация скоринговых м...  От 1 года до 3 лет   \n",
              "33  Junior Data Scientist (Валидация скоринговых м...  От 1 года до 3 лет   \n",
              "34  Junior Data Scientist (Валидация скоринговых м...  От 1 года до 3 лет   \n",
              "35  Junior Data Scientist (Валидация скоринговых м...  От 1 года до 3 лет   \n",
              "36  Junior Data Scientist (Валидация скоринговых м...  От 1 года до 3 лет   \n",
              "37  Junior Data Scientist (Валидация скоринговых м...  От 1 года до 3 лет   \n",
              "38  Junior Data Scientist (Валидация скоринговых м...  От 1 года до 3 лет   \n",
              "39            Риск - Аналитик (Junior Data scientist)  От 1 года до 3 лет   \n",
              "40  Программист Python/ Data Scientist (junior / m...           Нет опыта   \n",
              "41       Риск-аналитик (ML Engineer / Data Scientist)           Нет опыта   \n",
              "42       Junior Data scientist/ Младший риск-аналитик  От 1 года до 3 лет   \n",
              "43                         Senior Data Scientist (AI)           Нет опыта   \n",
              "44             Junior Data Scientist for NLP (Python)           Нет опыта   \n",
              "45          Junior Research Engineer / Data Scientist  От 1 года до 3 лет   \n",
              "46              Python developer / Junior ML engineer           Нет опыта   \n",
              "47                              Ведущий AI/ML инженер           Нет опыта   \n",
              "48                                     Data Scientist           Нет опыта   \n",
              "49                             Data Scientist, Junior           Нет опыта   \n",
              "50          Data Scientist (Computer Vision) / Junior           Нет опыта   \n",
              "\n",
              "             employment  \n",
              "0      Полная занятость  \n",
              "1      Полная занятость  \n",
              "2            Стажировка  \n",
              "3   Частичная занятость  \n",
              "4   Частичная занятость  \n",
              "5      Полная занятость  \n",
              "6   Частичная занятость  \n",
              "7            Стажировка  \n",
              "8      Полная занятость  \n",
              "9      Полная занятость  \n",
              "10     Полная занятость  \n",
              "11     Полная занятость  \n",
              "12     Полная занятость  \n",
              "13     Полная занятость  \n",
              "14     Полная занятость  \n",
              "15     Полная занятость  \n",
              "16     Полная занятость  \n",
              "17     Полная занятость  \n",
              "18           Стажировка  \n",
              "19           Стажировка  \n",
              "20     Полная занятость  \n",
              "21     Полная занятость  \n",
              "22     Полная занятость  \n",
              "23     Полная занятость  \n",
              "24  Частичная занятость  \n",
              "25     Полная занятость  \n",
              "26     Полная занятость  \n",
              "27  Частичная занятость  \n",
              "28     Полная занятость  \n",
              "29     Полная занятость  \n",
              "30     Полная занятость  \n",
              "31     Полная занятость  \n",
              "32     Полная занятость  \n",
              "33     Полная занятость  \n",
              "34     Полная занятость  \n",
              "35     Полная занятость  \n",
              "36     Полная занятость  \n",
              "37     Полная занятость  \n",
              "38     Полная занятость  \n",
              "39     Полная занятость  \n",
              "40     Полная занятость  \n",
              "41     Полная занятость  \n",
              "42     Полная занятость  \n",
              "43     Полная занятость  \n",
              "44     Полная занятость  \n",
              "45     Полная занятость  \n",
              "46     Полная занятость  \n",
              "47     Полная занятость  \n",
              "48     Полная занятость  \n",
              "49     Полная занятость  \n",
              "50     Полная занятость  "
            ]
          },
          "execution_count": 40,
          "metadata": {},
          "output_type": "execute_result"
        }
      ],
      "source": [
        "Data_Vac_Jun = pd.read_sql_query(query_6_2, connection)\n",
        "Data_Vac_Jun"
      ]
    },
    {
      "cell_type": "markdown",
      "id": "eedceb80-c5ca-480e-b27a-278dfb8b4438",
      "metadata": {
        "id": "eedceb80-c5ca-480e-b27a-278dfb8b4438"
      },
      "source": [
        "3. Сколько есть вакансий для DS, в которых в качестве ключевого навыка указан SQL или postgres?\n",
        "\n",
        "** Критерии для отнесения вакансии к DS указаны в предыдущем задании.*"
      ]
    },
    {
      "cell_type": "code",
      "execution_count": 41,
      "id": "69621713-0cc5-4f1b-a1d7-bb144fa6148c",
      "metadata": {
        "id": "69621713-0cc5-4f1b-a1d7-bb144fa6148c"
      },
      "outputs": [],
      "source": [
        "query_6_3 = ''' \n",
        "select \n",
        "    id,\n",
        "    name,\n",
        "    key_skills\n",
        "\n",
        "from \n",
        "    vacancies\n",
        "\n",
        "where \n",
        "    ((name ilike '%ML%' and name not ilike '%HTML%') or\n",
        "        \n",
        "    (lower(name) like '%data scientist%') or \n",
        "    (lower(name) like '%data science%') or\n",
        "    (lower(name) like '%исследователь данных%') or\n",
        "    (lower(name) like '%machine learning%') or\n",
        "    (lower(name) like '%машинн%обучен%') and \n",
        "    \n",
        "    (key_skills IS NOT NULL))\n",
        "\n",
        "    AND\n",
        "    \n",
        "    (key_skills like '%SQL%' or key_skills ilike '%postgres%')\n",
        "\n",
        "order by name\n",
        "    \n",
        "'''\n"
      ]
    },
    {
      "cell_type": "code",
      "execution_count": 42,
      "id": "be935bdd",
      "metadata": {},
      "outputs": [
        {
          "data": {
            "application/vnd.microsoft.datawrangler.viewer.v0+json": {
              "columns": [
                {
                  "name": "index",
                  "rawType": "int64",
                  "type": "integer"
                },
                {
                  "name": "id",
                  "rawType": "int64",
                  "type": "integer"
                },
                {
                  "name": "name",
                  "rawType": "object",
                  "type": "string"
                },
                {
                  "name": "key_skills",
                  "rawType": "object",
                  "type": "string"
                }
              ],
              "conversionMethod": "pd.DataFrame",
              "ref": "164b478b-169e-4226-8164-52e463d0b3fb",
              "rows": [
                [
                  "0",
                  "54593096",
                  "Analyst/Data Scientist",
                  "Английский язык\tНавыки презентации\tСбор и анализ информации\tАнализ данных\tBig Data\tGoogle Sheets\tPython\tData Mining\tPower Pivot\tPower BI\tData Analysis\tData Science\tАналитические исследования\tАналитическое мышление\tSQL"
                ],
                [
                  "1",
                  "54686859",
                  "B2B Data Scientist (Эксперт по моделированию и анализу данных) Senior/Middle",
                  "Python\tSQL\tPostgreSQL\tGit\tАнглийский язык"
                ],
                [
                  "2",
                  "51834014",
                  "Backend- разработчик (Middle/Senior-TeamLeader)",
                  "JavaScript\tMySQL\tОбучение и развитие\tУправление персоналом\tPHP\tMVC\tReact\tVue"
                ],
                [
                  "3",
                  "54759229",
                  "Chief Data Science (Цифровой кредитный мониторинг)",
                  "Python\tSpark\tHadoop\tSQL\tBig Data"
                ],
                [
                  "4",
                  "55048457",
                  "Commercial Data Scientist / Эксперт по наукоемким методам анализа данных в сфере маркетинга и продаж",
                  "Python\tData Analysis\tMachine Learning\tTensorflow\tKeras\tSQL\tMarket Research\tDeep Learning\tBusiness Analysis"
                ],
                [
                  "5",
                  "52995746",
                  "C++ разработчик (QML)",
                  "ООП\tC++\tSQL"
                ],
                [
                  "6",
                  "54718893",
                  "Data Analyst/Data Scientist",
                  "SQL\tPython"
                ],
                [
                  "7",
                  "54724724",
                  "Data Engineer в команду Data Science Блока «Сеть Продаж»",
                  "Hadoop\tSpark\tSQL\tPython\tSCALA"
                ],
                [
                  "8",
                  "55135290",
                  "Data / ML Engineer (Персонализация)",
                  "Python\tSQL\tORACLE\tOracle Pl/SQL"
                ],
                [
                  "9",
                  "55135245",
                  "Data / ML Engineer (Персонализация)",
                  "Python\tSQL\tORACLE\tOracle Pl/SQL"
                ],
                [
                  "10",
                  "55135252",
                  "Data / ML Engineer (Персонализация)",
                  "Python\tSQL\tORACLE\tOracle Pl/SQL"
                ],
                [
                  "11",
                  "55127020",
                  "Data Science",
                  "Spark\tPython\tHadoop\tBig Data\tSCALA\tGreenplum\tNumpy\tSQL\tML\tPandas\tHive\tImpala\tOozie\tPyspark"
                ],
                [
                  "12",
                  "54984836",
                  "Data science engineer (MY.GAMES)",
                  "Python\tSQL\tПроверка гипотез\tСтатистика"
                ],
                [
                  "13",
                  "54823513",
                  "Data Science specialist",
                  "Python\tSQL\tМатематическая статистика\tML\tsklearn\tРабота в команде"
                ],
                [
                  "14",
                  "54845291",
                  "Data Science Team Lead",
                  "Python\tSQL\tData Analysis\tМатематическая статистика\tАнализ данных"
                ],
                [
                  "15",
                  "55120696",
                  "Data science инженер",
                  "SQL\tPython"
                ],
                [
                  "16",
                  "54545779",
                  "Data Science эксперт",
                  "Python\tСтатистический анализ\tSQL\tМатематическая статистика\tMachine Learning"
                ],
                [
                  "17",
                  "54978660",
                  "Data scientist",
                  "Python\tSQL\tМатематическая статистика\tСтатистический анализ\tСтатистика"
                ],
                [
                  "18",
                  "55863564",
                  "Data scientist",
                  "Python\tМатематическая статистика\tSQL\tPandas\tМашинное обучение"
                ],
                [
                  "19",
                  "54854359",
                  "Data scientist",
                  "Python\tSQL\tHadoop\tSpark\tBig Data\tМашинное обучение\tМатематическая статистика"
                ],
                [
                  "20",
                  "55117625",
                  "Data scientist",
                  "Python\tNLP\tMachine Learning\tPyTorch\tSQL"
                ],
                [
                  "21",
                  "55131650",
                  "Data scientist",
                  "Spark\tHadoop\tPython\tBig Data\tSCALA\tJava\tSQL\tGreenplum\tTeradata"
                ],
                [
                  "22",
                  "54559086",
                  "Data Scientist",
                  "Python\tSQL\tМатематическая статистика\tМатематическое моделирование\tBig Data\tMachine Learning\tJava\tИсследование данных"
                ],
                [
                  "23",
                  "55004418",
                  "Data Scientist",
                  "Python\tМатематическая статистика\tSQL\tMachine Learning"
                ],
                [
                  "24",
                  "55022964",
                  "Data Scientist",
                  "SCALA\tSQL\tМатематический анализ\tСтатистический анализ\tСтатистика\tМатематическое моделирование\tPandas"
                ],
                [
                  "25",
                  "55088164",
                  "Data Scientist",
                  "Linux\tPython\tSQL\tОбучение и развитие\tУмение принимать решения\tData Analysis\tBig Data\tHadoop"
                ],
                [
                  "26",
                  "55120847",
                  "Data Scientist",
                  "Python\tSQL\tData Mining\tАналитические исследования\tNLP"
                ],
                [
                  "27",
                  "55120846",
                  "Data Scientist",
                  "Python\tSQL\tData Mining\tАналитические исследования\tNLP"
                ],
                [
                  "28",
                  "54920334",
                  "Data Scientist",
                  "Python\tSQL\tLinux\tHadoop\tАнализ данных\tCatBoost\tMachine Learning\tData Science\tРекомендательные системы\tML\tАлгоритмы\tМашинное обучение\tMathematical Statistics\tМатематический анализ\tData Analysis\tНейросети\tГрадиентный бустинг"
                ],
                [
                  "29",
                  "52466493",
                  "Data Scientist",
                  "Python\tMS SQL\tPandas\tВалидация моделей\tРозничный риск"
                ],
                [
                  "30",
                  "55144270",
                  "Data Scientist",
                  "Python\tData Mining\tSQL\tМатематическая статистика\tZepellin"
                ],
                [
                  "31",
                  "55327126",
                  "Data Scientist",
                  "SQL\tData Analysis\tdata science"
                ],
                [
                  "32",
                  "54824572",
                  "Data Scientist",
                  "Oracle Pl/SQL\tБазы данных\tMachine Learning\tМашинное обучение\tGit\tData science\tPython\tРабота с базами данных\tМатематические модели"
                ],
                [
                  "33",
                  "55351147",
                  "Data Scientist",
                  "Python\tSQL\tNLP\tScikit-learn\tMachine Learning"
                ],
                [
                  "34",
                  "55351168",
                  "Data Scientist",
                  "Python\tSQL\tNLP\tScikit-learn\tMachine Learning"
                ],
                [
                  "35",
                  "55351179",
                  "Data Scientist",
                  "Python\tSQL\tNLP\tScikit-learn\tMachine Learning"
                ],
                [
                  "36",
                  "55351195",
                  "Data Scientist",
                  "Python\tSQL\tNLP\tScikit-learn\tMachine Learning"
                ],
                [
                  "37",
                  "54689300",
                  "Data Scientist",
                  "Python\tGit\tTensorFlow\tKeras\tJupiter\tNLP\tSQL\tDataiku\tSpark\tMongoDB\tAzure"
                ],
                [
                  "38",
                  "66093837",
                  "Data Scientist",
                  "Python\tSQL\tsklearn\tpytorch\ttensorflow\tBI\tСтатистика\tА/Б тесты\tBigQuery\tEDA\tGit"
                ],
                [
                  "39",
                  "54570822",
                  "Data Scientist",
                  "Python\tАнглийский язык\tMachine Learning\tАнализ данных\tPandas\tАлгоритмы\tМатематическое моделирование\tSQL\tМашинное обучение\tБазы данных\tData Analysis\tData Science\tBig Data"
                ],
                [
                  "40",
                  "54961474",
                  "Data Scientist",
                  "Статистический анализ\tАналитическое мышление\tSQL\tМатематическая статистика\tАнализ данных"
                ],
                [
                  "41",
                  "55375909",
                  "Data Scientist",
                  "Python\tSQL\tMachine Learning\tJupyter Notebook\tPostgreSQL"
                ],
                [
                  "42",
                  "54895688",
                  "Data Scientist",
                  "Python\tSQL\tScikit-learn\tМатематическое моделирование\tМатематическая статистика\tPostgreSQL\tXGBoost\tWeb Speech API\tStanford Core NLP"
                ],
                [
                  "43",
                  "55120848",
                  "Data Scientist",
                  "Python\tSQL\tData Mining\tАналитические исследования\tNLP"
                ],
                [
                  "44",
                  "55120849",
                  "Data Scientist",
                  "Python\tSQL\tData Mining\tАналитические исследования\tNLP"
                ],
                [
                  "45",
                  "55120850",
                  "Data Scientist",
                  "Python\tSQL\tData Mining\tАналитические исследования\tNLP"
                ],
                [
                  "46",
                  "55120851",
                  "Data Scientist",
                  "Python\tSQL\tData Mining\tАналитические исследования\tNLP"
                ],
                [
                  "47",
                  "54979394",
                  "Data Scientist",
                  "Python\tLinux\tSQL\tДеловая переписка\tMachine Learning\tМатематическое моделирование\tML\tData Science\tBig Data"
                ],
                [
                  "48",
                  "54949393",
                  "Data Scientist",
                  "Python\tSpark\tSQL\tDocker\tMachine Learning\tkubernetes"
                ],
                [
                  "49",
                  "54761928",
                  "Data Scientist",
                  "SQL\tData Analysis\tdata science"
                ]
              ],
              "shape": {
                "columns": 3,
                "rows": 229
              }
            },
            "text/html": [
              "<div>\n",
              "<style scoped>\n",
              "    .dataframe tbody tr th:only-of-type {\n",
              "        vertical-align: middle;\n",
              "    }\n",
              "\n",
              "    .dataframe tbody tr th {\n",
              "        vertical-align: top;\n",
              "    }\n",
              "\n",
              "    .dataframe thead th {\n",
              "        text-align: right;\n",
              "    }\n",
              "</style>\n",
              "<table border=\"1\" class=\"dataframe\">\n",
              "  <thead>\n",
              "    <tr style=\"text-align: right;\">\n",
              "      <th></th>\n",
              "      <th>id</th>\n",
              "      <th>name</th>\n",
              "      <th>key_skills</th>\n",
              "    </tr>\n",
              "  </thead>\n",
              "  <tbody>\n",
              "    <tr>\n",
              "      <th>0</th>\n",
              "      <td>54593096</td>\n",
              "      <td>Analyst/Data Scientist</td>\n",
              "      <td>Английский язык\\tНавыки презентации\\tСбор и ан...</td>\n",
              "    </tr>\n",
              "    <tr>\n",
              "      <th>1</th>\n",
              "      <td>54686859</td>\n",
              "      <td>B2B Data Scientist (Эксперт по моделированию и...</td>\n",
              "      <td>Python\\tSQL\\tPostgreSQL\\tGit\\tАнглийский язык</td>\n",
              "    </tr>\n",
              "    <tr>\n",
              "      <th>2</th>\n",
              "      <td>51834014</td>\n",
              "      <td>Backend- разработчик (Middle/Senior-TeamLeader)</td>\n",
              "      <td>JavaScript\\tMySQL\\tОбучение и развитие\\tУправл...</td>\n",
              "    </tr>\n",
              "    <tr>\n",
              "      <th>3</th>\n",
              "      <td>54759229</td>\n",
              "      <td>Chief Data Science (Цифровой кредитный монитор...</td>\n",
              "      <td>Python\\tSpark\\tHadoop\\tSQL\\tBig Data</td>\n",
              "    </tr>\n",
              "    <tr>\n",
              "      <th>4</th>\n",
              "      <td>55048457</td>\n",
              "      <td>Commercial Data Scientist / Эксперт по наукоем...</td>\n",
              "      <td>Python\\tData Analysis\\tMachine Learning\\tTenso...</td>\n",
              "    </tr>\n",
              "    <tr>\n",
              "      <th>...</th>\n",
              "      <td>...</td>\n",
              "      <td>...</td>\n",
              "      <td>...</td>\n",
              "    </tr>\n",
              "    <tr>\n",
              "      <th>224</th>\n",
              "      <td>54671675</td>\n",
              "      <td>Специалист по разработке систем технического з...</td>\n",
              "      <td>Python\\tLinux\\tMongoDB\\tPostgreSQL</td>\n",
              "    </tr>\n",
              "    <tr>\n",
              "      <th>225</th>\n",
              "      <td>54820149</td>\n",
              "      <td>Специалист по углубленной аналитике данных (Da...</td>\n",
              "      <td>SPSS\\tСтатистический анализ\\tStatistica\\tАнали...</td>\n",
              "    </tr>\n",
              "    <tr>\n",
              "      <th>226</th>\n",
              "      <td>54924841</td>\n",
              "      <td>Стажер направления Машинное обучение и анализ ...</td>\n",
              "      <td>SQL\\tOracle Pl/SQL</td>\n",
              "    </tr>\n",
              "    <tr>\n",
              "      <th>227</th>\n",
              "      <td>55156731</td>\n",
              "      <td>Стажёр Data Scientist / Группа сервисов Антифр...</td>\n",
              "      <td>Python\\tSQL\\tPostgreSQL\\tML\\tMachine Learning\\...</td>\n",
              "    </tr>\n",
              "    <tr>\n",
              "      <th>228</th>\n",
              "      <td>54928058</td>\n",
              "      <td>Старший аналитик (Data Science)</td>\n",
              "      <td>Data Mining\\tMS SQL Server\\tOlap (online analy...</td>\n",
              "    </tr>\n",
              "  </tbody>\n",
              "</table>\n",
              "<p>229 rows × 3 columns</p>\n",
              "</div>"
            ],
            "text/plain": [
              "           id                                               name  \\\n",
              "0    54593096                             Analyst/Data Scientist   \n",
              "1    54686859  B2B Data Scientist (Эксперт по моделированию и...   \n",
              "2    51834014    Backend- разработчик (Middle/Senior-TeamLeader)   \n",
              "3    54759229  Chief Data Science (Цифровой кредитный монитор...   \n",
              "4    55048457  Commercial Data Scientist / Эксперт по наукоем...   \n",
              "..        ...                                                ...   \n",
              "224  54671675  Специалист по разработке систем технического з...   \n",
              "225  54820149  Специалист по углубленной аналитике данных (Da...   \n",
              "226  54924841  Стажер направления Машинное обучение и анализ ...   \n",
              "227  55156731  Стажёр Data Scientist / Группа сервисов Антифр...   \n",
              "228  54928058                    Старший аналитик (Data Science)   \n",
              "\n",
              "                                            key_skills  \n",
              "0    Английский язык\\tНавыки презентации\\tСбор и ан...  \n",
              "1        Python\\tSQL\\tPostgreSQL\\tGit\\tАнглийский язык  \n",
              "2    JavaScript\\tMySQL\\tОбучение и развитие\\tУправл...  \n",
              "3                 Python\\tSpark\\tHadoop\\tSQL\\tBig Data  \n",
              "4    Python\\tData Analysis\\tMachine Learning\\tTenso...  \n",
              "..                                                 ...  \n",
              "224                 Python\\tLinux\\tMongoDB\\tPostgreSQL  \n",
              "225  SPSS\\tСтатистический анализ\\tStatistica\\tАнали...  \n",
              "226                                 SQL\\tOracle Pl/SQL  \n",
              "227  Python\\tSQL\\tPostgreSQL\\tML\\tMachine Learning\\...  \n",
              "228  Data Mining\\tMS SQL Server\\tOlap (online analy...  \n",
              "\n",
              "[229 rows x 3 columns]"
            ]
          },
          "execution_count": 42,
          "metadata": {},
          "output_type": "execute_result"
        }
      ],
      "source": [
        "Data_Vac_SQL = pd.read_sql_query(query_6_3, connection)\n",
        "Data_Vac_SQL"
      ]
    },
    {
      "cell_type": "markdown",
      "id": "1be1e9c6-37cf-4a5f-bfeb-04cab799dc80",
      "metadata": {
        "id": "1be1e9c6-37cf-4a5f-bfeb-04cab799dc80"
      },
      "source": [
        "4. Проверьте, насколько популярен Python в требованиях работодателей к DS.Для этого вычислите количество вакансий, в которых в качестве ключевого навыка указан Python.\n",
        "\n",
        "** Это можно сделать помощью запроса, аналогичного предыдущему.*"
      ]
    },
    {
      "cell_type": "code",
      "execution_count": 43,
      "id": "0036a355-9ccf-4564-8b01-73d8194297e7",
      "metadata": {
        "id": "0036a355-9ccf-4564-8b01-73d8194297e7"
      },
      "outputs": [],
      "source": [
        "query_6_4 = ''' \n",
        "select \n",
        "    id,\n",
        "    name,\n",
        "    key_skills\n",
        "\n",
        "from \n",
        "    vacancies\n",
        "\n",
        "where \n",
        "    ((name ilike '%ML%' and name not ilike '%HTML%') or\n",
        "        \n",
        "    (lower(name) like '%data scientist%') or \n",
        "    (lower(name) like '%data science%') or\n",
        "    (lower(name) like '%исследователь данных%') or\n",
        "    (lower(name) like '%machine learning%') or\n",
        "    (lower(name) like '%машинн%обучен%') )\n",
        "    \n",
        "    AND \n",
        "    \n",
        "    (key_skills IS NOT NULL)\n",
        "\n",
        "    AND\n",
        "    \n",
        "    (lower(key_skills) like '%python%')\n",
        "\n",
        "order by name\n",
        "    \n",
        "'''"
      ]
    },
    {
      "cell_type": "code",
      "execution_count": 44,
      "id": "1i-5WyucvQ6v",
      "metadata": {
        "id": "1i-5WyucvQ6v"
      },
      "outputs": [
        {
          "data": {
            "application/vnd.microsoft.datawrangler.viewer.v0+json": {
              "columns": [
                {
                  "name": "index",
                  "rawType": "int64",
                  "type": "integer"
                },
                {
                  "name": "id",
                  "rawType": "int64",
                  "type": "integer"
                },
                {
                  "name": "name",
                  "rawType": "object",
                  "type": "string"
                },
                {
                  "name": "key_skills",
                  "rawType": "object",
                  "type": "string"
                }
              ],
              "conversionMethod": "pd.DataFrame",
              "ref": "9ebf939c-30f9-45fa-b4a4-a0640e83a830",
              "rows": [
                [
                  "0",
                  "66120847",
                  "AI/ML Senior Engineer",
                  "Python\tFlask\tLinux\tAWS\tGit"
                ],
                [
                  "1",
                  "66120842",
                  "AI/ML Senior Engineer",
                  "Python\tFlask\tLinux\tAWS\tGit"
                ],
                [
                  "2",
                  "54593096",
                  "Analyst/Data Scientist",
                  "Английский язык\tНавыки презентации\tСбор и анализ информации\tАнализ данных\tBig Data\tGoogle Sheets\tPython\tData Mining\tPower Pivot\tPower BI\tData Analysis\tData Science\tАналитические исследования\tАналитическое мышление\tSQL"
                ],
                [
                  "3",
                  "54686859",
                  "B2B Data Scientist (Эксперт по моделированию и анализу данных) Senior/Middle",
                  "Python\tSQL\tPostgreSQL\tGit\tАнглийский язык"
                ],
                [
                  "4",
                  "54759229",
                  "Chief Data Science (Цифровой кредитный мониторинг)",
                  "Python\tSpark\tHadoop\tSQL\tBig Data"
                ],
                [
                  "5",
                  "55048457",
                  "Commercial Data Scientist / Эксперт по наукоемким методам анализа данных в сфере маркетинга и продаж",
                  "Python\tData Analysis\tMachine Learning\tTensorflow\tKeras\tSQL\tMarket Research\tDeep Learning\tBusiness Analysis"
                ],
                [
                  "6",
                  "66081521",
                  "Computer vision / machine learning engineer",
                  "PyTorch\tPython\tTensorflow\tOpenCV\tComputer Vision"
                ],
                [
                  "7",
                  "54718893",
                  "Data Analyst/Data Scientist",
                  "SQL\tPython"
                ],
                [
                  "8",
                  "54724724",
                  "Data Engineer в команду Data Science Блока «Сеть Продаж»",
                  "Hadoop\tSpark\tSQL\tPython\tSCALA"
                ],
                [
                  "9",
                  "55135252",
                  "Data / ML Engineer (Персонализация)",
                  "Python\tSQL\tORACLE\tOracle Pl/SQL"
                ],
                [
                  "10",
                  "55135245",
                  "Data / ML Engineer (Персонализация)",
                  "Python\tSQL\tORACLE\tOracle Pl/SQL"
                ],
                [
                  "11",
                  "55135290",
                  "Data / ML Engineer (Персонализация)",
                  "Python\tSQL\tORACLE\tOracle Pl/SQL"
                ],
                [
                  "12",
                  "55127020",
                  "Data Science",
                  "Spark\tPython\tHadoop\tBig Data\tSCALA\tGreenplum\tNumpy\tSQL\tML\tPandas\tHive\tImpala\tOozie\tPyspark"
                ],
                [
                  "13",
                  "55122822",
                  "Data Science / Data Analyst",
                  "Анализ больших данных\tБазы данных\tРабота с большим объемом информации\tData Science\tPython\tData Analysis"
                ],
                [
                  "14",
                  "54984836",
                  "Data science engineer (MY.GAMES)",
                  "Python\tSQL\tПроверка гипотез\tСтатистика"
                ],
                [
                  "15",
                  "54823513",
                  "Data Science specialist",
                  "Python\tSQL\tМатематическая статистика\tML\tsklearn\tРабота в команде"
                ],
                [
                  "16",
                  "54845291",
                  "Data Science Team Lead",
                  "Python\tSQL\tData Analysis\tМатематическая статистика\tАнализ данных"
                ],
                [
                  "17",
                  "55462568",
                  "Data Science Team Lead (to Cyprus)",
                  "Python\tАнглийский язык\tBig Data\tData Science\tPeople Management"
                ],
                [
                  "18",
                  "55120696",
                  "Data science инженер",
                  "SQL\tPython"
                ],
                [
                  "19",
                  "55548048",
                  "Data Science - инженер",
                  "Git\tML\tРазработка продукта\tAgile\tАналитика\tВедение переговоров\tРабота с большим объемом информации\tPython\tScrum\tKanban"
                ],
                [
                  "20",
                  "55051867",
                  "Data science разработчик (Товарная платформа)",
                  "Hadoop\tSpark\tPython\tSCALA\tJava\tBig Data\tData Science"
                ],
                [
                  "21",
                  "54545779",
                  "Data Science эксперт",
                  "Python\tСтатистический анализ\tSQL\tМатематическая статистика\tMachine Learning"
                ],
                [
                  "22",
                  "43183814",
                  "Data scientist",
                  "Python\tC++\tНаписание статей\tНаписание научный статей\tАнглийский язык\tnlp"
                ],
                [
                  "23",
                  "55131650",
                  "Data scientist",
                  "Spark\tHadoop\tPython\tBig Data\tSCALA\tJava\tSQL\tGreenplum\tTeradata"
                ],
                [
                  "24",
                  "48428526",
                  "Data scientist",
                  "Python\tMachine Learning\tDeep Learning\tPandas, Numpy, Keras, Pytorch, SciPy, Flask"
                ],
                [
                  "25",
                  "55041422",
                  "Data scientist",
                  "Python\tComputer Vision\tTensorflow\tPyTorch\tKeras\tML"
                ],
                [
                  "26",
                  "54854359",
                  "Data scientist",
                  "Python\tSQL\tHadoop\tSpark\tBig Data\tМашинное обучение\tМатематическая статистика"
                ],
                [
                  "27",
                  "55863564",
                  "Data scientist",
                  "Python\tМатематическая статистика\tSQL\tPandas\tМашинное обучение"
                ],
                [
                  "28",
                  "54978660",
                  "Data scientist",
                  "Python\tSQL\tМатематическая статистика\tСтатистический анализ\tСтатистика"
                ],
                [
                  "29",
                  "55117625",
                  "Data scientist",
                  "Python\tNLP\tMachine Learning\tPyTorch\tSQL"
                ],
                [
                  "30",
                  "55351147",
                  "Data Scientist",
                  "Python\tSQL\tNLP\tScikit-learn\tMachine Learning"
                ],
                [
                  "31",
                  "55120848",
                  "Data Scientist",
                  "Python\tSQL\tData Mining\tАналитические исследования\tNLP"
                ],
                [
                  "32",
                  "55120849",
                  "Data Scientist",
                  "Python\tSQL\tData Mining\tАналитические исследования\tNLP"
                ],
                [
                  "33",
                  "55120850",
                  "Data Scientist",
                  "Python\tSQL\tData Mining\tАналитические исследования\tNLP"
                ],
                [
                  "34",
                  "55120851",
                  "Data Scientist",
                  "Python\tSQL\tData Mining\tАналитические исследования\tNLP"
                ],
                [
                  "35",
                  "54979394",
                  "Data Scientist",
                  "Python\tLinux\tSQL\tДеловая переписка\tMachine Learning\tМатематическое моделирование\tML\tData Science\tBig Data"
                ],
                [
                  "36",
                  "54570822",
                  "Data Scientist",
                  "Python\tАнглийский язык\tMachine Learning\tАнализ данных\tPandas\tАлгоритмы\tМатематическое моделирование\tSQL\tМашинное обучение\tБазы данных\tData Analysis\tData Science\tBig Data"
                ],
                [
                  "37",
                  "54964204",
                  "Data Scientist",
                  "Python\tАнглийский язык\tTime management\tMS PowerPoint\tTensorflow"
                ],
                [
                  "38",
                  "54964205",
                  "Data Scientist",
                  "Python\tАнглийский язык\tTime management\tMS PowerPoint\tTensorflow"
                ],
                [
                  "39",
                  "55003450",
                  "Data Scientist",
                  "Python\tSQL\tNLP\tTensorflow\tРабота с базами данных\tWebRTC"
                ],
                [
                  "40",
                  "55258362",
                  "Data Scientist",
                  "Python\tData Science\tMachine Learning\tМатематическое моделирование\tМатематический анализ\tSQL\tПостроение предиктивных моделей\tМашинное обучение"
                ],
                [
                  "41",
                  "55039785",
                  "Data Scientist",
                  "Python\tSQL\tООП\tmachine learning\tclickhouse\tgo"
                ],
                [
                  "42",
                  "54559086",
                  "Data Scientist",
                  "Python\tSQL\tМатематическая статистика\tМатематическое моделирование\tBig Data\tMachine Learning\tJava\tИсследование данных"
                ],
                [
                  "43",
                  "66093837",
                  "Data Scientist",
                  "Python\tSQL\tsklearn\tpytorch\ttensorflow\tBI\tСтатистика\tА/Б тесты\tBigQuery\tEDA\tGit"
                ],
                [
                  "44",
                  "55083625",
                  "Data Scientist",
                  "Python\tGit\tPyTorch\tМатематический анализ\tC++"
                ],
                [
                  "45",
                  "54692832",
                  "Data Scientist",
                  "Python\tHadoop\tBig Data\tSpark\tМашинное обучение\tJava\tSCALA\tMachine Learning"
                ],
                [
                  "46",
                  "54781419",
                  "Data Scientist",
                  "Python\tSQL\tPandas\tML\tАнализ данных\tGit\tАнглийский язык"
                ],
                [
                  "47",
                  "54757788",
                  "Data Scientist",
                  "Python\tSQL\tGit\tLinux\tМатематическая статистика"
                ],
                [
                  "48",
                  "54684239",
                  "Data Scientist",
                  "Python\tМоделирование\tБенчмаркинг\tbasel\tMachine Learning"
                ],
                [
                  "49",
                  "54895688",
                  "Data Scientist",
                  "Python\tSQL\tScikit-learn\tМатематическое моделирование\tМатематическая статистика\tPostgreSQL\tXGBoost\tWeb Speech API\tStanford Core NLP"
                ]
              ],
              "shape": {
                "columns": 3,
                "rows": 357
              }
            },
            "text/html": [
              "<div>\n",
              "<style scoped>\n",
              "    .dataframe tbody tr th:only-of-type {\n",
              "        vertical-align: middle;\n",
              "    }\n",
              "\n",
              "    .dataframe tbody tr th {\n",
              "        vertical-align: top;\n",
              "    }\n",
              "\n",
              "    .dataframe thead th {\n",
              "        text-align: right;\n",
              "    }\n",
              "</style>\n",
              "<table border=\"1\" class=\"dataframe\">\n",
              "  <thead>\n",
              "    <tr style=\"text-align: right;\">\n",
              "      <th></th>\n",
              "      <th>id</th>\n",
              "      <th>name</th>\n",
              "      <th>key_skills</th>\n",
              "    </tr>\n",
              "  </thead>\n",
              "  <tbody>\n",
              "    <tr>\n",
              "      <th>0</th>\n",
              "      <td>66120847</td>\n",
              "      <td>AI/ML Senior Engineer</td>\n",
              "      <td>Python\\tFlask\\tLinux\\tAWS\\tGit</td>\n",
              "    </tr>\n",
              "    <tr>\n",
              "      <th>1</th>\n",
              "      <td>66120842</td>\n",
              "      <td>AI/ML Senior Engineer</td>\n",
              "      <td>Python\\tFlask\\tLinux\\tAWS\\tGit</td>\n",
              "    </tr>\n",
              "    <tr>\n",
              "      <th>2</th>\n",
              "      <td>54593096</td>\n",
              "      <td>Analyst/Data Scientist</td>\n",
              "      <td>Английский язык\\tНавыки презентации\\tСбор и ан...</td>\n",
              "    </tr>\n",
              "    <tr>\n",
              "      <th>3</th>\n",
              "      <td>54686859</td>\n",
              "      <td>B2B Data Scientist (Эксперт по моделированию и...</td>\n",
              "      <td>Python\\tSQL\\tPostgreSQL\\tGit\\tАнглийский язык</td>\n",
              "    </tr>\n",
              "    <tr>\n",
              "      <th>4</th>\n",
              "      <td>54759229</td>\n",
              "      <td>Chief Data Science (Цифровой кредитный монитор...</td>\n",
              "      <td>Python\\tSpark\\tHadoop\\tSQL\\tBig Data</td>\n",
              "    </tr>\n",
              "    <tr>\n",
              "      <th>...</th>\n",
              "      <td>...</td>\n",
              "      <td>...</td>\n",
              "      <td>...</td>\n",
              "    </tr>\n",
              "    <tr>\n",
              "      <th>352</th>\n",
              "      <td>54820149</td>\n",
              "      <td>Специалист по углубленной аналитике данных (Da...</td>\n",
              "      <td>SPSS\\tСтатистический анализ\\tStatistica\\tАнали...</td>\n",
              "    </tr>\n",
              "    <tr>\n",
              "      <th>353</th>\n",
              "      <td>55156731</td>\n",
              "      <td>Стажёр Data Scientist / Группа сервисов Антифр...</td>\n",
              "      <td>Python\\tSQL\\tPostgreSQL\\tML\\tMachine Learning\\...</td>\n",
              "    </tr>\n",
              "    <tr>\n",
              "      <th>354</th>\n",
              "      <td>55033440</td>\n",
              "      <td>Старший разработчик (ML engineer)</td>\n",
              "      <td>Python\\tLinux\\tPyTorch\\tMachine Learning\\tData...</td>\n",
              "    </tr>\n",
              "    <tr>\n",
              "      <th>355</th>\n",
              "      <td>55453238</td>\n",
              "      <td>Эксперт по машинному обучению и искусственному...</td>\n",
              "      <td>Python\\tМатематическая статистика\\tМатематичес...</td>\n",
              "    </tr>\n",
              "    <tr>\n",
              "      <th>356</th>\n",
              "      <td>54721113</td>\n",
              "      <td>Эксперт по машинному обучению и искусственному...</td>\n",
              "      <td>Python\\tМатематическая статистика\\tМатематичес...</td>\n",
              "    </tr>\n",
              "  </tbody>\n",
              "</table>\n",
              "<p>357 rows × 3 columns</p>\n",
              "</div>"
            ],
            "text/plain": [
              "           id                                               name  \\\n",
              "0    66120847                              AI/ML Senior Engineer   \n",
              "1    66120842                              AI/ML Senior Engineer   \n",
              "2    54593096                             Analyst/Data Scientist   \n",
              "3    54686859  B2B Data Scientist (Эксперт по моделированию и...   \n",
              "4    54759229  Chief Data Science (Цифровой кредитный монитор...   \n",
              "..        ...                                                ...   \n",
              "352  54820149  Специалист по углубленной аналитике данных (Da...   \n",
              "353  55156731  Стажёр Data Scientist / Группа сервисов Антифр...   \n",
              "354  55033440                  Старший разработчик (ML engineer)   \n",
              "355  55453238  Эксперт по машинному обучению и искусственному...   \n",
              "356  54721113  Эксперт по машинному обучению и искусственному...   \n",
              "\n",
              "                                            key_skills  \n",
              "0                       Python\\tFlask\\tLinux\\tAWS\\tGit  \n",
              "1                       Python\\tFlask\\tLinux\\tAWS\\tGit  \n",
              "2    Английский язык\\tНавыки презентации\\tСбор и ан...  \n",
              "3        Python\\tSQL\\tPostgreSQL\\tGit\\tАнглийский язык  \n",
              "4                 Python\\tSpark\\tHadoop\\tSQL\\tBig Data  \n",
              "..                                                 ...  \n",
              "352  SPSS\\tСтатистический анализ\\tStatistica\\tАнали...  \n",
              "353  Python\\tSQL\\tPostgreSQL\\tML\\tMachine Learning\\...  \n",
              "354  Python\\tLinux\\tPyTorch\\tMachine Learning\\tData...  \n",
              "355  Python\\tМатематическая статистика\\tМатематичес...  \n",
              "356  Python\\tМатематическая статистика\\tМатематичес...  \n",
              "\n",
              "[357 rows x 3 columns]"
            ]
          },
          "execution_count": 44,
          "metadata": {},
          "output_type": "execute_result"
        }
      ],
      "source": [
        "Data_Vac_Python = pd.read_sql_query(query_6_4, connection)\n",
        "Data_Vac_Python"
      ]
    },
    {
      "cell_type": "markdown",
      "id": "ec3c8db7-fa21-4a41-a994-1af63742a642",
      "metadata": {
        "id": "ec3c8db7-fa21-4a41-a994-1af63742a642"
      },
      "source": [
        "5. Сколько ключевых навыков в среднем указывают в вакансиях для DS?\n",
        "Ответ округлите до двух знаков после точки-разделителя."
      ]
    },
    {
      "cell_type": "code",
      "execution_count": 45,
      "id": "949132bc-d5b6-4611-8218-0b9a504d74f4",
      "metadata": {
        "id": "949132bc-d5b6-4611-8218-0b9a504d74f4"
      },
      "outputs": [],
      "source": [
        "query_6_5 = ''' \n",
        "select \n",
        "    v.name,\n",
        "    v.key_skills,\n",
        "    length(v.key_skills) - length(replace(v.key_skills, CHR(9), '')) + 1  as n_skills\n",
        "\n",
        "from \n",
        "    vacancies v\n",
        "\n",
        "where \n",
        "   \n",
        "    (\n",
        "    (name ILIKE '%data scientist%') \n",
        "    OR (name ILIKE '%data science%') \n",
        "    OR (name ILIKE '%исследователь данных%')\n",
        "    OR ((name ILIKE '%ML%') AND (name NOT ILIKE '%HTML%'))\n",
        "    OR (name ILIKE '%machine learning%')\n",
        "    OR (name ILIKE '%машинн%обучен%')  \n",
        "    )\n",
        "    \n",
        "    AND (key_skills IS NOT NULL)\n",
        "    \n",
        "    order by v.name\n",
        "'''\n"
      ]
    },
    {
      "cell_type": "code",
      "execution_count": 46,
      "id": "07818879",
      "metadata": {},
      "outputs": [
        {
          "name": "stdout",
          "output_type": "stream",
          "text": [
            "Среднее количество запрашиваемых навыков составляет: 6.55\n"
          ]
        }
      ],
      "source": [
        "DS_Vacs = pd.read_sql_query(query_6_5, connection)\n",
        "Avg_vacs = round(DS_Vacs['n_skills'].mean(), 2)\n",
        "\n",
        "print(f'Среднее количество запрашиваемых навыков составляет: {Avg_vacs}')"
      ]
    },
    {
      "cell_type": "markdown",
      "id": "1041c17a-ca8f-4543-a0ca-32778914fb00",
      "metadata": {
        "id": "1041c17a-ca8f-4543-a0ca-32778914fb00"
      },
      "source": [
        "6. Напишите запрос, позволяющий вычислить, какую зарплату для DS в **среднем** указывают для каждого типа требуемого опыта (уникальное значение из поля *experience*). \n",
        "\n",
        "При решении задачи примите во внимание следующее:\n",
        "1. Рассматриваем только вакансии, у которых заполнено хотя бы одно из двух полей с зарплатой.\n",
        "2. Если заполнены оба поля с зарплатой, то считаем зарплату по каждой вакансии как сумму двух полей, делённую на 2. Если заполнено только одно из полей, то его и считаем зарплатой по вакансии.\n",
        "3. Если в расчётах участвует null, в результате он тоже даст null (посмотрите, что возвращает запрос select 1 + null). Чтобы избежать этой ситуацию, мы воспользуемся функцией [coalesce](https://postgrespro.ru/docs/postgresql/9.5/functions-conditional#functions-coalesce-nvl-ifnull), которая заменит null на значение, которое мы передадим. Например, посмотрите, что возвращает запрос `select 1 + coalesce(null, 0)`\n",
        "\n",
        "Выясните, на какую зарплату в среднем может рассчитывать дата-сайентист с опытом работы от 3 до 6 лет. Результат округлите до целого числа. "
      ]
    },
    {
      "cell_type": "code",
      "execution_count": 186,
      "id": "6a743d39-5204-48d3-8271-b9f88e68d40e",
      "metadata": {
        "id": "6a743d39-5204-48d3-8271-b9f88e68d40e"
      },
      "outputs": [
        {
          "data": {
            "application/vnd.microsoft.datawrangler.viewer.v0+json": {
              "columns": [
                {
                  "name": "index",
                  "rawType": "int64",
                  "type": "integer"
                },
                {
                  "name": "name",
                  "rawType": "object",
                  "type": "string"
                },
                {
                  "name": "salary_from",
                  "rawType": "int64",
                  "type": "integer"
                },
                {
                  "name": "salary_to",
                  "rawType": "int64",
                  "type": "integer"
                },
                {
                  "name": "experience",
                  "rawType": "object",
                  "type": "string"
                }
              ],
              "conversionMethod": "pd.DataFrame",
              "ref": "cae73675-a39c-4b88-80ae-e523f0160c93",
              "rows": [
                [
                  "0",
                  "Backend- разработчик (Middle/Senior-TeamLeader)",
                  "160000",
                  "200000",
                  "От 1 года до 3 лет"
                ],
                [
                  "1",
                  "C++ Machine Learning Engineer (Computer Vision)",
                  "0",
                  "233794",
                  "От 3 до 6 лет"
                ],
                [
                  "2",
                  "C++ Machine Learning Engineer (Computer Vision)",
                  "0",
                  "233794",
                  "От 3 до 6 лет"
                ],
                [
                  "3",
                  "C++ Machine Learning Engineer (Computer Vision)",
                  "0",
                  "233794",
                  "От 3 до 6 лет"
                ],
                [
                  "4",
                  "C++ разработчик (QML)",
                  "60000",
                  "0",
                  "От 1 года до 3 лет"
                ],
                [
                  "5",
                  "Data Science / Data Analyst",
                  "120000",
                  "0",
                  "От 1 года до 3 лет"
                ],
                [
                  "6",
                  "Data science инженер",
                  "200000",
                  "250000",
                  "От 1 года до 3 лет"
                ],
                [
                  "7",
                  "Data scientist",
                  "200000",
                  "350000",
                  "От 1 года до 3 лет"
                ],
                [
                  "8",
                  "Data scientist",
                  "50000",
                  "0",
                  "От 1 года до 3 лет"
                ],
                [
                  "9",
                  "Data Scientist",
                  "250000",
                  "300000",
                  "От 1 года до 3 лет"
                ],
                [
                  "10",
                  "Data Scientist",
                  "150000",
                  "300000",
                  "От 3 до 6 лет"
                ],
                [
                  "11",
                  "Data Scientist",
                  "300000",
                  "0",
                  "От 3 до 6 лет"
                ],
                [
                  "12",
                  "Data scientist/Analyst",
                  "250000",
                  "0",
                  "От 3 до 6 лет"
                ],
                [
                  "13",
                  "Data Scientist/BackEnd (Python)",
                  "120000",
                  "160000",
                  "От 3 до 6 лет"
                ],
                [
                  "14",
                  "Data Scientist (Computer Vision) / Junior",
                  "70000",
                  "0",
                  "Нет опыта"
                ],
                [
                  "15",
                  "Data Scientist (Computer Vision) / Middle",
                  "100000",
                  "0",
                  "От 1 года до 3 лет"
                ],
                [
                  "16",
                  "Data Scientist / Data Analyst в области инновационного развития",
                  "0",
                  "130000",
                  "От 1 года до 3 лет"
                ],
                [
                  "17",
                  "Data Scientist / Data Analyst в области инновационного развития",
                  "0",
                  "130000",
                  "От 1 года до 3 лет"
                ],
                [
                  "18",
                  "Data Scientist (Junior)",
                  "45000",
                  "100000",
                  "Нет опыта"
                ],
                [
                  "19",
                  "Data Scientist (Junior+)",
                  "50000",
                  "70000",
                  "От 1 года до 3 лет"
                ],
                [
                  "20",
                  "Data Scientist (Machine Learning)",
                  "0",
                  "222104",
                  "От 3 до 6 лет"
                ],
                [
                  "21",
                  "Data Scientist/ML Engineer (Middle+)",
                  "170000",
                  "240000",
                  "От 1 года до 3 лет"
                ],
                [
                  "22",
                  "Data scientist / Product analyst",
                  "200000",
                  "250000",
                  "От 1 года до 3 лет"
                ],
                [
                  "23",
                  "Data scientist / Исследователь-программист данных",
                  "115000",
                  "172000",
                  "От 1 года до 3 лет"
                ],
                [
                  "24",
                  "Data Scientist/Математик",
                  "119000",
                  "0",
                  "От 3 до 6 лет"
                ],
                [
                  "25",
                  "Deep Learning/Machine Learning NLP Engineer",
                  "100000",
                  "200000",
                  "От 1 года до 3 лет"
                ],
                [
                  "26",
                  "Deep Learning/Machine Learning NLP Engineer",
                  "100000",
                  "200000",
                  "От 1 года до 3 лет"
                ],
                [
                  "27",
                  "Frontend-разработчик (ReactJS, Teamlead)",
                  "180000",
                  "250000",
                  "От 3 до 6 лет"
                ],
                [
                  "28",
                  "Junior Data Scientist",
                  "50000",
                  "0",
                  "Нет опыта"
                ],
                [
                  "29",
                  "Junior Data Scientist",
                  "50000",
                  "0",
                  "От 1 года до 3 лет"
                ],
                [
                  "30",
                  "Junior Data Scientist (Стажер)",
                  "0",
                  "37000",
                  "Нет опыта"
                ],
                [
                  "31",
                  "Lead data scientist",
                  "300000",
                  "0",
                  "От 3 до 6 лет"
                ],
                [
                  "32",
                  "Leader of ML Engineering Team",
                  "150000",
                  "0",
                  "От 3 до 6 лет"
                ],
                [
                  "33",
                  "Machine Learning Developer",
                  "200000",
                  "0",
                  "От 3 до 6 лет"
                ],
                [
                  "34",
                  "Machine Learning Engineer",
                  "0",
                  "292242",
                  "От 3 до 6 лет"
                ],
                [
                  "35",
                  "Machine Learning Engineer",
                  "0",
                  "292242",
                  "От 3 до 6 лет"
                ],
                [
                  "36",
                  "Machine Learning Engineer",
                  "175346",
                  "0",
                  "От 1 года до 3 лет"
                ],
                [
                  "37",
                  "Middle Data Scientist",
                  "200000",
                  "250000",
                  "От 3 до 6 лет"
                ],
                [
                  "38",
                  "Middle ML / Data Science разработчик",
                  "0",
                  "170000",
                  "От 1 года до 3 лет"
                ],
                [
                  "39",
                  "Middle/Senior Data Scientist",
                  "200000",
                  "0",
                  "От 3 до 6 лет"
                ],
                [
                  "40",
                  "Middle/Senior ML Specialist",
                  "0",
                  "175000",
                  "От 1 года до 3 лет"
                ],
                [
                  "41",
                  "ML & Advanced analytics Lead / Lead Data Scientist",
                  "300000",
                  "400000",
                  "От 3 до 6 лет"
                ],
                [
                  "42",
                  "ML engineer",
                  "200000",
                  "350000",
                  "От 3 до 6 лет"
                ],
                [
                  "43",
                  "ML Engineer",
                  "200000",
                  "300000",
                  "От 3 до 6 лет"
                ],
                [
                  "44",
                  "ML Engineer \\ Data scientist",
                  "200000",
                  "700000",
                  "От 3 до 6 лет"
                ],
                [
                  "45",
                  "MLOps Backend-разработчик",
                  "97638",
                  "146456",
                  "От 1 года до 3 лет"
                ],
                [
                  "46",
                  "ML разработчик (удалённо)",
                  "50000",
                  "100000",
                  "От 1 года до 3 лет"
                ],
                [
                  "47",
                  "NLP Machine Learning Engineer Python",
                  "200000",
                  "0",
                  "От 1 года до 3 лет"
                ],
                [
                  "48",
                  "PHP Senior/TeamLead",
                  "0",
                  "204570",
                  "От 1 года до 3 лет"
                ],
                [
                  "49",
                  "Senior Data Analyst / Senior Data Scientist (Analytics Team/Remote)",
                  "300000",
                  "0",
                  "От 3 до 6 лет"
                ]
              ],
              "shape": {
                "columns": 4,
                "rows": 84
              }
            },
            "text/html": [
              "<div>\n",
              "<style scoped>\n",
              "    .dataframe tbody tr th:only-of-type {\n",
              "        vertical-align: middle;\n",
              "    }\n",
              "\n",
              "    .dataframe tbody tr th {\n",
              "        vertical-align: top;\n",
              "    }\n",
              "\n",
              "    .dataframe thead th {\n",
              "        text-align: right;\n",
              "    }\n",
              "</style>\n",
              "<table border=\"1\" class=\"dataframe\">\n",
              "  <thead>\n",
              "    <tr style=\"text-align: right;\">\n",
              "      <th></th>\n",
              "      <th>name</th>\n",
              "      <th>salary_from</th>\n",
              "      <th>salary_to</th>\n",
              "      <th>experience</th>\n",
              "    </tr>\n",
              "  </thead>\n",
              "  <tbody>\n",
              "    <tr>\n",
              "      <th>0</th>\n",
              "      <td>Backend- разработчик (Middle/Senior-TeamLeader)</td>\n",
              "      <td>160000</td>\n",
              "      <td>200000</td>\n",
              "      <td>От 1 года до 3 лет</td>\n",
              "    </tr>\n",
              "    <tr>\n",
              "      <th>1</th>\n",
              "      <td>C++ Machine Learning Engineer (Computer Vision)</td>\n",
              "      <td>0</td>\n",
              "      <td>233794</td>\n",
              "      <td>От 3 до 6 лет</td>\n",
              "    </tr>\n",
              "    <tr>\n",
              "      <th>2</th>\n",
              "      <td>C++ Machine Learning Engineer (Computer Vision)</td>\n",
              "      <td>0</td>\n",
              "      <td>233794</td>\n",
              "      <td>От 3 до 6 лет</td>\n",
              "    </tr>\n",
              "    <tr>\n",
              "      <th>3</th>\n",
              "      <td>C++ Machine Learning Engineer (Computer Vision)</td>\n",
              "      <td>0</td>\n",
              "      <td>233794</td>\n",
              "      <td>От 3 до 6 лет</td>\n",
              "    </tr>\n",
              "    <tr>\n",
              "      <th>4</th>\n",
              "      <td>C++ разработчик (QML)</td>\n",
              "      <td>60000</td>\n",
              "      <td>0</td>\n",
              "      <td>От 1 года до 3 лет</td>\n",
              "    </tr>\n",
              "    <tr>\n",
              "      <th>...</th>\n",
              "      <td>...</td>\n",
              "      <td>...</td>\n",
              "      <td>...</td>\n",
              "      <td>...</td>\n",
              "    </tr>\n",
              "    <tr>\n",
              "      <th>79</th>\n",
              "      <td>Руководитель направления Data Science</td>\n",
              "      <td>0</td>\n",
              "      <td>300000</td>\n",
              "      <td>От 3 до 6 лет</td>\n",
              "    </tr>\n",
              "    <tr>\n",
              "      <th>80</th>\n",
              "      <td>Руководитель отдела разработки программного об...</td>\n",
              "      <td>200000</td>\n",
              "      <td>0</td>\n",
              "      <td>Более 6 лет</td>\n",
              "    </tr>\n",
              "    <tr>\n",
              "      <th>81</th>\n",
              "      <td>Системный аналитик /Middle+/Senior/TeamLead</td>\n",
              "      <td>252000</td>\n",
              "      <td>319000</td>\n",
              "      <td>От 3 до 6 лет</td>\n",
              "    </tr>\n",
              "    <tr>\n",
              "      <th>82</th>\n",
              "      <td>Специалист Data Science (R)</td>\n",
              "      <td>100000</td>\n",
              "      <td>120000</td>\n",
              "      <td>От 1 года до 3 лет</td>\n",
              "    </tr>\n",
              "    <tr>\n",
              "      <th>83</th>\n",
              "      <td>Специалист ML/DS</td>\n",
              "      <td>61024</td>\n",
              "      <td>73228</td>\n",
              "      <td>От 3 до 6 лет</td>\n",
              "    </tr>\n",
              "  </tbody>\n",
              "</table>\n",
              "<p>84 rows × 4 columns</p>\n",
              "</div>"
            ],
            "text/plain": [
              "                                                 name  salary_from  salary_to  \\\n",
              "0     Backend- разработчик (Middle/Senior-TeamLeader)       160000     200000   \n",
              "1     C++ Machine Learning Engineer (Computer Vision)            0     233794   \n",
              "2     C++ Machine Learning Engineer (Computer Vision)            0     233794   \n",
              "3     C++ Machine Learning Engineer (Computer Vision)            0     233794   \n",
              "4                               C++ разработчик (QML)        60000          0   \n",
              "..                                                ...          ...        ...   \n",
              "79              Руководитель направления Data Science            0     300000   \n",
              "80  Руководитель отдела разработки программного об...       200000          0   \n",
              "81        Системный аналитик /Middle+/Senior/TeamLead       252000     319000   \n",
              "82                        Специалист Data Science (R)       100000     120000   \n",
              "83                                   Специалист ML/DS        61024      73228   \n",
              "\n",
              "            experience  \n",
              "0   От 1 года до 3 лет  \n",
              "1        От 3 до 6 лет  \n",
              "2        От 3 до 6 лет  \n",
              "3        От 3 до 6 лет  \n",
              "4   От 1 года до 3 лет  \n",
              "..                 ...  \n",
              "79       От 3 до 6 лет  \n",
              "80         Более 6 лет  \n",
              "81       От 3 до 6 лет  \n",
              "82  От 1 года до 3 лет  \n",
              "83       От 3 до 6 лет  \n",
              "\n",
              "[84 rows x 4 columns]"
            ]
          },
          "execution_count": 186,
          "metadata": {},
          "output_type": "execute_result"
        }
      ],
      "source": [
        "query_6_6 = ''' \n",
        "select \n",
        "    name,\n",
        "    coalesce(salary_from, 0) salary_from,\n",
        "    coalesce(salary_to, 0) salary_to,   \n",
        "    experience\n",
        "    \n",
        "from \n",
        "    vacancies v\n",
        "\n",
        "where \n",
        "    \n",
        "    (salary_from is not null or salary_to is not null)\n",
        "    AND\n",
        "    \n",
        "    ((name ILIKE '%data scientist%') \n",
        "    OR (name ILIKE '%data science%') \n",
        "    OR (name ILIKE '%исследователь данных%')\n",
        "    OR ((name ILIKE '%ML%') AND (name NOT ILIKE '%HTML%'))\n",
        "    OR (name ILIKE '%machine learning%')\n",
        "    OR (name ILIKE '%машинн%обучен%'))  \n",
        "            \n",
        "order by v.name\n",
        "'''\n",
        "\n",
        "DS_Avg_Slry = pd.read_sql_query(query_6_6, connection)\n",
        "DS_Avg_Slry"
      ]
    },
    {
      "cell_type": "code",
      "execution_count": null,
      "id": "6add206d",
      "metadata": {},
      "outputs": [],
      "source": [
        "# создаем функцию Avg_slry для поиска средней ЗП\n",
        "def Avg_slry(data_frame):\n",
        "    \n",
        "    \"\"\" \n",
        "        Эта функция расчитывает среднее по ЗП, если оба \n",
        "        значения не равны нулю. Если значение salary_from == 0, \n",
        "        принимает значение salary_to. И наоборот, Если значение \n",
        "        salary_to == 0, принимает значение salary_from.\n",
        "\n",
        "    Args:\n",
        "        data_frame (pd.dataframe): Датафрейм, в котором есть колонки \n",
        "        salary_from (ЗП от) и salary_to (ЗП до)\n",
        "\n",
        "    Returns:\n",
        "        pd.dataframe: Датафрейм с дополнительным столбцом 'Avg_salary' \n",
        "        (среднее значение по ЗП)\n",
        "    \"\"\"\n",
        "    \n",
        "    for i in range (0, len(data_frame)):\n",
        "    \n",
        "        if data_frame.loc[i, 'salary_from'] == 0 or \\\n",
        "            data_frame.loc[i, 'salary_to'] == 0:\n",
        "                \n",
        "            data_frame.loc[i, 'Avg_salary'] = \\\n",
        "                (data_frame.loc[i, 'salary_to'] + \\\n",
        "                    data_frame.loc[i, 'salary_from'])\n",
        "            \n",
        "               \n",
        "        else: data_frame.loc[i, 'Avg_salary'] = \\\n",
        "            (data_frame.loc[i, 'salary_to'] + data_frame.loc[i, 'salary_from']) / 2\n",
        "            \n",
        "    return data_frame "
      ]
    },
    {
      "cell_type": "code",
      "execution_count": null,
      "id": "aRIJ0mZEwU1_",
      "metadata": {
        "id": "aRIJ0mZEwU1_"
      },
      "outputs": [
        {
          "data": {
            "application/vnd.microsoft.datawrangler.viewer.v0+json": {
              "columns": [
                {
                  "name": "index",
                  "rawType": "int64",
                  "type": "integer"
                },
                {
                  "name": "name",
                  "rawType": "object",
                  "type": "string"
                },
                {
                  "name": "salary_from",
                  "rawType": "int64",
                  "type": "integer"
                },
                {
                  "name": "salary_to",
                  "rawType": "int64",
                  "type": "integer"
                },
                {
                  "name": "experience",
                  "rawType": "object",
                  "type": "string"
                },
                {
                  "name": "Avg_salary",
                  "rawType": "float64",
                  "type": "float"
                }
              ],
              "conversionMethod": "pd.DataFrame",
              "ref": "cbfc478d-1a98-439b-bee4-62602be983c4",
              "rows": [
                [
                  "0",
                  "Backend- разработчик (Middle/Senior-TeamLeader)",
                  "160000",
                  "200000",
                  "От 1 года до 3 лет",
                  "180000.0"
                ],
                [
                  "1",
                  "C++ Machine Learning Engineer (Computer Vision)",
                  "0",
                  "233794",
                  "От 3 до 6 лет",
                  "233794.0"
                ],
                [
                  "2",
                  "C++ Machine Learning Engineer (Computer Vision)",
                  "0",
                  "233794",
                  "От 3 до 6 лет",
                  "233794.0"
                ],
                [
                  "3",
                  "C++ Machine Learning Engineer (Computer Vision)",
                  "0",
                  "233794",
                  "От 3 до 6 лет",
                  "233794.0"
                ],
                [
                  "4",
                  "C++ разработчик (QML)",
                  "60000",
                  "0",
                  "От 1 года до 3 лет",
                  "60000.0"
                ]
              ],
              "shape": {
                "columns": 5,
                "rows": 5
              }
            },
            "text/html": [
              "<div>\n",
              "<style scoped>\n",
              "    .dataframe tbody tr th:only-of-type {\n",
              "        vertical-align: middle;\n",
              "    }\n",
              "\n",
              "    .dataframe tbody tr th {\n",
              "        vertical-align: top;\n",
              "    }\n",
              "\n",
              "    .dataframe thead th {\n",
              "        text-align: right;\n",
              "    }\n",
              "</style>\n",
              "<table border=\"1\" class=\"dataframe\">\n",
              "  <thead>\n",
              "    <tr style=\"text-align: right;\">\n",
              "      <th></th>\n",
              "      <th>name</th>\n",
              "      <th>salary_from</th>\n",
              "      <th>salary_to</th>\n",
              "      <th>experience</th>\n",
              "      <th>Avg_salary</th>\n",
              "    </tr>\n",
              "  </thead>\n",
              "  <tbody>\n",
              "    <tr>\n",
              "      <th>0</th>\n",
              "      <td>Backend- разработчик (Middle/Senior-TeamLeader)</td>\n",
              "      <td>160000</td>\n",
              "      <td>200000</td>\n",
              "      <td>От 1 года до 3 лет</td>\n",
              "      <td>180000.0</td>\n",
              "    </tr>\n",
              "    <tr>\n",
              "      <th>1</th>\n",
              "      <td>C++ Machine Learning Engineer (Computer Vision)</td>\n",
              "      <td>0</td>\n",
              "      <td>233794</td>\n",
              "      <td>От 3 до 6 лет</td>\n",
              "      <td>233794.0</td>\n",
              "    </tr>\n",
              "    <tr>\n",
              "      <th>2</th>\n",
              "      <td>C++ Machine Learning Engineer (Computer Vision)</td>\n",
              "      <td>0</td>\n",
              "      <td>233794</td>\n",
              "      <td>От 3 до 6 лет</td>\n",
              "      <td>233794.0</td>\n",
              "    </tr>\n",
              "    <tr>\n",
              "      <th>3</th>\n",
              "      <td>C++ Machine Learning Engineer (Computer Vision)</td>\n",
              "      <td>0</td>\n",
              "      <td>233794</td>\n",
              "      <td>От 3 до 6 лет</td>\n",
              "      <td>233794.0</td>\n",
              "    </tr>\n",
              "    <tr>\n",
              "      <th>4</th>\n",
              "      <td>C++ разработчик (QML)</td>\n",
              "      <td>60000</td>\n",
              "      <td>0</td>\n",
              "      <td>От 1 года до 3 лет</td>\n",
              "      <td>60000.0</td>\n",
              "    </tr>\n",
              "  </tbody>\n",
              "</table>\n",
              "</div>"
            ],
            "text/plain": [
              "                                              name  salary_from  salary_to  \\\n",
              "0  Backend- разработчик (Middle/Senior-TeamLeader)       160000     200000   \n",
              "1  C++ Machine Learning Engineer (Computer Vision)            0     233794   \n",
              "2  C++ Machine Learning Engineer (Computer Vision)            0     233794   \n",
              "3  C++ Machine Learning Engineer (Computer Vision)            0     233794   \n",
              "4                            C++ разработчик (QML)        60000          0   \n",
              "\n",
              "           experience  Avg_salary  \n",
              "0  От 1 года до 3 лет    180000.0  \n",
              "1       От 3 до 6 лет    233794.0  \n",
              "2       От 3 до 6 лет    233794.0  \n",
              "3       От 3 до 6 лет    233794.0  \n",
              "4  От 1 года до 3 лет     60000.0  "
            ]
          },
          "metadata": {},
          "output_type": "display_data"
        },
        {
          "data": {
            "application/vnd.microsoft.datawrangler.viewer.v0+json": {
              "columns": [
                {
                  "name": "index",
                  "rawType": "int64",
                  "type": "integer"
                },
                {
                  "name": "experience",
                  "rawType": "object",
                  "type": "string"
                },
                {
                  "name": "Avg_salary",
                  "rawType": "float64",
                  "type": "float"
                }
              ],
              "conversionMethod": "pd.DataFrame",
              "ref": "e85adaa2-9d25-41c4-827b-7d4a0ec8e6f4",
              "rows": [
                [
                  "1",
                  "Нет опыта",
                  "74643.0"
                ],
                [
                  "2",
                  "От 1 года до 3 лет",
                  "144233.0"
                ],
                [
                  "0",
                  "Более 6 лет",
                  "157933.0"
                ],
                [
                  "3",
                  "От 3 до 6 лет",
                  "256454.0"
                ]
              ],
              "shape": {
                "columns": 2,
                "rows": 4
              }
            },
            "text/html": [
              "<div>\n",
              "<style scoped>\n",
              "    .dataframe tbody tr th:only-of-type {\n",
              "        vertical-align: middle;\n",
              "    }\n",
              "\n",
              "    .dataframe tbody tr th {\n",
              "        vertical-align: top;\n",
              "    }\n",
              "\n",
              "    .dataframe thead th {\n",
              "        text-align: right;\n",
              "    }\n",
              "</style>\n",
              "<table border=\"1\" class=\"dataframe\">\n",
              "  <thead>\n",
              "    <tr style=\"text-align: right;\">\n",
              "      <th></th>\n",
              "      <th>experience</th>\n",
              "      <th>Avg_salary</th>\n",
              "    </tr>\n",
              "  </thead>\n",
              "  <tbody>\n",
              "    <tr>\n",
              "      <th>1</th>\n",
              "      <td>Нет опыта</td>\n",
              "      <td>74643.0</td>\n",
              "    </tr>\n",
              "    <tr>\n",
              "      <th>2</th>\n",
              "      <td>От 1 года до 3 лет</td>\n",
              "      <td>144233.0</td>\n",
              "    </tr>\n",
              "    <tr>\n",
              "      <th>0</th>\n",
              "      <td>Более 6 лет</td>\n",
              "      <td>157933.0</td>\n",
              "    </tr>\n",
              "    <tr>\n",
              "      <th>3</th>\n",
              "      <td>От 3 до 6 лет</td>\n",
              "      <td>256454.0</td>\n",
              "    </tr>\n",
              "  </tbody>\n",
              "</table>\n",
              "</div>"
            ],
            "text/plain": [
              "           experience  Avg_salary\n",
              "1           Нет опыта     74643.0\n",
              "2  От 1 года до 3 лет    144233.0\n",
              "0         Более 6 лет    157933.0\n",
              "3       От 3 до 6 лет    256454.0"
            ]
          },
          "execution_count": 225,
          "metadata": {},
          "output_type": "execute_result"
        }
      ],
      "source": [
        "# применяем функцию Avg_slry к датафрейму\n",
        "DS_Avg_Slry = Avg_slry(DS_Avg_Slry)\n",
        "display(DS_Avg_Slry.head())\n",
        "\n",
        "\n",
        "# группируем значения по переменной 'experience' и определяем среднее\n",
        "group_slry = round(DS_Avg_Slry.groupby(['experience'], as_index=False)\n",
        "                   .mean(['Avg_salary']).sort_values(['Avg_salary']))\n",
        "\n",
        "group_slry.loc[:, ['experience', 'Avg_salary']]\n"
      ]
    },
    {
      "cell_type": "markdown",
      "id": "6a7892b4-4113-4746-adce-18aa2844f18e",
      "metadata": {
        "id": "6a7892b4-4113-4746-adce-18aa2844f18e"
      },
      "source": [
        "***"
      ]
    },
    {
      "cell_type": "code",
      "execution_count": 49,
      "id": "UjLWUptVwY1o",
      "metadata": {
        "id": "UjLWUptVwY1o"
      },
      "outputs": [],
      "source": [
        "# выводы по предметному анализу"
      ]
    },
    {
      "cell_type": "markdown",
      "id": "c0ED6fh7wiBT",
      "metadata": {
        "id": "c0ED6fh7wiBT"
      },
      "source": [
        "# Общий вывод по проекту"
      ]
    },
    {
      "cell_type": "code",
      "execution_count": 50,
      "id": "h9B3BL-wwj18",
      "metadata": {
        "id": "h9B3BL-wwj18"
      },
      "outputs": [],
      "source": [
        "# подведем итог исследования, обобщите выводы\n",
        "# здесь можно (это будет плюсом) провести дополнительные исследования данных, сделать прогнозы, продумать варианты продолжения исследования"
      ]
    }
  ],
  "metadata": {
    "colab": {
      "collapsed_sections": [
        "8d62a9f3-f64e-4fe7-bdac-c4dffa16155e"
      ],
      "provenance": []
    },
    "kernelspec": {
      "display_name": "Python 3",
      "language": "python",
      "name": "python3"
    },
    "language_info": {
      "codemirror_mode": {
        "name": "ipython",
        "version": 3
      },
      "file_extension": ".py",
      "mimetype": "text/x-python",
      "name": "python",
      "nbconvert_exporter": "python",
      "pygments_lexer": "ipython3",
      "version": "3.9.10"
    }
  },
  "nbformat": 4,
  "nbformat_minor": 5
}
